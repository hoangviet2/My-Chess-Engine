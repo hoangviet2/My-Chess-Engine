{
  "nbformat": 4,
  "nbformat_minor": 0,
  "metadata": {
    "colab": {
      "provenance": [],
      "gpuType": "T4",
      "include_colab_link": true
    },
    "kernelspec": {
      "name": "python3",
      "display_name": "Python 3"
    },
    "language_info": {
      "name": "python"
    }
  },
  "cells": [
    {
      "cell_type": "markdown",
      "metadata": {
        "id": "view-in-github",
        "colab_type": "text"
      },
      "source": [
        "<a href=\"https://colab.research.google.com/github/hoangviet2/My-Chess-Engine/blob/Ben/ChessEngineModel.ipynb\" target=\"_parent\"><img src=\"https://colab.research.google.com/assets/colab-badge.svg\" alt=\"Open In Colab\"/></a>"
      ]
    },
    {
      "cell_type": "code",
      "execution_count": null,
      "metadata": {
        "colab": {
          "base_uri": "https://localhost:8080/"
        },
        "id": "zuakAU_fgok9",
        "outputId": "b69f2144-5522-4be0-cf49-1a75b664d348"
      },
      "outputs": [
        {
          "output_type": "stream",
          "name": "stdout",
          "text": [
            "Collecting maia2\n",
            "  Downloading maia2-0.9-py2.py3-none-any.whl.metadata (5.5 kB)\n",
            "Downloading maia2-0.9-py2.py3-none-any.whl (18 kB)\n",
            "Installing collected packages: maia2\n",
            "Successfully installed maia2-0.9\n"
          ]
        }
      ],
      "source": [
        "pip install maia2\n"
      ]
    },
    {
      "cell_type": "code",
      "source": [
        "pip install chess einops gdown numpy pandas pyzstd Requests torch tqdm pyyaml"
      ],
      "metadata": {
        "id": "bvtkTqKsiAST",
        "outputId": "f6a61697-9507-4e3a-e0a5-5138100fb0bc",
        "colab": {
          "base_uri": "https://localhost:8080/"
        }
      },
      "execution_count": null,
      "outputs": [
        {
          "output_type": "stream",
          "name": "stdout",
          "text": [
            "Collecting chess\n",
            "  Downloading chess-1.11.2.tar.gz (6.1 MB)\n",
            "\u001b[2K     \u001b[90m━━━━━━━━━━━━━━━━━━━━━━━━━━━━━━━━━━━━━━━━\u001b[0m \u001b[32m6.1/6.1 MB\u001b[0m \u001b[31m23.9 MB/s\u001b[0m eta \u001b[36m0:00:00\u001b[0m\n",
            "\u001b[?25h  Preparing metadata (setup.py) ... \u001b[?25l\u001b[?25hdone\n",
            "Requirement already satisfied: einops in /usr/local/lib/python3.12/dist-packages (0.8.1)\n",
            "Requirement already satisfied: gdown in /usr/local/lib/python3.12/dist-packages (5.2.0)\n",
            "Requirement already satisfied: numpy in /usr/local/lib/python3.12/dist-packages (2.0.2)\n",
            "Requirement already satisfied: pandas in /usr/local/lib/python3.12/dist-packages (2.2.2)\n",
            "Collecting pyzstd\n",
            "  Downloading pyzstd-0.17.0-cp312-cp312-manylinux_2_17_x86_64.manylinux2014_x86_64.whl.metadata (2.5 kB)\n",
            "Requirement already satisfied: Requests in /usr/local/lib/python3.12/dist-packages (2.32.4)\n",
            "Requirement already satisfied: torch in /usr/local/lib/python3.12/dist-packages (2.8.0+cu126)\n",
            "Requirement already satisfied: tqdm in /usr/local/lib/python3.12/dist-packages (4.67.1)\n",
            "Requirement already satisfied: pyyaml in /usr/local/lib/python3.12/dist-packages (6.0.2)\n",
            "Requirement already satisfied: beautifulsoup4 in /usr/local/lib/python3.12/dist-packages (from gdown) (4.13.5)\n",
            "Requirement already satisfied: filelock in /usr/local/lib/python3.12/dist-packages (from gdown) (3.19.1)\n",
            "Requirement already satisfied: python-dateutil>=2.8.2 in /usr/local/lib/python3.12/dist-packages (from pandas) (2.9.0.post0)\n",
            "Requirement already satisfied: pytz>=2020.1 in /usr/local/lib/python3.12/dist-packages (from pandas) (2025.2)\n",
            "Requirement already satisfied: tzdata>=2022.7 in /usr/local/lib/python3.12/dist-packages (from pandas) (2025.2)\n",
            "Requirement already satisfied: typing-extensions>=4.13.2 in /usr/local/lib/python3.12/dist-packages (from pyzstd) (4.15.0)\n",
            "Requirement already satisfied: charset_normalizer<4,>=2 in /usr/local/lib/python3.12/dist-packages (from Requests) (3.4.3)\n",
            "Requirement already satisfied: idna<4,>=2.5 in /usr/local/lib/python3.12/dist-packages (from Requests) (3.10)\n",
            "Requirement already satisfied: urllib3<3,>=1.21.1 in /usr/local/lib/python3.12/dist-packages (from Requests) (2.5.0)\n",
            "Requirement already satisfied: certifi>=2017.4.17 in /usr/local/lib/python3.12/dist-packages (from Requests) (2025.8.3)\n",
            "Requirement already satisfied: setuptools in /usr/local/lib/python3.12/dist-packages (from torch) (75.2.0)\n",
            "Requirement already satisfied: sympy>=1.13.3 in /usr/local/lib/python3.12/dist-packages (from torch) (1.13.3)\n",
            "Requirement already satisfied: networkx in /usr/local/lib/python3.12/dist-packages (from torch) (3.5)\n",
            "Requirement already satisfied: jinja2 in /usr/local/lib/python3.12/dist-packages (from torch) (3.1.6)\n",
            "Requirement already satisfied: fsspec in /usr/local/lib/python3.12/dist-packages (from torch) (2025.3.0)\n",
            "Requirement already satisfied: nvidia-cuda-nvrtc-cu12==12.6.77 in /usr/local/lib/python3.12/dist-packages (from torch) (12.6.77)\n",
            "Requirement already satisfied: nvidia-cuda-runtime-cu12==12.6.77 in /usr/local/lib/python3.12/dist-packages (from torch) (12.6.77)\n",
            "Requirement already satisfied: nvidia-cuda-cupti-cu12==12.6.80 in /usr/local/lib/python3.12/dist-packages (from torch) (12.6.80)\n",
            "Requirement already satisfied: nvidia-cudnn-cu12==9.10.2.21 in /usr/local/lib/python3.12/dist-packages (from torch) (9.10.2.21)\n",
            "Requirement already satisfied: nvidia-cublas-cu12==12.6.4.1 in /usr/local/lib/python3.12/dist-packages (from torch) (12.6.4.1)\n",
            "Requirement already satisfied: nvidia-cufft-cu12==11.3.0.4 in /usr/local/lib/python3.12/dist-packages (from torch) (11.3.0.4)\n",
            "Requirement already satisfied: nvidia-curand-cu12==10.3.7.77 in /usr/local/lib/python3.12/dist-packages (from torch) (10.3.7.77)\n",
            "Requirement already satisfied: nvidia-cusolver-cu12==11.7.1.2 in /usr/local/lib/python3.12/dist-packages (from torch) (11.7.1.2)\n",
            "Requirement already satisfied: nvidia-cusparse-cu12==12.5.4.2 in /usr/local/lib/python3.12/dist-packages (from torch) (12.5.4.2)\n",
            "Requirement already satisfied: nvidia-cusparselt-cu12==0.7.1 in /usr/local/lib/python3.12/dist-packages (from torch) (0.7.1)\n",
            "Requirement already satisfied: nvidia-nccl-cu12==2.27.3 in /usr/local/lib/python3.12/dist-packages (from torch) (2.27.3)\n",
            "Requirement already satisfied: nvidia-nvtx-cu12==12.6.77 in /usr/local/lib/python3.12/dist-packages (from torch) (12.6.77)\n",
            "Requirement already satisfied: nvidia-nvjitlink-cu12==12.6.85 in /usr/local/lib/python3.12/dist-packages (from torch) (12.6.85)\n",
            "Requirement already satisfied: nvidia-cufile-cu12==1.11.1.6 in /usr/local/lib/python3.12/dist-packages (from torch) (1.11.1.6)\n",
            "Requirement already satisfied: triton==3.4.0 in /usr/local/lib/python3.12/dist-packages (from torch) (3.4.0)\n",
            "Requirement already satisfied: six>=1.5 in /usr/local/lib/python3.12/dist-packages (from python-dateutil>=2.8.2->pandas) (1.17.0)\n",
            "Requirement already satisfied: mpmath<1.4,>=1.1.0 in /usr/local/lib/python3.12/dist-packages (from sympy>=1.13.3->torch) (1.3.0)\n",
            "Requirement already satisfied: soupsieve>1.2 in /usr/local/lib/python3.12/dist-packages (from beautifulsoup4->gdown) (2.7)\n",
            "Requirement already satisfied: MarkupSafe>=2.0 in /usr/local/lib/python3.12/dist-packages (from jinja2->torch) (3.0.2)\n",
            "Requirement already satisfied: PySocks!=1.5.7,>=1.5.6 in /usr/local/lib/python3.12/dist-packages (from requests[socks]->gdown) (1.7.1)\n",
            "Downloading pyzstd-0.17.0-cp312-cp312-manylinux_2_17_x86_64.manylinux2014_x86_64.whl (413 kB)\n",
            "\u001b[2K   \u001b[90m━━━━━━━━━━━━━━━━━━━━━━━━━━━━━━━━━━━━━━━━\u001b[0m \u001b[32m413.6/413.6 kB\u001b[0m \u001b[31m25.3 MB/s\u001b[0m eta \u001b[36m0:00:00\u001b[0m\n",
            "\u001b[?25hBuilding wheels for collected packages: chess\n",
            "  Building wheel for chess (setup.py) ... \u001b[?25l\u001b[?25hdone\n",
            "  Created wheel for chess: filename=chess-1.11.2-py3-none-any.whl size=147775 sha256=8452dccec30b2681e6e765b554f28dc9376ccf8512d3335c5249bc7eb4e22c65\n",
            "  Stored in directory: /root/.cache/pip/wheels/83/1f/4e/8f4300f7dd554eb8de70ddfed96e94d3d030ace10c5b53d447\n",
            "Successfully built chess\n",
            "Installing collected packages: pyzstd, chess\n",
            "Successfully installed chess-1.11.2 pyzstd-0.17.0\n"
          ]
        }
      ]
    },
    {
      "cell_type": "code",
      "source": [
        "from maia2 import model, dataset, inference"
      ],
      "metadata": {
        "id": "DtMeAcIUhHxJ"
      },
      "execution_count": null,
      "outputs": []
    },
    {
      "cell_type": "code",
      "metadata": {
        "colab": {
          "base_uri": "https://localhost:8080/"
        },
        "id": "de2909a2",
        "outputId": "e206079e-d254-47a9-c732-c5bdf195a52e"
      },
      "source": [
        "data = dataset.load_example_test_dataset()"
      ],
      "execution_count": null,
      "outputs": [
        {
          "output_type": "stream",
          "name": "stderr",
          "text": [
            "Downloading...\n",
            "From: https://drive.google.com/uc?id=1fSu4Yp8uYj7xocbHAbjBP6DthsgiJy9X\n",
            "To: /content/maia2_data/example_test_dataset.csv\n",
            "100%|██████████| 22.5M/22.5M [00:00<00:00, 69.2MB/s]\n"
          ]
        },
        {
          "output_type": "stream",
          "name": "stdout",
          "text": [
            "Example test dataset downloaded.\n"
          ]
        }
      ]
    },
    {
      "cell_type": "code",
      "metadata": {
        "colab": {
          "base_uri": "https://localhost:8080/"
        },
        "id": "0dabb255",
        "outputId": "19633150-8ad7-465d-bf5f-b1471aedcb32"
      },
      "source": [
        "maia2_model = model.from_pretrained(type=\"rapid\", device=\"gpu\")"
      ],
      "execution_count": null,
      "outputs": [
        {
          "output_type": "stream",
          "name": "stdout",
          "text": [
            "Model for rapid games already downloaded.\n",
            "Model for rapid games loaded to gpu.\n"
          ]
        }
      ]
    },
    {
      "cell_type": "code",
      "source": [
        "data, acc = inference.inference_batch(data, maia2_model, verbose=1, batch_size=1024, num_workers=4)\n",
        "print(acc)"
      ],
      "metadata": {
        "colab": {
          "base_uri": "https://localhost:8080/"
        },
        "id": "ynN2pxSnf5m4",
        "outputId": "2a4617f5-5717-4c0a-cfb3-6cb10956c463"
      },
      "execution_count": null,
      "outputs": [
        {
          "output_type": "stream",
          "name": "stderr",
          "text": [
            "100%|██████████| 105/105 [01:18<00:00,  1.33it/s]\n"
          ]
        },
        {
          "output_type": "stream",
          "name": "stdout",
          "text": [
            "0.5311\n"
          ]
        }
      ]
    },
    {
      "cell_type": "code",
      "source": [
        "from maia2 import train, utils"
      ],
      "metadata": {
        "id": "JVCtL67igwT-"
      },
      "execution_count": null,
      "outputs": []
    },
    {
      "cell_type": "code",
      "source": [
        "import requests\n",
        "import re\n",
        "\n",
        "def download_all_games(username: str, output_file: str = \"all_games.pgn\"):\n",
        "    headers = {\"User-Agent\": \"MyChessDownloader/1.0\"}\n",
        "\n",
        "    # Step 1: Get archives\n",
        "    archives_url = f\"https://api.chess.com/pub/player/{username}/games/archives\"\n",
        "    response = requests.get(archives_url, headers=headers)\n",
        "\n",
        "    if response.status_code != 200:\n",
        "        raise Exception(f\"Error fetching archives for {username} (HTTP {response.status_code})\")\n",
        "\n",
        "    archives = response.json().get(\"archives\", [])\n",
        "\n",
        "    if not archives:\n",
        "        print(\"⚠️ No archives found for this user.\")\n",
        "        return\n",
        "\n",
        "    # Step 2: Fetch PGNs\n",
        "    with open(output_file, \"w\", encoding=\"utf-8\") as outfile:\n",
        "        for url in archives:\n",
        "            pgn_url = f\"{url}/pgn\"\n",
        "            print(f\"Fetching {pgn_url} ...\")\n",
        "\n",
        "            pgn_response = requests.get(pgn_url, headers=headers)\n",
        "            if pgn_response.status_code == 200:\n",
        "                pgn_text = pgn_response.text\n",
        "                pgn_text = re.sub(r'(\\[%clk \\d+:\\d+:\\d+)\\.\\d+\\]', r'\\1]', pgn_text)\n",
        "\n",
        "\n",
        "            # 🔥 Add \"Rapid\" to Event line so it passes your filter\n",
        "                games = pgn_text.strip().split(\"\\n\\n\\n\")  # Chess.com separates games with triple newlines\n",
        "                for g in games:\n",
        "                    if '[Variant \"' in g:  # ❌ skip non-standard variants\n",
        "                        continue\n",
        "                    outfile.write(g.strip() + \"\\n\\n\\n\")\n",
        "                pgn_text = pgn_text.replace('[Event \"Live Chess\"]',\n",
        "                                        '[Event \"Live Chess Rated Rapid\"]')\n",
        "                #outfile.write(pgn_response.text + \"\\n\\n\")\n",
        "            else:\n",
        "                print(f\"⚠️ Skipped {pgn_url} (HTTP {pgn_response.status_code})\")\n",
        "\n",
        "    print(f\"✅ All games saved to {output_file}\")\n"
      ],
      "metadata": {
        "id": "cMN71uHSdQRI"
      },
      "execution_count": null,
      "outputs": []
    },
    {
      "cell_type": "code",
      "source": [
        "download_all_games(\"sukhoi35\",\"lichess_db_standard_rated_2013-01.pgn\")"
      ],
      "metadata": {
        "colab": {
          "base_uri": "https://localhost:8080/"
        },
        "id": "i7zm0zJjdUZg",
        "outputId": "6d39b09a-4f10-4819-89dc-1ad477bc5de4"
      },
      "execution_count": null,
      "outputs": [
        {
          "output_type": "stream",
          "name": "stdout",
          "text": [
            "Fetching https://api.chess.com/pub/player/sukhoi35/games/2016/05/pgn ...\n",
            "Fetching https://api.chess.com/pub/player/sukhoi35/games/2016/06/pgn ...\n",
            "Fetching https://api.chess.com/pub/player/sukhoi35/games/2016/07/pgn ...\n",
            "Fetching https://api.chess.com/pub/player/sukhoi35/games/2016/08/pgn ...\n",
            "Fetching https://api.chess.com/pub/player/sukhoi35/games/2016/09/pgn ...\n",
            "Fetching https://api.chess.com/pub/player/sukhoi35/games/2016/10/pgn ...\n",
            "Fetching https://api.chess.com/pub/player/sukhoi35/games/2016/11/pgn ...\n",
            "Fetching https://api.chess.com/pub/player/sukhoi35/games/2016/12/pgn ...\n",
            "Fetching https://api.chess.com/pub/player/sukhoi35/games/2017/01/pgn ...\n",
            "Fetching https://api.chess.com/pub/player/sukhoi35/games/2017/02/pgn ...\n",
            "Fetching https://api.chess.com/pub/player/sukhoi35/games/2017/03/pgn ...\n",
            "Fetching https://api.chess.com/pub/player/sukhoi35/games/2017/04/pgn ...\n",
            "Fetching https://api.chess.com/pub/player/sukhoi35/games/2017/05/pgn ...\n",
            "Fetching https://api.chess.com/pub/player/sukhoi35/games/2017/06/pgn ...\n",
            "Fetching https://api.chess.com/pub/player/sukhoi35/games/2017/07/pgn ...\n",
            "Fetching https://api.chess.com/pub/player/sukhoi35/games/2017/08/pgn ...\n",
            "Fetching https://api.chess.com/pub/player/sukhoi35/games/2017/09/pgn ...\n",
            "Fetching https://api.chess.com/pub/player/sukhoi35/games/2017/10/pgn ...\n",
            "Fetching https://api.chess.com/pub/player/sukhoi35/games/2017/11/pgn ...\n",
            "Fetching https://api.chess.com/pub/player/sukhoi35/games/2017/12/pgn ...\n",
            "Fetching https://api.chess.com/pub/player/sukhoi35/games/2018/01/pgn ...\n",
            "Fetching https://api.chess.com/pub/player/sukhoi35/games/2018/02/pgn ...\n",
            "Fetching https://api.chess.com/pub/player/sukhoi35/games/2018/03/pgn ...\n",
            "Fetching https://api.chess.com/pub/player/sukhoi35/games/2018/04/pgn ...\n",
            "Fetching https://api.chess.com/pub/player/sukhoi35/games/2018/05/pgn ...\n",
            "Fetching https://api.chess.com/pub/player/sukhoi35/games/2018/06/pgn ...\n",
            "Fetching https://api.chess.com/pub/player/sukhoi35/games/2018/07/pgn ...\n",
            "Fetching https://api.chess.com/pub/player/sukhoi35/games/2018/08/pgn ...\n",
            "Fetching https://api.chess.com/pub/player/sukhoi35/games/2018/09/pgn ...\n",
            "Fetching https://api.chess.com/pub/player/sukhoi35/games/2018/10/pgn ...\n",
            "Fetching https://api.chess.com/pub/player/sukhoi35/games/2018/11/pgn ...\n",
            "Fetching https://api.chess.com/pub/player/sukhoi35/games/2018/12/pgn ...\n",
            "Fetching https://api.chess.com/pub/player/sukhoi35/games/2019/01/pgn ...\n",
            "Fetching https://api.chess.com/pub/player/sukhoi35/games/2019/02/pgn ...\n",
            "Fetching https://api.chess.com/pub/player/sukhoi35/games/2019/03/pgn ...\n",
            "Fetching https://api.chess.com/pub/player/sukhoi35/games/2019/04/pgn ...\n",
            "Fetching https://api.chess.com/pub/player/sukhoi35/games/2019/05/pgn ...\n",
            "Fetching https://api.chess.com/pub/player/sukhoi35/games/2019/06/pgn ...\n",
            "Fetching https://api.chess.com/pub/player/sukhoi35/games/2019/07/pgn ...\n",
            "Fetching https://api.chess.com/pub/player/sukhoi35/games/2019/08/pgn ...\n",
            "Fetching https://api.chess.com/pub/player/sukhoi35/games/2019/09/pgn ...\n",
            "Fetching https://api.chess.com/pub/player/sukhoi35/games/2019/10/pgn ...\n",
            "Fetching https://api.chess.com/pub/player/sukhoi35/games/2019/11/pgn ...\n",
            "Fetching https://api.chess.com/pub/player/sukhoi35/games/2019/12/pgn ...\n",
            "Fetching https://api.chess.com/pub/player/sukhoi35/games/2020/01/pgn ...\n",
            "Fetching https://api.chess.com/pub/player/sukhoi35/games/2020/02/pgn ...\n",
            "Fetching https://api.chess.com/pub/player/sukhoi35/games/2020/03/pgn ...\n",
            "Fetching https://api.chess.com/pub/player/sukhoi35/games/2020/04/pgn ...\n",
            "Fetching https://api.chess.com/pub/player/sukhoi35/games/2020/05/pgn ...\n",
            "Fetching https://api.chess.com/pub/player/sukhoi35/games/2020/06/pgn ...\n",
            "Fetching https://api.chess.com/pub/player/sukhoi35/games/2020/07/pgn ...\n",
            "Fetching https://api.chess.com/pub/player/sukhoi35/games/2020/08/pgn ...\n",
            "Fetching https://api.chess.com/pub/player/sukhoi35/games/2020/09/pgn ...\n",
            "Fetching https://api.chess.com/pub/player/sukhoi35/games/2020/10/pgn ...\n",
            "Fetching https://api.chess.com/pub/player/sukhoi35/games/2020/11/pgn ...\n",
            "Fetching https://api.chess.com/pub/player/sukhoi35/games/2020/12/pgn ...\n",
            "Fetching https://api.chess.com/pub/player/sukhoi35/games/2021/03/pgn ...\n",
            "Fetching https://api.chess.com/pub/player/sukhoi35/games/2021/04/pgn ...\n",
            "Fetching https://api.chess.com/pub/player/sukhoi35/games/2021/05/pgn ...\n",
            "Fetching https://api.chess.com/pub/player/sukhoi35/games/2021/06/pgn ...\n",
            "Fetching https://api.chess.com/pub/player/sukhoi35/games/2022/03/pgn ...\n",
            "Fetching https://api.chess.com/pub/player/sukhoi35/games/2022/04/pgn ...\n",
            "Fetching https://api.chess.com/pub/player/sukhoi35/games/2022/05/pgn ...\n",
            "Fetching https://api.chess.com/pub/player/sukhoi35/games/2022/06/pgn ...\n",
            "Fetching https://api.chess.com/pub/player/sukhoi35/games/2022/08/pgn ...\n",
            "Fetching https://api.chess.com/pub/player/sukhoi35/games/2022/09/pgn ...\n",
            "Fetching https://api.chess.com/pub/player/sukhoi35/games/2022/10/pgn ...\n",
            "Fetching https://api.chess.com/pub/player/sukhoi35/games/2022/12/pgn ...\n",
            "Fetching https://api.chess.com/pub/player/sukhoi35/games/2023/01/pgn ...\n",
            "Fetching https://api.chess.com/pub/player/sukhoi35/games/2023/03/pgn ...\n",
            "Fetching https://api.chess.com/pub/player/sukhoi35/games/2023/05/pgn ...\n",
            "Fetching https://api.chess.com/pub/player/sukhoi35/games/2023/08/pgn ...\n",
            "Fetching https://api.chess.com/pub/player/sukhoi35/games/2023/09/pgn ...\n",
            "Fetching https://api.chess.com/pub/player/sukhoi35/games/2023/10/pgn ...\n",
            "Fetching https://api.chess.com/pub/player/sukhoi35/games/2023/11/pgn ...\n",
            "Fetching https://api.chess.com/pub/player/sukhoi35/games/2024/01/pgn ...\n",
            "Fetching https://api.chess.com/pub/player/sukhoi35/games/2024/02/pgn ...\n",
            "Fetching https://api.chess.com/pub/player/sukhoi35/games/2024/03/pgn ...\n",
            "Fetching https://api.chess.com/pub/player/sukhoi35/games/2024/04/pgn ...\n",
            "Fetching https://api.chess.com/pub/player/sukhoi35/games/2024/05/pgn ...\n",
            "Fetching https://api.chess.com/pub/player/sukhoi35/games/2024/06/pgn ...\n",
            "Fetching https://api.chess.com/pub/player/sukhoi35/games/2024/07/pgn ...\n",
            "Fetching https://api.chess.com/pub/player/sukhoi35/games/2024/08/pgn ...\n",
            "Fetching https://api.chess.com/pub/player/sukhoi35/games/2024/09/pgn ...\n",
            "Fetching https://api.chess.com/pub/player/sukhoi35/games/2024/12/pgn ...\n",
            "Fetching https://api.chess.com/pub/player/sukhoi35/games/2025/01/pgn ...\n",
            "Fetching https://api.chess.com/pub/player/sukhoi35/games/2025/07/pgn ...\n",
            "Fetching https://api.chess.com/pub/player/sukhoi35/games/2025/08/pgn ...\n",
            "✅ All games saved to lichess_db_standard_rated_2013-01.pgn\n"
          ]
        }
      ]
    },
    {
      "cell_type": "code",
      "source": [
        "import chess.pgn\n",
        "\n",
        "def validate_pgn(file_path):\n",
        "    with open(file_path, encoding=\"utf-8\") as f:\n",
        "        game_num = 1\n",
        "        while True:\n",
        "            try:\n",
        "                game = chess.pgn.read_game(f)\n",
        "                if game is None:\n",
        "                    break\n",
        "                game_num += 1\n",
        "            except Exception as e:\n",
        "                print(f\"❌ Error parsing game {game_num}: {e}\")\n",
        "                break\n"
      ],
      "metadata": {
        "id": "kOeEWoBqKvde"
      },
      "execution_count": null,
      "outputs": []
    },
    {
      "cell_type": "code",
      "source": [
        "validate_pgn(\"/content/all_games.pgn\")"
      ],
      "metadata": {
        "id": "pcXKuisPKxo-"
      },
      "execution_count": null,
      "outputs": []
    },
    {
      "cell_type": "code",
      "source": [
        "pip install zstandard"
      ],
      "metadata": {
        "colab": {
          "base_uri": "https://localhost:8080/"
        },
        "id": "vbRDef-eLJ0b",
        "outputId": "7e358d2c-2c2f-4ad0-9e98-08ff62476e4d"
      },
      "execution_count": null,
      "outputs": [
        {
          "output_type": "stream",
          "name": "stdout",
          "text": [
            "Requirement already satisfied: zstandard in /usr/local/lib/python3.12/dist-packages (0.24.0)\n"
          ]
        }
      ]
    },
    {
      "cell_type": "code",
      "source": [
        "import zstandard as zstd\n",
        "\n",
        "def compress_pgn(input_file: str, output_file: str):\n",
        "    \"\"\"\n",
        "    Compress a PGN file into .pgn.zst format using Zstandard.\n",
        "    \"\"\"\n",
        "    with open(input_file, \"rb\") as f_in, open(output_file, \"wb\") as f_out:\n",
        "        cctx = zstd.ZstdCompressor(level=3)  # level 1-22 (higher = more compression, slower)\n",
        "        f_out.write(cctx.compress(f_in.read()))\n",
        "\n",
        "    print(f\"✅ Compressed {input_file} -> {output_file}\")"
      ],
      "metadata": {
        "id": "AO91OoK7LPqB"
      },
      "execution_count": null,
      "outputs": []
    },
    {
      "cell_type": "code",
      "source": [
        "compress_pgn(\"lichess_db_standard_rated_2013-01.pgn\",\"lichess_db_standard_rated_2013-01.pgn.zst\")"
      ],
      "metadata": {
        "colab": {
          "base_uri": "https://localhost:8080/"
        },
        "id": "QxYm9GHhLT-5",
        "outputId": "206768e9-a5b2-4914-f888-7743f9b04c42"
      },
      "execution_count": null,
      "outputs": [
        {
          "output_type": "stream",
          "name": "stdout",
          "text": [
            "✅ Compressed lichess_db_standard_rated_2013-01.pgn -> lichess_db_standard_rated_2013-01.pgn.zst\n"
          ]
        }
      ]
    },
    {
      "cell_type": "code",
      "source": [
        "from multiprocessing import Process, Queue, cpu_count\n",
        "cfg = utils.parse_args(cfg_file_path=\"/content/config.yaml\")\n",
        "pgn_chunks = utils.read_or_create_chunks(\"/content/lichess_db_standard_rated_2013-01.pgn\", cfg)\n",
        "print(\"Number of chunks:\", len(pgn_chunks))\n",
        "pgn_chunks_sublists = []\n",
        "num_processes = cpu_count() - cfg.num_cpu_left\n",
        "for i in range(0, len(pgn_chunks), num_processes):\n",
        "                pgn_chunks_sublists.append(pgn_chunks[i:i + num_processes])\n",
        "print(pgn_chunks_sublists[0])"
      ],
      "metadata": {
        "colab": {
          "base_uri": "https://localhost:8080/"
        },
        "id": "h6lgQQ6d65X6",
        "outputId": "231c5d0c-fd97-4e90-b40c-37b0b944e036"
      },
      "execution_count": null,
      "outputs": [
        {
          "output_type": "stream",
          "name": "stdout",
          "text": [
            "Loading cached chunks from /content/lichess_db_standard_rated_2013-01_chunks.pkl\n",
            "Number of chunks: 12134\n",
            "[(0, 6844), (6844, 14776)]\n"
          ]
        }
      ]
    },
    {
      "cell_type": "code",
      "source": [
        "cfg = utils.parse_args(cfg_file_path=\"/content/drive/MyDrive/ChessEngine/config.yaml\")\n",
        "train.run(cfg)"
      ],
      "metadata": {
        "colab": {
          "base_uri": "https://localhost:8080/",
          "height": 1000
        },
        "id": "uczYRH7LgxsW",
        "outputId": "748f41d7-63d8-4b51-cfbc-bcd1cc8aa3a1"
      },
      "execution_count": 9,
      "outputs": [
        {
          "output_type": "stream",
          "name": "stdout",
          "text": [
            "Configurations:\n",
            "\tdata_root: /content/drive/MyDrive/ChessEngine\n",
            "\tseed: 42\n",
            "\tnum_workers: 16\n",
            "\tverbose: 1\n",
            "\tmax_epochs: 3\n",
            "\tmax_ply: 300\n",
            "\tclock_threshold: 30\n",
            "\tchunk_size: 250\n",
            "\tstart_year: 2025\n",
            "\tstart_month: 1\n",
            "\tend_year: 2025\n",
            "\tend_month: 6\n",
            "\tfrom_checkpoint: False\n",
            "\tcheckpoint_epoch: 0\n",
            "\tcheckpoint_year: 2025\n",
            "\tcheckpoint_month: 8\n",
            "\tnum_cpu_left: 0\n",
            "\tqueue_length: 1\n",
            "\tlr: 0.0001\n",
            "\twd: 1e-05\n",
            "\tbatch_size: 8192\n",
            "\tfirst_n_moves: 10\n",
            "\tlast_n_moves: 10\n",
            "\tdim_cnn: 256\n",
            "\tdim_vit: 1024\n",
            "\tnum_blocks_cnn: 5\n",
            "\tnum_blocks_vit: 2\n",
            "\tinput_channels: 18\n",
            "\tvit_length: 8\n",
            "\telo_dim: 128\n",
            "\tside_info: True\n",
            "\tside_info_coefficient: 1.0\n",
            "\tvalue: True\n",
            "\tvalue_coefficient: 1.0\n",
            "\tmax_games_per_elo_range: 50000\n",
            "MAIA2Model(\n",
            "  (chess_cnn): ChessResNet(\n",
            "    (conv1): Conv2d(18, 256, kernel_size=(3, 3), stride=(1, 1), padding=(1, 1), bias=False)\n",
            "    (bn1): BatchNorm2d(256, eps=1e-05, momentum=0.1, affine=True, track_running_stats=True)\n",
            "    (layers): Sequential(\n",
            "      (0): BasicBlock(\n",
            "        (conv1): Conv2d(256, 256, kernel_size=(3, 3), stride=(1, 1), padding=(1, 1), bias=False)\n",
            "        (bn1): BatchNorm2d(256, eps=1e-05, momentum=0.1, affine=True, track_running_stats=True)\n",
            "        (conv2): Conv2d(256, 256, kernel_size=(3, 3), stride=(1, 1), padding=(1, 1), bias=False)\n",
            "        (bn2): BatchNorm2d(256, eps=1e-05, momentum=0.1, affine=True, track_running_stats=True)\n",
            "        (dropout): Dropout(p=0.5, inplace=False)\n",
            "      )\n",
            "      (1): BasicBlock(\n",
            "        (conv1): Conv2d(256, 256, kernel_size=(3, 3), stride=(1, 1), padding=(1, 1), bias=False)\n",
            "        (bn1): BatchNorm2d(256, eps=1e-05, momentum=0.1, affine=True, track_running_stats=True)\n",
            "        (conv2): Conv2d(256, 256, kernel_size=(3, 3), stride=(1, 1), padding=(1, 1), bias=False)\n",
            "        (bn2): BatchNorm2d(256, eps=1e-05, momentum=0.1, affine=True, track_running_stats=True)\n",
            "        (dropout): Dropout(p=0.5, inplace=False)\n",
            "      )\n",
            "      (2): BasicBlock(\n",
            "        (conv1): Conv2d(256, 256, kernel_size=(3, 3), stride=(1, 1), padding=(1, 1), bias=False)\n",
            "        (bn1): BatchNorm2d(256, eps=1e-05, momentum=0.1, affine=True, track_running_stats=True)\n",
            "        (conv2): Conv2d(256, 256, kernel_size=(3, 3), stride=(1, 1), padding=(1, 1), bias=False)\n",
            "        (bn2): BatchNorm2d(256, eps=1e-05, momentum=0.1, affine=True, track_running_stats=True)\n",
            "        (dropout): Dropout(p=0.5, inplace=False)\n",
            "      )\n",
            "      (3): BasicBlock(\n",
            "        (conv1): Conv2d(256, 256, kernel_size=(3, 3), stride=(1, 1), padding=(1, 1), bias=False)\n",
            "        (bn1): BatchNorm2d(256, eps=1e-05, momentum=0.1, affine=True, track_running_stats=True)\n",
            "        (conv2): Conv2d(256, 256, kernel_size=(3, 3), stride=(1, 1), padding=(1, 1), bias=False)\n",
            "        (bn2): BatchNorm2d(256, eps=1e-05, momentum=0.1, affine=True, track_running_stats=True)\n",
            "        (dropout): Dropout(p=0.5, inplace=False)\n",
            "      )\n",
            "      (4): BasicBlock(\n",
            "        (conv1): Conv2d(256, 256, kernel_size=(3, 3), stride=(1, 1), padding=(1, 1), bias=False)\n",
            "        (bn1): BatchNorm2d(256, eps=1e-05, momentum=0.1, affine=True, track_running_stats=True)\n",
            "        (conv2): Conv2d(256, 256, kernel_size=(3, 3), stride=(1, 1), padding=(1, 1), bias=False)\n",
            "        (bn2): BatchNorm2d(256, eps=1e-05, momentum=0.1, affine=True, track_running_stats=True)\n",
            "        (dropout): Dropout(p=0.5, inplace=False)\n",
            "      )\n",
            "    )\n",
            "    (conv_last): Conv2d(256, 8, kernel_size=(3, 3), stride=(1, 1), padding=(1, 1), bias=False)\n",
            "    (bn_last): BatchNorm2d(8, eps=1e-05, momentum=0.1, affine=True, track_running_stats=True)\n",
            "  )\n",
            "  (to_patch_embedding): Sequential(\n",
            "    (0): Linear(in_features=64, out_features=1024, bias=True)\n",
            "    (1): LayerNorm((1024,), eps=1e-05, elementwise_affine=True)\n",
            "  )\n",
            "  (transformer): Transformer(\n",
            "    (norm): LayerNorm((1024,), eps=1e-05, elementwise_affine=True)\n",
            "    (layers): ModuleList()\n",
            "    (elo_layers): ModuleList(\n",
            "      (0-1): 2 x ModuleList(\n",
            "        (0): EloAwareAttention(\n",
            "          (norm): LayerNorm((1024,), eps=1e-05, elementwise_affine=True)\n",
            "          (attend): Softmax(dim=-1)\n",
            "          (dropout): Dropout(p=0.1, inplace=False)\n",
            "          (to_qkv): Linear(in_features=1024, out_features=3072, bias=False)\n",
            "          (elo_query): Linear(in_features=256, out_features=1024, bias=False)\n",
            "          (to_out): Sequential(\n",
            "            (0): Linear(in_features=1024, out_features=1024, bias=True)\n",
            "            (1): Dropout(p=0.1, inplace=False)\n",
            "          )\n",
            "        )\n",
            "        (1): FeedForward(\n",
            "          (net): Sequential(\n",
            "            (0): LayerNorm((1024,), eps=1e-05, elementwise_affine=True)\n",
            "            (1): Linear(in_features=1024, out_features=1024, bias=True)\n",
            "            (2): GELU(approximate='none')\n",
            "            (3): Dropout(p=0.1, inplace=False)\n",
            "            (4): Linear(in_features=1024, out_features=1024, bias=True)\n",
            "            (5): Dropout(p=0.1, inplace=False)\n",
            "          )\n",
            "        )\n",
            "      )\n",
            "    )\n",
            "  )\n",
            "  (fc_1): Linear(in_features=1024, out_features=1880, bias=True)\n",
            "  (fc_2): Linear(in_features=1024, out_features=2021, bias=True)\n",
            "  (fc_3): Linear(in_features=128, out_features=1, bias=True)\n",
            "  (fc_3_1): Linear(in_features=1024, out_features=128, bias=True)\n",
            "  (elo_embedding): Embedding(11, 128)\n",
            "  (dropout): Dropout(p=0.1, inplace=False)\n",
            "  (last_ln): LayerNorm((1024,), eps=1e-05, elementwise_affine=True)\n",
            ")\n",
            "Trainable Parameters: 23.30M\n",
            "Epoch 1\n",
            "Training Data:\n",
            "/content/drive/MyDrive/ChessEngine/lichess_db_standard_rated_2025-01.pgn\n",
            "/content/drive/MyDrive/ChessEngine/lichess_db_standard_rated_2025-02.pgn\n",
            "/content/drive/MyDrive/ChessEngine/lichess_db_standard_rated_2025-03.pgn\n",
            "/content/drive/MyDrive/ChessEngine/lichess_db_standard_rated_2025-04.pgn\n",
            "/content/drive/MyDrive/ChessEngine/lichess_db_standard_rated_2025-05.pgn\n",
            "/content/drive/MyDrive/ChessEngine/lichess_db_standard_rated_2025-06.pgn\n",
            "Decompressing /content/drive/MyDrive/ChessEngine/lichess_db_standard_rated_2025-01.pgn took 1.24s\n",
            "Loading cached chunks from /content/drive/MyDrive/ChessEngine/lichess_db_standard_rated_2025-01_chunks.pkl\n",
            "Training /content/drive/MyDrive/ChessEngine/lichess_db_standard_rated_2025-01.pgn with 1241 chunks.\n",
            "{}\n"
          ]
        },
        {
          "output_type": "error",
          "ename": "ValueError",
          "evalue": "num_samples should be a positive integer value, but got num_samples=0",
          "traceback": [
            "\u001b[0;31m---------------------------------------------------------------------------\u001b[0m",
            "\u001b[0;31mValueError\u001b[0m                                Traceback (most recent call last)",
            "\u001b[0;32m/tmp/ipython-input-108938089.py\u001b[0m in \u001b[0;36m<cell line: 0>\u001b[0;34m()\u001b[0m\n\u001b[1;32m      1\u001b[0m \u001b[0mcfg\u001b[0m \u001b[0;34m=\u001b[0m \u001b[0mutils\u001b[0m\u001b[0;34m.\u001b[0m\u001b[0mparse_args\u001b[0m\u001b[0;34m(\u001b[0m\u001b[0mcfg_file_path\u001b[0m\u001b[0;34m=\u001b[0m\u001b[0;34m\"/content/drive/MyDrive/ChessEngine/config.yaml\"\u001b[0m\u001b[0;34m)\u001b[0m\u001b[0;34m\u001b[0m\u001b[0;34m\u001b[0m\u001b[0m\n\u001b[0;32m----> 2\u001b[0;31m \u001b[0mtrain\u001b[0m\u001b[0;34m.\u001b[0m\u001b[0mrun\u001b[0m\u001b[0;34m(\u001b[0m\u001b[0mcfg\u001b[0m\u001b[0;34m)\u001b[0m\u001b[0;34m\u001b[0m\u001b[0;34m\u001b[0m\u001b[0m\n\u001b[0m",
            "\u001b[0;32m/usr/local/lib/python3.12/dist-packages/maia2/train.py\u001b[0m in \u001b[0;36mrun\u001b[0;34m(cfg)\u001b[0m\n\u001b[1;32m     89\u001b[0m                         \u001b[0moffset\u001b[0m \u001b[0;34m+=\u001b[0m \u001b[0;36m1\u001b[0m\u001b[0;34m\u001b[0m\u001b[0;34m\u001b[0m\u001b[0m\n\u001b[1;32m     90\u001b[0m                     \u001b[0mdata\u001b[0m\u001b[0;34m,\u001b[0m \u001b[0mgame_count\u001b[0m\u001b[0;34m,\u001b[0m \u001b[0mchunk_count\u001b[0m \u001b[0;34m=\u001b[0m \u001b[0mqueue\u001b[0m\u001b[0;34m.\u001b[0m\u001b[0mget\u001b[0m\u001b[0;34m(\u001b[0m\u001b[0;34m)\u001b[0m\u001b[0;34m\u001b[0m\u001b[0;34m\u001b[0m\u001b[0m\n\u001b[0;32m---> 91\u001b[0;31m                     \u001b[0mloss\u001b[0m\u001b[0;34m,\u001b[0m \u001b[0mloss_maia\u001b[0m\u001b[0;34m,\u001b[0m \u001b[0mloss_side_info\u001b[0m\u001b[0;34m,\u001b[0m \u001b[0mloss_value\u001b[0m \u001b[0;34m=\u001b[0m \u001b[0mtrain_chunks\u001b[0m\u001b[0;34m(\u001b[0m\u001b[0mcfg\u001b[0m\u001b[0;34m,\u001b[0m \u001b[0mdata\u001b[0m\u001b[0;34m,\u001b[0m \u001b[0mmodel\u001b[0m\u001b[0;34m,\u001b[0m \u001b[0moptimizer\u001b[0m\u001b[0;34m,\u001b[0m \u001b[0mall_moves_dict\u001b[0m\u001b[0;34m,\u001b[0m \u001b[0mcriterion_maia\u001b[0m\u001b[0;34m,\u001b[0m \u001b[0mcriterion_side_info\u001b[0m\u001b[0;34m,\u001b[0m \u001b[0mcriterion_value\u001b[0m\u001b[0;34m)\u001b[0m\u001b[0;34m\u001b[0m\u001b[0;34m\u001b[0m\u001b[0m\n\u001b[0m\u001b[1;32m     92\u001b[0m                     \u001b[0mnum_chunk\u001b[0m \u001b[0;34m+=\u001b[0m \u001b[0mchunk_count\u001b[0m\u001b[0;34m\u001b[0m\u001b[0;34m\u001b[0m\u001b[0m\n\u001b[1;32m     93\u001b[0m                     \u001b[0maccumulated_samples\u001b[0m \u001b[0;34m+=\u001b[0m \u001b[0mlen\u001b[0m\u001b[0;34m(\u001b[0m\u001b[0mdata\u001b[0m\u001b[0;34m)\u001b[0m\u001b[0;34m\u001b[0m\u001b[0;34m\u001b[0m\u001b[0m\n",
            "\u001b[0;32m/usr/local/lib/python3.12/dist-packages/maia2/main.py\u001b[0m in \u001b[0;36mtrain_chunks\u001b[0;34m(cfg, data, model, optimizer, all_moves_dict, criterion_maia, criterion_side_info, criterion_value)\u001b[0m\n\u001b[1;32m    494\u001b[0m \u001b[0;34m\u001b[0m\u001b[0m\n\u001b[1;32m    495\u001b[0m     \u001b[0mdataset_train\u001b[0m \u001b[0;34m=\u001b[0m \u001b[0mMAIA2Dataset\u001b[0m\u001b[0;34m(\u001b[0m\u001b[0mdata\u001b[0m\u001b[0;34m,\u001b[0m \u001b[0mall_moves_dict\u001b[0m\u001b[0;34m,\u001b[0m \u001b[0mcfg\u001b[0m\u001b[0;34m)\u001b[0m\u001b[0;34m\u001b[0m\u001b[0;34m\u001b[0m\u001b[0m\n\u001b[0;32m--> 496\u001b[0;31m     dataloader_train = torch.utils.data.DataLoader(dataset_train, \n\u001b[0m\u001b[1;32m    497\u001b[0m                                                     \u001b[0mbatch_size\u001b[0m\u001b[0;34m=\u001b[0m\u001b[0mcfg\u001b[0m\u001b[0;34m.\u001b[0m\u001b[0mbatch_size\u001b[0m\u001b[0;34m,\u001b[0m\u001b[0;34m\u001b[0m\u001b[0;34m\u001b[0m\u001b[0m\n\u001b[1;32m    498\u001b[0m                                                     \u001b[0mshuffle\u001b[0m\u001b[0;34m=\u001b[0m\u001b[0;32mTrue\u001b[0m\u001b[0;34m,\u001b[0m\u001b[0;34m\u001b[0m\u001b[0;34m\u001b[0m\u001b[0m\n",
            "\u001b[0;32m/usr/local/lib/python3.12/dist-packages/torch/utils/data/dataloader.py\u001b[0m in \u001b[0;36m__init__\u001b[0;34m(self, dataset, batch_size, shuffle, sampler, batch_sampler, num_workers, collate_fn, pin_memory, drop_last, timeout, worker_init_fn, multiprocessing_context, generator, prefetch_factor, persistent_workers, pin_memory_device, in_order)\u001b[0m\n\u001b[1;32m    386\u001b[0m             \u001b[0;32melse\u001b[0m\u001b[0;34m:\u001b[0m  \u001b[0;31m# map-style\u001b[0m\u001b[0;34m\u001b[0m\u001b[0;34m\u001b[0m\u001b[0m\n\u001b[1;32m    387\u001b[0m                 \u001b[0;32mif\u001b[0m \u001b[0mshuffle\u001b[0m\u001b[0;34m:\u001b[0m\u001b[0;34m\u001b[0m\u001b[0;34m\u001b[0m\u001b[0m\n\u001b[0;32m--> 388\u001b[0;31m                     \u001b[0msampler\u001b[0m \u001b[0;34m=\u001b[0m \u001b[0mRandomSampler\u001b[0m\u001b[0;34m(\u001b[0m\u001b[0mdataset\u001b[0m\u001b[0;34m,\u001b[0m \u001b[0mgenerator\u001b[0m\u001b[0;34m=\u001b[0m\u001b[0mgenerator\u001b[0m\u001b[0;34m)\u001b[0m  \u001b[0;31m# type: ignore[arg-type]\u001b[0m\u001b[0;34m\u001b[0m\u001b[0;34m\u001b[0m\u001b[0m\n\u001b[0m\u001b[1;32m    389\u001b[0m                 \u001b[0;32melse\u001b[0m\u001b[0;34m:\u001b[0m\u001b[0;34m\u001b[0m\u001b[0;34m\u001b[0m\u001b[0m\n\u001b[1;32m    390\u001b[0m                     \u001b[0msampler\u001b[0m \u001b[0;34m=\u001b[0m \u001b[0mSequentialSampler\u001b[0m\u001b[0;34m(\u001b[0m\u001b[0mdataset\u001b[0m\u001b[0;34m)\u001b[0m  \u001b[0;31m# type: ignore[arg-type]\u001b[0m\u001b[0;34m\u001b[0m\u001b[0;34m\u001b[0m\u001b[0m\n",
            "\u001b[0;32m/usr/local/lib/python3.12/dist-packages/torch/utils/data/sampler.py\u001b[0m in \u001b[0;36m__init__\u001b[0;34m(self, data_source, replacement, num_samples, generator)\u001b[0m\n\u001b[1;32m    154\u001b[0m \u001b[0;34m\u001b[0m\u001b[0m\n\u001b[1;32m    155\u001b[0m         \u001b[0;32mif\u001b[0m \u001b[0;32mnot\u001b[0m \u001b[0misinstance\u001b[0m\u001b[0;34m(\u001b[0m\u001b[0mself\u001b[0m\u001b[0;34m.\u001b[0m\u001b[0mnum_samples\u001b[0m\u001b[0;34m,\u001b[0m \u001b[0mint\u001b[0m\u001b[0;34m)\u001b[0m \u001b[0;32mor\u001b[0m \u001b[0mself\u001b[0m\u001b[0;34m.\u001b[0m\u001b[0mnum_samples\u001b[0m \u001b[0;34m<=\u001b[0m \u001b[0;36m0\u001b[0m\u001b[0;34m:\u001b[0m\u001b[0;34m\u001b[0m\u001b[0;34m\u001b[0m\u001b[0m\n\u001b[0;32m--> 156\u001b[0;31m             raise ValueError(\n\u001b[0m\u001b[1;32m    157\u001b[0m                 \u001b[0;34mf\"num_samples should be a positive integer value, but got num_samples={self.num_samples}\"\u001b[0m\u001b[0;34m\u001b[0m\u001b[0;34m\u001b[0m\u001b[0m\n\u001b[1;32m    158\u001b[0m             )\n",
            "\u001b[0;31mValueError\u001b[0m: num_samples should be a positive integer value, but got num_samples=0"
          ]
        }
      ]
    },
    {
      "cell_type": "code",
      "source": [
        "def from_pretrained(type, device, save_root = \"/saves/0.0001_8192_1e-05\"):\n",
        "\n",
        "    if os.path.exists(save_root) == False:\n",
        "        os.makedirs(save_root)\n",
        "\n",
        "    if os.path.exists(output_path):\n",
        "        print(f\"Model for {type} games already downloaded.\")\n",
        "    else:\n",
        "        print(f\"Downloading model for {type} games.\")\n",
        "        gdown.download(url, output_path, quiet=False)\n",
        "\n",
        "    cfg_url = \"https://drive.google.com/uc?id=1GQTskYMVMubNwZH2Bi6AmevI15CS6gk0\"\n",
        "    cfg_path = os.path.join(save_root, \"config.yaml\")\n",
        "    if not os.path.exists(cfg_path):\n",
        "        gdown.download(cfg_url, cfg_path, quiet=False)\n",
        "\n",
        "    cfg = parse_args(cfg_path)\n",
        "\n",
        "    all_moves = get_all_possible_moves()\n",
        "    elo_dict = create_elo_dict()\n",
        "\n",
        "    model = MAIA2Model(len(all_moves), elo_dict, cfg)\n",
        "    model = nn.DataParallel(model)\n",
        "\n",
        "    checkpoint = torch.load(output_path, map_location='cpu')\n",
        "    model.load_state_dict(checkpoint['model_state_dict'])\n",
        "    model = model.module\n",
        "\n",
        "    if device == \"gpu\":\n",
        "        model = model.cuda()\n",
        "\n",
        "    print(f\"Model for {type} games loaded to {device}.\")\n",
        "\n",
        "    return model"
      ],
      "metadata": {
        "id": "cOBKNa-HOopa"
      },
      "execution_count": null,
      "outputs": []
    },
    {
      "cell_type": "code",
      "source": [
        "from google.colab import drive\n",
        "drive.mount('/content/drive')"
      ],
      "metadata": {
        "colab": {
          "base_uri": "https://localhost:8080/"
        },
        "id": "yw83BrXZtKpS",
        "outputId": "8924c2c8-6a30-489a-a98c-3ffc742d1368"
      },
      "execution_count": null,
      "outputs": [
        {
          "output_type": "stream",
          "name": "stdout",
          "text": [
            "Mounted at /content/drive\n"
          ]
        }
      ]
    },
    {
      "cell_type": "code",
      "source": [
        "import torch\n",
        "from torch import nn\n",
        "from maia2.main import MAIA2Model\n",
        "from maia2.utils import get_all_possible_moves, create_elo_dict, parse_args\n",
        "\n",
        "def load_my_model(checkpoint_path, config_path, device=\"cpu\"):\n",
        "    # Parse config file\n",
        "    cfg = parse_args(config_path)\n",
        "\n",
        "    # Create model\n",
        "    all_moves = get_all_possible_moves()\n",
        "    elo_dict = create_elo_dict()\n",
        "    model = MAIA2Model(len(all_moves), elo_dict, cfg)\n",
        "    model = nn.DataParallel(model)  # same as in repo\n",
        "\n",
        "    # Load checkpoint\n",
        "    checkpoint = torch.load(checkpoint_path, map_location=device)\n",
        "    model.load_state_dict(checkpoint['model_state_dict'])\n",
        "    model = model.module  # unwrap DataParallel\n",
        "\n",
        "    # Send to GPU if needed\n",
        "    if device == \"gpu\":\n",
        "        model = model.cuda()\n",
        "\n",
        "    print(f\"Custom Maia-2 model loaded from {checkpoint_path} to {device}\")\n",
        "    return model"
      ],
      "metadata": {
        "id": "JyR7YkZYVIh9"
      },
      "execution_count": null,
      "outputs": []
    },
    {
      "cell_type": "code",
      "source": [
        "my_checkpoint = \"/content/drive/MyDrive/ChessEngine/epoch_1_2013-01.pgn.pt\"\n",
        "my_config    = \"/content/drive/MyDrive/ChessEngine/config.yaml\"\n",
        "my_model = load_my_model(my_checkpoint, my_config, device=\"cpu\")"
      ],
      "metadata": {
        "colab": {
          "base_uri": "https://localhost:8080/"
        },
        "id": "dSQF0KwcyvHG",
        "outputId": "3a9be473-475a-4b83-c1d7-620153865fdc"
      },
      "execution_count": null,
      "outputs": [
        {
          "output_type": "stream",
          "name": "stdout",
          "text": [
            "Custom Maia-2 model loaded from /content/drive/MyDrive/ChessEngine/epoch_1_2013-01.pgn.pt to cpu\n"
          ]
        }
      ]
    },
    {
      "cell_type": "code",
      "source": [
        "from maia2 import dataset\n",
        "\n",
        "# Example test dataset included in repo\n",
        "data = dataset.load_example_test_dataset()"
      ],
      "metadata": {
        "colab": {
          "base_uri": "https://localhost:8080/"
        },
        "id": "MaFiaSvEyyjv",
        "outputId": "571e2d86-0bde-4034-91c9-121a3df0e5b5"
      },
      "execution_count": null,
      "outputs": [
        {
          "output_type": "stream",
          "name": "stderr",
          "text": [
            "Downloading...\n",
            "From: https://drive.google.com/uc?id=1fSu4Yp8uYj7xocbHAbjBP6DthsgiJy9X\n",
            "To: /content/maia2_data/example_test_dataset.csv\n",
            "100%|██████████| 22.5M/22.5M [00:00<00:00, 204MB/s]\n"
          ]
        },
        {
          "output_type": "stream",
          "name": "stdout",
          "text": [
            "Example test dataset downloaded.\n"
          ]
        }
      ]
    },
    {
      "cell_type": "code",
      "source": [
        "from maia2 import inference\n",
        "\n",
        "data, acc = inference.inference_batch(\n",
        "    data,\n",
        "    my_model,\n",
        "    verbose=1,       # progress bar\n",
        "    batch_size=1024, # adjust depending on GPU memory\n",
        "    num_workers=4\n",
        ")\n",
        "\n",
        "print(\"Accuracy:\", acc)"
      ],
      "metadata": {
        "colab": {
          "base_uri": "https://localhost:8080/"
        },
        "id": "3Ew9QUsozZu8",
        "outputId": "157601b0-8b66-4833-c3e6-2679ed6bc942"
      },
      "execution_count": null,
      "outputs": [
        {
          "output_type": "stream",
          "name": "stderr",
          "text": [
            "100%|██████████| 105/105 [39:55<00:00, 22.81s/it]\n"
          ]
        },
        {
          "output_type": "stream",
          "name": "stdout",
          "text": [
            "Accuracy: 0.1061\n"
          ]
        }
      ]
    }
  ]
}