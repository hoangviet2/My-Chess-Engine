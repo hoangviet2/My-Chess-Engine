{
  "nbformat": 4,
  "nbformat_minor": 0,
  "metadata": {
    "colab": {
      "provenance": [],
      "gpuType": "A100",
      "machine_shape": "hm",
      "include_colab_link": true
    },
    "kernelspec": {
      "name": "python3",
      "display_name": "Python 3"
    },
    "language_info": {
      "name": "python"
    },
    "accelerator": "GPU"
  },
  "cells": [
    {
      "cell_type": "markdown",
      "metadata": {
        "id": "view-in-github",
        "colab_type": "text"
      },
      "source": [
        "<a href=\"https://colab.research.google.com/github/hoangviet2/My-Chess-Engine/blob/main/ChessEngineModel.ipynb\" target=\"_parent\"><img src=\"https://colab.research.google.com/assets/colab-badge.svg\" alt=\"Open In Colab\"/></a>"
      ]
    },
    {
      "cell_type": "code",
      "execution_count": 1,
      "metadata": {
        "colab": {
          "base_uri": "https://localhost:8080/"
        },
        "id": "zuakAU_fgok9",
        "outputId": "8cd8e279-9ff2-4cf6-9d0b-bb691776ff2a"
      },
      "outputs": [
        {
          "output_type": "stream",
          "name": "stdout",
          "text": [
            "Collecting maia2\n",
            "  Downloading maia2-0.9-py2.py3-none-any.whl.metadata (5.5 kB)\n",
            "Downloading maia2-0.9-py2.py3-none-any.whl (18 kB)\n",
            "Installing collected packages: maia2\n",
            "Successfully installed maia2-0.9\n"
          ]
        }
      ],
      "source": [
        "pip install maia2\n"
      ]
    },
    {
      "cell_type": "code",
      "source": [
        "pip install chess einops gdown numpy pandas pyzstd Requests torch tqdm pyyaml"
      ],
      "metadata": {
        "id": "bvtkTqKsiAST",
        "outputId": "3dddb529-e5f1-4df4-d5b6-1f690650ac5b",
        "colab": {
          "base_uri": "https://localhost:8080/"
        }
      },
      "execution_count": 2,
      "outputs": [
        {
          "output_type": "stream",
          "name": "stdout",
          "text": [
            "Collecting chess\n",
            "  Downloading chess-1.11.2.tar.gz (6.1 MB)\n",
            "\u001b[2K     \u001b[90m━━━━━━━━━━━━━━━━━━━━━━━━━━━━━━━━━━━━━━━━\u001b[0m \u001b[32m6.1/6.1 MB\u001b[0m \u001b[31m52.8 MB/s\u001b[0m eta \u001b[36m0:00:00\u001b[0m\n",
            "\u001b[?25h  Preparing metadata (setup.py) ... \u001b[?25l\u001b[?25hdone\n",
            "Requirement already satisfied: einops in /usr/local/lib/python3.12/dist-packages (0.8.1)\n",
            "Requirement already satisfied: gdown in /usr/local/lib/python3.12/dist-packages (5.2.0)\n",
            "Requirement already satisfied: numpy in /usr/local/lib/python3.12/dist-packages (2.0.2)\n",
            "Requirement already satisfied: pandas in /usr/local/lib/python3.12/dist-packages (2.2.2)\n",
            "Collecting pyzstd\n",
            "  Downloading pyzstd-0.17.0-cp312-cp312-manylinux_2_17_x86_64.manylinux2014_x86_64.whl.metadata (2.5 kB)\n",
            "Requirement already satisfied: Requests in /usr/local/lib/python3.12/dist-packages (2.32.4)\n",
            "Requirement already satisfied: torch in /usr/local/lib/python3.12/dist-packages (2.8.0+cu126)\n",
            "Requirement already satisfied: tqdm in /usr/local/lib/python3.12/dist-packages (4.67.1)\n",
            "Requirement already satisfied: pyyaml in /usr/local/lib/python3.12/dist-packages (6.0.2)\n",
            "Requirement already satisfied: beautifulsoup4 in /usr/local/lib/python3.12/dist-packages (from gdown) (4.13.5)\n",
            "Requirement already satisfied: filelock in /usr/local/lib/python3.12/dist-packages (from gdown) (3.19.1)\n",
            "Requirement already satisfied: python-dateutil>=2.8.2 in /usr/local/lib/python3.12/dist-packages (from pandas) (2.9.0.post0)\n",
            "Requirement already satisfied: pytz>=2020.1 in /usr/local/lib/python3.12/dist-packages (from pandas) (2025.2)\n",
            "Requirement already satisfied: tzdata>=2022.7 in /usr/local/lib/python3.12/dist-packages (from pandas) (2025.2)\n",
            "Requirement already satisfied: typing-extensions>=4.13.2 in /usr/local/lib/python3.12/dist-packages (from pyzstd) (4.15.0)\n",
            "Requirement already satisfied: charset_normalizer<4,>=2 in /usr/local/lib/python3.12/dist-packages (from Requests) (3.4.3)\n",
            "Requirement already satisfied: idna<4,>=2.5 in /usr/local/lib/python3.12/dist-packages (from Requests) (3.10)\n",
            "Requirement already satisfied: urllib3<3,>=1.21.1 in /usr/local/lib/python3.12/dist-packages (from Requests) (2.5.0)\n",
            "Requirement already satisfied: certifi>=2017.4.17 in /usr/local/lib/python3.12/dist-packages (from Requests) (2025.8.3)\n",
            "Requirement already satisfied: setuptools in /usr/local/lib/python3.12/dist-packages (from torch) (75.2.0)\n",
            "Requirement already satisfied: sympy>=1.13.3 in /usr/local/lib/python3.12/dist-packages (from torch) (1.13.3)\n",
            "Requirement already satisfied: networkx in /usr/local/lib/python3.12/dist-packages (from torch) (3.5)\n",
            "Requirement already satisfied: jinja2 in /usr/local/lib/python3.12/dist-packages (from torch) (3.1.6)\n",
            "Requirement already satisfied: fsspec in /usr/local/lib/python3.12/dist-packages (from torch) (2025.3.0)\n",
            "Requirement already satisfied: nvidia-cuda-nvrtc-cu12==12.6.77 in /usr/local/lib/python3.12/dist-packages (from torch) (12.6.77)\n",
            "Requirement already satisfied: nvidia-cuda-runtime-cu12==12.6.77 in /usr/local/lib/python3.12/dist-packages (from torch) (12.6.77)\n",
            "Requirement already satisfied: nvidia-cuda-cupti-cu12==12.6.80 in /usr/local/lib/python3.12/dist-packages (from torch) (12.6.80)\n",
            "Requirement already satisfied: nvidia-cudnn-cu12==9.10.2.21 in /usr/local/lib/python3.12/dist-packages (from torch) (9.10.2.21)\n",
            "Requirement already satisfied: nvidia-cublas-cu12==12.6.4.1 in /usr/local/lib/python3.12/dist-packages (from torch) (12.6.4.1)\n",
            "Requirement already satisfied: nvidia-cufft-cu12==11.3.0.4 in /usr/local/lib/python3.12/dist-packages (from torch) (11.3.0.4)\n",
            "Requirement already satisfied: nvidia-curand-cu12==10.3.7.77 in /usr/local/lib/python3.12/dist-packages (from torch) (10.3.7.77)\n",
            "Requirement already satisfied: nvidia-cusolver-cu12==11.7.1.2 in /usr/local/lib/python3.12/dist-packages (from torch) (11.7.1.2)\n",
            "Requirement already satisfied: nvidia-cusparse-cu12==12.5.4.2 in /usr/local/lib/python3.12/dist-packages (from torch) (12.5.4.2)\n",
            "Requirement already satisfied: nvidia-cusparselt-cu12==0.7.1 in /usr/local/lib/python3.12/dist-packages (from torch) (0.7.1)\n",
            "Requirement already satisfied: nvidia-nccl-cu12==2.27.3 in /usr/local/lib/python3.12/dist-packages (from torch) (2.27.3)\n",
            "Requirement already satisfied: nvidia-nvtx-cu12==12.6.77 in /usr/local/lib/python3.12/dist-packages (from torch) (12.6.77)\n",
            "Requirement already satisfied: nvidia-nvjitlink-cu12==12.6.85 in /usr/local/lib/python3.12/dist-packages (from torch) (12.6.85)\n",
            "Requirement already satisfied: nvidia-cufile-cu12==1.11.1.6 in /usr/local/lib/python3.12/dist-packages (from torch) (1.11.1.6)\n",
            "Requirement already satisfied: triton==3.4.0 in /usr/local/lib/python3.12/dist-packages (from torch) (3.4.0)\n",
            "Requirement already satisfied: six>=1.5 in /usr/local/lib/python3.12/dist-packages (from python-dateutil>=2.8.2->pandas) (1.17.0)\n",
            "Requirement already satisfied: mpmath<1.4,>=1.1.0 in /usr/local/lib/python3.12/dist-packages (from sympy>=1.13.3->torch) (1.3.0)\n",
            "Requirement already satisfied: soupsieve>1.2 in /usr/local/lib/python3.12/dist-packages (from beautifulsoup4->gdown) (2.7)\n",
            "Requirement already satisfied: MarkupSafe>=2.0 in /usr/local/lib/python3.12/dist-packages (from jinja2->torch) (3.0.2)\n",
            "Requirement already satisfied: PySocks!=1.5.7,>=1.5.6 in /usr/local/lib/python3.12/dist-packages (from requests[socks]->gdown) (1.7.1)\n",
            "Downloading pyzstd-0.17.0-cp312-cp312-manylinux_2_17_x86_64.manylinux2014_x86_64.whl (413 kB)\n",
            "\u001b[2K   \u001b[90m━━━━━━━━━━━━━━━━━━━━━━━━━━━━━━━━━━━━━━━━\u001b[0m \u001b[32m413.6/413.6 kB\u001b[0m \u001b[31m30.5 MB/s\u001b[0m eta \u001b[36m0:00:00\u001b[0m\n",
            "\u001b[?25hBuilding wheels for collected packages: chess\n",
            "  Building wheel for chess (setup.py) ... \u001b[?25l\u001b[?25hdone\n",
            "  Created wheel for chess: filename=chess-1.11.2-py3-none-any.whl size=147775 sha256=0207c60308d60a12657d333c89759d7fbe4651306a51891a7d5ba998fdbea549\n",
            "  Stored in directory: /root/.cache/pip/wheels/83/1f/4e/8f4300f7dd554eb8de70ddfed96e94d3d030ace10c5b53d447\n",
            "Successfully built chess\n",
            "Installing collected packages: pyzstd, chess\n",
            "Successfully installed chess-1.11.2 pyzstd-0.17.0\n"
          ]
        }
      ]
    },
    {
      "cell_type": "code",
      "source": [
        "from maia2 import model, dataset, inference"
      ],
      "metadata": {
        "id": "DtMeAcIUhHxJ"
      },
      "execution_count": 3,
      "outputs": []
    },
    {
      "cell_type": "code",
      "metadata": {
        "colab": {
          "base_uri": "https://localhost:8080/"
        },
        "id": "de2909a2",
        "outputId": "e206079e-d254-47a9-c732-c5bdf195a52e"
      },
      "source": [
        "data = dataset.load_example_test_dataset()"
      ],
      "execution_count": null,
      "outputs": [
        {
          "output_type": "stream",
          "name": "stderr",
          "text": [
            "Downloading...\n",
            "From: https://drive.google.com/uc?id=1fSu4Yp8uYj7xocbHAbjBP6DthsgiJy9X\n",
            "To: /content/maia2_data/example_test_dataset.csv\n",
            "100%|██████████| 22.5M/22.5M [00:00<00:00, 69.2MB/s]\n"
          ]
        },
        {
          "output_type": "stream",
          "name": "stdout",
          "text": [
            "Example test dataset downloaded.\n"
          ]
        }
      ]
    },
    {
      "cell_type": "code",
      "metadata": {
        "colab": {
          "base_uri": "https://localhost:8080/"
        },
        "id": "0dabb255",
        "outputId": "19633150-8ad7-465d-bf5f-b1471aedcb32"
      },
      "source": [
        "maia2_model = model.from_pretrained(type=\"rapid\", device=\"gpu\")"
      ],
      "execution_count": null,
      "outputs": [
        {
          "output_type": "stream",
          "name": "stdout",
          "text": [
            "Model for rapid games already downloaded.\n",
            "Model for rapid games loaded to gpu.\n"
          ]
        }
      ]
    },
    {
      "cell_type": "code",
      "source": [
        "data, acc = inference.inference_batch(data, maia2_model, verbose=1, batch_size=1024, num_workers=4)\n",
        "print(acc)"
      ],
      "metadata": {
        "colab": {
          "base_uri": "https://localhost:8080/"
        },
        "id": "ynN2pxSnf5m4",
        "outputId": "2a4617f5-5717-4c0a-cfb3-6cb10956c463"
      },
      "execution_count": null,
      "outputs": [
        {
          "output_type": "stream",
          "name": "stderr",
          "text": [
            "100%|██████████| 105/105 [01:18<00:00,  1.33it/s]\n"
          ]
        },
        {
          "output_type": "stream",
          "name": "stdout",
          "text": [
            "0.5311\n"
          ]
        }
      ]
    },
    {
      "cell_type": "code",
      "source": [
        "from maia2 import train, utils"
      ],
      "metadata": {
        "id": "JVCtL67igwT-"
      },
      "execution_count": 4,
      "outputs": []
    },
    {
      "cell_type": "code",
      "source": [
        "import requests\n",
        "import re\n",
        "\n",
        "def download_all_games(username: str, output_file: str = \"all_games.pgn\"):\n",
        "    headers = {\"User-Agent\": \"MyChessDownloader/1.0\"}\n",
        "\n",
        "    # Step 1: Get archives\n",
        "    archives_url = f\"https://api.chess.com/pub/player/{username}/games/archives\"\n",
        "    response = requests.get(archives_url, headers=headers)\n",
        "\n",
        "    if response.status_code != 200:\n",
        "        raise Exception(f\"Error fetching archives for {username} (HTTP {response.status_code})\")\n",
        "\n",
        "    archives = response.json().get(\"archives\", [])\n",
        "\n",
        "    if not archives:\n",
        "        print(\"⚠️ No archives found for this user.\")\n",
        "        return\n",
        "\n",
        "    # Step 2: Fetch PGNs\n",
        "    with open(output_file, \"w\", encoding=\"utf-8\") as outfile:\n",
        "        for url in archives:\n",
        "            pgn_url = f\"{url}/pgn\"\n",
        "            print(f\"Fetching {pgn_url} ...\")\n",
        "\n",
        "            pgn_response = requests.get(pgn_url, headers=headers)\n",
        "            if pgn_response.status_code == 200:\n",
        "                pgn_text = pgn_response.text\n",
        "                pgn_text = re.sub(r'(\\[%clk \\d+:\\d+:\\d+)\\.\\d+\\]', r'\\1]', pgn_text)\n",
        "\n",
        "\n",
        "            # 🔥 Add \"Rapid\" to Event line so it passes your filter\n",
        "                games = pgn_text.strip().split(\"\\n\\n\\n\")  # Chess.com separates games with triple newlines\n",
        "                for g in games:\n",
        "                    if '[Variant \"' in g:  # ❌ skip non-standard variants\n",
        "                        continue\n",
        "                    outfile.write(g.strip() + \"\\n\\n\\n\")\n",
        "                pgn_text = pgn_text.replace('[Event \"Live Chess\"]',\n",
        "                                        '[Event \"Live Chess Rated Rapid\"]')\n",
        "                #outfile.write(pgn_response.text + \"\\n\\n\")\n",
        "            else:\n",
        "                print(f\"⚠️ Skipped {pgn_url} (HTTP {pgn_response.status_code})\")\n",
        "\n",
        "    print(f\"✅ All games saved to {output_file}\")\n"
      ],
      "metadata": {
        "id": "cMN71uHSdQRI"
      },
      "execution_count": 17,
      "outputs": []
    },
    {
      "cell_type": "code",
      "source": [
        "download_all_games(\"sukhoi35\",\"lichess_db_standard_rated_2025-06.pgn\")"
      ],
      "metadata": {
        "colab": {
          "base_uri": "https://localhost:8080/"
        },
        "id": "i7zm0zJjdUZg",
        "outputId": "5434cb65-50ea-40fb-ec47-9a5cf5e69bb4"
      },
      "execution_count": null,
      "outputs": [
        {
          "output_type": "stream",
          "name": "stdout",
          "text": [
            "Fetching https://api.chess.com/pub/player/sukhoi35/games/2016/05/pgn ...\n",
            "Fetching https://api.chess.com/pub/player/sukhoi35/games/2016/06/pgn ...\n",
            "Fetching https://api.chess.com/pub/player/sukhoi35/games/2016/07/pgn ...\n",
            "Fetching https://api.chess.com/pub/player/sukhoi35/games/2016/08/pgn ...\n",
            "Fetching https://api.chess.com/pub/player/sukhoi35/games/2016/09/pgn ...\n",
            "Fetching https://api.chess.com/pub/player/sukhoi35/games/2016/10/pgn ...\n",
            "Fetching https://api.chess.com/pub/player/sukhoi35/games/2016/11/pgn ...\n",
            "Fetching https://api.chess.com/pub/player/sukhoi35/games/2016/12/pgn ...\n",
            "Fetching https://api.chess.com/pub/player/sukhoi35/games/2017/01/pgn ...\n",
            "Fetching https://api.chess.com/pub/player/sukhoi35/games/2017/02/pgn ...\n",
            "Fetching https://api.chess.com/pub/player/sukhoi35/games/2017/03/pgn ...\n",
            "Fetching https://api.chess.com/pub/player/sukhoi35/games/2017/04/pgn ...\n",
            "Fetching https://api.chess.com/pub/player/sukhoi35/games/2017/05/pgn ...\n",
            "Fetching https://api.chess.com/pub/player/sukhoi35/games/2017/06/pgn ...\n"
          ]
        }
      ]
    },
    {
      "cell_type": "code",
      "source": [
        "import chess.pgn\n",
        "\n",
        "def validate_pgn(file_path):\n",
        "    with open(file_path, encoding=\"utf-8\") as f:\n",
        "        game_num = 1\n",
        "        while True:\n",
        "            try:\n",
        "                game = chess.pgn.read_game(f)\n",
        "                if game is None:\n",
        "                    break\n",
        "                game_num += 1\n",
        "            except Exception as e:\n",
        "                print(f\"❌ Error parsing game {game_num}: {e}\")\n",
        "                break\n"
      ],
      "metadata": {
        "id": "kOeEWoBqKvde"
      },
      "execution_count": null,
      "outputs": []
    },
    {
      "cell_type": "code",
      "source": [
        "validate_pgn(\"/content/all_games.pgn\")"
      ],
      "metadata": {
        "id": "pcXKuisPKxo-"
      },
      "execution_count": null,
      "outputs": []
    },
    {
      "cell_type": "code",
      "source": [
        "pip install zstandard"
      ],
      "metadata": {
        "colab": {
          "base_uri": "https://localhost:8080/"
        },
        "id": "vbRDef-eLJ0b",
        "outputId": "d969c2fb-215b-456b-81b2-edf88c4ef15f"
      },
      "execution_count": 5,
      "outputs": [
        {
          "output_type": "stream",
          "name": "stdout",
          "text": [
            "Requirement already satisfied: zstandard in /usr/local/lib/python3.12/dist-packages (0.24.0)\n"
          ]
        }
      ]
    },
    {
      "cell_type": "code",
      "source": [
        "import zstandard as zstd\n",
        "\n",
        "def compress_pgn(input_file: str, output_file: str):\n",
        "    \"\"\"\n",
        "    Compress a PGN file into .pgn.zst format using Zstandard.\n",
        "    \"\"\"\n",
        "    with open(input_file, \"rb\") as f_in, open(output_file, \"wb\") as f_out:\n",
        "        cctx = zstd.ZstdCompressor(level=3)  # level 1-22 (higher = more compression, slower)\n",
        "        f_out.write(cctx.compress(f_in.read()))\n",
        "\n",
        "    print(f\"✅ Compressed {input_file} -> {output_file}\")"
      ],
      "metadata": {
        "id": "AO91OoK7LPqB"
      },
      "execution_count": null,
      "outputs": []
    },
    {
      "cell_type": "code",
      "source": [
        "compress_pgn(\"lichess_db_standard_rated_2025-06.pgn\",\"lichess_db_standard_rated_2015-06.pgn.zst\")"
      ],
      "metadata": {
        "colab": {
          "base_uri": "https://localhost:8080/"
        },
        "id": "QxYm9GHhLT-5",
        "outputId": "206768e9-a5b2-4914-f888-7743f9b04c42"
      },
      "execution_count": null,
      "outputs": [
        {
          "output_type": "stream",
          "name": "stdout",
          "text": [
            "✅ Compressed lichess_db_standard_rated_2013-01.pgn -> lichess_db_standard_rated_2013-01.pgn.zst\n"
          ]
        }
      ]
    },
    {
      "cell_type": "code",
      "source": [
        "from multiprocessing import Process, Queue, cpu_count\n",
        "cfg = utils.parse_args(cfg_file_path=\"/content/config.yaml\")\n",
        "pgn_chunks = utils.read_or_create_chunks(\"/content/lichess_db_standard_rated_2013-01.pgn\", cfg)\n",
        "print(\"Number of chunks:\", len(pgn_chunks))\n",
        "pgn_chunks_sublists = []\n",
        "num_processes = cpu_count() - cfg.num_cpu_left\n",
        "for i in range(0, len(pgn_chunks), num_processes):\n",
        "                pgn_chunks_sublists.append(pgn_chunks[i:i + num_processes])\n",
        "print(pgn_chunks_sublists[0])"
      ],
      "metadata": {
        "colab": {
          "base_uri": "https://localhost:8080/"
        },
        "id": "h6lgQQ6d65X6",
        "outputId": "231c5d0c-fd97-4e90-b40c-37b0b944e036"
      },
      "execution_count": null,
      "outputs": [
        {
          "output_type": "stream",
          "name": "stdout",
          "text": [
            "Loading cached chunks from /content/lichess_db_standard_rated_2013-01_chunks.pkl\n",
            "Number of chunks: 12134\n",
            "[(0, 6844), (6844, 14776)]\n"
          ]
        }
      ]
    },
    {
      "cell_type": "code",
      "source": [
        "cfg = utils.parse_args(cfg_file_path=\"/content/drive/MyDrive/ChessEngine/config.yaml\")\n",
        "train.run(cfg)"
      ],
      "metadata": {
        "colab": {
          "base_uri": "https://localhost:8080/",
          "height": 1000
        },
        "id": "uczYRH7LgxsW",
        "outputId": "748f41d7-63d8-4b51-cfbc-bcd1cc8aa3a1"
      },
      "execution_count": 9,
      "outputs": [
        {
          "output_type": "stream",
          "name": "stdout",
          "text": [
            "Configurations:\n",
            "\tdata_root: /content/drive/MyDrive/ChessEngine\n",
            "\tseed: 42\n",
            "\tnum_workers: 16\n",
            "\tverbose: 1\n",
            "\tmax_epochs: 3\n",
            "\tmax_ply: 300\n",
            "\tclock_threshold: 30\n",
            "\tchunk_size: 250\n",
            "\tstart_year: 2025\n",
            "\tstart_month: 1\n",
            "\tend_year: 2025\n",
            "\tend_month: 6\n",
            "\tfrom_checkpoint: False\n",
            "\tcheckpoint_epoch: 0\n",
            "\tcheckpoint_year: 2025\n",
            "\tcheckpoint_month: 8\n",
            "\tnum_cpu_left: 0\n",
            "\tqueue_length: 1\n",
            "\tlr: 0.0001\n",
            "\twd: 1e-05\n",
            "\tbatch_size: 8192\n",
            "\tfirst_n_moves: 10\n",
            "\tlast_n_moves: 10\n",
            "\tdim_cnn: 256\n",
            "\tdim_vit: 1024\n",
            "\tnum_blocks_cnn: 5\n",
            "\tnum_blocks_vit: 2\n",
            "\tinput_channels: 18\n",
            "\tvit_length: 8\n",
            "\telo_dim: 128\n",
            "\tside_info: True\n",
            "\tside_info_coefficient: 1.0\n",
            "\tvalue: True\n",
            "\tvalue_coefficient: 1.0\n",
            "\tmax_games_per_elo_range: 50000\n",
            "MAIA2Model(\n",
            "  (chess_cnn): ChessResNet(\n",
            "    (conv1): Conv2d(18, 256, kernel_size=(3, 3), stride=(1, 1), padding=(1, 1), bias=False)\n",
            "    (bn1): BatchNorm2d(256, eps=1e-05, momentum=0.1, affine=True, track_running_stats=True)\n",
            "    (layers): Sequential(\n",
            "      (0): BasicBlock(\n",
            "        (conv1): Conv2d(256, 256, kernel_size=(3, 3), stride=(1, 1), padding=(1, 1), bias=False)\n",
            "        (bn1): BatchNorm2d(256, eps=1e-05, momentum=0.1, affine=True, track_running_stats=True)\n",
            "        (conv2): Conv2d(256, 256, kernel_size=(3, 3), stride=(1, 1), padding=(1, 1), bias=False)\n",
            "        (bn2): BatchNorm2d(256, eps=1e-05, momentum=0.1, affine=True, track_running_stats=True)\n",
            "        (dropout): Dropout(p=0.5, inplace=False)\n",
            "      )\n",
            "      (1): BasicBlock(\n",
            "        (conv1): Conv2d(256, 256, kernel_size=(3, 3), stride=(1, 1), padding=(1, 1), bias=False)\n",
            "        (bn1): BatchNorm2d(256, eps=1e-05, momentum=0.1, affine=True, track_running_stats=True)\n",
            "        (conv2): Conv2d(256, 256, kernel_size=(3, 3), stride=(1, 1), padding=(1, 1), bias=False)\n",
            "        (bn2): BatchNorm2d(256, eps=1e-05, momentum=0.1, affine=True, track_running_stats=True)\n",
            "        (dropout): Dropout(p=0.5, inplace=False)\n",
            "      )\n",
            "      (2): BasicBlock(\n",
            "        (conv1): Conv2d(256, 256, kernel_size=(3, 3), stride=(1, 1), padding=(1, 1), bias=False)\n",
            "        (bn1): BatchNorm2d(256, eps=1e-05, momentum=0.1, affine=True, track_running_stats=True)\n",
            "        (conv2): Conv2d(256, 256, kernel_size=(3, 3), stride=(1, 1), padding=(1, 1), bias=False)\n",
            "        (bn2): BatchNorm2d(256, eps=1e-05, momentum=0.1, affine=True, track_running_stats=True)\n",
            "        (dropout): Dropout(p=0.5, inplace=False)\n",
            "      )\n",
            "      (3): BasicBlock(\n",
            "        (conv1): Conv2d(256, 256, kernel_size=(3, 3), stride=(1, 1), padding=(1, 1), bias=False)\n",
            "        (bn1): BatchNorm2d(256, eps=1e-05, momentum=0.1, affine=True, track_running_stats=True)\n",
            "        (conv2): Conv2d(256, 256, kernel_size=(3, 3), stride=(1, 1), padding=(1, 1), bias=False)\n",
            "        (bn2): BatchNorm2d(256, eps=1e-05, momentum=0.1, affine=True, track_running_stats=True)\n",
            "        (dropout): Dropout(p=0.5, inplace=False)\n",
            "      )\n",
            "      (4): BasicBlock(\n",
            "        (conv1): Conv2d(256, 256, kernel_size=(3, 3), stride=(1, 1), padding=(1, 1), bias=False)\n",
            "        (bn1): BatchNorm2d(256, eps=1e-05, momentum=0.1, affine=True, track_running_stats=True)\n",
            "        (conv2): Conv2d(256, 256, kernel_size=(3, 3), stride=(1, 1), padding=(1, 1), bias=False)\n",
            "        (bn2): BatchNorm2d(256, eps=1e-05, momentum=0.1, affine=True, track_running_stats=True)\n",
            "        (dropout): Dropout(p=0.5, inplace=False)\n",
            "      )\n",
            "    )\n",
            "    (conv_last): Conv2d(256, 8, kernel_size=(3, 3), stride=(1, 1), padding=(1, 1), bias=False)\n",
            "    (bn_last): BatchNorm2d(8, eps=1e-05, momentum=0.1, affine=True, track_running_stats=True)\n",
            "  )\n",
            "  (to_patch_embedding): Sequential(\n",
            "    (0): Linear(in_features=64, out_features=1024, bias=True)\n",
            "    (1): LayerNorm((1024,), eps=1e-05, elementwise_affine=True)\n",
            "  )\n",
            "  (transformer): Transformer(\n",
            "    (norm): LayerNorm((1024,), eps=1e-05, elementwise_affine=True)\n",
            "    (layers): ModuleList()\n",
            "    (elo_layers): ModuleList(\n",
            "      (0-1): 2 x ModuleList(\n",
            "        (0): EloAwareAttention(\n",
            "          (norm): LayerNorm((1024,), eps=1e-05, elementwise_affine=True)\n",
            "          (attend): Softmax(dim=-1)\n",
            "          (dropout): Dropout(p=0.1, inplace=False)\n",
            "          (to_qkv): Linear(in_features=1024, out_features=3072, bias=False)\n",
            "          (elo_query): Linear(in_features=256, out_features=1024, bias=False)\n",
            "          (to_out): Sequential(\n",
            "            (0): Linear(in_features=1024, out_features=1024, bias=True)\n",
            "            (1): Dropout(p=0.1, inplace=False)\n",
            "          )\n",
            "        )\n",
            "        (1): FeedForward(\n",
            "          (net): Sequential(\n",
            "            (0): LayerNorm((1024,), eps=1e-05, elementwise_affine=True)\n",
            "            (1): Linear(in_features=1024, out_features=1024, bias=True)\n",
            "            (2): GELU(approximate='none')\n",
            "            (3): Dropout(p=0.1, inplace=False)\n",
            "            (4): Linear(in_features=1024, out_features=1024, bias=True)\n",
            "            (5): Dropout(p=0.1, inplace=False)\n",
            "          )\n",
            "        )\n",
            "      )\n",
            "    )\n",
            "  )\n",
            "  (fc_1): Linear(in_features=1024, out_features=1880, bias=True)\n",
            "  (fc_2): Linear(in_features=1024, out_features=2021, bias=True)\n",
            "  (fc_3): Linear(in_features=128, out_features=1, bias=True)\n",
            "  (fc_3_1): Linear(in_features=1024, out_features=128, bias=True)\n",
            "  (elo_embedding): Embedding(11, 128)\n",
            "  (dropout): Dropout(p=0.1, inplace=False)\n",
            "  (last_ln): LayerNorm((1024,), eps=1e-05, elementwise_affine=True)\n",
            ")\n",
            "Trainable Parameters: 23.30M\n",
            "Epoch 1\n",
            "Training Data:\n",
            "/content/drive/MyDrive/ChessEngine/lichess_db_standard_rated_2025-01.pgn\n",
            "/content/drive/MyDrive/ChessEngine/lichess_db_standard_rated_2025-02.pgn\n",
            "/content/drive/MyDrive/ChessEngine/lichess_db_standard_rated_2025-03.pgn\n",
            "/content/drive/MyDrive/ChessEngine/lichess_db_standard_rated_2025-04.pgn\n",
            "/content/drive/MyDrive/ChessEngine/lichess_db_standard_rated_2025-05.pgn\n",
            "/content/drive/MyDrive/ChessEngine/lichess_db_standard_rated_2025-06.pgn\n",
            "Decompressing /content/drive/MyDrive/ChessEngine/lichess_db_standard_rated_2025-01.pgn took 1.24s\n",
            "Loading cached chunks from /content/drive/MyDrive/ChessEngine/lichess_db_standard_rated_2025-01_chunks.pkl\n",
            "Training /content/drive/MyDrive/ChessEngine/lichess_db_standard_rated_2025-01.pgn with 1241 chunks.\n",
            "{}\n"
          ]
        },
        {
          "output_type": "error",
          "ename": "ValueError",
          "evalue": "num_samples should be a positive integer value, but got num_samples=0",
          "traceback": [
            "\u001b[0;31m---------------------------------------------------------------------------\u001b[0m",
            "\u001b[0;31mValueError\u001b[0m                                Traceback (most recent call last)",
            "\u001b[0;32m/tmp/ipython-input-108938089.py\u001b[0m in \u001b[0;36m<cell line: 0>\u001b[0;34m()\u001b[0m\n\u001b[1;32m      1\u001b[0m \u001b[0mcfg\u001b[0m \u001b[0;34m=\u001b[0m \u001b[0mutils\u001b[0m\u001b[0;34m.\u001b[0m\u001b[0mparse_args\u001b[0m\u001b[0;34m(\u001b[0m\u001b[0mcfg_file_path\u001b[0m\u001b[0;34m=\u001b[0m\u001b[0;34m\"/content/drive/MyDrive/ChessEngine/config.yaml\"\u001b[0m\u001b[0;34m)\u001b[0m\u001b[0;34m\u001b[0m\u001b[0;34m\u001b[0m\u001b[0m\n\u001b[0;32m----> 2\u001b[0;31m \u001b[0mtrain\u001b[0m\u001b[0;34m.\u001b[0m\u001b[0mrun\u001b[0m\u001b[0;34m(\u001b[0m\u001b[0mcfg\u001b[0m\u001b[0;34m)\u001b[0m\u001b[0;34m\u001b[0m\u001b[0;34m\u001b[0m\u001b[0m\n\u001b[0m",
            "\u001b[0;32m/usr/local/lib/python3.12/dist-packages/maia2/train.py\u001b[0m in \u001b[0;36mrun\u001b[0;34m(cfg)\u001b[0m\n\u001b[1;32m     89\u001b[0m                         \u001b[0moffset\u001b[0m \u001b[0;34m+=\u001b[0m \u001b[0;36m1\u001b[0m\u001b[0;34m\u001b[0m\u001b[0;34m\u001b[0m\u001b[0m\n\u001b[1;32m     90\u001b[0m                     \u001b[0mdata\u001b[0m\u001b[0;34m,\u001b[0m \u001b[0mgame_count\u001b[0m\u001b[0;34m,\u001b[0m \u001b[0mchunk_count\u001b[0m \u001b[0;34m=\u001b[0m \u001b[0mqueue\u001b[0m\u001b[0;34m.\u001b[0m\u001b[0mget\u001b[0m\u001b[0;34m(\u001b[0m\u001b[0;34m)\u001b[0m\u001b[0;34m\u001b[0m\u001b[0;34m\u001b[0m\u001b[0m\n\u001b[0;32m---> 91\u001b[0;31m                     \u001b[0mloss\u001b[0m\u001b[0;34m,\u001b[0m \u001b[0mloss_maia\u001b[0m\u001b[0;34m,\u001b[0m \u001b[0mloss_side_info\u001b[0m\u001b[0;34m,\u001b[0m \u001b[0mloss_value\u001b[0m \u001b[0;34m=\u001b[0m \u001b[0mtrain_chunks\u001b[0m\u001b[0;34m(\u001b[0m\u001b[0mcfg\u001b[0m\u001b[0;34m,\u001b[0m \u001b[0mdata\u001b[0m\u001b[0;34m,\u001b[0m \u001b[0mmodel\u001b[0m\u001b[0;34m,\u001b[0m \u001b[0moptimizer\u001b[0m\u001b[0;34m,\u001b[0m \u001b[0mall_moves_dict\u001b[0m\u001b[0;34m,\u001b[0m \u001b[0mcriterion_maia\u001b[0m\u001b[0;34m,\u001b[0m \u001b[0mcriterion_side_info\u001b[0m\u001b[0;34m,\u001b[0m \u001b[0mcriterion_value\u001b[0m\u001b[0;34m)\u001b[0m\u001b[0;34m\u001b[0m\u001b[0;34m\u001b[0m\u001b[0m\n\u001b[0m\u001b[1;32m     92\u001b[0m                     \u001b[0mnum_chunk\u001b[0m \u001b[0;34m+=\u001b[0m \u001b[0mchunk_count\u001b[0m\u001b[0;34m\u001b[0m\u001b[0;34m\u001b[0m\u001b[0m\n\u001b[1;32m     93\u001b[0m                     \u001b[0maccumulated_samples\u001b[0m \u001b[0;34m+=\u001b[0m \u001b[0mlen\u001b[0m\u001b[0;34m(\u001b[0m\u001b[0mdata\u001b[0m\u001b[0;34m)\u001b[0m\u001b[0;34m\u001b[0m\u001b[0;34m\u001b[0m\u001b[0m\n",
            "\u001b[0;32m/usr/local/lib/python3.12/dist-packages/maia2/main.py\u001b[0m in \u001b[0;36mtrain_chunks\u001b[0;34m(cfg, data, model, optimizer, all_moves_dict, criterion_maia, criterion_side_info, criterion_value)\u001b[0m\n\u001b[1;32m    494\u001b[0m \u001b[0;34m\u001b[0m\u001b[0m\n\u001b[1;32m    495\u001b[0m     \u001b[0mdataset_train\u001b[0m \u001b[0;34m=\u001b[0m \u001b[0mMAIA2Dataset\u001b[0m\u001b[0;34m(\u001b[0m\u001b[0mdata\u001b[0m\u001b[0;34m,\u001b[0m \u001b[0mall_moves_dict\u001b[0m\u001b[0;34m,\u001b[0m \u001b[0mcfg\u001b[0m\u001b[0;34m)\u001b[0m\u001b[0;34m\u001b[0m\u001b[0;34m\u001b[0m\u001b[0m\n\u001b[0;32m--> 496\u001b[0;31m     dataloader_train = torch.utils.data.DataLoader(dataset_train, \n\u001b[0m\u001b[1;32m    497\u001b[0m                                                     \u001b[0mbatch_size\u001b[0m\u001b[0;34m=\u001b[0m\u001b[0mcfg\u001b[0m\u001b[0;34m.\u001b[0m\u001b[0mbatch_size\u001b[0m\u001b[0;34m,\u001b[0m\u001b[0;34m\u001b[0m\u001b[0;34m\u001b[0m\u001b[0m\n\u001b[1;32m    498\u001b[0m                                                     \u001b[0mshuffle\u001b[0m\u001b[0;34m=\u001b[0m\u001b[0;32mTrue\u001b[0m\u001b[0;34m,\u001b[0m\u001b[0;34m\u001b[0m\u001b[0;34m\u001b[0m\u001b[0m\n",
            "\u001b[0;32m/usr/local/lib/python3.12/dist-packages/torch/utils/data/dataloader.py\u001b[0m in \u001b[0;36m__init__\u001b[0;34m(self, dataset, batch_size, shuffle, sampler, batch_sampler, num_workers, collate_fn, pin_memory, drop_last, timeout, worker_init_fn, multiprocessing_context, generator, prefetch_factor, persistent_workers, pin_memory_device, in_order)\u001b[0m\n\u001b[1;32m    386\u001b[0m             \u001b[0;32melse\u001b[0m\u001b[0;34m:\u001b[0m  \u001b[0;31m# map-style\u001b[0m\u001b[0;34m\u001b[0m\u001b[0;34m\u001b[0m\u001b[0m\n\u001b[1;32m    387\u001b[0m                 \u001b[0;32mif\u001b[0m \u001b[0mshuffle\u001b[0m\u001b[0;34m:\u001b[0m\u001b[0;34m\u001b[0m\u001b[0;34m\u001b[0m\u001b[0m\n\u001b[0;32m--> 388\u001b[0;31m                     \u001b[0msampler\u001b[0m \u001b[0;34m=\u001b[0m \u001b[0mRandomSampler\u001b[0m\u001b[0;34m(\u001b[0m\u001b[0mdataset\u001b[0m\u001b[0;34m,\u001b[0m \u001b[0mgenerator\u001b[0m\u001b[0;34m=\u001b[0m\u001b[0mgenerator\u001b[0m\u001b[0;34m)\u001b[0m  \u001b[0;31m# type: ignore[arg-type]\u001b[0m\u001b[0;34m\u001b[0m\u001b[0;34m\u001b[0m\u001b[0m\n\u001b[0m\u001b[1;32m    389\u001b[0m                 \u001b[0;32melse\u001b[0m\u001b[0;34m:\u001b[0m\u001b[0;34m\u001b[0m\u001b[0;34m\u001b[0m\u001b[0m\n\u001b[1;32m    390\u001b[0m                     \u001b[0msampler\u001b[0m \u001b[0;34m=\u001b[0m \u001b[0mSequentialSampler\u001b[0m\u001b[0;34m(\u001b[0m\u001b[0mdataset\u001b[0m\u001b[0;34m)\u001b[0m  \u001b[0;31m# type: ignore[arg-type]\u001b[0m\u001b[0;34m\u001b[0m\u001b[0;34m\u001b[0m\u001b[0m\n",
            "\u001b[0;32m/usr/local/lib/python3.12/dist-packages/torch/utils/data/sampler.py\u001b[0m in \u001b[0;36m__init__\u001b[0;34m(self, data_source, replacement, num_samples, generator)\u001b[0m\n\u001b[1;32m    154\u001b[0m \u001b[0;34m\u001b[0m\u001b[0m\n\u001b[1;32m    155\u001b[0m         \u001b[0;32mif\u001b[0m \u001b[0;32mnot\u001b[0m \u001b[0misinstance\u001b[0m\u001b[0;34m(\u001b[0m\u001b[0mself\u001b[0m\u001b[0;34m.\u001b[0m\u001b[0mnum_samples\u001b[0m\u001b[0;34m,\u001b[0m \u001b[0mint\u001b[0m\u001b[0;34m)\u001b[0m \u001b[0;32mor\u001b[0m \u001b[0mself\u001b[0m\u001b[0;34m.\u001b[0m\u001b[0mnum_samples\u001b[0m \u001b[0;34m<=\u001b[0m \u001b[0;36m0\u001b[0m\u001b[0;34m:\u001b[0m\u001b[0;34m\u001b[0m\u001b[0;34m\u001b[0m\u001b[0m\n\u001b[0;32m--> 156\u001b[0;31m             raise ValueError(\n\u001b[0m\u001b[1;32m    157\u001b[0m                 \u001b[0;34mf\"num_samples should be a positive integer value, but got num_samples={self.num_samples}\"\u001b[0m\u001b[0;34m\u001b[0m\u001b[0;34m\u001b[0m\u001b[0m\n\u001b[1;32m    158\u001b[0m             )\n",
            "\u001b[0;31mValueError\u001b[0m: num_samples should be a positive integer value, but got num_samples=0"
          ]
        }
      ]
    },
    {
      "cell_type": "code",
      "source": [
        "def from_pretrained(type, device, save_root = \"/saves/0.0001_8192_1e-05\"):\n",
        "\n",
        "    if os.path.exists(save_root) == False:\n",
        "        os.makedirs(save_root)\n",
        "\n",
        "    if os.path.exists(output_path):\n",
        "        print(f\"Model for {type} games already downloaded.\")\n",
        "    else:\n",
        "        print(f\"Downloading model for {type} games.\")\n",
        "        gdown.download(url, output_path, quiet=False)\n",
        "\n",
        "    cfg_url = \"https://drive.google.com/uc?id=1GQTskYMVMubNwZH2Bi6AmevI15CS6gk0\"\n",
        "    cfg_path = os.path.join(save_root, \"config.yaml\")\n",
        "    if not os.path.exists(cfg_path):\n",
        "        gdown.download(cfg_url, cfg_path, quiet=False)\n",
        "\n",
        "    cfg = parse_args(cfg_path)\n",
        "\n",
        "    all_moves = get_all_possible_moves()\n",
        "    elo_dict = create_elo_dict()\n",
        "\n",
        "    model = MAIA2Model(len(all_moves), elo_dict, cfg)\n",
        "    model = nn.DataParallel(model)\n",
        "\n",
        "    checkpoint = torch.load(output_path, map_location='cpu')\n",
        "    model.load_state_dict(checkpoint['model_state_dict'])\n",
        "    model = model.module\n",
        "\n",
        "    if device == \"gpu\":\n",
        "        model = model.cuda()\n",
        "\n",
        "    print(f\"Model for {type} games loaded to {device}.\")\n",
        "\n",
        "    return model"
      ],
      "metadata": {
        "id": "cOBKNa-HOopa"
      },
      "execution_count": 6,
      "outputs": []
    },
    {
      "cell_type": "code",
      "source": [
        "from google.colab import drive\n",
        "drive.mount('/content/drive')"
      ],
      "metadata": {
        "colab": {
          "base_uri": "https://localhost:8080/"
        },
        "id": "yw83BrXZtKpS",
        "outputId": "ee7061d3-d054-44c2-f287-e36b6f0cf1f0"
      },
      "execution_count": 7,
      "outputs": [
        {
          "output_type": "stream",
          "name": "stdout",
          "text": [
            "Mounted at /content/drive\n"
          ]
        }
      ]
    },
    {
      "cell_type": "code",
      "source": [
        "import torch\n",
        "from torch import nn\n",
        "from maia2.main import MAIA2Model\n",
        "from maia2.utils import get_all_possible_moves, create_elo_dict, parse_args\n",
        "\n",
        "def load_my_model(checkpoint_path, config_path, device=\"cpu\"):\n",
        "    # Parse config file\n",
        "    cfg = parse_args(config_path)\n",
        "\n",
        "    # Create model\n",
        "    all_moves = get_all_possible_moves()\n",
        "    elo_dict = create_elo_dict()\n",
        "    model = MAIA2Model(len(all_moves), elo_dict, cfg)\n",
        "    model = nn.DataParallel(model)  # same as in repo\n",
        "\n",
        "    # Load checkpoint\n",
        "    checkpoint = torch.load(checkpoint_path, map_location=device)\n",
        "    model.load_state_dict(checkpoint['model_state_dict'])\n",
        "    model = model.module  # unwrap DataParallel\n",
        "\n",
        "    # Send to GPU if needed\n",
        "    if device == \"gpu\":\n",
        "        model = model.cuda()\n",
        "\n",
        "    print(f\"Custom Maia-2 model loaded from {checkpoint_path} to {device}\")\n",
        "    return model"
      ],
      "metadata": {
        "id": "JyR7YkZYVIh9"
      },
      "execution_count": 8,
      "outputs": []
    },
    {
      "cell_type": "code",
      "source": [
        "my_checkpoint = \"/content/drive/MyDrive/ChessEngine/epoch_1_2013-01.pgn.pt\"\n",
        "my_config    = \"/content/drive/MyDrive/ChessEngine/config.yaml\"\n",
        "my_model = load_my_model(my_checkpoint, my_config, device=\"cpu\")"
      ],
      "metadata": {
        "colab": {
          "base_uri": "https://localhost:8080/"
        },
        "id": "dSQF0KwcyvHG",
        "outputId": "3a9be473-475a-4b83-c1d7-620153865fdc"
      },
      "execution_count": null,
      "outputs": [
        {
          "output_type": "stream",
          "name": "stdout",
          "text": [
            "Custom Maia-2 model loaded from /content/drive/MyDrive/ChessEngine/epoch_1_2013-01.pgn.pt to cpu\n"
          ]
        }
      ]
    },
    {
      "cell_type": "code",
      "source": [
        "from maia2 import dataset\n",
        "\n",
        "# Example test dataset included in repo\n",
        "data = dataset.load_example_test_dataset()"
      ],
      "metadata": {
        "colab": {
          "base_uri": "https://localhost:8080/"
        },
        "id": "MaFiaSvEyyjv",
        "outputId": "571e2d86-0bde-4034-91c9-121a3df0e5b5"
      },
      "execution_count": null,
      "outputs": [
        {
          "output_type": "stream",
          "name": "stderr",
          "text": [
            "Downloading...\n",
            "From: https://drive.google.com/uc?id=1fSu4Yp8uYj7xocbHAbjBP6DthsgiJy9X\n",
            "To: /content/maia2_data/example_test_dataset.csv\n",
            "100%|██████████| 22.5M/22.5M [00:00<00:00, 204MB/s]\n"
          ]
        },
        {
          "output_type": "stream",
          "name": "stdout",
          "text": [
            "Example test dataset downloaded.\n"
          ]
        }
      ]
    },
    {
      "cell_type": "code",
      "source": [
        "from maia2 import inference\n",
        "\n",
        "data, acc = inference.inference_batch(\n",
        "    data,\n",
        "    my_model,\n",
        "    verbose=1,       # progress bar\n",
        "    batch_size=1024, # adjust depending on GPU memory\n",
        "    num_workers=4\n",
        ")\n",
        "\n",
        "print(\"Accuracy:\", acc)"
      ],
      "metadata": {
        "colab": {
          "base_uri": "https://localhost:8080/"
        },
        "id": "3Ew9QUsozZu8",
        "outputId": "157601b0-8b66-4833-c3e6-2679ed6bc942"
      },
      "execution_count": null,
      "outputs": [
        {
          "output_type": "stream",
          "name": "stderr",
          "text": [
            "100%|██████████| 105/105 [39:55<00:00, 22.81s/it]\n"
          ]
        },
        {
          "output_type": "stream",
          "name": "stdout",
          "text": [
            "Accuracy: 0.1061\n"
          ]
        }
      ]
    },
    {
      "cell_type": "markdown",
      "source": [
        "Fix the origin"
      ],
      "metadata": {
        "id": "V2P9rKGsPSTO"
      }
    },
    {
      "cell_type": "code",
      "source": [
        "import pdb\n",
        "import chess\n",
        "import pickle\n",
        "import os\n",
        "import random\n",
        "import numpy as np\n",
        "import torch\n",
        "import time\n",
        "import requests\n",
        "import tqdm\n",
        "import pyzstd\n",
        "import re\n",
        "import yaml\n",
        "\n",
        "\n",
        "class Config:\n",
        "\n",
        "    def __init__(self, config_dict):\n",
        "        for key, value in config_dict.items():\n",
        "            setattr(self, key, value)\n",
        "\n",
        "\n",
        "def parse_args(cfg_file_path):\n",
        "\n",
        "    with open(cfg_file_path, 'r') as f:\n",
        "        cfg_dict = yaml.safe_load(f)\n",
        "\n",
        "    cfg = Config(cfg_dict)\n",
        "\n",
        "    return cfg\n",
        "\n",
        "\n",
        "def seed_everything(seed: int):\n",
        "\n",
        "    random.seed(seed)\n",
        "    os.environ['PYTHONHASHSEED'] = str(seed)\n",
        "    np.random.seed(seed)\n",
        "    torch.manual_seed(seed)\n",
        "    torch.cuda.manual_seed(seed)\n",
        "    torch.cuda.manual_seed_all(seed)\n",
        "    torch.backends.cudnn.deterministic = True\n",
        "    torch.backends.cudnn.benchmark = False\n",
        "\n",
        "\n",
        "def delete_file(filename):\n",
        "\n",
        "    if os.path.exists(filename):\n",
        "        os.remove(filename)\n",
        "        print(f\"Data {filename} has been deleted.\")\n",
        "    else:\n",
        "        print(f\"The file '{filename}' does not exist.\")\n",
        "\n",
        "\n",
        "def readable_num(num):\n",
        "\n",
        "    if num >= 1e9:  # if parameters are in the billions\n",
        "        return f'{num / 1e9:.2f}B'\n",
        "    elif num >= 1e6:  # if parameters are in the millions\n",
        "        return f'{num / 1e6:.2f}M'\n",
        "    elif num >= 1e3:  # if parameters are in the thousands\n",
        "        return f'{num / 1e3:.2f}K'\n",
        "    else:\n",
        "        return str(num)\n",
        "\n",
        "\n",
        "def readable_time(elapsed_time):\n",
        "\n",
        "    hours, rem = divmod(elapsed_time, 3600)\n",
        "    minutes, seconds = divmod(rem, 60)\n",
        "\n",
        "    if hours > 0:\n",
        "        return f\"{int(hours)}h {int(minutes)}m {seconds:.2f}s\"\n",
        "    elif minutes > 0:\n",
        "        return f\"{int(minutes)}m {seconds:.2f}s\"\n",
        "    else:\n",
        "        return f\"{seconds:.2f}s\"\n",
        "\n",
        "\n",
        "def count_parameters(model):\n",
        "\n",
        "    total_params = sum(p.numel() for p in model.parameters() if p.requires_grad)\n",
        "\n",
        "    return readable_num(total_params)\n",
        "\n",
        "\n",
        "def create_elo_dict():\n",
        "\n",
        "    inteval = 100\n",
        "    start = 1100\n",
        "    end = 2000\n",
        "\n",
        "    range_dict = {f\"<{start}\": 0}\n",
        "    range_index = 1\n",
        "\n",
        "    for lower_bound in range(start, end - 1, inteval):\n",
        "        upper_bound = lower_bound + inteval\n",
        "        range_dict[f\"{lower_bound}-{upper_bound - 1}\"] = range_index\n",
        "        range_index += 1\n",
        "\n",
        "    range_dict[f\">={end}\"] = range_index\n",
        "\n",
        "    # print(range_dict, flush=True)\n",
        "\n",
        "    return range_dict\n",
        "\n",
        "\n",
        "def map_to_category(elo, elo_dict):\n",
        "\n",
        "    inteval = 100\n",
        "    start = 1100\n",
        "    end = 2000\n",
        "\n",
        "    if elo < start:\n",
        "        return elo_dict[f\"<{start}\"]\n",
        "    elif elo >= end:\n",
        "        return elo_dict[f\">={end}\"]\n",
        "    else:\n",
        "        for lower_bound in range(start, end - 1, inteval):\n",
        "            upper_bound = lower_bound + inteval\n",
        "            if lower_bound <= elo < upper_bound:\n",
        "                return elo_dict[f\"{lower_bound}-{upper_bound - 1}\"]\n",
        "\n",
        "\n",
        "def get_side_info(board, move_uci, all_moves_dict):\n",
        "    move = chess.Move.from_uci(move_uci)\n",
        "\n",
        "    moving_piece = board.piece_at(move.from_square)\n",
        "    captured_piece = board.piece_at(move.to_square)\n",
        "\n",
        "    from_square_encoded = torch.zeros(64)\n",
        "    from_square_encoded[move.from_square] = 1\n",
        "\n",
        "    to_square_encoded = torch.zeros(64)\n",
        "    to_square_encoded[move.to_square] = 1\n",
        "\n",
        "    if move_uci == 'e1g1':\n",
        "        rook_move = chess.Move.from_uci('h1f1')\n",
        "        from_square_encoded[rook_move.from_square] = 1\n",
        "        to_square_encoded[rook_move.to_square] = 1\n",
        "\n",
        "    if move_uci == 'e1c1':\n",
        "        rook_move = chess.Move.from_uci('a1d1')\n",
        "        from_square_encoded[rook_move.from_square] = 1\n",
        "        to_square_encoded[rook_move.to_square] = 1\n",
        "\n",
        "    board.push(move)\n",
        "    is_check = board.is_check()\n",
        "    board.pop()\n",
        "\n",
        "    # Order: Pawn, Knight, Bishop, Rook, Queen, King\n",
        "    side_info = torch.zeros(6 + 6 + 1)\n",
        "    side_info[moving_piece.piece_type - 1] = 1\n",
        "    if move_uci in ['e1g1', 'e1c1']:\n",
        "        side_info[3] = 1\n",
        "    if captured_piece:\n",
        "        side_info[6 + captured_piece.piece_type - 1] = 1\n",
        "    if is_check:\n",
        "        side_info[-1] = 1\n",
        "\n",
        "    legal_moves = torch.zeros(len(all_moves_dict))\n",
        "    legal_moves_idx = torch.tensor([all_moves_dict[move.uci()] for move in board.legal_moves])\n",
        "    legal_moves[legal_moves_idx] = 1\n",
        "\n",
        "    side_info = torch.cat([side_info, from_square_encoded, to_square_encoded, legal_moves], dim=0)\n",
        "\n",
        "    return legal_moves, side_info\n",
        "\n",
        "\n",
        "def extract_clock_time(comment):\n",
        "\n",
        "    match = re.search(r'\\[%clk (\\d+):(\\d+):(\\d+)\\]', comment)\n",
        "    if match:\n",
        "        hours, minutes, seconds = map(int, match.groups())\n",
        "        return hours * 3600 + minutes * 60 + seconds\n",
        "    return None\n",
        "\n",
        "\n",
        "def read_or_create_chunks(pgn_path, cfg):\n",
        "\n",
        "    cache_file = pgn_path.replace('.pgn', '_chunks.pkl')\n",
        "\n",
        "    if os.path.exists(cache_file):\n",
        "        print(f\"Loading cached chunks from {cache_file}\")\n",
        "        with open(cache_file, 'rb') as f:\n",
        "            pgn_chunks = pickle.load(f)\n",
        "    else:\n",
        "        print(f\"Cache not found. Creating chunks for {pgn_path}\")\n",
        "        start_time = time.time()\n",
        "        pgn_chunks = get_chunks(pgn_path, cfg.chunk_size)\n",
        "        print(f'Chunking took {readable_time(time.time() - start_time)}', flush=True)\n",
        "\n",
        "        with open(cache_file, 'wb') as f:\n",
        "            pickle.dump(pgn_chunks, f)\n",
        "\n",
        "    return pgn_chunks\n",
        "\n",
        "\n",
        "def board_to_tensor(board):\n",
        "\n",
        "    piece_types = [chess.PAWN, chess.KNIGHT, chess.BISHOP, chess.ROOK, chess.QUEEN, chess.KING]\n",
        "    num_piece_channels = 12  # 6 piece types * 2 colors\n",
        "    additional_channels = 6  # 1 for player's turn, 4 for castling rights, 1 for en passant\n",
        "    tensor = torch.zeros((num_piece_channels + additional_channels, 8, 8), dtype=torch.float32)\n",
        "\n",
        "    # Precompute indices for each piece type\n",
        "    piece_indices = {piece: i for i, piece in enumerate(piece_types)}\n",
        "\n",
        "    # Fill tensor for each piece type\n",
        "    for piece_type in piece_types:\n",
        "        for color in [True, False]:  # True is White, False is Black\n",
        "            piece_map = board.pieces(piece_type, color)\n",
        "            index = piece_indices[piece_type] + (0 if color else 6)\n",
        "            for square in piece_map:\n",
        "                row, col = divmod(square, 8)\n",
        "                tensor[index, row, col] = 1.0\n",
        "\n",
        "    # Player's turn channel (White = 1, Black = 0)\n",
        "    turn_channel = num_piece_channels\n",
        "    if board.turn == chess.WHITE:\n",
        "        tensor[turn_channel, :, :] = 1.0\n",
        "\n",
        "    # Castling rights channels\n",
        "    castling_rights = [board.has_kingside_castling_rights(chess.WHITE),\n",
        "                       board.has_queenside_castling_rights(chess.WHITE),\n",
        "                       board.has_kingside_castling_rights(chess.BLACK),\n",
        "                       board.has_queenside_castling_rights(chess.BLACK)]\n",
        "    for i, has_right in enumerate(castling_rights):\n",
        "        if has_right:\n",
        "            tensor[num_piece_channels + 1 + i, :, :] = 1.0\n",
        "\n",
        "    # En passant target channel\n",
        "    ep_channel = num_piece_channels + 5\n",
        "    if board.ep_square is not None:\n",
        "        row, col = divmod(board.ep_square, 8)\n",
        "        tensor[ep_channel, row, col] = 1.0\n",
        "\n",
        "    return tensor\n",
        "\n",
        "def generate_pawn_promotions():\n",
        "    # Define the promotion rows for both colors and the promotion pieces\n",
        "    # promotion_rows = {'white': '7', 'black': '2'}\n",
        "    promotion_rows = {'white': '7'}\n",
        "    promotion_pieces = ['q', 'r', 'b', 'n']\n",
        "    promotions = []\n",
        "\n",
        "    # Iterate over each color\n",
        "    for color, row in promotion_rows.items():\n",
        "        # Target rows for promotion (8 for white, 1 for black)\n",
        "        target_row = '8' if color == 'white' else '1'\n",
        "\n",
        "        # Each file from 'a' to 'h'\n",
        "        for file in 'abcdefgh':\n",
        "            # Direct move to promotion\n",
        "            for piece in promotion_pieces:\n",
        "                promotions.append(f'{file}{row}{file}{target_row}{piece}')\n",
        "\n",
        "            # Capturing moves to the left and right (if not on the edges of the board)\n",
        "            if file != 'a':\n",
        "                left_file = chr(ord(file) - 1)  # File to the left\n",
        "                for piece in promotion_pieces:\n",
        "                    promotions.append(f'{file}{row}{left_file}{target_row}{piece}')\n",
        "\n",
        "            if file != 'h':\n",
        "                right_file = chr(ord(file) + 1)  # File to the right\n",
        "                for piece in promotion_pieces:\n",
        "                    promotions.append(f'{file}{row}{right_file}{target_row}{piece}')\n",
        "\n",
        "    return promotions\n",
        "\n",
        "\n",
        "def mirror_square(square):\n",
        "\n",
        "    file = square[0]\n",
        "    rank = str(9 - int(square[1]))\n",
        "\n",
        "    return file + rank\n",
        "\n",
        "\n",
        "def mirror_move(move_uci):\n",
        "    # Check if the move is a promotion (length of UCI string will be more than 4)\n",
        "    is_promotion = len(move_uci) > 4\n",
        "\n",
        "    # Extract the start and end squares, and the promotion piece if applicable\n",
        "    start_square = move_uci[:2]\n",
        "    end_square = move_uci[2:4]\n",
        "    promotion_piece = move_uci[4:] if is_promotion else \"\"\n",
        "\n",
        "    # Mirror the start and end squares\n",
        "    mirrored_start = mirror_square(start_square)\n",
        "    mirrored_end = mirror_square(end_square)\n",
        "\n",
        "    # Return the mirrored move, including the promotion piece if applicable\n",
        "    return mirrored_start + mirrored_end + promotion_piece\n",
        "\n",
        "\n",
        "def get_chunks(pgn_path, chunk_size):\n",
        "\n",
        "    chunks = []\n",
        "    with open(pgn_path, 'r', encoding='utf-8') as pgn_file:\n",
        "        while True:\n",
        "            start_pos = pgn_file.tell()\n",
        "            game_count = 0\n",
        "            while game_count < chunk_size:\n",
        "                line = pgn_file.readline()\n",
        "                if not line:\n",
        "                    break\n",
        "                if line[-4:] == \"1-0\\n\" or line[-4:] == \"0-1\\n\":\n",
        "                    game_count += 1\n",
        "                if line[-8:] == \"1/2-1/2\\n\":\n",
        "                    game_count += 1\n",
        "                if line[-2:] == \"*\\n\":\n",
        "                    game_count += 1\n",
        "            line = pgn_file.readline()\n",
        "            if line not in [\"\\n\", \"\"]:\n",
        "                raise ValueError\n",
        "            end_pos = pgn_file.tell()\n",
        "            chunks.append((start_pos, end_pos))\n",
        "            if not line:\n",
        "                break\n",
        "\n",
        "    return chunks\n",
        "\n",
        "\n",
        "def decompress_zst(file_path, decompressed_path):\n",
        "    \"\"\" Decompress a .zst file using pyzstd \"\"\"\n",
        "    with open(file_path, 'rb') as compressed_file, open(decompressed_path, 'wb') as decompressed_file:\n",
        "        pyzstd.decompress_stream(compressed_file, decompressed_file)\n",
        "\n",
        "\n",
        "def get_all_possible_moves():\n",
        "\n",
        "    all_moves = []\n",
        "\n",
        "    for rank in range(8):\n",
        "        for file in range(8):\n",
        "            square = chess.square(file, rank)\n",
        "\n",
        "            board = chess.Board(None)\n",
        "            board.set_piece_at(square, chess.Piece(chess.QUEEN, chess.WHITE))\n",
        "            legal_moves = list(board.legal_moves)\n",
        "            all_moves.extend(legal_moves)\n",
        "\n",
        "            board = chess.Board(None)\n",
        "            board.set_piece_at(square, chess.Piece(chess.KNIGHT, chess.WHITE))\n",
        "            legal_moves = list(board.legal_moves)\n",
        "            all_moves.extend(legal_moves)\n",
        "\n",
        "    all_moves = [all_moves[i].uci() for i in range(len(all_moves))]\n",
        "\n",
        "    pawn_promotions = generate_pawn_promotions()\n",
        "\n",
        "    return all_moves + pawn_promotions\n",
        "\n",
        "\n",
        "def chunks(lst, n):\n",
        "    \"\"\"Yield successive n-sized chunks from lst.\"\"\"\n",
        "    for i in range(0, len(lst), n):\n",
        "        yield lst[i:i + n]"
      ],
      "metadata": {
        "id": "mnnqoP6qPUUH"
      },
      "execution_count": 9,
      "outputs": []
    },
    {
      "cell_type": "code",
      "source": [
        "import torch\n",
        "import torch.nn as nn\n",
        "import pdb\n",
        "import argparse\n",
        "import os\n",
        "from multiprocessing import Process, Queue, cpu_count\n",
        "import time\n",
        "def run(cfg):\n",
        "\n",
        "    print('Configurations:', flush=True)\n",
        "    for arg in vars(cfg):\n",
        "        print(f'\\t{arg}: {getattr(cfg, arg)}', flush=True)\n",
        "    seed_everything(cfg.seed)\n",
        "    num_processes = cpu_count() - cfg.num_cpu_left\n",
        "\n",
        "    save_root = f'/content/drive/MyDrive/ChessEngine/'\n",
        "    if not os.path.exists(save_root):\n",
        "        os.makedirs(save_root)\n",
        "\n",
        "    all_moves = get_all_possible_moves()\n",
        "    all_moves_dict = {move: i for i, move in enumerate(all_moves)}\n",
        "    elo_dict = create_elo_dict()\n",
        "\n",
        "    model = MAIA2Model(len(all_moves), elo_dict, cfg)\n",
        "\n",
        "    print(model, flush=True)\n",
        "    model = model.cuda()\n",
        "    model = nn.DataParallel(model)\n",
        "    criterion_maia = nn.CrossEntropyLoss()\n",
        "    criterion_side_info = nn.BCEWithLogitsLoss()\n",
        "    criterion_value = nn.MSELoss()\n",
        "\n",
        "    optimizer = torch.optim.AdamW(model.parameters(), lr=cfg.lr, weight_decay=cfg.wd)\n",
        "    N_params = count_parameters(model)\n",
        "    print(f'Trainable Parameters: {N_params}', flush=True)\n",
        "\n",
        "    accumulated_samples = 0\n",
        "    accumulated_games = 0\n",
        "\n",
        "    if cfg.from_checkpoint:\n",
        "        formatted_month = f\"{cfg.checkpoint_month:02d}\"\n",
        "        checkpoint = torch.load(save_root + f'epoch_{cfg.checkpoint_epoch}_{cfg.checkpoint_year}-{formatted_month}.pgn.pt')\n",
        "        model.load_state_dict(checkpoint['model_state_dict'])\n",
        "        optimizer.load_state_dict(checkpoint['optimizer_state_dict'])\n",
        "        accumulated_samples = checkpoint['accumulated_samples']\n",
        "        accumulated_games = checkpoint['accumulated_games']\n",
        "\n",
        "    for epoch in range(cfg.max_epochs):\n",
        "\n",
        "        print(f'Epoch {epoch + 1}', flush=True)\n",
        "        pgn_paths = read_monthly_data_path(cfg)\n",
        "\n",
        "        num_file = 0\n",
        "        for pgn_path in pgn_paths:\n",
        "\n",
        "            start_time = time.time()\n",
        "            decompress_zst(pgn_path + '.zst', pgn_path)\n",
        "            print(f'Decompressing {pgn_path} took {readable_time(time.time() - start_time)}', flush=True)\n",
        "\n",
        "            pgn_chunks = read_or_create_chunks(pgn_path, cfg)\n",
        "            print(f'Training {pgn_path} with {len(pgn_chunks)} chunks.', flush=True)\n",
        "\n",
        "            queue = Queue(maxsize=cfg.queue_length)\n",
        "\n",
        "            pgn_chunks_sublists = []\n",
        "            for i in range(0, len(pgn_chunks), num_processes):\n",
        "                pgn_chunks_sublists.append(pgn_chunks[i:i + num_processes])\n",
        "\n",
        "            pgn_chunks_sublist = pgn_chunks_sublists[0]\n",
        "            # For debugging only\n",
        "            # process_chunks(cfg, pgn_path, pgn_chunks_sublist, elo_dict)\n",
        "            worker = Process(target=preprocess_thread, args=(queue, cfg, pgn_path, pgn_chunks_sublist, elo_dict))\n",
        "            worker.start()\n",
        "\n",
        "            num_chunk = 0\n",
        "            offset = 0\n",
        "            while True:\n",
        "                if not queue.empty():\n",
        "                    if offset + 1 < len(pgn_chunks_sublists):\n",
        "                        pgn_chunks_sublist = pgn_chunks_sublists[offset + 1]\n",
        "                        worker = Process(target=preprocess_thread, args=(queue, cfg, pgn_path, pgn_chunks_sublist, elo_dict))\n",
        "                        worker.start()\n",
        "                        offset += 1\n",
        "                    data, game_count, chunk_count = queue.get()\n",
        "                    loss, loss_maia, loss_side_info, loss_value = train_chunks(cfg, data, model, optimizer, all_moves_dict, criterion_maia, criterion_side_info, criterion_value)\n",
        "                    num_chunk += chunk_count\n",
        "                    accumulated_samples += len(data)\n",
        "                    accumulated_games += game_count\n",
        "                    print(f'[{num_chunk}/{len(pgn_chunks)}]', flush=True)\n",
        "                    print(f'[# Positions]: {readable_num(accumulated_samples)}', flush=True)\n",
        "                    print(f'[# Games]: {readable_num(accumulated_games)}', flush=True)\n",
        "                    print(f'[# Loss]: {loss} | [# Loss MAIA]: {loss_maia} | [# Loss Side Info]: {loss_side_info} | [# Loss Value]: {loss_value}', flush=True)\n",
        "                    if num_chunk == len(pgn_chunks):\n",
        "                        break\n",
        "\n",
        "            num_file += 1\n",
        "            print(f'### ({num_file} / {len(pgn_paths)}) Took {readable_time(time.time() - start_time)} to train {pgn_path} with {len(pgn_chunks)} chunks.', flush=True)\n",
        "            os.remove(pgn_path)\n",
        "\n",
        "            torch.save({'model_state_dict': model.state_dict(),\n",
        "                        'optimizer_state_dict': optimizer.state_dict(),\n",
        "                        'accumulated_samples': accumulated_samples,\n",
        "                        'accumulated_games': accumulated_games}, f'{save_root}epoch_{epoch + 1}_{pgn_path[-11:]}.pt')"
      ],
      "metadata": {
        "id": "IP41GR_sPYN2"
      },
      "execution_count": 10,
      "outputs": []
    },
    {
      "cell_type": "code",
      "source": [
        "import chess.pgn\n",
        "import chess\n",
        "import pdb\n",
        "from multiprocessing import Pool, cpu_count, Queue, Process\n",
        "import torch\n",
        "import tqdm\n",
        "import torch.nn as nn\n",
        "import torch.nn.functional as F\n",
        "from tqdm.contrib.concurrent import process_map\n",
        "import os\n",
        "import pandas as pd\n",
        "import time\n",
        "from einops import rearrange\n",
        "\n",
        "\n",
        "def process_chunks(cfg, pgn_path, pgn_chunks, elo_dict):\n",
        "\n",
        "    # process_per_chunk((pgn_chunks[0][0], pgn_chunks[0][1], pgn_path, elo_dict, cfg))\n",
        "\n",
        "    if cfg.verbose:\n",
        "        results = process_map(process_per_chunk, [(start, end, pgn_path, elo_dict, cfg) for start, end in pgn_chunks], max_workers=len(pgn_chunks), chunksize=1)\n",
        "    else:\n",
        "        with Pool(processes=len(pgn_chunks)) as pool:\n",
        "            results = pool.map(process_per_chunk, [(start, end, pgn_path, elo_dict, cfg) for start, end in pgn_chunks])\n",
        "\n",
        "    ret = []\n",
        "    count = 0\n",
        "    list_of_dicts = []\n",
        "    for result, game_count, frequency in results:\n",
        "        ret.extend(result)\n",
        "        count += game_count\n",
        "        list_of_dicts.append(frequency)\n",
        "\n",
        "    total_counts = {}\n",
        "\n",
        "    for d in list_of_dicts:\n",
        "        for key, value in d.items():\n",
        "            total_counts[key] = total_counts.get(key, 0) + value\n",
        "\n",
        "    print(total_counts, flush=True)\n",
        "\n",
        "    return ret, count, len(pgn_chunks)\n",
        "\n",
        "\n",
        "def process_per_game(game, white_elo, black_elo, white_win, cfg):\n",
        "\n",
        "    ret = []\n",
        "\n",
        "    board = game.board()\n",
        "    moves = list(game.mainline_moves())\n",
        "\n",
        "    for i, node in enumerate(game.mainline()):\n",
        "\n",
        "        move = moves[i]\n",
        "\n",
        "        if i >= cfg.first_n_moves:\n",
        "\n",
        "            comment = node.comment\n",
        "            clock_info = extract_clock_time(comment)\n",
        "\n",
        "            if i % 2 == 0:\n",
        "                board_input = board.fen()\n",
        "                move_input = move.uci()\n",
        "                elo_self = white_elo\n",
        "                elo_oppo = black_elo\n",
        "                active_win = white_win\n",
        "\n",
        "            else:\n",
        "                board_input = board.mirror().fen()\n",
        "                move_input = mirror_move(move.uci())\n",
        "                elo_self = black_elo\n",
        "                elo_oppo = white_elo\n",
        "                active_win = - white_win\n",
        "\n",
        "            #if clock_info > cfg.clock_threshold:\n",
        "            ret.append((board_input, move_input, elo_self, elo_oppo, active_win))\n",
        "\n",
        "        board.push(move)\n",
        "        if i == cfg.max_ply:\n",
        "            break\n",
        "\n",
        "    return ret\n",
        "\n",
        "\n",
        "def game_filter(game):\n",
        "\n",
        "    white_elo = game.headers.get(\"WhiteElo\", \"?\")\n",
        "    black_elo = game.headers.get(\"BlackElo\", \"?\")\n",
        "    time_control = game.headers.get(\"TimeControl\", \"?\")\n",
        "    result = game.headers.get(\"Result\", \"?\")\n",
        "    event = game.headers.get(\"Event\", \"?\")\n",
        "\n",
        "    if white_elo == \"?\" or black_elo == \"?\" or time_control == \"?\" or result == \"?\" or event == \"?\":\n",
        "        return\n",
        "\n",
        "    if 'Rated' not in event:\n",
        "        return\n",
        "\n",
        "    if 'Rapid' not in event:\n",
        "        return\n",
        "\n",
        "    #for _, node in enumerate(game.mainline()):\n",
        "        #if 'clk' not in node.comment:\n",
        "            #return\n",
        "\n",
        "    white_elo = int(white_elo)\n",
        "    black_elo = int(black_elo)\n",
        "\n",
        "    if result == '1-0':\n",
        "        white_win = 1\n",
        "    elif result == '0-1':\n",
        "        white_win = -1\n",
        "    elif result == '1/2-1/2':\n",
        "        white_win = 0\n",
        "    else:\n",
        "        return\n",
        "\n",
        "    return game, white_elo, black_elo, white_win\n",
        "\n",
        "\n",
        "def process_per_chunk(args):\n",
        "\n",
        "    start_pos, end_pos, pgn_path, elo_dict, cfg = args\n",
        "\n",
        "    ret = []\n",
        "    game_count = 0\n",
        "\n",
        "    frequency = {}\n",
        "\n",
        "    with open(pgn_path, 'r', encoding='utf-8') as pgn_file:\n",
        "\n",
        "        pgn_file.seek(start_pos)\n",
        "\n",
        "        while pgn_file.tell() < end_pos:\n",
        "\n",
        "            game = chess.pgn.read_game(pgn_file)\n",
        "\n",
        "            if game is None:\n",
        "                break\n",
        "\n",
        "            filtered_game = game_filter(game)\n",
        "            if filtered_game:\n",
        "                game, white_elo, black_elo, white_win = filtered_game\n",
        "                white_elo = map_to_category(white_elo, elo_dict)\n",
        "                black_elo = map_to_category(black_elo, elo_dict)\n",
        "\n",
        "                if white_elo < black_elo:\n",
        "                    range_1, range_2 = black_elo, white_elo\n",
        "                else:\n",
        "                    range_1, range_2 = white_elo, black_elo\n",
        "\n",
        "                freq = frequency.get((range_1, range_2), 0)\n",
        "                if freq >= cfg.max_games_per_elo_range:\n",
        "                    continue\n",
        "\n",
        "                ret_per_game = process_per_game(game, white_elo, black_elo, white_win, cfg)\n",
        "                ret.extend(ret_per_game)\n",
        "                if len(ret_per_game):\n",
        "\n",
        "                    if (range_1, range_2) in frequency:\n",
        "                        frequency[(range_1, range_2)] += 1\n",
        "                    else:\n",
        "                        frequency[(range_1, range_2)] = 1\n",
        "\n",
        "                    game_count += 1\n",
        "\n",
        "    return ret, game_count, frequency\n",
        "\n",
        "\n",
        "class MAIA1Dataset(torch.utils.data.Dataset):\n",
        "\n",
        "    def __init__(self, data, all_moves_dict, elo_dict, cfg):\n",
        "\n",
        "        self.all_moves_dict = all_moves_dict\n",
        "        self.cfg = cfg\n",
        "        self.data = data.values.tolist()\n",
        "        self.elo_dict = elo_dict\n",
        "\n",
        "    def __len__(self):\n",
        "\n",
        "        return len(self.data)\n",
        "\n",
        "    def __getitem__(self, idx):\n",
        "\n",
        "        fen, move, elo_self, elo_oppo, white_active = self.data[idx]\n",
        "\n",
        "        if white_active:\n",
        "            board = chess.Board(fen)\n",
        "        else:\n",
        "            board = chess.Board(fen).mirror()\n",
        "            move = mirror_move(move)\n",
        "\n",
        "        board_input = board_to_tensor(board)\n",
        "        move_input = self.all_moves_dict[move]\n",
        "\n",
        "        elo_self = map_to_category(elo_self, self.elo_dict)\n",
        "        elo_oppo = map_to_category(elo_oppo, self.elo_dict)\n",
        "\n",
        "        legal_moves, side_info = get_side_info(board, move, self.all_moves_dict)\n",
        "\n",
        "        return board_input, move_input, elo_self, elo_oppo, legal_moves, side_info\n",
        "\n",
        "\n",
        "class MAIA2Dataset(torch.utils.data.Dataset):\n",
        "\n",
        "\n",
        "    def __init__(self, data, all_moves_dict, cfg):\n",
        "\n",
        "        self.all_moves_dict = all_moves_dict\n",
        "        self.data = data\n",
        "        self.cfg = cfg\n",
        "\n",
        "    def __len__(self):\n",
        "\n",
        "        return len(self.data)\n",
        "\n",
        "    def __getitem__(self, idx):\n",
        "\n",
        "        board_input, move_uci, elo_self, elo_oppo, active_win = self.data[idx]\n",
        "\n",
        "        board = chess.Board(board_input)\n",
        "        board_input = board_to_tensor(board)\n",
        "\n",
        "        legal_moves, side_info = get_side_info(board, move_uci, self.all_moves_dict)\n",
        "\n",
        "        move_input = self.all_moves_dict[move_uci]\n",
        "\n",
        "        return board_input, move_input, elo_self, elo_oppo, legal_moves, side_info, active_win\n",
        "\n",
        "\n",
        "class BasicBlock(torch.nn.Module):\n",
        "\n",
        "    def __init__(self, in_planes, planes, stride=1):\n",
        "        super(BasicBlock, self).__init__()\n",
        "\n",
        "        mid_planes = planes\n",
        "\n",
        "        self.conv1 = torch.nn.Conv2d(in_planes, mid_planes, kernel_size=3, stride=stride, padding=1, bias=False)\n",
        "        self.bn1 = torch.nn.BatchNorm2d(mid_planes)\n",
        "        self.conv2 = torch.nn.Conv2d(mid_planes, planes, kernel_size=3, stride=1, padding=1, bias=False)\n",
        "        self.bn2 = torch.nn.BatchNorm2d(planes)\n",
        "        self.dropout = nn.Dropout(p=0.5)\n",
        "\n",
        "    def forward(self, x):\n",
        "\n",
        "        out = self.conv1(x)\n",
        "        out = self.bn1(out)\n",
        "        out = F.relu(out)\n",
        "        out = self.dropout(out)\n",
        "\n",
        "        out = self.conv2(out)\n",
        "        out = self.bn2(out)\n",
        "        out += x\n",
        "        out = F.relu(out)\n",
        "\n",
        "        return out\n",
        "\n",
        "\n",
        "class ChessResNet(torch.nn.Module):\n",
        "\n",
        "    def __init__(self, block, cfg):\n",
        "        super(ChessResNet, self).__init__()\n",
        "\n",
        "        self.conv1 = torch.nn.Conv2d(cfg.input_channels, cfg.dim_cnn, kernel_size=3, stride=1, padding=1, bias=False)\n",
        "        self.bn1 = torch.nn.BatchNorm2d(cfg.dim_cnn)\n",
        "        self.layers = self._make_layer(block, cfg.dim_cnn, cfg.num_blocks_cnn)\n",
        "        self.conv_last = torch.nn.Conv2d(cfg.dim_cnn, cfg.vit_length, kernel_size=3, stride=1, padding=1, bias=False)\n",
        "        self.bn_last = torch.nn.BatchNorm2d(cfg.vit_length)\n",
        "\n",
        "    def _make_layer(self, block, planes, num_blocks, stride=1):\n",
        "\n",
        "        layers = []\n",
        "        for _ in range(num_blocks):\n",
        "            layers.append(block(planes, planes, stride))\n",
        "\n",
        "        return torch.nn.Sequential(*layers)\n",
        "\n",
        "    def forward(self, x):\n",
        "\n",
        "        out = F.relu(self.bn1(self.conv1(x)))\n",
        "        out = self.layers(out)\n",
        "        out = self.conv_last(out)\n",
        "        out = self.bn_last(out)\n",
        "\n",
        "        return out\n",
        "\n",
        "\n",
        "class FeedForward(nn.Module):\n",
        "    def __init__(self, dim, hidden_dim, dropout = 0.):\n",
        "        super().__init__()\n",
        "        self.net = nn.Sequential(\n",
        "            nn.LayerNorm(dim),\n",
        "            nn.Linear(dim, hidden_dim),\n",
        "            nn.GELU(),\n",
        "            nn.Dropout(dropout),\n",
        "            nn.Linear(hidden_dim, dim),\n",
        "            nn.Dropout(dropout)\n",
        "        )\n",
        "\n",
        "    def forward(self, x):\n",
        "        return self.net(x)\n",
        "\n",
        "\n",
        "class EloAwareAttention(nn.Module):\n",
        "    def __init__(self, dim, heads=8, dim_head=64, dropout=0., elo_dim=64):\n",
        "        super().__init__()\n",
        "        inner_dim = dim_head * heads\n",
        "        project_out = not (heads == 1 and dim_head == dim)\n",
        "\n",
        "        self.heads = heads\n",
        "        self.scale = dim_head ** -0.5\n",
        "\n",
        "        self.norm = nn.LayerNorm(dim)\n",
        "\n",
        "        self.attend = nn.Softmax(dim=-1)\n",
        "        self.dropout = nn.Dropout(dropout)\n",
        "\n",
        "        self.to_qkv = nn.Linear(dim, inner_dim * 3, bias=False)\n",
        "\n",
        "        self.elo_query = nn.Linear(elo_dim, inner_dim, bias=False)\n",
        "\n",
        "        self.to_out = nn.Sequential(\n",
        "            nn.Linear(inner_dim, dim),\n",
        "            nn.Dropout(dropout)\n",
        "        ) if project_out else nn.Identity()\n",
        "\n",
        "    def forward(self, x, elo_emb):\n",
        "        x = self.norm(x)\n",
        "\n",
        "        qkv = self.to_qkv(x).chunk(3, dim=-1)\n",
        "        q, k, v = map(lambda t: rearrange(t, 'b n (h d) -> b h n d', h=self.heads), qkv)\n",
        "\n",
        "        elo_effect = self.elo_query(elo_emb).view(x.size(0), self.heads, 1, -1)\n",
        "        q = q + elo_effect\n",
        "\n",
        "        dots = torch.matmul(q, k.transpose(-1, -2)) * self.scale\n",
        "\n",
        "        attn = self.attend(dots)\n",
        "        attn = self.dropout(attn)\n",
        "\n",
        "        out = torch.matmul(attn, v)\n",
        "        out = rearrange(out, 'b h n d -> b n (h d)')\n",
        "        return self.to_out(out)\n",
        "\n",
        "\n",
        "class Transformer(nn.Module):\n",
        "    def __init__(self, dim, depth, heads, dim_head, mlp_dim, dropout = 0., elo_dim=64):\n",
        "        super().__init__()\n",
        "        self.norm = nn.LayerNorm(dim)\n",
        "        self.layers = nn.ModuleList([])\n",
        "        self.elo_layers = nn.ModuleList([])\n",
        "        for _ in range(depth):\n",
        "            self.elo_layers.append(nn.ModuleList([\n",
        "                EloAwareAttention(dim, heads = heads, dim_head = dim_head, dropout = dropout, elo_dim = elo_dim),\n",
        "                FeedForward(dim, mlp_dim, dropout = dropout)\n",
        "            ]))\n",
        "\n",
        "    def forward(self, x, elo_emb):\n",
        "        for attn, ff in self.elo_layers:\n",
        "            x = attn(x, elo_emb) + x\n",
        "            x = ff(x) + x\n",
        "\n",
        "        return self.norm(x)\n",
        "\n",
        "\n",
        "class MAIA2Model(torch.nn.Module):\n",
        "\n",
        "    def __init__(self, output_dim, elo_dict, cfg):\n",
        "        super(MAIA2Model, self).__init__()\n",
        "\n",
        "        self.cfg = cfg\n",
        "        self.chess_cnn = ChessResNet(BasicBlock, cfg)\n",
        "\n",
        "        heads = 16\n",
        "        dim_head = 64\n",
        "        self.to_patch_embedding = nn.Sequential(\n",
        "            nn.Linear(8 * 8, cfg.dim_vit),\n",
        "            nn.LayerNorm(cfg.dim_vit),\n",
        "        )\n",
        "        self.transformer = Transformer(cfg.dim_vit, cfg.num_blocks_vit, heads, dim_head, mlp_dim=cfg.dim_vit, dropout = 0.1, elo_dim = cfg.elo_dim * 2)\n",
        "        self.pos_embedding = nn.Parameter(torch.randn(1, cfg.vit_length, cfg.dim_vit))\n",
        "\n",
        "        self.fc_1 = nn.Linear(cfg.dim_vit, output_dim)\n",
        "        # self.fc_1_1 = nn.Linear(cfg.dim_vit, cfg.dim_vit)\n",
        "        self.fc_2 = nn.Linear(cfg.dim_vit, output_dim + 6 + 6 + 1 + 64 + 64)\n",
        "        # self.fc_2_1 = nn.Linear(cfg.dim_vit, cfg.dim_vit)\n",
        "        self.fc_3 = nn.Linear(128, 1)\n",
        "        self.fc_3_1 = nn.Linear(cfg.dim_vit, 128)\n",
        "\n",
        "        self.elo_embedding = torch.nn.Embedding(len(elo_dict), cfg.elo_dim)\n",
        "\n",
        "        self.dropout = nn.Dropout(p=0.1)\n",
        "        self.last_ln = nn.LayerNorm(cfg.dim_vit)\n",
        "\n",
        "\n",
        "    def forward(self, boards, elos_self, elos_oppo):\n",
        "\n",
        "        batch_size = boards.size(0)\n",
        "        boards = boards.view(batch_size, self.cfg.input_channels, 8, 8)\n",
        "        embs = self.chess_cnn(boards)\n",
        "        embs = embs.view(batch_size, embs.size(1), 8 * 8)\n",
        "        x = self.to_patch_embedding(embs)\n",
        "        x += self.pos_embedding\n",
        "        x = self.dropout(x)\n",
        "\n",
        "        elos_emb_self = self.elo_embedding(elos_self)\n",
        "        elos_emb_oppo = self.elo_embedding(elos_oppo)\n",
        "        elos_emb = torch.cat((elos_emb_self, elos_emb_oppo), dim=1)\n",
        "        x = self.transformer(x, elos_emb).mean(dim=1)\n",
        "\n",
        "        x = self.last_ln(x)\n",
        "\n",
        "        logits_maia = self.fc_1(x)\n",
        "        logits_side_info = self.fc_2(x)\n",
        "        logits_value = self.fc_3(self.dropout(torch.relu(self.fc_3_1(x)))).squeeze(dim=-1)\n",
        "\n",
        "        return logits_maia, logits_side_info, logits_value\n",
        "\n",
        "\n",
        "def read_monthly_data_path(cfg):\n",
        "\n",
        "    print('Training Data:', flush=True)\n",
        "    pgn_paths = []\n",
        "\n",
        "    for year in range(cfg.start_year, cfg.end_year + 1):\n",
        "        start_month = cfg.start_month if year == cfg.start_year else 1\n",
        "        end_month = cfg.end_month if year == cfg.end_year else 12\n",
        "\n",
        "        for month in range(start_month, end_month + 1):\n",
        "            formatted_month = f\"{month:02d}\"\n",
        "            pgn_path = cfg.data_root + f\"/lichess_db_standard_rated_{year}-{formatted_month}.pgn\"\n",
        "            # skip 2019-12\n",
        "            if year == 2019 and month == 12:\n",
        "                continue\n",
        "            print(pgn_path, flush=True)\n",
        "            pgn_paths.append(pgn_path)\n",
        "\n",
        "    return pgn_paths\n",
        "\n",
        "\n",
        "def evaluate(model, dataloader):\n",
        "\n",
        "    counter = 0\n",
        "    correct_move = 0\n",
        "\n",
        "    model.eval()\n",
        "    with torch.no_grad():\n",
        "\n",
        "        for boards, labels, elos_self, elos_oppo, legal_moves, side_info in dataloader:\n",
        "\n",
        "            boards = boards.cuda()\n",
        "            labels = labels.cuda()\n",
        "            elos_self = elos_self.cuda()\n",
        "            elos_oppo = elos_oppo.cuda()\n",
        "            legal_moves = legal_moves.cuda()\n",
        "\n",
        "            logits_maia, logits_side_info, logits_value = model(boards, elos_self, elos_oppo)\n",
        "            logits_maia_legal = logits_maia * legal_moves\n",
        "            preds = logits_maia_legal.argmax(dim=-1)\n",
        "            correct_move += (preds == labels).sum().item()\n",
        "\n",
        "            counter += len(labels)\n",
        "\n",
        "    return correct_move, counter\n",
        "\n",
        "\n",
        "def evaluate_MAIA1_data(model, all_moves_dict, elo_dict, cfg, tiny=False):\n",
        "\n",
        "    elo_list = range(1000, 2600, 100)\n",
        "\n",
        "    for i in elo_list:\n",
        "        start = i\n",
        "        end = i + 100\n",
        "        file_path = f\"../data/test/KDDTest_{start}-{end}.csv\"\n",
        "        data = pd.read_csv(file_path)\n",
        "        data = data[data.type == 'Rapid'][['board', 'move', 'active_elo', 'opponent_elo', 'white_active']]\n",
        "        dataset = MAIA1Dataset(data, all_moves_dict, elo_dict, cfg)\n",
        "        dataloader = torch.utils.data.DataLoader(dataset,\n",
        "                                                batch_size=cfg.batch_size,\n",
        "                                                shuffle=False,\n",
        "                                                drop_last=False,\n",
        "                                                num_workers=cfg.num_workers)\n",
        "        if cfg.verbose:\n",
        "            dataloader = tqdm.tqdm(dataloader)\n",
        "        print(f'Testing Elo Range {start}-{end} with MAIA 1 data:', flush=True)\n",
        "        correct_move, counter = evaluate(model, dataloader)\n",
        "        print(f'Accuracy Move Prediction: {round(correct_move / counter, 4)}', flush=True)\n",
        "        if tiny:\n",
        "            break\n",
        "\n",
        "\n",
        "def train_chunks(cfg, data, model, optimizer, all_moves_dict, criterion_maia, criterion_side_info, criterion_value):\n",
        "\n",
        "    dataset_train = MAIA2Dataset(data, all_moves_dict, cfg)\n",
        "    dataloader_train = torch.utils.data.DataLoader(dataset_train,\n",
        "                                                    batch_size=cfg.batch_size,\n",
        "                                                    shuffle=True,\n",
        "                                                    drop_last=False,\n",
        "                                                    num_workers=cfg.num_workers)\n",
        "    if cfg.verbose:\n",
        "        dataloader_train = tqdm.tqdm(dataloader_train)\n",
        "\n",
        "    avg_loss = 0\n",
        "    avg_loss_maia = 0\n",
        "    avg_loss_side_info = 0\n",
        "    avg_loss_value = 0\n",
        "    step = 0\n",
        "    for boards, labels, elos_self, elos_oppo, legal_moves, side_info, wdl in dataloader_train:\n",
        "\n",
        "        model.train()\n",
        "        boards = boards.cuda()\n",
        "        labels = labels.cuda()\n",
        "        elos_self = elos_self.cuda()\n",
        "        elos_oppo = elos_oppo.cuda()\n",
        "        side_info = side_info.cuda()\n",
        "        wdl = wdl.float().cuda()\n",
        "\n",
        "        logits_maia, logits_side_info, logits_value = model(boards, elos_self, elos_oppo)\n",
        "\n",
        "        loss = 0\n",
        "        loss_maia = criterion_maia(logits_maia, labels)\n",
        "        loss += loss_maia\n",
        "\n",
        "        if cfg.side_info:\n",
        "\n",
        "            loss_side_info = criterion_side_info(logits_side_info, side_info) * cfg.side_info_coefficient\n",
        "            loss += loss_side_info\n",
        "\n",
        "        if cfg.value:\n",
        "            loss_value = criterion_value(logits_value, wdl) * cfg.value_coefficient\n",
        "            loss += loss_value\n",
        "\n",
        "        optimizer.zero_grad()\n",
        "        loss.backward()\n",
        "        optimizer.step()\n",
        "\n",
        "        avg_loss += loss.item()\n",
        "        avg_loss_maia += loss_maia.item()\n",
        "        if cfg.side_info:\n",
        "            avg_loss_side_info += loss_side_info.item()\n",
        "        if cfg.value:\n",
        "            avg_loss_value += loss_value.item()\n",
        "        step += 1\n",
        "\n",
        "    return round(avg_loss / step, 3), round(avg_loss_maia / step, 3), round(avg_loss_side_info / step, 3), round(avg_loss_value / step, 3)\n",
        "\n",
        "\n",
        "def preprocess_thread(queue, cfg, pgn_path, pgn_chunks_sublist, elo_dict):\n",
        "\n",
        "    data, game_count, chunk_count = process_chunks(cfg, pgn_path, pgn_chunks_sublist, elo_dict)\n",
        "    queue.put([data, game_count, chunk_count])\n",
        "    del data\n",
        "\n",
        "\n",
        "def worker_wrapper(semaphore, *args, **kwargs):\n",
        "    with semaphore:\n",
        "        preprocess_thread(*args, **kwargs)\n"
      ],
      "metadata": {
        "id": "vO8BZ7enPyqR"
      },
      "execution_count": 15,
      "outputs": []
    },
    {
      "cell_type": "code",
      "source": [
        "cfg = parse_args(cfg_file_path=\"/content/drive/MyDrive/ChessEngine/config.yaml\")\n",
        "run(cfg)"
      ],
      "metadata": {
        "id": "GThrvzH9P2br",
        "outputId": "e21e922d-db0a-409b-faa6-e0b04eefe4a6",
        "colab": {
          "base_uri": "https://localhost:8080/",
          "height": 1000
        }
      },
      "execution_count": 16,
      "outputs": [
        {
          "output_type": "stream",
          "name": "stdout",
          "text": [
            "Configurations:\n",
            "\tdata_root: /content/drive/MyDrive/ChessEngine\n",
            "\tseed: 42\n",
            "\tnum_workers: 16\n",
            "\tverbose: 1\n",
            "\tmax_epochs: 3\n",
            "\tmax_ply: 300\n",
            "\tclock_threshold: 30\n",
            "\tchunk_size: 250\n",
            "\tstart_year: 2025\n",
            "\tstart_month: 1\n",
            "\tend_year: 2025\n",
            "\tend_month: 6\n",
            "\tfrom_checkpoint: False\n",
            "\tcheckpoint_epoch: 0\n",
            "\tcheckpoint_year: 2025\n",
            "\tcheckpoint_month: 8\n",
            "\tnum_cpu_left: 0\n",
            "\tqueue_length: 1\n",
            "\tlr: 0.0001\n",
            "\twd: 1e-05\n",
            "\tbatch_size: 8192\n",
            "\tfirst_n_moves: 10\n",
            "\tlast_n_moves: 10\n",
            "\tdim_cnn: 256\n",
            "\tdim_vit: 1024\n",
            "\tnum_blocks_cnn: 5\n",
            "\tnum_blocks_vit: 2\n",
            "\tinput_channels: 18\n",
            "\tvit_length: 8\n",
            "\telo_dim: 128\n",
            "\tside_info: True\n",
            "\tside_info_coefficient: 1.0\n",
            "\tvalue: True\n",
            "\tvalue_coefficient: 1.0\n",
            "\tmax_games_per_elo_range: 50000\n",
            "MAIA2Model(\n",
            "  (chess_cnn): ChessResNet(\n",
            "    (conv1): Conv2d(18, 256, kernel_size=(3, 3), stride=(1, 1), padding=(1, 1), bias=False)\n",
            "    (bn1): BatchNorm2d(256, eps=1e-05, momentum=0.1, affine=True, track_running_stats=True)\n",
            "    (layers): Sequential(\n",
            "      (0): BasicBlock(\n",
            "        (conv1): Conv2d(256, 256, kernel_size=(3, 3), stride=(1, 1), padding=(1, 1), bias=False)\n",
            "        (bn1): BatchNorm2d(256, eps=1e-05, momentum=0.1, affine=True, track_running_stats=True)\n",
            "        (conv2): Conv2d(256, 256, kernel_size=(3, 3), stride=(1, 1), padding=(1, 1), bias=False)\n",
            "        (bn2): BatchNorm2d(256, eps=1e-05, momentum=0.1, affine=True, track_running_stats=True)\n",
            "        (dropout): Dropout(p=0.5, inplace=False)\n",
            "      )\n",
            "      (1): BasicBlock(\n",
            "        (conv1): Conv2d(256, 256, kernel_size=(3, 3), stride=(1, 1), padding=(1, 1), bias=False)\n",
            "        (bn1): BatchNorm2d(256, eps=1e-05, momentum=0.1, affine=True, track_running_stats=True)\n",
            "        (conv2): Conv2d(256, 256, kernel_size=(3, 3), stride=(1, 1), padding=(1, 1), bias=False)\n",
            "        (bn2): BatchNorm2d(256, eps=1e-05, momentum=0.1, affine=True, track_running_stats=True)\n",
            "        (dropout): Dropout(p=0.5, inplace=False)\n",
            "      )\n",
            "      (2): BasicBlock(\n",
            "        (conv1): Conv2d(256, 256, kernel_size=(3, 3), stride=(1, 1), padding=(1, 1), bias=False)\n",
            "        (bn1): BatchNorm2d(256, eps=1e-05, momentum=0.1, affine=True, track_running_stats=True)\n",
            "        (conv2): Conv2d(256, 256, kernel_size=(3, 3), stride=(1, 1), padding=(1, 1), bias=False)\n",
            "        (bn2): BatchNorm2d(256, eps=1e-05, momentum=0.1, affine=True, track_running_stats=True)\n",
            "        (dropout): Dropout(p=0.5, inplace=False)\n",
            "      )\n",
            "      (3): BasicBlock(\n",
            "        (conv1): Conv2d(256, 256, kernel_size=(3, 3), stride=(1, 1), padding=(1, 1), bias=False)\n",
            "        (bn1): BatchNorm2d(256, eps=1e-05, momentum=0.1, affine=True, track_running_stats=True)\n",
            "        (conv2): Conv2d(256, 256, kernel_size=(3, 3), stride=(1, 1), padding=(1, 1), bias=False)\n",
            "        (bn2): BatchNorm2d(256, eps=1e-05, momentum=0.1, affine=True, track_running_stats=True)\n",
            "        (dropout): Dropout(p=0.5, inplace=False)\n",
            "      )\n",
            "      (4): BasicBlock(\n",
            "        (conv1): Conv2d(256, 256, kernel_size=(3, 3), stride=(1, 1), padding=(1, 1), bias=False)\n",
            "        (bn1): BatchNorm2d(256, eps=1e-05, momentum=0.1, affine=True, track_running_stats=True)\n",
            "        (conv2): Conv2d(256, 256, kernel_size=(3, 3), stride=(1, 1), padding=(1, 1), bias=False)\n",
            "        (bn2): BatchNorm2d(256, eps=1e-05, momentum=0.1, affine=True, track_running_stats=True)\n",
            "        (dropout): Dropout(p=0.5, inplace=False)\n",
            "      )\n",
            "    )\n",
            "    (conv_last): Conv2d(256, 8, kernel_size=(3, 3), stride=(1, 1), padding=(1, 1), bias=False)\n",
            "    (bn_last): BatchNorm2d(8, eps=1e-05, momentum=0.1, affine=True, track_running_stats=True)\n",
            "  )\n",
            "  (to_patch_embedding): Sequential(\n",
            "    (0): Linear(in_features=64, out_features=1024, bias=True)\n",
            "    (1): LayerNorm((1024,), eps=1e-05, elementwise_affine=True)\n",
            "  )\n",
            "  (transformer): Transformer(\n",
            "    (norm): LayerNorm((1024,), eps=1e-05, elementwise_affine=True)\n",
            "    (layers): ModuleList()\n",
            "    (elo_layers): ModuleList(\n",
            "      (0-1): 2 x ModuleList(\n",
            "        (0): EloAwareAttention(\n",
            "          (norm): LayerNorm((1024,), eps=1e-05, elementwise_affine=True)\n",
            "          (attend): Softmax(dim=-1)\n",
            "          (dropout): Dropout(p=0.1, inplace=False)\n",
            "          (to_qkv): Linear(in_features=1024, out_features=3072, bias=False)\n",
            "          (elo_query): Linear(in_features=256, out_features=1024, bias=False)\n",
            "          (to_out): Sequential(\n",
            "            (0): Linear(in_features=1024, out_features=1024, bias=True)\n",
            "            (1): Dropout(p=0.1, inplace=False)\n",
            "          )\n",
            "        )\n",
            "        (1): FeedForward(\n",
            "          (net): Sequential(\n",
            "            (0): LayerNorm((1024,), eps=1e-05, elementwise_affine=True)\n",
            "            (1): Linear(in_features=1024, out_features=1024, bias=True)\n",
            "            (2): GELU(approximate='none')\n",
            "            (3): Dropout(p=0.1, inplace=False)\n",
            "            (4): Linear(in_features=1024, out_features=1024, bias=True)\n",
            "            (5): Dropout(p=0.1, inplace=False)\n",
            "          )\n",
            "        )\n",
            "      )\n",
            "    )\n",
            "  )\n",
            "  (fc_1): Linear(in_features=1024, out_features=1880, bias=True)\n",
            "  (fc_2): Linear(in_features=1024, out_features=2021, bias=True)\n",
            "  (fc_3): Linear(in_features=128, out_features=1, bias=True)\n",
            "  (fc_3_1): Linear(in_features=1024, out_features=128, bias=True)\n",
            "  (elo_embedding): Embedding(11, 128)\n",
            "  (dropout): Dropout(p=0.1, inplace=False)\n",
            "  (last_ln): LayerNorm((1024,), eps=1e-05, elementwise_affine=True)\n",
            ")\n",
            "Trainable Parameters: 23.30M\n",
            "Epoch 1\n",
            "Training Data:\n",
            "/content/drive/MyDrive/ChessEngine/lichess_db_standard_rated_2025-01.pgn\n",
            "/content/drive/MyDrive/ChessEngine/lichess_db_standard_rated_2025-02.pgn\n",
            "/content/drive/MyDrive/ChessEngine/lichess_db_standard_rated_2025-03.pgn\n",
            "/content/drive/MyDrive/ChessEngine/lichess_db_standard_rated_2025-04.pgn\n",
            "/content/drive/MyDrive/ChessEngine/lichess_db_standard_rated_2025-05.pgn\n",
            "/content/drive/MyDrive/ChessEngine/lichess_db_standard_rated_2025-06.pgn\n",
            "Decompressing /content/drive/MyDrive/ChessEngine/lichess_db_standard_rated_2025-01.pgn took 1.31s\n",
            "Loading cached chunks from /content/drive/MyDrive/ChessEngine/lichess_db_standard_rated_2025-01_chunks.pkl\n",
            "Training /content/drive/MyDrive/ChessEngine/lichess_db_standard_rated_2025-01.pgn with 1241 chunks.\n",
            "{(10, 10): 272}\n"
          ]
        },
        {
          "output_type": "stream",
          "name": "stderr",
          "text": [
            "\r  0%|          | 0/4 [00:00<?, ?it/s]"
          ]
        },
        {
          "output_type": "stream",
          "name": "stdout",
          "text": [
            "{(10, 10): 254}\n"
          ]
        },
        {
          "output_type": "stream",
          "name": "stderr",
          "text": [
            "100%|██████████| 4/4 [00:09<00:00,  2.49s/it]"
          ]
        },
        {
          "output_type": "stream",
          "name": "stdout",
          "text": [
            "[12/1241]\n",
            "[# Positions]: 26.98K\n",
            "[# Games]: 272\n",
            "[# Loss]: 9.168 | [# Loss MAIA]: 7.608 | [# Loss Side Info]: 0.697 | [# Loss Value]: 0.863\n"
          ]
        },
        {
          "output_type": "stream",
          "name": "stderr",
          "text": [
            "\n",
            "  0%|          | 0/4 [00:00<?, ?it/s]"
          ]
        },
        {
          "output_type": "stream",
          "name": "stdout",
          "text": [
            "{(10, 10): 172}\n"
          ]
        },
        {
          "output_type": "stream",
          "name": "stderr",
          "text": [
            "100%|██████████| 4/4 [00:07<00:00,  1.94s/it]"
          ]
        },
        {
          "output_type": "stream",
          "name": "stdout",
          "text": [
            "[24/1241]\n",
            "[# Positions]: 52.65K\n",
            "[# Games]: 526\n",
            "[# Loss]: 8.572 | [# Loss MAIA]: 7.276 | [# Loss Side Info]: 0.59 | [# Loss Value]: 0.706\n"
          ]
        },
        {
          "output_type": "stream",
          "name": "stderr",
          "text": [
            "\n",
            "  0%|          | 0/3 [00:00<?, ?it/s]"
          ]
        },
        {
          "output_type": "stream",
          "name": "stdout",
          "text": [
            "{(10, 10): 315}\n"
          ]
        },
        {
          "output_type": "stream",
          "name": "stderr",
          "text": [
            "100%|██████████| 3/3 [00:07<00:00,  2.37s/it]"
          ]
        },
        {
          "output_type": "stream",
          "name": "stdout",
          "text": [
            "[36/1241]\n",
            "[# Positions]: 70.20K\n",
            "[# Games]: 698\n",
            "[# Loss]: 8.227 | [# Loss MAIA]: 7.027 | [# Loss Side Info]: 0.485 | [# Loss Value]: 0.715\n"
          ]
        },
        {
          "output_type": "stream",
          "name": "stderr",
          "text": [
            "\n",
            "  0%|          | 0/5 [00:00<?, ?it/s]"
          ]
        },
        {
          "output_type": "stream",
          "name": "stdout",
          "text": [
            "{(10, 10): 240}\n"
          ]
        },
        {
          "output_type": "stream",
          "name": "stderr",
          "text": [
            "100%|██████████| 5/5 [00:08<00:00,  1.77s/it]"
          ]
        },
        {
          "output_type": "stream",
          "name": "stdout",
          "text": [
            "[48/1241]\n",
            "[# Positions]: 105.55K\n",
            "[# Games]: 1.01K\n",
            "[# Loss]: 7.883 | [# Loss MAIA]: 6.882 | [# Loss Side Info]: 0.385 | [# Loss Value]: 0.616\n"
          ]
        },
        {
          "output_type": "stream",
          "name": "stderr",
          "text": [
            "\n",
            "  0%|          | 0/4 [00:00<?, ?it/s]"
          ]
        },
        {
          "output_type": "stream",
          "name": "stdout",
          "text": [
            "{(10, 10): 233}\n"
          ]
        },
        {
          "output_type": "stream",
          "name": "stderr",
          "text": [
            "100%|██████████| 4/4 [00:07<00:00,  1.97s/it]"
          ]
        },
        {
          "output_type": "stream",
          "name": "stdout",
          "text": [
            "[60/1241]\n",
            "[# Positions]: 130.37K\n",
            "[# Games]: 1.25K\n",
            "[# Loss]: 7.71 | [# Loss MAIA]: 6.728 | [# Loss Side Info]: 0.298 | [# Loss Value]: 0.684\n"
          ]
        },
        {
          "output_type": "stream",
          "name": "stderr",
          "text": [
            "\n",
            "  0%|          | 0/3 [00:00<?, ?it/s]"
          ]
        },
        {
          "output_type": "stream",
          "name": "stdout",
          "text": [
            "{(10, 10): 259}\n"
          ]
        },
        {
          "output_type": "stream",
          "name": "stderr",
          "text": [
            "100%|██████████| 3/3 [00:07<00:00,  2.55s/it]"
          ]
        },
        {
          "output_type": "stream",
          "name": "stdout",
          "text": [
            "[72/1241]\n",
            "[# Positions]: 152.14K\n",
            "[# Games]: 1.49K\n",
            "[# Loss]: 7.641 | [# Loss MAIA]: 6.681 | [# Loss Side Info]: 0.246 | [# Loss Value]: 0.714\n"
          ]
        },
        {
          "output_type": "stream",
          "name": "stderr",
          "text": [
            "\n",
            "  0%|          | 0/4 [00:00<?, ?it/s]"
          ]
        },
        {
          "output_type": "stream",
          "name": "stdout",
          "text": [
            "{(10, 10): 333}\n"
          ]
        },
        {
          "output_type": "stream",
          "name": "stderr",
          "text": [
            "100%|██████████| 4/4 [00:08<00:00,  2.06s/it]"
          ]
        },
        {
          "output_type": "stream",
          "name": "stdout",
          "text": [
            "[84/1241]\n",
            "[# Positions]: 179.72K\n",
            "[# Games]: 1.75K\n",
            "[# Loss]: 7.534 | [# Loss MAIA]: 6.671 | [# Loss Side Info]: 0.206 | [# Loss Value]: 0.657\n"
          ]
        },
        {
          "output_type": "stream",
          "name": "stderr",
          "text": [
            "\n",
            "  0%|          | 0/5 [00:00<?, ?it/s]"
          ]
        },
        {
          "output_type": "stream",
          "name": "stdout",
          "text": [
            "{(10, 10): 224}\n"
          ]
        },
        {
          "output_type": "stream",
          "name": "stderr",
          "text": [
            "100%|██████████| 5/5 [00:08<00:00,  1.76s/it]"
          ]
        },
        {
          "output_type": "stream",
          "name": "stdout",
          "text": [
            "[96/1241]\n",
            "[# Positions]: 212.95K\n",
            "[# Games]: 2.08K\n",
            "[# Loss]: 7.447 | [# Loss MAIA]: 6.609 | [# Loss Side Info]: 0.169 | [# Loss Value]: 0.669\n"
          ]
        },
        {
          "output_type": "stream",
          "name": "stderr",
          "text": [
            "\n",
            "  0%|          | 0/3 [00:00<?, ?it/s]"
          ]
        },
        {
          "output_type": "stream",
          "name": "stdout",
          "text": [
            "{(10, 10): 224}\n"
          ]
        },
        {
          "output_type": "stream",
          "name": "stderr",
          "text": [
            "100%|██████████| 3/3 [00:07<00:00,  2.54s/it]"
          ]
        },
        {
          "output_type": "stream",
          "name": "stdout",
          "text": [
            "[108/1241]\n",
            "[# Positions]: 235.92K\n",
            "[# Games]: 2.30K\n",
            "[# Loss]: 7.388 | [# Loss MAIA]: 6.623 | [# Loss Side Info]: 0.149 | [# Loss Value]: 0.616\n"
          ]
        },
        {
          "output_type": "stream",
          "name": "stderr",
          "text": [
            "\n",
            "  0%|          | 0/3 [00:00<?, ?it/s]"
          ]
        },
        {
          "output_type": "stream",
          "name": "stdout",
          "text": [
            "{(10, 10): 350}\n"
          ]
        },
        {
          "output_type": "stream",
          "name": "stderr",
          "text": [
            "100%|██████████| 3/3 [00:07<00:00,  2.58s/it]"
          ]
        },
        {
          "output_type": "stream",
          "name": "stdout",
          "text": [
            "[120/1241]\n",
            "[# Positions]: 259.74K\n",
            "[# Games]: 2.53K\n",
            "[# Loss]: 7.331 | [# Loss MAIA]: 6.579 | [# Loss Side Info]: 0.138 | [# Loss Value]: 0.615\n"
          ]
        },
        {
          "output_type": "stream",
          "name": "stderr",
          "text": [
            "\n",
            "  0%|          | 0/5 [00:00<?, ?it/s]"
          ]
        },
        {
          "output_type": "stream",
          "name": "stdout",
          "text": [
            "{(10, 10): 268}\n"
          ]
        },
        {
          "output_type": "stream",
          "name": "stderr",
          "text": [
            "100%|██████████| 5/5 [00:08<00:00,  1.79s/it]"
          ]
        },
        {
          "output_type": "stream",
          "name": "stdout",
          "text": [
            "[132/1241]\n",
            "[# Positions]: 294.87K\n",
            "[# Games]: 2.88K\n",
            "[# Loss]: 7.332 | [# Loss MAIA]: 6.569 | [# Loss Side Info]: 0.126 | [# Loss Value]: 0.637\n"
          ]
        },
        {
          "output_type": "stream",
          "name": "stderr",
          "text": [
            "\n",
            "  0%|          | 0/4 [00:00<?, ?it/s]"
          ]
        },
        {
          "output_type": "stream",
          "name": "stdout",
          "text": [
            "{(10, 10): 167}\n"
          ]
        },
        {
          "output_type": "stream",
          "name": "stderr",
          "text": [
            "100%|██████████| 4/4 [00:08<00:00,  2.04s/it]"
          ]
        },
        {
          "output_type": "stream",
          "name": "stdout",
          "text": [
            "[144/1241]\n",
            "[# Positions]: 322.52K\n",
            "[# Games]: 3.14K\n",
            "[# Loss]: 7.314 | [# Loss MAIA]: 6.546 | [# Loss Side Info]: 0.112 | [# Loss Value]: 0.656\n"
          ]
        },
        {
          "output_type": "stream",
          "name": "stderr",
          "text": [
            "\n",
            "  0%|          | 0/3 [00:00<?, ?it/s]"
          ]
        },
        {
          "output_type": "stream",
          "name": "stdout",
          "text": [
            "{(10, 10): 261}\n"
          ]
        },
        {
          "output_type": "stream",
          "name": "stderr",
          "text": [
            "100%|██████████| 3/3 [00:06<00:00,  2.33s/it]"
          ]
        },
        {
          "output_type": "stream",
          "name": "stdout",
          "text": [
            "[156/1241]\n",
            "[# Positions]: 338.96K\n",
            "[# Games]: 3.31K\n",
            "[# Loss]: 7.28 | [# Loss MAIA]: 6.585 | [# Loss Side Info]: 0.107 | [# Loss Value]: 0.588\n"
          ]
        },
        {
          "output_type": "stream",
          "name": "stderr",
          "text": [
            "\n",
            "  0%|          | 0/4 [00:00<?, ?it/s]"
          ]
        },
        {
          "output_type": "stream",
          "name": "stdout",
          "text": [
            "{(10, 10): 257}\n"
          ]
        },
        {
          "output_type": "stream",
          "name": "stderr",
          "text": [
            "100%|██████████| 4/4 [00:08<00:00,  2.04s/it]"
          ]
        },
        {
          "output_type": "stream",
          "name": "stdout",
          "text": [
            "[168/1241]\n",
            "[# Positions]: 365.93K\n",
            "[# Games]: 3.57K\n",
            "[# Loss]: 7.305 | [# Loss MAIA]: 6.509 | [# Loss Side Info]: 0.102 | [# Loss Value]: 0.693\n"
          ]
        },
        {
          "output_type": "stream",
          "name": "stderr",
          "text": [
            "\n",
            "  0%|          | 0/4 [00:00<?, ?it/s]"
          ]
        },
        {
          "output_type": "stream",
          "name": "stdout",
          "text": [
            "{(10, 10): 220}\n"
          ]
        },
        {
          "output_type": "stream",
          "name": "stderr",
          "text": [
            "100%|██████████| 4/4 [00:08<00:00,  2.05s/it]"
          ]
        },
        {
          "output_type": "stream",
          "name": "stdout",
          "text": [
            "[180/1241]\n",
            "[# Positions]: 393.17K\n",
            "[# Games]: 3.83K\n",
            "[# Loss]: 7.265 | [# Loss MAIA]: 6.512 | [# Loss Side Info]: 0.097 | [# Loss Value]: 0.657\n"
          ]
        },
        {
          "output_type": "stream",
          "name": "stderr",
          "text": [
            "\n",
            "  0%|          | 0/3 [00:00<?, ?it/s]"
          ]
        },
        {
          "output_type": "stream",
          "name": "stdout",
          "text": [
            "{(10, 10): 336}\n"
          ]
        },
        {
          "output_type": "stream",
          "name": "stderr",
          "text": [
            "100%|██████████| 3/3 [00:07<00:00,  2.59s/it]"
          ]
        },
        {
          "output_type": "stream",
          "name": "stdout",
          "text": [
            "[192/1241]\n",
            "[# Positions]: 414.07K\n",
            "[# Games]: 4.05K\n",
            "[# Loss]: 7.158 | [# Loss MAIA]: 6.443 | [# Loss Side Info]: 0.093 | [# Loss Value]: 0.621\n"
          ]
        },
        {
          "output_type": "stream",
          "name": "stderr",
          "text": [
            "\n",
            "  0%|          | 0/5 [00:00<?, ?it/s]"
          ]
        },
        {
          "output_type": "stream",
          "name": "stdout",
          "text": [
            "{(10, 10): 273}\n"
          ]
        },
        {
          "output_type": "stream",
          "name": "stderr",
          "text": [
            "100%|██████████| 5/5 [00:09<00:00,  1.82s/it]"
          ]
        },
        {
          "output_type": "stream",
          "name": "stdout",
          "text": [
            "[204/1241]\n",
            "[# Positions]: 449.82K\n",
            "[# Games]: 4.38K\n",
            "[# Loss]: 7.227 | [# Loss MAIA]: 6.502 | [# Loss Side Info]: 0.091 | [# Loss Value]: 0.634\n"
          ]
        },
        {
          "output_type": "stream",
          "name": "stderr",
          "text": [
            "\n",
            "  0%|          | 0/4 [00:00<?, ?it/s]"
          ]
        },
        {
          "output_type": "stream",
          "name": "stdout",
          "text": [
            "{(10, 10): 227}\n"
          ]
        },
        {
          "output_type": "stream",
          "name": "stderr",
          "text": [
            "100%|██████████| 4/4 [00:08<00:00,  2.06s/it]"
          ]
        },
        {
          "output_type": "stream",
          "name": "stdout",
          "text": [
            "[216/1241]\n",
            "[# Positions]: 477.24K\n",
            "[# Games]: 4.66K\n",
            "[# Loss]: 7.173 | [# Loss MAIA]: 6.473 | [# Loss Side Info]: 0.088 | [# Loss Value]: 0.612\n"
          ]
        },
        {
          "output_type": "stream",
          "name": "stderr",
          "text": [
            "\n",
            "  0%|          | 0/3 [00:00<?, ?it/s]"
          ]
        },
        {
          "output_type": "stream",
          "name": "stdout",
          "text": [
            "{(10, 10): 257}\n"
          ]
        },
        {
          "output_type": "stream",
          "name": "stderr",
          "text": [
            "100%|██████████| 3/3 [00:07<00:00,  2.54s/it]"
          ]
        },
        {
          "output_type": "stream",
          "name": "stdout",
          "text": [
            "[228/1241]\n",
            "[# Positions]: 499.88K\n",
            "[# Games]: 4.88K\n",
            "[# Loss]: 7.177 | [# Loss MAIA]: 6.447 | [# Loss Side Info]: 0.084 | [# Loss Value]: 0.645\n"
          ]
        },
        {
          "output_type": "stream",
          "name": "stderr",
          "text": [
            "\n",
            "  0%|          | 0/4 [00:00<?, ?it/s]"
          ]
        },
        {
          "output_type": "stream",
          "name": "stdout",
          "text": [
            "{(10, 10): 301}\n"
          ]
        },
        {
          "output_type": "stream",
          "name": "stderr",
          "text": [
            "100%|██████████| 4/4 [00:08<00:00,  2.04s/it]"
          ]
        },
        {
          "output_type": "stream",
          "name": "stdout",
          "text": [
            "[240/1241]\n",
            "[# Positions]: 526.56K\n",
            "[# Games]: 5.14K\n",
            "[# Loss]: 7.224 | [# Loss MAIA]: 6.448 | [# Loss Side Info]: 0.086 | [# Loss Value]: 0.69\n"
          ]
        },
        {
          "output_type": "stream",
          "name": "stderr",
          "text": [
            "\n",
            "  0%|          | 0/4 [00:00<?, ?it/s]"
          ]
        },
        {
          "output_type": "stream",
          "name": "stdout",
          "text": [
            "{(10, 10): 254}\n"
          ]
        },
        {
          "output_type": "stream",
          "name": "stderr",
          "text": [
            "100%|██████████| 4/4 [00:08<00:00,  2.08s/it]"
          ]
        },
        {
          "output_type": "stream",
          "name": "stdout",
          "text": [
            "[252/1241]\n",
            "[# Positions]: 558.15K\n",
            "[# Games]: 5.44K\n",
            "[# Loss]: 7.138 | [# Loss MAIA]: 6.427 | [# Loss Side Info]: 0.083 | [# Loss Value]: 0.628\n"
          ]
        },
        {
          "output_type": "stream",
          "name": "stderr",
          "text": [
            "\n",
            "  0%|          | 0/4 [00:00<?, ?it/s]"
          ]
        },
        {
          "output_type": "stream",
          "name": "stdout",
          "text": [
            "{(10, 10): 243}\n"
          ]
        },
        {
          "output_type": "stream",
          "name": "stderr",
          "text": [
            "100%|██████████| 4/4 [00:07<00:00,  1.98s/it]"
          ]
        },
        {
          "output_type": "stream",
          "name": "stdout",
          "text": [
            "[264/1241]\n",
            "[# Positions]: 583.37K\n",
            "[# Games]: 5.70K\n",
            "[# Loss]: 7.033 | [# Loss MAIA]: 6.368 | [# Loss Side Info]: 0.083 | [# Loss Value]: 0.582\n"
          ]
        },
        {
          "output_type": "stream",
          "name": "stderr",
          "text": [
            "\n",
            "  0%|          | 0/4 [00:00<?, ?it/s]"
          ]
        },
        {
          "output_type": "stream",
          "name": "stdout",
          "text": [
            "{(10, 10): 303}\n"
          ]
        },
        {
          "output_type": "stream",
          "name": "stderr",
          "text": [
            "100%|██████████| 4/4 [00:07<00:00,  1.99s/it]"
          ]
        },
        {
          "output_type": "stream",
          "name": "stdout",
          "text": [
            "[276/1241]\n",
            "[# Positions]: 608.40K\n",
            "[# Games]: 5.94K\n",
            "[# Loss]: 7.067 | [# Loss MAIA]: 6.368 | [# Loss Side Info]: 0.083 | [# Loss Value]: 0.616\n"
          ]
        },
        {
          "output_type": "stream",
          "name": "stderr",
          "text": [
            "\n",
            "  0%|          | 0/4 [00:00<?, ?it/s]"
          ]
        },
        {
          "output_type": "stream",
          "name": "stdout",
          "text": [
            "{(10, 10): 243}\n"
          ]
        },
        {
          "output_type": "stream",
          "name": "stderr",
          "text": [
            "100%|██████████| 4/4 [00:08<00:00,  2.10s/it]"
          ]
        },
        {
          "output_type": "stream",
          "name": "stdout",
          "text": [
            "[288/1241]\n",
            "[# Positions]: 640.60K\n",
            "[# Games]: 6.24K\n",
            "[# Loss]: 7.061 | [# Loss MAIA]: 6.352 | [# Loss Side Info]: 0.083 | [# Loss Value]: 0.626\n"
          ]
        },
        {
          "output_type": "stream",
          "name": "stderr",
          "text": [
            "\n",
            "  0%|          | 0/3 [00:00<?, ?it/s]"
          ]
        },
        {
          "output_type": "stream",
          "name": "stdout",
          "text": [
            "{(10, 10): 179}\n"
          ]
        },
        {
          "output_type": "stream",
          "name": "stderr",
          "text": [
            "100%|██████████| 3/3 [00:07<00:00,  2.55s/it]"
          ]
        },
        {
          "output_type": "stream",
          "name": "stdout",
          "text": [
            "[300/1241]\n",
            "[# Positions]: 664.84K\n",
            "[# Games]: 6.49K\n",
            "[# Loss]: 7.086 | [# Loss MAIA]: 6.342 | [# Loss Side Info]: 0.084 | [# Loss Value]: 0.66\n"
          ]
        },
        {
          "output_type": "stream",
          "name": "stderr",
          "text": [
            "\n",
            "  0%|          | 0/3 [00:00<?, ?it/s]"
          ]
        },
        {
          "output_type": "stream",
          "name": "stdout",
          "text": [
            "{(10, 10): 267}\n"
          ]
        },
        {
          "output_type": "stream",
          "name": "stderr",
          "text": [
            "100%|██████████| 3/3 [00:07<00:00,  2.40s/it]"
          ]
        },
        {
          "output_type": "stream",
          "name": "stdout",
          "text": [
            "[312/1241]\n",
            "[# Positions]: 681.58K\n",
            "[# Games]: 6.67K\n",
            "[# Loss]: 6.965 | [# Loss MAIA]: 6.285 | [# Loss Side Info]: 0.083 | [# Loss Value]: 0.597\n"
          ]
        },
        {
          "output_type": "stream",
          "name": "stderr",
          "text": [
            "\n",
            "  0%|          | 0/4 [00:00<?, ?it/s]"
          ]
        },
        {
          "output_type": "stream",
          "name": "stdout",
          "text": [
            "{(10, 10): 213}\n"
          ]
        },
        {
          "output_type": "stream",
          "name": "stderr",
          "text": [
            "100%|██████████| 4/4 [00:08<00:00,  2.06s/it]"
          ]
        },
        {
          "output_type": "stream",
          "name": "stdout",
          "text": [
            "[324/1241]\n",
            "[# Positions]: 712.89K\n",
            "[# Games]: 6.93K\n",
            "[# Loss]: 7.04 | [# Loss MAIA]: 6.356 | [# Loss Side Info]: 0.087 | [# Loss Value]: 0.598\n"
          ]
        },
        {
          "output_type": "stream",
          "name": "stderr",
          "text": [
            "\n",
            "  0%|          | 0/3 [00:00<?, ?it/s]"
          ]
        },
        {
          "output_type": "stream",
          "name": "stdout",
          "text": [
            "{(10, 10): 201}\n"
          ]
        },
        {
          "output_type": "stream",
          "name": "stderr",
          "text": [
            "100%|██████████| 3/3 [00:07<00:00,  2.51s/it]"
          ]
        },
        {
          "output_type": "stream",
          "name": "stdout",
          "text": [
            "[336/1241]\n",
            "[# Positions]: 733.87K\n",
            "[# Games]: 7.14K\n",
            "[# Loss]: 6.99 | [# Loss MAIA]: 6.236 | [# Loss Side Info]: 0.085 | [# Loss Value]: 0.669\n"
          ]
        },
        {
          "output_type": "stream",
          "name": "stderr",
          "text": [
            "\n",
            "  0%|          | 0/3 [00:00<?, ?it/s]"
          ]
        },
        {
          "output_type": "stream",
          "name": "stdout",
          "text": [
            "{(10, 10): 256}\n"
          ]
        },
        {
          "output_type": "stream",
          "name": "stderr",
          "text": [
            "100%|██████████| 3/3 [00:07<00:00,  2.53s/it]"
          ]
        },
        {
          "output_type": "stream",
          "name": "stdout",
          "text": [
            "[348/1241]\n",
            "[# Positions]: 754.68K\n",
            "[# Games]: 7.35K\n",
            "[# Loss]: 6.928 | [# Loss MAIA]: 6.229 | [# Loss Side Info]: 0.089 | [# Loss Value]: 0.61\n"
          ]
        },
        {
          "output_type": "stream",
          "name": "stderr",
          "text": [
            "\n",
            "  0%|          | 0/4 [00:00<?, ?it/s]"
          ]
        },
        {
          "output_type": "stream",
          "name": "stdout",
          "text": [
            "{(10, 10): 253}\n"
          ]
        },
        {
          "output_type": "stream",
          "name": "stderr",
          "text": [
            "100%|██████████| 4/4 [00:08<00:00,  2.07s/it]"
          ]
        },
        {
          "output_type": "stream",
          "name": "stdout",
          "text": [
            "[360/1241]\n",
            "[# Positions]: 782.42K\n",
            "[# Games]: 7.60K\n",
            "[# Loss]: 6.913 | [# Loss MAIA]: 6.182 | [# Loss Side Info]: 0.09 | [# Loss Value]: 0.641\n"
          ]
        },
        {
          "output_type": "stream",
          "name": "stderr",
          "text": [
            "\n",
            "  0%|          | 0/4 [00:00<?, ?it/s]"
          ]
        },
        {
          "output_type": "stream",
          "name": "stdout",
          "text": [
            "{(10, 10): 140}\n"
          ]
        },
        {
          "output_type": "stream",
          "name": "stderr",
          "text": [
            "100%|██████████| 4/4 [00:07<00:00,  1.98s/it]"
          ]
        },
        {
          "output_type": "stream",
          "name": "stdout",
          "text": [
            "[372/1241]\n",
            "[# Positions]: 808.87K\n",
            "[# Games]: 7.86K\n",
            "[# Loss]: 6.845 | [# Loss MAIA]: 6.135 | [# Loss Side Info]: 0.091 | [# Loss Value]: 0.619\n"
          ]
        },
        {
          "output_type": "stream",
          "name": "stderr",
          "text": [
            "\n",
            "  0%|          | 0/2 [00:00<?, ?it/s]"
          ]
        },
        {
          "output_type": "stream",
          "name": "stdout",
          "text": [
            "{(10, 10): 134}\n"
          ]
        },
        {
          "output_type": "stream",
          "name": "stderr",
          "text": [
            "100%|██████████| 2/2 [00:06<00:00,  3.18s/it]"
          ]
        },
        {
          "output_type": "stream",
          "name": "stdout",
          "text": [
            "[384/1241]\n",
            "[# Positions]: 821.95K\n",
            "[# Games]: 8.00K\n",
            "[# Loss]: 6.842 | [# Loss MAIA]: 6.035 | [# Loss Side Info]: 0.093 | [# Loss Value]: 0.714\n"
          ]
        },
        {
          "output_type": "stream",
          "name": "stderr",
          "text": [
            "\n",
            "  0%|          | 0/2 [00:00<?, ?it/s]"
          ]
        },
        {
          "output_type": "stream",
          "name": "stdout",
          "text": [
            "{(10, 10): 269}\n"
          ]
        },
        {
          "output_type": "stream",
          "name": "stderr",
          "text": [
            "100%|██████████| 2/2 [00:06<00:00,  3.50s/it]"
          ]
        },
        {
          "output_type": "stream",
          "name": "stdout",
          "text": [
            "[396/1241]\n",
            "[# Positions]: 836.67K\n",
            "[# Games]: 8.13K\n",
            "[# Loss]: 6.769 | [# Loss MAIA]: 6.062 | [# Loss Side Info]: 0.092 | [# Loss Value]: 0.615\n"
          ]
        },
        {
          "output_type": "stream",
          "name": "stderr",
          "text": [
            "\n",
            "  0%|          | 0/4 [00:00<?, ?it/s]"
          ]
        },
        {
          "output_type": "stream",
          "name": "stdout",
          "text": [
            "{(10, 10): 246}\n"
          ]
        },
        {
          "output_type": "stream",
          "name": "stderr",
          "text": [
            "100%|██████████| 4/4 [00:08<00:00,  2.05s/it]"
          ]
        },
        {
          "output_type": "stream",
          "name": "stdout",
          "text": [
            "[408/1241]\n",
            "[# Positions]: 866.00K\n",
            "[# Games]: 8.40K\n",
            "[# Loss]: 6.707 | [# Loss MAIA]: 6.051 | [# Loss Side Info]: 0.09 | [# Loss Value]: 0.565\n"
          ]
        },
        {
          "output_type": "stream",
          "name": "stderr",
          "text": [
            "\n",
            "  0%|          | 0/4 [00:00<?, ?it/s]"
          ]
        },
        {
          "output_type": "stream",
          "name": "stdout",
          "text": [
            "{(10, 10): 163}\n"
          ]
        },
        {
          "output_type": "stream",
          "name": "stderr",
          "text": [
            "100%|██████████| 4/4 [00:07<00:00,  1.96s/it]"
          ]
        },
        {
          "output_type": "stream",
          "name": "stdout",
          "text": [
            "[420/1241]\n",
            "[# Positions]: 892.74K\n",
            "[# Games]: 8.64K\n",
            "[# Loss]: 6.686 | [# Loss MAIA]: 6.002 | [# Loss Side Info]: 0.095 | [# Loss Value]: 0.589\n"
          ]
        },
        {
          "output_type": "stream",
          "name": "stderr",
          "text": [
            "\n",
            "  0%|          | 0/3 [00:00<?, ?it/s]"
          ]
        },
        {
          "output_type": "stream",
          "name": "stdout",
          "text": [
            "{(10, 10): 359}\n"
          ]
        },
        {
          "output_type": "stream",
          "name": "stderr",
          "text": [
            "100%|██████████| 3/3 [00:07<00:00,  2.41s/it]"
          ]
        },
        {
          "output_type": "stream",
          "name": "stdout",
          "text": [
            "[432/1241]\n",
            "[# Positions]: 909.67K\n",
            "[# Games]: 8.81K\n",
            "[# Loss]: 6.571 | [# Loss MAIA]: 5.899 | [# Loss Side Info]: 0.095 | [# Loss Value]: 0.577\n"
          ]
        },
        {
          "output_type": "stream",
          "name": "stderr",
          "text": [
            "\n",
            "  0%|          | 0/5 [00:00<?, ?it/s]"
          ]
        },
        {
          "output_type": "stream",
          "name": "stdout",
          "text": [
            "{(10, 10): 318}\n"
          ]
        },
        {
          "output_type": "stream",
          "name": "stderr",
          "text": [
            "100%|██████████| 5/5 [00:09<00:00,  1.86s/it]"
          ]
        },
        {
          "output_type": "stream",
          "name": "stdout",
          "text": [
            "[444/1241]\n",
            "[# Positions]: 947.86K\n",
            "[# Games]: 9.17K\n",
            "[# Loss]: 6.453 | [# Loss MAIA]: 5.827 | [# Loss Side Info]: 0.095 | [# Loss Value]: 0.531\n"
          ]
        },
        {
          "output_type": "stream",
          "name": "stderr",
          "text": [
            "\n",
            "  0%|          | 0/4 [00:00<?, ?it/s]"
          ]
        },
        {
          "output_type": "stream",
          "name": "stdout",
          "text": [
            "{(10, 10): 203}\n"
          ]
        },
        {
          "output_type": "stream",
          "name": "stderr",
          "text": [
            "100%|██████████| 4/4 [00:08<00:00,  2.07s/it]"
          ]
        },
        {
          "output_type": "stream",
          "name": "stdout",
          "text": [
            "[456/1241]\n",
            "[# Positions]: 980.18K\n",
            "[# Games]: 9.48K\n",
            "[# Loss]: 6.442 | [# Loss MAIA]: 5.74 | [# Loss Side Info]: 0.095 | [# Loss Value]: 0.607\n"
          ]
        },
        {
          "output_type": "stream",
          "name": "stderr",
          "text": [
            "\n",
            "  0%|          | 0/3 [00:00<?, ?it/s]"
          ]
        },
        {
          "output_type": "stream",
          "name": "stdout",
          "text": [
            "{(10, 10): 366}\n"
          ]
        },
        {
          "output_type": "stream",
          "name": "stderr",
          "text": [
            "100%|██████████| 3/3 [00:07<00:00,  2.58s/it]"
          ]
        },
        {
          "output_type": "stream",
          "name": "stdout",
          "text": [
            "[468/1241]\n",
            "[# Positions]: 999.30K\n",
            "[# Games]: 9.69K\n",
            "[# Loss]: 6.352 | [# Loss MAIA]: 5.693 | [# Loss Side Info]: 0.094 | [# Loss Value]: 0.565\n"
          ]
        },
        {
          "output_type": "stream",
          "name": "stderr",
          "text": [
            "\n",
            "  0%|          | 0/5 [00:00<?, ?it/s]"
          ]
        },
        {
          "output_type": "stream",
          "name": "stdout",
          "text": [
            "{(10, 10): 292}\n"
          ]
        },
        {
          "output_type": "stream",
          "name": "stderr",
          "text": [
            "100%|██████████| 5/5 [00:09<00:00,  1.88s/it]"
          ]
        },
        {
          "output_type": "stream",
          "name": "stdout",
          "text": [
            "[480/1241]\n",
            "[# Positions]: 1.04M\n",
            "[# Games]: 10.05K\n",
            "[# Loss]: 6.16 | [# Loss MAIA]: 5.636 | [# Loss Side Info]: 0.098 | [# Loss Value]: 0.427\n"
          ]
        },
        {
          "output_type": "stream",
          "name": "stderr",
          "text": [
            "\n",
            "  0%|          | 0/4 [00:00<?, ?it/s]"
          ]
        },
        {
          "output_type": "stream",
          "name": "stdout",
          "text": [
            "{(10, 10): 259}\n"
          ]
        },
        {
          "output_type": "stream",
          "name": "stderr",
          "text": [
            "100%|██████████| 4/4 [00:08<00:00,  2.11s/it]"
          ]
        },
        {
          "output_type": "stream",
          "name": "stdout",
          "text": [
            "[492/1241]\n",
            "[# Positions]: 1.07M\n",
            "[# Games]: 10.35K\n",
            "[# Loss]: 6.222 | [# Loss MAIA]: 5.59 | [# Loss Side Info]: 0.095 | [# Loss Value]: 0.536\n"
          ]
        },
        {
          "output_type": "stream",
          "name": "stderr",
          "text": [
            "\n",
            "  0%|          | 0/4 [00:00<?, ?it/s]"
          ]
        },
        {
          "output_type": "stream",
          "name": "stdout",
          "text": [
            "{(10, 10): 415}\n"
          ]
        },
        {
          "output_type": "stream",
          "name": "stderr",
          "text": [
            "100%|██████████| 4/4 [00:08<00:00,  2.08s/it]"
          ]
        },
        {
          "output_type": "stream",
          "name": "stdout",
          "text": [
            "[504/1241]\n",
            "[# Positions]: 1.10M\n",
            "[# Games]: 10.60K\n",
            "[# Loss]: 6.09 | [# Loss MAIA]: 5.503 | [# Loss Side Info]: 0.098 | [# Loss Value]: 0.489\n"
          ]
        },
        {
          "output_type": "stream",
          "name": "stderr",
          "text": [
            "\n",
            "  0%|          | 0/6 [00:00<?, ?it/s]"
          ]
        },
        {
          "output_type": "stream",
          "name": "stdout",
          "text": [
            "{(10, 10): 315}\n"
          ]
        },
        {
          "output_type": "stream",
          "name": "stderr",
          "text": [
            "100%|██████████| 6/6 [00:10<00:00,  1.68s/it]"
          ]
        },
        {
          "output_type": "stream",
          "name": "stdout",
          "text": [
            "[516/1241]\n",
            "[# Positions]: 1.14M\n",
            "[# Games]: 11.02K\n",
            "[# Loss]: 5.959 | [# Loss MAIA]: 5.425 | [# Loss Side Info]: 0.097 | [# Loss Value]: 0.437\n"
          ]
        },
        {
          "output_type": "stream",
          "name": "stderr",
          "text": [
            "\n",
            "  0%|          | 0/5 [00:00<?, ?it/s]"
          ]
        },
        {
          "output_type": "stream",
          "name": "stdout",
          "text": [
            "{(10, 10): 262}\n"
          ]
        },
        {
          "output_type": "stream",
          "name": "stderr",
          "text": [
            "100%|██████████| 5/5 [00:08<00:00,  1.77s/it]"
          ]
        },
        {
          "output_type": "stream",
          "name": "stdout",
          "text": [
            "[528/1241]\n",
            "[# Positions]: 1.18M\n",
            "[# Games]: 11.33K\n",
            "[# Loss]: 6.016 | [# Loss MAIA]: 5.391 | [# Loss Side Info]: 0.097 | [# Loss Value]: 0.527\n"
          ]
        },
        {
          "output_type": "stream",
          "name": "stderr",
          "text": [
            "\n",
            "  0%|          | 0/4 [00:00<?, ?it/s]"
          ]
        },
        {
          "output_type": "stream",
          "name": "stdout",
          "text": [
            "{(10, 10): 362}\n"
          ]
        },
        {
          "output_type": "stream",
          "name": "stderr",
          "text": [
            "100%|██████████| 4/4 [00:08<00:00,  2.16s/it]"
          ]
        },
        {
          "output_type": "stream",
          "name": "stdout",
          "text": [
            "[540/1241]\n",
            "[# Positions]: 1.20M\n",
            "[# Games]: 11.60K\n",
            "[# Loss]: 5.881 | [# Loss MAIA]: 5.233 | [# Loss Side Info]: 0.097 | [# Loss Value]: 0.551\n"
          ]
        },
        {
          "output_type": "stream",
          "name": "stderr",
          "text": [
            "\n",
            "  0%|          | 0/6 [00:00<?, ?it/s]"
          ]
        },
        {
          "output_type": "stream",
          "name": "stdout",
          "text": [
            "{(10, 10): 327}\n"
          ]
        },
        {
          "output_type": "stream",
          "name": "stderr",
          "text": [
            "100%|██████████| 6/6 [00:09<00:00,  1.59s/it]"
          ]
        },
        {
          "output_type": "stream",
          "name": "stdout",
          "text": [
            "[552/1241]\n",
            "[# Positions]: 1.25M\n",
            "[# Games]: 11.96K\n",
            "[# Loss]: 5.775 | [# Loss MAIA]: 5.216 | [# Loss Side Info]: 0.095 | [# Loss Value]: 0.463\n"
          ]
        },
        {
          "output_type": "stream",
          "name": "stderr",
          "text": [
            "\n",
            "  0%|          | 0/4 [00:00<?, ?it/s]"
          ]
        },
        {
          "output_type": "stream",
          "name": "stdout",
          "text": [
            "{(10, 10): 252}\n"
          ]
        },
        {
          "output_type": "stream",
          "name": "stderr",
          "text": [
            "100%|██████████| 4/4 [00:08<00:00,  2.14s/it]"
          ]
        },
        {
          "output_type": "stream",
          "name": "stdout",
          "text": [
            "[564/1241]\n",
            "[# Positions]: 1.28M\n",
            "[# Games]: 12.29K\n",
            "[# Loss]: 5.771 | [# Loss MAIA]: 5.116 | [# Loss Side Info]: 0.094 | [# Loss Value]: 0.561\n"
          ]
        },
        {
          "output_type": "stream",
          "name": "stderr",
          "text": [
            "\n",
            "  0%|          | 0/4 [00:00<?, ?it/s]"
          ]
        },
        {
          "output_type": "stream",
          "name": "stdout",
          "text": [
            "{(10, 10): 263}\n"
          ]
        },
        {
          "output_type": "stream",
          "name": "stderr",
          "text": [
            "100%|██████████| 4/4 [00:08<00:00,  2.07s/it]"
          ]
        },
        {
          "output_type": "stream",
          "name": "stdout",
          "text": [
            "[576/1241]\n",
            "[# Positions]: 1.30M\n",
            "[# Games]: 12.54K\n",
            "[# Loss]: 5.725 | [# Loss MAIA]: 5.076 | [# Loss Side Info]: 0.09 | [# Loss Value]: 0.558\n"
          ]
        },
        {
          "output_type": "stream",
          "name": "stderr",
          "text": [
            "\n",
            "  0%|          | 0/4 [00:00<?, ?it/s]"
          ]
        },
        {
          "output_type": "stream",
          "name": "stdout",
          "text": [
            "{(10, 10): 323}\n"
          ]
        },
        {
          "output_type": "stream",
          "name": "stderr",
          "text": [
            "100%|██████████| 4/4 [00:08<00:00,  2.07s/it]"
          ]
        },
        {
          "output_type": "stream",
          "name": "stdout",
          "text": [
            "[588/1241]\n",
            "[# Positions]: 1.33M\n",
            "[# Games]: 12.80K\n",
            "[# Loss]: 5.655 | [# Loss MAIA]: 5.043 | [# Loss Side Info]: 0.095 | [# Loss Value]: 0.517\n"
          ]
        },
        {
          "output_type": "stream",
          "name": "stderr",
          "text": [
            "\n",
            "  0%|          | 0/5 [00:00<?, ?it/s]"
          ]
        },
        {
          "output_type": "stream",
          "name": "stdout",
          "text": [
            "{(10, 10): 262}\n"
          ]
        },
        {
          "output_type": "stream",
          "name": "stderr",
          "text": [
            "100%|██████████| 5/5 [00:08<00:00,  1.75s/it]"
          ]
        },
        {
          "output_type": "stream",
          "name": "stdout",
          "text": [
            "[600/1241]\n",
            "[# Positions]: 1.37M\n",
            "[# Games]: 13.12K\n",
            "[# Loss]: 5.646 | [# Loss MAIA]: 4.991 | [# Loss Side Info]: 0.091 | [# Loss Value]: 0.564\n"
          ]
        },
        {
          "output_type": "stream",
          "name": "stderr",
          "text": [
            "\n",
            "  0%|          | 0/4 [00:00<?, ?it/s]"
          ]
        },
        {
          "output_type": "stream",
          "name": "stdout",
          "text": [
            "{(10, 10): 231}\n"
          ]
        },
        {
          "output_type": "stream",
          "name": "stderr",
          "text": [
            "100%|██████████| 4/4 [00:08<00:00,  2.00s/it]"
          ]
        },
        {
          "output_type": "stream",
          "name": "stdout",
          "text": [
            "[612/1241]\n",
            "[# Positions]: 1.39M\n",
            "[# Games]: 13.38K\n",
            "[# Loss]: 5.642 | [# Loss MAIA]: 4.931 | [# Loss Side Info]: 0.089 | [# Loss Value]: 0.622\n"
          ]
        },
        {
          "output_type": "stream",
          "name": "stderr",
          "text": [
            "\n",
            "  0%|          | 0/3 [00:00<?, ?it/s]"
          ]
        },
        {
          "output_type": "stream",
          "name": "stdout",
          "text": [
            "{(10, 10): 320}\n"
          ]
        },
        {
          "output_type": "stream",
          "name": "stderr",
          "text": [
            "100%|██████████| 3/3 [00:07<00:00,  2.59s/it]"
          ]
        },
        {
          "output_type": "stream",
          "name": "stdout",
          "text": [
            "[624/1241]\n",
            "[# Positions]: 1.41M\n",
            "[# Games]: 13.62K\n",
            "[# Loss]: 5.559 | [# Loss MAIA]: 4.867 | [# Loss Side Info]: 0.09 | [# Loss Value]: 0.603\n"
          ]
        },
        {
          "output_type": "stream",
          "name": "stderr",
          "text": [
            "\n",
            "  0%|          | 0/5 [00:00<?, ?it/s]"
          ]
        },
        {
          "output_type": "stream",
          "name": "stdout",
          "text": [
            "{(10, 10): 226}\n"
          ]
        },
        {
          "output_type": "stream",
          "name": "stderr",
          "text": [
            "100%|██████████| 5/5 [00:08<00:00,  1.79s/it]\n"
          ]
        },
        {
          "output_type": "stream",
          "name": "stdout",
          "text": [
            "[636/1241]\n",
            "[# Positions]: 1.45M\n",
            "[# Games]: 13.94K\n",
            "[# Loss]: 5.439 | [# Loss MAIA]: 4.844 | [# Loss Side Info]: 0.088 | [# Loss Value]: 0.507\n"
          ]
        },
        {
          "output_type": "stream",
          "name": "stderr",
          "text": [
            "\r  0%|          | 0/3 [00:00<?, ?it/s]"
          ]
        },
        {
          "output_type": "stream",
          "name": "stdout",
          "text": [
            "{(10, 10): 193}\n"
          ]
        },
        {
          "output_type": "stream",
          "name": "stderr",
          "text": [
            "100%|██████████| 3/3 [00:07<00:00,  2.57s/it]"
          ]
        },
        {
          "output_type": "stream",
          "name": "stdout",
          "text": [
            "[648/1241]\n",
            "[# Positions]: 1.47M\n",
            "[# Games]: 14.16K\n",
            "[# Loss]: 5.469 | [# Loss MAIA]: 4.804 | [# Loss Side Info]: 0.091 | [# Loss Value]: 0.574\n"
          ]
        },
        {
          "output_type": "stream",
          "name": "stderr",
          "text": [
            "\n",
            "  0%|          | 0/3 [00:00<?, ?it/s]"
          ]
        },
        {
          "output_type": "stream",
          "name": "stdout",
          "text": [
            "{(10, 10): 331}\n"
          ]
        },
        {
          "output_type": "stream",
          "name": "stderr",
          "text": [
            "100%|██████████| 3/3 [00:07<00:00,  2.53s/it]"
          ]
        },
        {
          "output_type": "stream",
          "name": "stdout",
          "text": [
            "[660/1241]\n",
            "[# Positions]: 1.49M\n",
            "[# Games]: 14.36K\n",
            "[# Loss]: 5.366 | [# Loss MAIA]: 4.724 | [# Loss Side Info]: 0.089 | [# Loss Value]: 0.553\n"
          ]
        },
        {
          "output_type": "stream",
          "name": "stderr",
          "text": [
            "\n",
            "  0%|          | 0/5 [00:00<?, ?it/s]"
          ]
        },
        {
          "output_type": "stream",
          "name": "stdout",
          "text": [
            "{(10, 10): 212}\n"
          ]
        },
        {
          "output_type": "stream",
          "name": "stderr",
          "text": [
            "100%|██████████| 5/5 [00:08<00:00,  1.74s/it]"
          ]
        },
        {
          "output_type": "stream",
          "name": "stdout",
          "text": [
            "[672/1241]\n",
            "[# Positions]: 1.53M\n",
            "[# Games]: 14.69K\n",
            "[# Loss]: 5.193 | [# Loss MAIA]: 4.683 | [# Loss Side Info]: 0.086 | [# Loss Value]: 0.424\n"
          ]
        },
        {
          "output_type": "stream",
          "name": "stderr",
          "text": [
            "\n",
            "  0%|          | 0/3 [00:00<?, ?it/s]"
          ]
        },
        {
          "output_type": "stream",
          "name": "stdout",
          "text": [
            "{(10, 10): 170}\n"
          ]
        },
        {
          "output_type": "stream",
          "name": "stderr",
          "text": [
            "100%|██████████| 3/3 [00:07<00:00,  2.47s/it]"
          ]
        },
        {
          "output_type": "stream",
          "name": "stdout",
          "text": [
            "[684/1241]\n",
            "[# Positions]: 1.55M\n",
            "[# Games]: 14.90K\n",
            "[# Loss]: 5.365 | [# Loss MAIA]: 4.68 | [# Loss Side Info]: 0.084 | [# Loss Value]: 0.601\n"
          ]
        },
        {
          "output_type": "stream",
          "name": "stderr",
          "text": [
            "\n",
            "  0%|          | 0/3 [00:00<?, ?it/s]"
          ]
        },
        {
          "output_type": "stream",
          "name": "stdout",
          "text": [
            "{(10, 10): 321}\n"
          ]
        },
        {
          "output_type": "stream",
          "name": "stderr",
          "text": [
            "100%|██████████| 3/3 [00:07<00:00,  2.42s/it]"
          ]
        },
        {
          "output_type": "stream",
          "name": "stdout",
          "text": [
            "[696/1241]\n",
            "[# Positions]: 1.57M\n",
            "[# Games]: 15.07K\n",
            "[# Loss]: 5.336 | [# Loss MAIA]: 4.679 | [# Loss Side Info]: 0.087 | [# Loss Value]: 0.57\n"
          ]
        },
        {
          "output_type": "stream",
          "name": "stderr",
          "text": [
            "\n",
            "  0%|          | 0/5 [00:00<?, ?it/s]"
          ]
        },
        {
          "output_type": "stream",
          "name": "stdout",
          "text": [
            "{(10, 10): 300}\n"
          ]
        },
        {
          "output_type": "stream",
          "name": "stderr",
          "text": [
            "100%|██████████| 5/5 [00:09<00:00,  1.89s/it]"
          ]
        },
        {
          "output_type": "stream",
          "name": "stdout",
          "text": [
            "[708/1241]\n",
            "[# Positions]: 1.60M\n",
            "[# Games]: 15.39K\n",
            "[# Loss]: 5.081 | [# Loss MAIA]: 4.572 | [# Loss Side Info]: 0.083 | [# Loss Value]: 0.427\n"
          ]
        },
        {
          "output_type": "stream",
          "name": "stderr",
          "text": [
            "\n",
            "  0%|          | 0/4 [00:00<?, ?it/s]"
          ]
        },
        {
          "output_type": "stream",
          "name": "stdout",
          "text": [
            "{(10, 10): 284}\n"
          ]
        },
        {
          "output_type": "stream",
          "name": "stderr",
          "text": [
            "100%|██████████| 4/4 [00:08<00:00,  2.16s/it]"
          ]
        },
        {
          "output_type": "stream",
          "name": "stdout",
          "text": [
            "[720/1241]\n",
            "[# Positions]: 1.63M\n",
            "[# Games]: 15.69K\n",
            "[# Loss]: 5.193 | [# Loss MAIA]: 4.604 | [# Loss Side Info]: 0.083 | [# Loss Value]: 0.507\n"
          ]
        },
        {
          "output_type": "stream",
          "name": "stderr",
          "text": [
            "\n",
            "  0%|          | 0/4 [00:00<?, ?it/s]"
          ]
        },
        {
          "output_type": "stream",
          "name": "stdout",
          "text": [
            "{(10, 10): 274}\n"
          ]
        },
        {
          "output_type": "stream",
          "name": "stderr",
          "text": [
            "100%|██████████| 4/4 [00:08<00:00,  2.07s/it]"
          ]
        },
        {
          "output_type": "stream",
          "name": "stdout",
          "text": [
            "[732/1241]\n",
            "[# Positions]: 1.66M\n",
            "[# Games]: 15.97K\n",
            "[# Loss]: 5.115 | [# Loss MAIA]: 4.517 | [# Loss Side Info]: 0.084 | [# Loss Value]: 0.514\n"
          ]
        },
        {
          "output_type": "stream",
          "name": "stderr",
          "text": [
            "\n",
            "  0%|          | 0/4 [00:00<?, ?it/s]"
          ]
        },
        {
          "output_type": "stream",
          "name": "stdout",
          "text": [
            "{(10, 10): 277}\n"
          ]
        },
        {
          "output_type": "stream",
          "name": "stderr",
          "text": [
            "100%|██████████| 4/4 [00:08<00:00,  2.05s/it]"
          ]
        },
        {
          "output_type": "stream",
          "name": "stdout",
          "text": [
            "[744/1241]\n",
            "[# Positions]: 1.69M\n",
            "[# Games]: 16.25K\n",
            "[# Loss]: 5.013 | [# Loss MAIA]: 4.47 | [# Loss Side Info]: 0.082 | [# Loss Value]: 0.461\n"
          ]
        },
        {
          "output_type": "stream",
          "name": "stderr",
          "text": [
            "\n",
            "  0%|          | 0/4 [00:00<?, ?it/s]"
          ]
        },
        {
          "output_type": "stream",
          "name": "stdout",
          "text": [
            "{(10, 10): 184}\n"
          ]
        },
        {
          "output_type": "stream",
          "name": "stderr",
          "text": [
            "100%|██████████| 4/4 [00:08<00:00,  2.01s/it]"
          ]
        },
        {
          "output_type": "stream",
          "name": "stdout",
          "text": [
            "[756/1241]\n",
            "[# Positions]: 1.72M\n",
            "[# Games]: 16.52K\n",
            "[# Loss]: 5.016 | [# Loss MAIA]: 4.446 | [# Loss Side Info]: 0.079 | [# Loss Value]: 0.491\n"
          ]
        },
        {
          "output_type": "stream",
          "name": "stderr",
          "text": [
            "\n",
            "  0%|          | 0/3 [00:00<?, ?it/s]"
          ]
        },
        {
          "output_type": "stream",
          "name": "stdout",
          "text": [
            "{(10, 10): 46}\n"
          ]
        },
        {
          "output_type": "stream",
          "name": "stderr",
          "text": [
            "100%|██████████| 3/3 [00:06<00:00,  2.33s/it]"
          ]
        },
        {
          "output_type": "stream",
          "name": "stdout",
          "text": [
            "[768/1241]\n",
            "[# Positions]: 1.73M\n",
            "[# Games]: 16.71K\n",
            "[# Loss]: 5.125 | [# Loss MAIA]: 4.441 | [# Loss Side Info]: 0.08 | [# Loss Value]: 0.604\n"
          ]
        },
        {
          "output_type": "stream",
          "name": "stderr",
          "text": [
            "\n",
            "  0%|          | 0/1 [00:00<?, ?it/s]"
          ]
        },
        {
          "output_type": "stream",
          "name": "stdout",
          "text": [
            "{(10, 10): 196}\n"
          ]
        },
        {
          "output_type": "stream",
          "name": "stderr",
          "text": [
            "100%|██████████| 1/1 [00:04<00:00,  4.54s/it]"
          ]
        },
        {
          "output_type": "stream",
          "name": "stdout",
          "text": [
            "[780/1241]\n",
            "[# Positions]: 1.74M\n",
            "[# Games]: 16.75K\n",
            "[# Loss]: 5.135 | [# Loss MAIA]: 4.445 | [# Loss Side Info]: 0.079 | [# Loss Value]: 0.612\n"
          ]
        },
        {
          "output_type": "stream",
          "name": "stderr",
          "text": [
            "\n",
            "  0%|          | 0/3 [00:00<?, ?it/s]"
          ]
        },
        {
          "output_type": "stream",
          "name": "stdout",
          "text": [
            "{(10, 10): 230}\n"
          ]
        },
        {
          "output_type": "stream",
          "name": "stderr",
          "text": [
            "100%|██████████| 3/3 [00:07<00:00,  2.46s/it]"
          ]
        },
        {
          "output_type": "stream",
          "name": "stdout",
          "text": [
            "[792/1241]\n",
            "[# Positions]: 1.76M\n",
            "[# Games]: 16.95K\n",
            "[# Loss]: 4.978 | [# Loss MAIA]: 4.412 | [# Loss Side Info]: 0.079 | [# Loss Value]: 0.487\n"
          ]
        },
        {
          "output_type": "stream",
          "name": "stderr",
          "text": [
            "\n",
            "  0%|          | 0/3 [00:00<?, ?it/s]"
          ]
        },
        {
          "output_type": "stream",
          "name": "stdout",
          "text": [
            "{(10, 10): 162}\n"
          ]
        },
        {
          "output_type": "stream",
          "name": "stderr",
          "text": [
            "100%|██████████| 3/3 [00:07<00:00,  2.58s/it]"
          ]
        },
        {
          "output_type": "stream",
          "name": "stdout",
          "text": [
            "[804/1241]\n",
            "[# Positions]: 1.79M\n",
            "[# Games]: 17.18K\n",
            "[# Loss]: 5.042 | [# Loss MAIA]: 4.4 | [# Loss Side Info]: 0.079 | [# Loss Value]: 0.564\n"
          ]
        },
        {
          "output_type": "stream",
          "name": "stderr",
          "text": [
            "\n",
            "  0%|          | 0/3 [00:00<?, ?it/s]"
          ]
        },
        {
          "output_type": "stream",
          "name": "stdout",
          "text": [
            "{(10, 10): 106}\n"
          ]
        },
        {
          "output_type": "stream",
          "name": "stderr",
          "text": [
            "100%|██████████| 3/3 [00:06<00:00,  2.22s/it]"
          ]
        },
        {
          "output_type": "stream",
          "name": "stdout",
          "text": [
            "[816/1241]\n",
            "[# Positions]: 1.80M\n",
            "[# Games]: 17.34K\n",
            "[# Loss]: 5.032 | [# Loss MAIA]: 4.35 | [# Loss Side Info]: 0.079 | [# Loss Value]: 0.603\n"
          ]
        },
        {
          "output_type": "stream",
          "name": "stderr",
          "text": [
            "\n",
            "  0%|          | 0/2 [00:00<?, ?it/s]"
          ]
        },
        {
          "output_type": "stream",
          "name": "stdout",
          "text": [
            "{(10, 10): 256}\n"
          ]
        },
        {
          "output_type": "stream",
          "name": "stderr",
          "text": [
            "100%|██████████| 2/2 [00:06<00:00,  3.35s/it]"
          ]
        },
        {
          "output_type": "stream",
          "name": "stdout",
          "text": [
            "[828/1241]\n",
            "[# Positions]: 1.81M\n",
            "[# Games]: 17.45K\n",
            "[# Loss]: 5.126 | [# Loss MAIA]: 4.407 | [# Loss Side Info]: 0.078 | [# Loss Value]: 0.641\n"
          ]
        },
        {
          "output_type": "stream",
          "name": "stderr",
          "text": [
            "\n",
            "  0%|          | 0/4 [00:00<?, ?it/s]"
          ]
        },
        {
          "output_type": "stream",
          "name": "stdout",
          "text": [
            "{(10, 10): 181}\n"
          ]
        },
        {
          "output_type": "stream",
          "name": "stderr",
          "text": [
            "100%|██████████| 4/4 [00:08<00:00,  2.03s/it]"
          ]
        },
        {
          "output_type": "stream",
          "name": "stdout",
          "text": [
            "[840/1241]\n",
            "[# Positions]: 1.84M\n",
            "[# Games]: 17.70K\n",
            "[# Loss]: 4.998 | [# Loss MAIA]: 4.362 | [# Loss Side Info]: 0.078 | [# Loss Value]: 0.558\n"
          ]
        },
        {
          "output_type": "stream",
          "name": "stderr",
          "text": [
            "\n",
            "  0%|          | 0/3 [00:00<?, ?it/s]"
          ]
        },
        {
          "output_type": "stream",
          "name": "stdout",
          "text": [
            "{(10, 10): 186}\n"
          ]
        },
        {
          "output_type": "stream",
          "name": "stderr",
          "text": [
            "100%|██████████| 3/3 [00:07<00:00,  2.46s/it]"
          ]
        },
        {
          "output_type": "stream",
          "name": "stdout",
          "text": [
            "[852/1241]\n",
            "[# Positions]: 1.86M\n",
            "[# Games]: 17.89K\n",
            "[# Loss]: 4.945 | [# Loss MAIA]: 4.363 | [# Loss Side Info]: 0.075 | [# Loss Value]: 0.506\n"
          ]
        },
        {
          "output_type": "stream",
          "name": "stderr",
          "text": [
            "\n",
            "  0%|          | 0/3 [00:00<?, ?it/s]"
          ]
        },
        {
          "output_type": "stream",
          "name": "stdout",
          "text": [
            "{(10, 10): 102}\n"
          ]
        },
        {
          "output_type": "stream",
          "name": "stderr",
          "text": [
            "100%|██████████| 3/3 [00:07<00:00,  2.39s/it]"
          ]
        },
        {
          "output_type": "stream",
          "name": "stdout",
          "text": [
            "[864/1241]\n",
            "[# Positions]: 1.88M\n",
            "[# Games]: 18.07K\n",
            "[# Loss]: 4.886 | [# Loss MAIA]: 4.28 | [# Loss Side Info]: 0.074 | [# Loss Value]: 0.532\n"
          ]
        },
        {
          "output_type": "stream",
          "name": "stderr",
          "text": [
            "\n",
            "  0%|          | 0/2 [00:00<?, ?it/s]"
          ]
        },
        {
          "output_type": "stream",
          "name": "stdout",
          "text": [
            "{(10, 10): 198}\n"
          ]
        },
        {
          "output_type": "stream",
          "name": "stderr",
          "text": [
            "100%|██████████| 2/2 [00:06<00:00,  3.17s/it]"
          ]
        },
        {
          "output_type": "stream",
          "name": "stdout",
          "text": [
            "[876/1241]\n",
            "[# Positions]: 1.89M\n",
            "[# Games]: 18.17K\n",
            "[# Loss]: 4.891 | [# Loss MAIA]: 4.268 | [# Loss Side Info]: 0.076 | [# Loss Value]: 0.547\n"
          ]
        },
        {
          "output_type": "stream",
          "name": "stderr",
          "text": [
            "\n",
            "  0%|          | 0/3 [00:00<?, ?it/s]"
          ]
        },
        {
          "output_type": "stream",
          "name": "stdout",
          "text": [
            "{(10, 10): 338}\n"
          ]
        },
        {
          "output_type": "stream",
          "name": "stderr",
          "text": [
            "100%|██████████| 3/3 [00:07<00:00,  2.59s/it]"
          ]
        },
        {
          "output_type": "stream",
          "name": "stdout",
          "text": [
            "[888/1241]\n",
            "[# Positions]: 1.92M\n",
            "[# Games]: 18.37K\n",
            "[# Loss]: 4.666 | [# Loss MAIA]: 4.215 | [# Loss Side Info]: 0.075 | [# Loss Value]: 0.376\n"
          ]
        },
        {
          "output_type": "stream",
          "name": "stderr",
          "text": [
            "\n",
            "  0%|          | 0/5 [00:00<?, ?it/s]"
          ]
        },
        {
          "output_type": "stream",
          "name": "stdout",
          "text": [
            "{(10, 10): 221}\n"
          ]
        },
        {
          "output_type": "stream",
          "name": "stderr",
          "text": [
            "100%|██████████| 5/5 [00:08<00:00,  1.74s/it]"
          ]
        },
        {
          "output_type": "stream",
          "name": "stdout",
          "text": [
            "[900/1241]\n",
            "[# Positions]: 1.95M\n",
            "[# Games]: 18.71K\n",
            "[# Loss]: 4.829 | [# Loss MAIA]: 4.242 | [# Loss Side Info]: 0.075 | [# Loss Value]: 0.512\n"
          ]
        },
        {
          "output_type": "stream",
          "name": "stderr",
          "text": [
            "\n",
            "  0%|          | 0/3 [00:00<?, ?it/s]"
          ]
        },
        {
          "output_type": "stream",
          "name": "stdout",
          "text": [
            "{(10, 10): 139}\n"
          ]
        },
        {
          "output_type": "stream",
          "name": "stderr",
          "text": [
            "100%|██████████| 3/3 [00:07<00:00,  2.56s/it]"
          ]
        },
        {
          "output_type": "stream",
          "name": "stdout",
          "text": [
            "[912/1241]\n",
            "[# Positions]: 1.98M\n",
            "[# Games]: 18.93K\n",
            "[# Loss]: 4.817 | [# Loss MAIA]: 4.206 | [# Loss Side Info]: 0.071 | [# Loss Value]: 0.54\n"
          ]
        },
        {
          "output_type": "stream",
          "name": "stderr",
          "text": [
            "\n",
            "  0%|          | 0/2 [00:00<?, ?it/s]"
          ]
        },
        {
          "output_type": "stream",
          "name": "stdout",
          "text": [
            "{(10, 10): 263}\n"
          ]
        },
        {
          "output_type": "stream",
          "name": "stderr",
          "text": [
            "100%|██████████| 2/2 [00:06<00:00,  3.35s/it]"
          ]
        },
        {
          "output_type": "stream",
          "name": "stdout",
          "text": [
            "[924/1241]\n",
            "[# Positions]: 1.99M\n",
            "[# Games]: 19.07K\n",
            "[# Loss]: 4.845 | [# Loss MAIA]: 4.191 | [# Loss Side Info]: 0.073 | [# Loss Value]: 0.581\n"
          ]
        },
        {
          "output_type": "stream",
          "name": "stderr",
          "text": [
            "\n",
            "  0%|          | 0/4 [00:00<?, ?it/s]"
          ]
        },
        {
          "output_type": "stream",
          "name": "stdout",
          "text": [
            "{(10, 10): 213}\n"
          ]
        },
        {
          "output_type": "stream",
          "name": "stderr",
          "text": [
            "100%|██████████| 4/4 [00:08<00:00,  2.13s/it]"
          ]
        },
        {
          "output_type": "stream",
          "name": "stdout",
          "text": [
            "[936/1241]\n",
            "[# Positions]: 2.02M\n",
            "[# Games]: 19.33K\n",
            "[# Loss]: 4.789 | [# Loss MAIA]: 4.213 | [# Loss Side Info]: 0.075 | [# Loss Value]: 0.501\n"
          ]
        },
        {
          "output_type": "stream",
          "name": "stderr",
          "text": [
            "\n",
            "  0%|          | 0/3 [00:00<?, ?it/s]"
          ]
        },
        {
          "output_type": "stream",
          "name": "stdout",
          "text": [
            "{(10, 10): 179}\n"
          ]
        },
        {
          "output_type": "stream",
          "name": "stderr",
          "text": [
            "100%|██████████| 3/3 [00:07<00:00,  2.51s/it]"
          ]
        },
        {
          "output_type": "stream",
          "name": "stdout",
          "text": [
            "[948/1241]\n",
            "[# Positions]: 2.05M\n",
            "[# Games]: 19.55K\n",
            "[# Loss]: 4.696 | [# Loss MAIA]: 4.158 | [# Loss Side Info]: 0.07 | [# Loss Value]: 0.468\n"
          ]
        },
        {
          "output_type": "stream",
          "name": "stderr",
          "text": [
            "\n",
            "  0%|          | 0/3 [00:00<?, ?it/s]"
          ]
        },
        {
          "output_type": "stream",
          "name": "stdout",
          "text": [
            "{(10, 10): 213}\n"
          ]
        },
        {
          "output_type": "stream",
          "name": "stderr",
          "text": [
            "100%|██████████| 3/3 [00:07<00:00,  2.42s/it]"
          ]
        },
        {
          "output_type": "stream",
          "name": "stdout",
          "text": [
            "[960/1241]\n",
            "[# Positions]: 2.07M\n",
            "[# Games]: 19.72K\n",
            "[# Loss]: 4.735 | [# Loss MAIA]: 4.134 | [# Loss Side Info]: 0.069 | [# Loss Value]: 0.532\n"
          ]
        },
        {
          "output_type": "stream",
          "name": "stderr",
          "text": [
            "\n",
            "  0%|          | 0/3 [00:00<?, ?it/s]"
          ]
        },
        {
          "output_type": "stream",
          "name": "stdout",
          "text": [
            "{(10, 10): 278}\n"
          ]
        },
        {
          "output_type": "stream",
          "name": "stderr",
          "text": [
            "100%|██████████| 3/3 [00:07<00:00,  2.64s/it]"
          ]
        },
        {
          "output_type": "stream",
          "name": "stdout",
          "text": [
            "[972/1241]\n",
            "[# Positions]: 2.09M\n",
            "[# Games]: 19.94K\n",
            "[# Loss]: 4.734 | [# Loss MAIA]: 4.138 | [# Loss Side Info]: 0.071 | [# Loss Value]: 0.526\n"
          ]
        },
        {
          "output_type": "stream",
          "name": "stderr",
          "text": [
            "\n",
            "  0%|          | 0/4 [00:00<?, ?it/s]"
          ]
        },
        {
          "output_type": "stream",
          "name": "stdout",
          "text": [
            "{(10, 10): 153}\n"
          ]
        },
        {
          "output_type": "stream",
          "name": "stderr",
          "text": [
            "100%|██████████| 4/4 [00:08<00:00,  2.07s/it]"
          ]
        },
        {
          "output_type": "stream",
          "name": "stdout",
          "text": [
            "[984/1241]\n",
            "[# Positions]: 2.12M\n",
            "[# Games]: 20.21K\n",
            "[# Loss]: 4.704 | [# Loss MAIA]: 4.134 | [# Loss Side Info]: 0.071 | [# Loss Value]: 0.5\n"
          ]
        },
        {
          "output_type": "stream",
          "name": "stderr",
          "text": [
            "\n",
            "  0%|          | 0/2 [00:00<?, ?it/s]"
          ]
        },
        {
          "output_type": "stream",
          "name": "stdout",
          "text": [
            "{(10, 10): 95}\n"
          ]
        },
        {
          "output_type": "stream",
          "name": "stderr",
          "text": [
            "100%|██████████| 2/2 [00:07<00:00,  3.51s/it]"
          ]
        },
        {
          "output_type": "stream",
          "name": "stdout",
          "text": [
            "[996/1241]\n",
            "[# Positions]: 2.14M\n",
            "[# Games]: 20.37K\n",
            "[# Loss]: 4.764 | [# Loss MAIA]: 4.092 | [# Loss Side Info]: 0.068 | [# Loss Value]: 0.604\n"
          ]
        },
        {
          "output_type": "stream",
          "name": "stderr",
          "text": [
            "\n",
            "  0%|          | 0/2 [00:00<?, ?it/s]"
          ]
        },
        {
          "output_type": "stream",
          "name": "stdout",
          "text": [
            "{(10, 10): 175}\n"
          ]
        },
        {
          "output_type": "stream",
          "name": "stderr",
          "text": [
            "100%|██████████| 2/2 [00:06<00:00,  3.12s/it]"
          ]
        },
        {
          "output_type": "stream",
          "name": "stdout",
          "text": [
            "[1008/1241]\n",
            "[# Positions]: 2.15M\n",
            "[# Games]: 20.46K\n",
            "[# Loss]: 4.694 | [# Loss MAIA]: 4.071 | [# Loss Side Info]: 0.067 | [# Loss Value]: 0.556\n"
          ]
        },
        {
          "output_type": "stream",
          "name": "stderr",
          "text": [
            "\n",
            "  0%|          | 0/3 [00:00<?, ?it/s]"
          ]
        },
        {
          "output_type": "stream",
          "name": "stdout",
          "text": [
            "{(10, 10): 267}\n"
          ]
        },
        {
          "output_type": "stream",
          "name": "stderr",
          "text": [
            "100%|██████████| 3/3 [00:07<00:00,  2.51s/it]"
          ]
        },
        {
          "output_type": "stream",
          "name": "stdout",
          "text": [
            "[1020/1241]\n",
            "[# Positions]: 2.17M\n",
            "[# Games]: 20.64K\n",
            "[# Loss]: 4.701 | [# Loss MAIA]: 4.063 | [# Loss Side Info]: 0.066 | [# Loss Value]: 0.572\n"
          ]
        },
        {
          "output_type": "stream",
          "name": "stderr",
          "text": [
            "\n",
            "  0%|          | 0/4 [00:00<?, ?it/s]"
          ]
        },
        {
          "output_type": "stream",
          "name": "stdout",
          "text": [
            "{(10, 10): 258}\n"
          ]
        },
        {
          "output_type": "stream",
          "name": "stderr",
          "text": [
            "100%|██████████| 4/4 [00:08<00:00,  2.07s/it]"
          ]
        },
        {
          "output_type": "stream",
          "name": "stdout",
          "text": [
            "[1032/1241]\n",
            "[# Positions]: 2.19M\n",
            "[# Games]: 20.91K\n",
            "[# Loss]: 4.653 | [# Loss MAIA]: 4.047 | [# Loss Side Info]: 0.069 | [# Loss Value]: 0.536\n"
          ]
        },
        {
          "output_type": "stream",
          "name": "stderr",
          "text": [
            "\n",
            "  0%|          | 0/3 [00:00<?, ?it/s]"
          ]
        },
        {
          "output_type": "stream",
          "name": "stdout",
          "text": [
            "{(10, 10): 171}\n"
          ]
        },
        {
          "output_type": "stream",
          "name": "stderr",
          "text": [
            "100%|██████████| 3/3 [00:07<00:00,  2.58s/it]"
          ]
        },
        {
          "output_type": "stream",
          "name": "stdout",
          "text": [
            "[1044/1241]\n",
            "[# Positions]: 2.22M\n",
            "[# Games]: 21.16K\n",
            "[# Loss]: 4.744 | [# Loss MAIA]: 4.042 | [# Loss Side Info]: 0.066 | [# Loss Value]: 0.636\n"
          ]
        },
        {
          "output_type": "stream",
          "name": "stderr",
          "text": [
            "\n",
            "  0%|          | 0/3 [00:00<?, ?it/s]"
          ]
        },
        {
          "output_type": "stream",
          "name": "stdout",
          "text": [
            "{(10, 10): 336}\n"
          ]
        },
        {
          "output_type": "stream",
          "name": "stderr",
          "text": [
            "100%|██████████| 3/3 [00:07<00:00,  2.53s/it]"
          ]
        },
        {
          "output_type": "stream",
          "name": "stdout",
          "text": [
            "[1056/1241]\n",
            "[# Positions]: 2.24M\n",
            "[# Games]: 21.33K\n",
            "[# Loss]: 4.6 | [# Loss MAIA]: 4.033 | [# Loss Side Info]: 0.069 | [# Loss Value]: 0.498\n"
          ]
        },
        {
          "output_type": "stream",
          "name": "stderr",
          "text": [
            "\n",
            "  0%|          | 0/5 [00:00<?, ?it/s]"
          ]
        },
        {
          "output_type": "stream",
          "name": "stdout",
          "text": [
            "{(10, 10): 238}\n"
          ]
        },
        {
          "output_type": "stream",
          "name": "stderr",
          "text": [
            "100%|██████████| 5/5 [00:09<00:00,  1.84s/it]"
          ]
        },
        {
          "output_type": "stream",
          "name": "stdout",
          "text": [
            "[1068/1241]\n",
            "[# Positions]: 2.27M\n",
            "[# Games]: 21.67K\n",
            "[# Loss]: 4.59 | [# Loss MAIA]: 4.044 | [# Loss Side Info]: 0.068 | [# Loss Value]: 0.478\n"
          ]
        },
        {
          "output_type": "stream",
          "name": "stderr",
          "text": [
            "\n",
            "  0%|          | 0/3 [00:00<?, ?it/s]"
          ]
        },
        {
          "output_type": "stream",
          "name": "stdout",
          "text": [
            "{(10, 10): 153}\n"
          ]
        },
        {
          "output_type": "stream",
          "name": "stderr",
          "text": [
            "100%|██████████| 3/3 [00:07<00:00,  2.56s/it]"
          ]
        },
        {
          "output_type": "stream",
          "name": "stdout",
          "text": [
            "[1080/1241]\n",
            "[# Positions]: 2.30M\n",
            "[# Games]: 21.91K\n",
            "[# Loss]: 4.586 | [# Loss MAIA]: 3.997 | [# Loss Side Info]: 0.065 | [# Loss Value]: 0.525\n"
          ]
        },
        {
          "output_type": "stream",
          "name": "stderr",
          "text": [
            "\n",
            "  0%|          | 0/2 [00:00<?, ?it/s]"
          ]
        },
        {
          "output_type": "stream",
          "name": "stdout",
          "text": [
            "{(10, 10): 217}\n"
          ]
        },
        {
          "output_type": "stream",
          "name": "stderr",
          "text": [
            "100%|██████████| 2/2 [00:06<00:00,  3.50s/it]"
          ]
        },
        {
          "output_type": "stream",
          "name": "stdout",
          "text": [
            "[1092/1241]\n",
            "[# Positions]: 2.31M\n",
            "[# Games]: 22.06K\n",
            "[# Loss]: 4.632 | [# Loss MAIA]: 4.0 | [# Loss Side Info]: 0.068 | [# Loss Value]: 0.563\n"
          ]
        },
        {
          "output_type": "stream",
          "name": "stderr",
          "text": [
            "\n",
            "  0%|          | 0/4 [00:00<?, ?it/s]"
          ]
        },
        {
          "output_type": "stream",
          "name": "stdout",
          "text": [
            "{(10, 10): 274}\n"
          ]
        },
        {
          "output_type": "stream",
          "name": "stderr",
          "text": [
            "100%|██████████| 4/4 [00:07<00:00,  1.97s/it]"
          ]
        },
        {
          "output_type": "stream",
          "name": "stdout",
          "text": [
            "[1104/1241]\n",
            "[# Positions]: 2.34M\n",
            "[# Games]: 22.28K\n",
            "[# Loss]: 4.555 | [# Loss MAIA]: 4.003 | [# Loss Side Info]: 0.066 | [# Loss Value]: 0.485\n"
          ]
        },
        {
          "output_type": "stream",
          "name": "stderr",
          "text": [
            "\n",
            "  0%|          | 0/4 [00:00<?, ?it/s]"
          ]
        },
        {
          "output_type": "stream",
          "name": "stdout",
          "text": [
            "{(10, 10): 311}\n"
          ]
        },
        {
          "output_type": "stream",
          "name": "stderr",
          "text": [
            "100%|██████████| 4/4 [00:08<00:00,  2.08s/it]"
          ]
        },
        {
          "output_type": "stream",
          "name": "stdout",
          "text": [
            "[1116/1241]\n",
            "[# Positions]: 2.37M\n",
            "[# Games]: 22.55K\n",
            "[# Loss]: 4.556 | [# Loss MAIA]: 3.955 | [# Loss Side Info]: 0.063 | [# Loss Value]: 0.538\n"
          ]
        },
        {
          "output_type": "stream",
          "name": "stderr",
          "text": [
            "\n",
            "  0%|          | 0/4 [00:00<?, ?it/s]"
          ]
        },
        {
          "output_type": "stream",
          "name": "stdout",
          "text": [
            "{(10, 10): 319}\n"
          ]
        },
        {
          "output_type": "stream",
          "name": "stderr",
          "text": [
            "100%|██████████| 4/4 [00:08<00:00,  2.12s/it]"
          ]
        },
        {
          "output_type": "stream",
          "name": "stdout",
          "text": [
            "[1128/1241]\n",
            "[# Positions]: 2.40M\n",
            "[# Games]: 22.86K\n",
            "[# Loss]: 4.528 | [# Loss MAIA]: 3.972 | [# Loss Side Info]: 0.064 | [# Loss Value]: 0.493\n"
          ]
        },
        {
          "output_type": "stream",
          "name": "stderr",
          "text": [
            "\n",
            "  0%|          | 0/5 [00:00<?, ?it/s]"
          ]
        },
        {
          "output_type": "stream",
          "name": "stdout",
          "text": [
            "{(10, 10): 270}\n"
          ]
        },
        {
          "output_type": "stream",
          "name": "stderr",
          "text": [
            "100%|██████████| 5/5 [00:09<00:00,  1.86s/it]"
          ]
        },
        {
          "output_type": "stream",
          "name": "stdout",
          "text": [
            "[1140/1241]\n",
            "[# Positions]: 2.43M\n",
            "[# Games]: 23.18K\n",
            "[# Loss]: 4.46 | [# Loss MAIA]: 3.939 | [# Loss Side Info]: 0.066 | [# Loss Value]: 0.456\n"
          ]
        },
        {
          "output_type": "stream",
          "name": "stderr",
          "text": [
            "\n",
            "  0%|          | 0/4 [00:00<?, ?it/s]"
          ]
        },
        {
          "output_type": "stream",
          "name": "stdout",
          "text": [
            "{(10, 10): 252}\n"
          ]
        },
        {
          "output_type": "stream",
          "name": "stderr",
          "text": [
            "100%|██████████| 4/4 [00:08<00:00,  2.11s/it]"
          ]
        },
        {
          "output_type": "stream",
          "name": "stdout",
          "text": [
            "[1152/1241]\n",
            "[# Positions]: 2.46M\n",
            "[# Games]: 23.45K\n",
            "[# Loss]: 4.476 | [# Loss MAIA]: 3.896 | [# Loss Side Info]: 0.062 | [# Loss Value]: 0.518\n"
          ]
        },
        {
          "output_type": "stream",
          "name": "stderr",
          "text": [
            "\n",
            "  0%|          | 0/3 [00:00<?, ?it/s]"
          ]
        },
        {
          "output_type": "stream",
          "name": "stdout",
          "text": [
            "{(10, 10): 270}\n"
          ]
        },
        {
          "output_type": "stream",
          "name": "stderr",
          "text": [
            "100%|██████████| 3/3 [00:07<00:00,  2.63s/it]"
          ]
        },
        {
          "output_type": "stream",
          "name": "stdout",
          "text": [
            "[1164/1241]\n",
            "[# Positions]: 2.49M\n",
            "[# Games]: 23.70K\n",
            "[# Loss]: 4.471 | [# Loss MAIA]: 3.871 | [# Loss Side Info]: 0.062 | [# Loss Value]: 0.538\n"
          ]
        },
        {
          "output_type": "stream",
          "name": "stderr",
          "text": [
            "\n",
            "  0%|          | 0/4 [00:00<?, ?it/s]"
          ]
        },
        {
          "output_type": "stream",
          "name": "stdout",
          "text": [
            "{(10, 10): 293}\n"
          ]
        },
        {
          "output_type": "stream",
          "name": "stderr",
          "text": [
            "100%|██████████| 4/4 [00:08<00:00,  2.12s/it]"
          ]
        },
        {
          "output_type": "stream",
          "name": "stdout",
          "text": [
            "[1176/1241]\n",
            "[# Positions]: 2.52M\n",
            "[# Games]: 23.97K\n",
            "[# Loss]: 4.455 | [# Loss MAIA]: 3.922 | [# Loss Side Info]: 0.065 | [# Loss Value]: 0.468\n"
          ]
        },
        {
          "output_type": "stream",
          "name": "stderr",
          "text": [
            "\n",
            "  0%|          | 0/4 [00:00<?, ?it/s]"
          ]
        },
        {
          "output_type": "stream",
          "name": "stdout",
          "text": [
            "{(10, 10): 233}\n"
          ]
        },
        {
          "output_type": "stream",
          "name": "stderr",
          "text": [
            "100%|██████████| 4/4 [00:08<00:00,  2.10s/it]"
          ]
        },
        {
          "output_type": "stream",
          "name": "stdout",
          "text": [
            "[1188/1241]\n",
            "[# Positions]: 2.55M\n",
            "[# Games]: 24.27K\n",
            "[# Loss]: 4.456 | [# Loss MAIA]: 3.895 | [# Loss Side Info]: 0.062 | [# Loss Value]: 0.499\n"
          ]
        },
        {
          "output_type": "stream",
          "name": "stderr",
          "text": [
            "\n",
            "  0%|          | 0/3 [00:00<?, ?it/s]"
          ]
        },
        {
          "output_type": "stream",
          "name": "stdout",
          "text": [
            "{(10, 10): 287}\n"
          ]
        },
        {
          "output_type": "stream",
          "name": "stderr",
          "text": [
            "100%|██████████| 3/3 [00:07<00:00,  2.59s/it]"
          ]
        },
        {
          "output_type": "stream",
          "name": "stdout",
          "text": [
            "[1200/1241]\n",
            "[# Positions]: 2.57M\n",
            "[# Games]: 24.50K\n",
            "[# Loss]: 4.513 | [# Loss MAIA]: 3.92 | [# Loss Side Info]: 0.062 | [# Loss Value]: 0.531\n"
          ]
        },
        {
          "output_type": "stream",
          "name": "stderr",
          "text": [
            "\n",
            "  0%|          | 0/4 [00:00<?, ?it/s]"
          ]
        },
        {
          "output_type": "stream",
          "name": "stdout",
          "text": [
            "{(10, 10): 294}\n"
          ]
        },
        {
          "output_type": "stream",
          "name": "stderr",
          "text": [
            "100%|██████████| 4/4 [00:08<00:00,  2.17s/it]"
          ]
        },
        {
          "output_type": "stream",
          "name": "stdout",
          "text": [
            "[1212/1241]\n",
            "[# Positions]: 2.60M\n",
            "[# Games]: 24.79K\n",
            "[# Loss]: 4.489 | [# Loss MAIA]: 3.908 | [# Loss Side Info]: 0.063 | [# Loss Value]: 0.518\n"
          ]
        },
        {
          "output_type": "stream",
          "name": "stderr",
          "text": [
            "\n",
            "  0%|          | 0/4 [00:00<?, ?it/s]"
          ]
        },
        {
          "output_type": "stream",
          "name": "stdout",
          "text": [
            "{(10, 10): 187}\n"
          ]
        },
        {
          "output_type": "stream",
          "name": "stderr",
          "text": [
            "100%|██████████| 4/4 [00:08<00:00,  2.17s/it]"
          ]
        },
        {
          "output_type": "stream",
          "name": "stdout",
          "text": [
            "[1224/1241]\n",
            "[# Positions]: 2.63M\n",
            "[# Games]: 25.08K\n",
            "[# Loss]: 4.462 | [# Loss MAIA]: 3.875 | [# Loss Side Info]: 0.06 | [# Loss Value]: 0.528\n"
          ]
        },
        {
          "output_type": "stream",
          "name": "stderr",
          "text": [
            "\n",
            "  0%|          | 0/3 [00:00<?, ?it/s]"
          ]
        },
        {
          "output_type": "stream",
          "name": "stdout",
          "text": [
            "{(10, 10): 107}\n"
          ]
        },
        {
          "output_type": "stream",
          "name": "stderr",
          "text": [
            "100%|██████████| 3/3 [00:06<00:00,  2.18s/it]"
          ]
        },
        {
          "output_type": "stream",
          "name": "stdout",
          "text": [
            "[1236/1241]\n",
            "[# Positions]: 2.65M\n",
            "[# Games]: 25.27K\n",
            "[# Loss]: 4.46 | [# Loss MAIA]: 3.823 | [# Loss Side Info]: 0.06 | [# Loss Value]: 0.577\n"
          ]
        },
        {
          "output_type": "stream",
          "name": "stderr",
          "text": [
            "\n",
            "100%|██████████| 2/2 [00:05<00:00,  2.77s/it]"
          ]
        },
        {
          "output_type": "stream",
          "name": "stdout",
          "text": [
            "[1241/1241]\n",
            "[# Positions]: 2.66M\n",
            "[# Games]: 25.38K\n",
            "[# Loss]: 4.401 | [# Loss MAIA]: 3.831 | [# Loss Side Info]: 0.063 | [# Loss Value]: 0.506\n",
            "### (1 / 6) Took 13m 57.24s to train /content/drive/MyDrive/ChessEngine/lichess_db_standard_rated_2025-01.pgn with 1241 chunks.\n"
          ]
        },
        {
          "output_type": "stream",
          "name": "stderr",
          "text": [
            "\n"
          ]
        },
        {
          "output_type": "stream",
          "name": "stdout",
          "text": [
            "Decompressing /content/drive/MyDrive/ChessEngine/lichess_db_standard_rated_2025-02.pgn took 5.68s\n",
            "Cache not found. Creating chunks for /content/drive/MyDrive/ChessEngine/lichess_db_standard_rated_2025-02.pgn\n",
            "Chunking took 3.77s\n",
            "Training /content/drive/MyDrive/ChessEngine/lichess_db_standard_rated_2025-02.pgn with 1160 chunks.\n",
            "{(10, 10): 226}\n"
          ]
        },
        {
          "output_type": "stream",
          "name": "stderr",
          "text": [
            "\r  0%|          | 0/3 [00:00<?, ?it/s]"
          ]
        },
        {
          "output_type": "stream",
          "name": "stdout",
          "text": [
            "{(10, 10): 221}\n"
          ]
        },
        {
          "output_type": "stream",
          "name": "stderr",
          "text": [
            "100%|██████████| 3/3 [00:07<00:00,  2.51s/it]"
          ]
        },
        {
          "output_type": "stream",
          "name": "stdout",
          "text": [
            "[12/1160]\n",
            "[# Positions]: 2.68M\n",
            "[# Games]: 25.60K\n",
            "[# Loss]: 4.478 | [# Loss MAIA]: 3.815 | [# Loss Side Info]: 0.059 | [# Loss Value]: 0.603\n"
          ]
        },
        {
          "output_type": "stream",
          "name": "stderr",
          "text": [
            "\n",
            "  0%|          | 0/3 [00:00<?, ?it/s]"
          ]
        },
        {
          "output_type": "stream",
          "name": "stdout",
          "text": [
            "{(10, 10): 151}\n"
          ]
        },
        {
          "output_type": "stream",
          "name": "stderr",
          "text": [
            "100%|██████████| 3/3 [00:07<00:00,  2.45s/it]"
          ]
        },
        {
          "output_type": "stream",
          "name": "stdout",
          "text": [
            "[24/1160]\n",
            "[# Positions]: 2.70M\n",
            "[# Games]: 25.82K\n",
            "[# Loss]: 4.491 | [# Loss MAIA]: 3.808 | [# Loss Side Info]: 0.058 | [# Loss Value]: 0.625\n"
          ]
        },
        {
          "output_type": "stream",
          "name": "stderr",
          "text": [
            "\n",
            "  0%|          | 0/2 [00:00<?, ?it/s]"
          ]
        },
        {
          "output_type": "stream",
          "name": "stdout",
          "text": [
            "{(10, 10): 191}\n"
          ]
        },
        {
          "output_type": "stream",
          "name": "stderr",
          "text": [
            "100%|██████████| 2/2 [00:06<00:00,  3.50s/it]"
          ]
        },
        {
          "output_type": "stream",
          "name": "stdout",
          "text": [
            "[36/1160]\n",
            "[# Positions]: 2.72M\n",
            "[# Games]: 25.97K\n",
            "[# Loss]: 4.528 | [# Loss MAIA]: 3.803 | [# Loss Side Info]: 0.06 | [# Loss Value]: 0.665\n"
          ]
        },
        {
          "output_type": "stream",
          "name": "stderr",
          "text": [
            "\n",
            "  0%|          | 0/3 [00:00<?, ?it/s]"
          ]
        },
        {
          "output_type": "stream",
          "name": "stdout",
          "text": [
            "{(10, 10): 155}\n"
          ]
        },
        {
          "output_type": "stream",
          "name": "stderr",
          "text": [
            "100%|██████████| 3/3 [00:07<00:00,  2.37s/it]"
          ]
        },
        {
          "output_type": "stream",
          "name": "stdout",
          "text": [
            "[48/1160]\n",
            "[# Positions]: 2.74M\n",
            "[# Games]: 26.16K\n",
            "[# Loss]: 4.488 | [# Loss MAIA]: 3.852 | [# Loss Side Info]: 0.062 | [# Loss Value]: 0.575\n"
          ]
        },
        {
          "output_type": "stream",
          "name": "stderr",
          "text": [
            "\n",
            "  0%|          | 0/2 [00:00<?, ?it/s]"
          ]
        },
        {
          "output_type": "stream",
          "name": "stdout",
          "text": [
            "{(10, 10): 138}\n"
          ]
        },
        {
          "output_type": "stream",
          "name": "stderr",
          "text": [
            "100%|██████████| 2/2 [00:06<00:00,  3.39s/it]"
          ]
        },
        {
          "output_type": "stream",
          "name": "stdout",
          "text": [
            "[60/1160]\n",
            "[# Positions]: 2.75M\n",
            "[# Games]: 26.32K\n",
            "[# Loss]: 4.458 | [# Loss MAIA]: 3.777 | [# Loss Side Info]: 0.058 | [# Loss Value]: 0.623\n"
          ]
        },
        {
          "output_type": "stream",
          "name": "stderr",
          "text": [
            "\n",
            "  0%|          | 0/2 [00:00<?, ?it/s]"
          ]
        },
        {
          "output_type": "stream",
          "name": "stdout",
          "text": [
            "{(10, 10): 169}\n"
          ]
        },
        {
          "output_type": "stream",
          "name": "stderr",
          "text": [
            "100%|██████████| 2/2 [00:06<00:00,  3.33s/it]"
          ]
        },
        {
          "output_type": "stream",
          "name": "stdout",
          "text": [
            "[72/1160]\n",
            "[# Positions]: 2.76M\n",
            "[# Games]: 26.46K\n",
            "[# Loss]: 4.596 | [# Loss MAIA]: 3.802 | [# Loss Side Info]: 0.058 | [# Loss Value]: 0.736\n"
          ]
        },
        {
          "output_type": "stream",
          "name": "stderr",
          "text": [
            "\n",
            "  0%|          | 0/3 [00:00<?, ?it/s]"
          ]
        },
        {
          "output_type": "stream",
          "name": "stdout",
          "text": [
            "{(10, 10): 201}\n"
          ]
        },
        {
          "output_type": "stream",
          "name": "stderr",
          "text": [
            "100%|██████████| 3/3 [00:07<00:00,  2.39s/it]"
          ]
        },
        {
          "output_type": "stream",
          "name": "stdout",
          "text": [
            "[84/1160]\n",
            "[# Positions]: 2.78M\n",
            "[# Games]: 26.63K\n",
            "[# Loss]: 4.419 | [# Loss MAIA]: 3.786 | [# Loss Side Info]: 0.06 | [# Loss Value]: 0.573\n"
          ]
        },
        {
          "output_type": "stream",
          "name": "stderr",
          "text": [
            "\n",
            "  0%|          | 0/3 [00:00<?, ?it/s]"
          ]
        },
        {
          "output_type": "stream",
          "name": "stdout",
          "text": [
            "{(10, 10): 184}\n"
          ]
        },
        {
          "output_type": "stream",
          "name": "stderr",
          "text": [
            "100%|██████████| 3/3 [00:07<00:00,  2.45s/it]"
          ]
        },
        {
          "output_type": "stream",
          "name": "stdout",
          "text": [
            "[96/1160]\n",
            "[# Positions]: 2.80M\n",
            "[# Games]: 26.83K\n",
            "[# Loss]: 4.605 | [# Loss MAIA]: 3.846 | [# Loss Side Info]: 0.061 | [# Loss Value]: 0.698\n"
          ]
        },
        {
          "output_type": "stream",
          "name": "stderr",
          "text": [
            "\n",
            "  0%|          | 0/2 [00:00<?, ?it/s]"
          ]
        },
        {
          "output_type": "stream",
          "name": "stdout",
          "text": [
            "{(10, 10): 177}\n"
          ]
        },
        {
          "output_type": "stream",
          "name": "stderr",
          "text": [
            "100%|██████████| 2/2 [00:07<00:00,  3.56s/it]"
          ]
        },
        {
          "output_type": "stream",
          "name": "stdout",
          "text": [
            "[108/1160]\n",
            "[# Positions]: 2.81M\n",
            "[# Games]: 27.01K\n",
            "[# Loss]: 4.532 | [# Loss MAIA]: 3.84 | [# Loss Side Info]: 0.059 | [# Loss Value]: 0.633\n"
          ]
        },
        {
          "output_type": "stream",
          "name": "stderr",
          "text": [
            "\n",
            "  0%|          | 0/3 [00:00<?, ?it/s]"
          ]
        },
        {
          "output_type": "stream",
          "name": "stdout",
          "text": [
            "{(10, 10): 173}\n"
          ]
        },
        {
          "output_type": "stream",
          "name": "stderr",
          "text": [
            "100%|██████████| 3/3 [00:07<00:00,  2.40s/it]"
          ]
        },
        {
          "output_type": "stream",
          "name": "stdout",
          "text": [
            "[120/1160]\n",
            "[# Positions]: 2.83M\n",
            "[# Games]: 27.19K\n",
            "[# Loss]: 4.512 | [# Loss MAIA]: 3.896 | [# Loss Side Info]: 0.058 | [# Loss Value]: 0.559\n"
          ]
        },
        {
          "output_type": "stream",
          "name": "stderr",
          "text": [
            "\n",
            "  0%|          | 0/3 [00:00<?, ?it/s]"
          ]
        },
        {
          "output_type": "stream",
          "name": "stdout",
          "text": [
            "{(10, 10): 180}\n"
          ]
        },
        {
          "output_type": "stream",
          "name": "stderr",
          "text": [
            "100%|██████████| 3/3 [00:07<00:00,  2.34s/it]"
          ]
        },
        {
          "output_type": "stream",
          "name": "stdout",
          "text": [
            "[132/1160]\n",
            "[# Positions]: 2.85M\n",
            "[# Games]: 27.36K\n",
            "[# Loss]: 4.492 | [# Loss MAIA]: 3.914 | [# Loss Side Info]: 0.06 | [# Loss Value]: 0.518\n"
          ]
        },
        {
          "output_type": "stream",
          "name": "stderr",
          "text": [
            "\n",
            "  0%|          | 0/3 [00:00<?, ?it/s]"
          ]
        },
        {
          "output_type": "stream",
          "name": "stdout",
          "text": [
            "{(10, 10): 91}\n"
          ]
        },
        {
          "output_type": "stream",
          "name": "stderr",
          "text": [
            "100%|██████████| 3/3 [00:06<00:00,  2.32s/it]"
          ]
        },
        {
          "output_type": "stream",
          "name": "stdout",
          "text": [
            "[144/1160]\n",
            "[# Positions]: 2.87M\n",
            "[# Games]: 27.54K\n",
            "[# Loss]: 4.57 | [# Loss MAIA]: 3.834 | [# Loss Side Info]: 0.059 | [# Loss Value]: 0.677\n"
          ]
        },
        {
          "output_type": "stream",
          "name": "stderr",
          "text": [
            "\n",
            "  0%|          | 0/2 [00:00<?, ?it/s]"
          ]
        },
        {
          "output_type": "stream",
          "name": "stdout",
          "text": [
            "{(10, 10): 114}\n"
          ]
        },
        {
          "output_type": "stream",
          "name": "stderr",
          "text": [
            "100%|██████████| 2/2 [00:06<00:00,  3.05s/it]"
          ]
        },
        {
          "output_type": "stream",
          "name": "stdout",
          "text": [
            "[156/1160]\n",
            "[# Positions]: 2.88M\n",
            "[# Games]: 27.63K\n",
            "[# Loss]: 4.544 | [# Loss MAIA]: 3.839 | [# Loss Side Info]: 0.056 | [# Loss Value]: 0.649\n"
          ]
        },
        {
          "output_type": "stream",
          "name": "stderr",
          "text": [
            "\n",
            "  0%|          | 0/2 [00:00<?, ?it/s]"
          ]
        },
        {
          "output_type": "stream",
          "name": "stdout",
          "text": [
            "{(10, 10): 197}\n"
          ]
        },
        {
          "output_type": "stream",
          "name": "stderr",
          "text": [
            "100%|██████████| 2/2 [00:06<00:00,  3.28s/it]"
          ]
        },
        {
          "output_type": "stream",
          "name": "stdout",
          "text": [
            "[168/1160]\n",
            "[# Positions]: 2.89M\n",
            "[# Games]: 27.75K\n",
            "[# Loss]: 4.49 | [# Loss MAIA]: 3.813 | [# Loss Side Info]: 0.057 | [# Loss Value]: 0.62\n"
          ]
        },
        {
          "output_type": "stream",
          "name": "stderr",
          "text": [
            "\n",
            "  0%|          | 0/3 [00:00<?, ?it/s]"
          ]
        },
        {
          "output_type": "stream",
          "name": "stdout",
          "text": [
            "{(10, 10): 204}\n"
          ]
        },
        {
          "output_type": "stream",
          "name": "stderr",
          "text": [
            "100%|██████████| 3/3 [00:07<00:00,  2.44s/it]"
          ]
        },
        {
          "output_type": "stream",
          "name": "stdout",
          "text": [
            "[180/1160]\n",
            "[# Positions]: 2.91M\n",
            "[# Games]: 27.94K\n",
            "[# Loss]: 4.504 | [# Loss MAIA]: 3.817 | [# Loss Side Info]: 0.059 | [# Loss Value]: 0.629\n"
          ]
        },
        {
          "output_type": "stream",
          "name": "stderr",
          "text": [
            "\n",
            "  0%|          | 0/3 [00:00<?, ?it/s]"
          ]
        },
        {
          "output_type": "stream",
          "name": "stdout",
          "text": [
            "{(10, 10): 145}\n"
          ]
        },
        {
          "output_type": "stream",
          "name": "stderr",
          "text": [
            "100%|██████████| 3/3 [00:07<00:00,  2.47s/it]"
          ]
        },
        {
          "output_type": "stream",
          "name": "stdout",
          "text": [
            "[192/1160]\n"
          ]
        },
        {
          "output_type": "stream",
          "name": "stderr",
          "text": [
            "\n"
          ]
        },
        {
          "output_type": "stream",
          "name": "stdout",
          "text": [
            "[# Positions]: 2.92M\n",
            "[# Games]: 28.15K\n",
            "[# Loss]: 4.499 | [# Loss MAIA]: 3.732 | [# Loss Side Info]: 0.056 | [# Loss Value]: 0.712\n"
          ]
        },
        {
          "output_type": "stream",
          "name": "stderr",
          "text": [
            "\r  0%|          | 0/2 [00:00<?, ?it/s]"
          ]
        },
        {
          "output_type": "stream",
          "name": "stdout",
          "text": [
            "{(10, 10): 174}\n"
          ]
        },
        {
          "output_type": "stream",
          "name": "stderr",
          "text": [
            "100%|██████████| 2/2 [00:06<00:00,  3.26s/it]"
          ]
        },
        {
          "output_type": "stream",
          "name": "stdout",
          "text": [
            "[204/1160]\n",
            "[# Positions]: 2.94M\n",
            "[# Games]: 28.29K\n",
            "[# Loss]: 4.4 | [# Loss MAIA]: 3.757 | [# Loss Side Info]: 0.054 | [# Loss Value]: 0.589\n"
          ]
        },
        {
          "output_type": "stream",
          "name": "stderr",
          "text": [
            "\n",
            "  0%|          | 0/3 [00:00<?, ?it/s]"
          ]
        },
        {
          "output_type": "stream",
          "name": "stdout",
          "text": [
            "{(10, 10): 217}\n"
          ]
        },
        {
          "output_type": "stream",
          "name": "stderr",
          "text": [
            "100%|██████████| 3/3 [00:07<00:00,  2.46s/it]"
          ]
        },
        {
          "output_type": "stream",
          "name": "stdout",
          "text": [
            "[216/1160]\n",
            "[# Positions]: 2.96M\n",
            "[# Games]: 28.47K\n",
            "[# Loss]: 4.435 | [# Loss MAIA]: 3.774 | [# Loss Side Info]: 0.056 | [# Loss Value]: 0.605\n"
          ]
        },
        {
          "output_type": "stream",
          "name": "stderr",
          "text": [
            "\n",
            "  0%|          | 0/3 [00:00<?, ?it/s]"
          ]
        },
        {
          "output_type": "stream",
          "name": "stdout",
          "text": [
            "{(10, 10): 194}\n"
          ]
        },
        {
          "output_type": "stream",
          "name": "stderr",
          "text": [
            "100%|██████████| 3/3 [00:07<00:00,  2.44s/it]"
          ]
        },
        {
          "output_type": "stream",
          "name": "stdout",
          "text": [
            "[228/1160]\n",
            "[# Positions]: 2.98M\n",
            "[# Games]: 28.68K\n",
            "[# Loss]: 4.438 | [# Loss MAIA]: 3.747 | [# Loss Side Info]: 0.058 | [# Loss Value]: 0.634\n"
          ]
        },
        {
          "output_type": "stream",
          "name": "stderr",
          "text": [
            "\n",
            "  0%|          | 0/3 [00:00<?, ?it/s]"
          ]
        },
        {
          "output_type": "stream",
          "name": "stdout",
          "text": [
            "{(10, 10): 170}\n"
          ]
        },
        {
          "output_type": "stream",
          "name": "stderr",
          "text": [
            "100%|██████████| 3/3 [00:07<00:00,  2.41s/it]"
          ]
        },
        {
          "output_type": "stream",
          "name": "stdout",
          "text": [
            "[240/1160]\n",
            "[# Positions]: 2.99M\n",
            "[# Games]: 28.88K\n",
            "[# Loss]: 4.431 | [# Loss MAIA]: 3.727 | [# Loss Side Info]: 0.056 | [# Loss Value]: 0.648\n"
          ]
        },
        {
          "output_type": "stream",
          "name": "stderr",
          "text": [
            "\n",
            "  0%|          | 0/3 [00:00<?, ?it/s]"
          ]
        },
        {
          "output_type": "stream",
          "name": "stdout",
          "text": [
            "{(10, 10): 215}\n"
          ]
        },
        {
          "output_type": "stream",
          "name": "stderr",
          "text": [
            "100%|██████████| 3/3 [00:07<00:00,  2.34s/it]"
          ]
        },
        {
          "output_type": "stream",
          "name": "stdout",
          "text": [
            "[252/1160]\n",
            "[# Positions]: 3.01M\n",
            "[# Games]: 29.05K\n",
            "[# Loss]: 3.728 | [# Loss MAIA]: 3.261 | [# Loss Side Info]: 0.051 | [# Loss Value]: 0.416\n"
          ]
        },
        {
          "output_type": "stream",
          "name": "stderr",
          "text": [
            "\n",
            "  0%|          | 0/3 [00:00<?, ?it/s]"
          ]
        },
        {
          "output_type": "stream",
          "name": "stdout",
          "text": [
            "{(10, 10): 208}\n"
          ]
        },
        {
          "output_type": "stream",
          "name": "stderr",
          "text": [
            "100%|██████████| 3/3 [00:07<00:00,  2.46s/it]"
          ]
        },
        {
          "output_type": "stream",
          "name": "stdout",
          "text": [
            "[264/1160]\n",
            "[# Positions]: 3.03M\n",
            "[# Games]: 29.26K\n",
            "[# Loss]: 4.599 | [# Loss MAIA]: 3.942 | [# Loss Side Info]: 0.055 | [# Loss Value]: 0.601\n"
          ]
        },
        {
          "output_type": "stream",
          "name": "stderr",
          "text": [
            "\n",
            "  0%|          | 0/3 [00:00<?, ?it/s]"
          ]
        },
        {
          "output_type": "stream",
          "name": "stdout",
          "text": [
            "{(10, 10): 191}\n"
          ]
        },
        {
          "output_type": "stream",
          "name": "stderr",
          "text": [
            "100%|██████████| 3/3 [00:07<00:00,  2.46s/it]"
          ]
        },
        {
          "output_type": "stream",
          "name": "stdout",
          "text": [
            "[276/1160]\n",
            "[# Positions]: 3.05M\n",
            "[# Games]: 29.47K\n",
            "[# Loss]: 4.648 | [# Loss MAIA]: 3.946 | [# Loss Side Info]: 0.055 | [# Loss Value]: 0.646\n"
          ]
        },
        {
          "output_type": "stream",
          "name": "stderr",
          "text": [
            "\n",
            "  0%|          | 0/3 [00:00<?, ?it/s]"
          ]
        },
        {
          "output_type": "stream",
          "name": "stdout",
          "text": [
            "{(10, 10): 226}\n"
          ]
        },
        {
          "output_type": "stream",
          "name": "stderr",
          "text": [
            "100%|██████████| 3/3 [00:07<00:00,  2.38s/it]"
          ]
        },
        {
          "output_type": "stream",
          "name": "stdout",
          "text": [
            "[288/1160]\n",
            "[# Positions]: 3.07M\n",
            "[# Games]: 29.66K\n",
            "[# Loss]: 4.683 | [# Loss MAIA]: 3.958 | [# Loss Side Info]: 0.057 | [# Loss Value]: 0.668\n"
          ]
        },
        {
          "output_type": "stream",
          "name": "stderr",
          "text": [
            "\n",
            "  0%|          | 0/3 [00:00<?, ?it/s]"
          ]
        },
        {
          "output_type": "stream",
          "name": "stdout",
          "text": [
            "{(10, 10): 161}\n"
          ]
        },
        {
          "output_type": "stream",
          "name": "stderr",
          "text": [
            "100%|██████████| 3/3 [00:07<00:00,  2.54s/it]"
          ]
        },
        {
          "output_type": "stream",
          "name": "stdout",
          "text": [
            "[300/1160]\n",
            "[# Positions]: 3.09M\n",
            "[# Games]: 29.89K\n",
            "[# Loss]: 4.578 | [# Loss MAIA]: 3.918 | [# Loss Side Info]: 0.055 | [# Loss Value]: 0.604\n"
          ]
        },
        {
          "output_type": "stream",
          "name": "stderr",
          "text": [
            "\n",
            "  0%|          | 0/2 [00:00<?, ?it/s]"
          ]
        },
        {
          "output_type": "stream",
          "name": "stdout",
          "text": [
            "{(10, 10): 168}\n"
          ]
        },
        {
          "output_type": "stream",
          "name": "stderr",
          "text": [
            "100%|██████████| 2/2 [00:06<00:00,  3.41s/it]"
          ]
        },
        {
          "output_type": "stream",
          "name": "stdout",
          "text": [
            "[312/1160]\n",
            "[# Positions]: 3.11M\n",
            "[# Games]: 30.05K\n",
            "[# Loss]: 4.568 | [# Loss MAIA]: 3.834 | [# Loss Side Info]: 0.055 | [# Loss Value]: 0.679\n"
          ]
        },
        {
          "output_type": "stream",
          "name": "stderr",
          "text": [
            "\n",
            "  0%|          | 0/2 [00:00<?, ?it/s]"
          ]
        },
        {
          "output_type": "stream",
          "name": "stdout",
          "text": [
            "{(10, 10): 185}\n"
          ]
        },
        {
          "output_type": "stream",
          "name": "stderr",
          "text": [
            "100%|██████████| 2/2 [00:07<00:00,  3.50s/it]"
          ]
        },
        {
          "output_type": "stream",
          "name": "stdout",
          "text": [
            "[324/1160]\n",
            "[# Positions]: 3.12M\n",
            "[# Games]: 30.22K\n",
            "[# Loss]: 4.497 | [# Loss MAIA]: 3.816 | [# Loss Side Info]: 0.057 | [# Loss Value]: 0.624\n"
          ]
        },
        {
          "output_type": "stream",
          "name": "stderr",
          "text": [
            "\n",
            "  0%|          | 0/3 [00:00<?, ?it/s]"
          ]
        },
        {
          "output_type": "stream",
          "name": "stdout",
          "text": [
            "{(10, 10): 190}\n"
          ]
        },
        {
          "output_type": "stream",
          "name": "stderr",
          "text": [
            "100%|██████████| 3/3 [00:07<00:00,  2.41s/it]"
          ]
        },
        {
          "output_type": "stream",
          "name": "stdout",
          "text": [
            "[336/1160]\n",
            "[# Positions]: 3.14M\n",
            "[# Games]: 30.40K\n",
            "[# Loss]: 4.41 | [# Loss MAIA]: 3.813 | [# Loss Side Info]: 0.058 | [# Loss Value]: 0.54\n"
          ]
        },
        {
          "output_type": "stream",
          "name": "stderr",
          "text": [
            "\n",
            "  0%|          | 0/3 [00:00<?, ?it/s]"
          ]
        },
        {
          "output_type": "stream",
          "name": "stdout",
          "text": [
            "{(10, 10): 175}\n"
          ]
        },
        {
          "output_type": "stream",
          "name": "stderr",
          "text": [
            "100%|██████████| 3/3 [00:07<00:00,  2.36s/it]"
          ]
        },
        {
          "output_type": "stream",
          "name": "stdout",
          "text": [
            "[348/1160]\n",
            "[# Positions]: 3.16M\n",
            "[# Games]: 30.59K\n",
            "[# Loss]: 4.485 | [# Loss MAIA]: 3.802 | [# Loss Side Info]: 0.054 | [# Loss Value]: 0.629\n"
          ]
        },
        {
          "output_type": "stream",
          "name": "stderr",
          "text": [
            "\n",
            "  0%|          | 0/2 [00:00<?, ?it/s]"
          ]
        },
        {
          "output_type": "stream",
          "name": "stdout",
          "text": [
            "{(10, 10): 216}\n"
          ]
        },
        {
          "output_type": "stream",
          "name": "stderr",
          "text": [
            "100%|██████████| 2/2 [00:06<00:00,  3.45s/it]"
          ]
        },
        {
          "output_type": "stream",
          "name": "stdout",
          "text": [
            "[360/1160]\n",
            "[# Positions]: 3.17M\n",
            "[# Games]: 30.77K\n",
            "[# Loss]: 4.401 | [# Loss MAIA]: 3.738 | [# Loss Side Info]: 0.052 | [# Loss Value]: 0.61\n"
          ]
        },
        {
          "output_type": "stream",
          "name": "stderr",
          "text": [
            "\n",
            "  0%|          | 0/3 [00:00<?, ?it/s]"
          ]
        },
        {
          "output_type": "stream",
          "name": "stdout",
          "text": [
            "{(10, 10): 179}\n"
          ]
        },
        {
          "output_type": "stream",
          "name": "stderr",
          "text": [
            "100%|██████████| 3/3 [00:07<00:00,  2.50s/it]"
          ]
        },
        {
          "output_type": "stream",
          "name": "stdout",
          "text": [
            "[372/1160]\n",
            "[# Positions]: 3.20M\n",
            "[# Games]: 30.98K\n",
            "[# Loss]: 4.372 | [# Loss MAIA]: 3.777 | [# Loss Side Info]: 0.053 | [# Loss Value]: 0.543\n"
          ]
        },
        {
          "output_type": "stream",
          "name": "stderr",
          "text": [
            "\n",
            "  0%|          | 0/2 [00:00<?, ?it/s]"
          ]
        },
        {
          "output_type": "stream",
          "name": "stdout",
          "text": [
            "{(10, 10): 174}\n"
          ]
        },
        {
          "output_type": "stream",
          "name": "stderr",
          "text": [
            "100%|██████████| 2/2 [00:07<00:00,  3.52s/it]"
          ]
        },
        {
          "output_type": "stream",
          "name": "stdout",
          "text": [
            "[384/1160]\n",
            "[# Positions]: 3.21M\n",
            "[# Games]: 31.16K\n",
            "[# Loss]: 4.407 | [# Loss MAIA]: 3.739 | [# Loss Side Info]: 0.052 | [# Loss Value]: 0.615\n"
          ]
        },
        {
          "output_type": "stream",
          "name": "stderr",
          "text": [
            "\n",
            "  0%|          | 0/2 [00:00<?, ?it/s]"
          ]
        },
        {
          "output_type": "stream",
          "name": "stdout",
          "text": [
            "{(10, 10): 227}\n"
          ]
        },
        {
          "output_type": "stream",
          "name": "stderr",
          "text": [
            "100%|██████████| 2/2 [00:06<00:00,  3.36s/it]"
          ]
        },
        {
          "output_type": "stream",
          "name": "stdout",
          "text": [
            "[396/1160]\n",
            "[# Positions]: 3.23M\n",
            "[# Games]: 31.34K\n",
            "[# Loss]: 4.388 | [# Loss MAIA]: 3.639 | [# Loss Side Info]: 0.051 | [# Loss Value]: 0.699\n"
          ]
        },
        {
          "output_type": "stream",
          "name": "stderr",
          "text": [
            "\n",
            "  0%|          | 0/3 [00:00<?, ?it/s]"
          ]
        },
        {
          "output_type": "stream",
          "name": "stdout",
          "text": [
            "{(10, 10): 252}\n"
          ]
        },
        {
          "output_type": "stream",
          "name": "stderr",
          "text": [
            "100%|██████████| 3/3 [00:07<00:00,  2.58s/it]"
          ]
        },
        {
          "output_type": "stream",
          "name": "stdout",
          "text": [
            "[408/1160]\n",
            "[# Positions]: 3.25M\n",
            "[# Games]: 31.56K\n",
            "[# Loss]: 4.363 | [# Loss MAIA]: 3.732 | [# Loss Side Info]: 0.052 | [# Loss Value]: 0.58\n"
          ]
        },
        {
          "output_type": "stream",
          "name": "stderr",
          "text": [
            "\n",
            "  0%|          | 0/3 [00:00<?, ?it/s]"
          ]
        },
        {
          "output_type": "stream",
          "name": "stdout",
          "text": [
            "{(10, 10): 172}\n"
          ]
        },
        {
          "output_type": "stream",
          "name": "stderr",
          "text": [
            "100%|██████████| 3/3 [00:07<00:00,  2.53s/it]"
          ]
        },
        {
          "output_type": "stream",
          "name": "stdout",
          "text": [
            "[420/1160]\n",
            "[# Positions]: 3.27M\n",
            "[# Games]: 31.81K\n",
            "[# Loss]: 4.522 | [# Loss MAIA]: 3.746 | [# Loss Side Info]: 0.051 | [# Loss Value]: 0.725\n"
          ]
        },
        {
          "output_type": "stream",
          "name": "stderr",
          "text": [
            "\n",
            "  0%|          | 0/2 [00:00<?, ?it/s]"
          ]
        },
        {
          "output_type": "stream",
          "name": "stdout",
          "text": [
            "{(10, 10): 203}\n"
          ]
        },
        {
          "output_type": "stream",
          "name": "stderr",
          "text": [
            "100%|██████████| 2/2 [00:06<00:00,  3.40s/it]"
          ]
        },
        {
          "output_type": "stream",
          "name": "stdout",
          "text": [
            "[432/1160]\n",
            "[# Positions]: 3.29M\n",
            "[# Games]: 31.99K\n",
            "[# Loss]: 4.363 | [# Loss MAIA]: 3.65 | [# Loss Side Info]: 0.051 | [# Loss Value]: 0.662\n"
          ]
        },
        {
          "output_type": "stream",
          "name": "stderr",
          "text": [
            "\n",
            "  0%|          | 0/3 [00:00<?, ?it/s]"
          ]
        },
        {
          "output_type": "stream",
          "name": "stdout",
          "text": [
            "{(10, 10): 217}\n"
          ]
        },
        {
          "output_type": "stream",
          "name": "stderr",
          "text": [
            "100%|██████████| 3/3 [00:07<00:00,  2.44s/it]"
          ]
        },
        {
          "output_type": "stream",
          "name": "stdout",
          "text": [
            "[444/1160]\n",
            "[# Positions]: 3.31M\n",
            "[# Games]: 32.19K\n",
            "[# Loss]: 4.38 | [# Loss MAIA]: 3.703 | [# Loss Side Info]: 0.051 | [# Loss Value]: 0.626\n"
          ]
        },
        {
          "output_type": "stream",
          "name": "stderr",
          "text": [
            "\n",
            "  0%|          | 0/3 [00:00<?, ?it/s]"
          ]
        },
        {
          "output_type": "stream",
          "name": "stdout",
          "text": [
            "{(10, 10): 181}\n"
          ]
        },
        {
          "output_type": "stream",
          "name": "stderr",
          "text": [
            "100%|██████████| 3/3 [00:07<00:00,  2.40s/it]"
          ]
        },
        {
          "output_type": "stream",
          "name": "stdout",
          "text": [
            "[456/1160]\n",
            "[# Positions]: 3.33M\n",
            "[# Games]: 32.41K\n",
            "[# Loss]: 4.314 | [# Loss MAIA]: 3.652 | [# Loss Side Info]: 0.05 | [# Loss Value]: 0.611\n"
          ]
        },
        {
          "output_type": "stream",
          "name": "stderr",
          "text": [
            "\n",
            "  0%|          | 0/3 [00:00<?, ?it/s]"
          ]
        },
        {
          "output_type": "stream",
          "name": "stdout",
          "text": [
            "{(10, 10): 217}\n"
          ]
        },
        {
          "output_type": "stream",
          "name": "stderr",
          "text": [
            "100%|██████████| 3/3 [00:07<00:00,  2.43s/it]"
          ]
        },
        {
          "output_type": "stream",
          "name": "stdout",
          "text": [
            "[468/1160]\n",
            "[# Positions]: 3.35M\n",
            "[# Games]: 32.59K\n",
            "[# Loss]: 4.245 | [# Loss MAIA]: 3.629 | [# Loss Side Info]: 0.05 | [# Loss Value]: 0.566\n"
          ]
        },
        {
          "output_type": "stream",
          "name": "stderr",
          "text": [
            "\n",
            "  0%|          | 0/3 [00:00<?, ?it/s]"
          ]
        },
        {
          "output_type": "stream",
          "name": "stdout",
          "text": [
            "{(10, 10): 232}\n"
          ]
        },
        {
          "output_type": "stream",
          "name": "stderr",
          "text": [
            "100%|██████████| 3/3 [00:07<00:00,  2.49s/it]"
          ]
        },
        {
          "output_type": "stream",
          "name": "stdout",
          "text": [
            "[480/1160]\n",
            "[# Positions]: 3.37M\n",
            "[# Games]: 32.80K\n",
            "[# Loss]: 4.283 | [# Loss MAIA]: 3.645 | [# Loss Side Info]: 0.051 | [# Loss Value]: 0.587\n"
          ]
        },
        {
          "output_type": "stream",
          "name": "stderr",
          "text": [
            "\n",
            "  0%|          | 0/3 [00:00<?, ?it/s]"
          ]
        },
        {
          "output_type": "stream",
          "name": "stdout",
          "text": [
            "{(10, 10): 207}\n"
          ]
        },
        {
          "output_type": "stream",
          "name": "stderr",
          "text": [
            "100%|██████████| 3/3 [00:07<00:00,  2.49s/it]"
          ]
        },
        {
          "output_type": "stream",
          "name": "stdout",
          "text": [
            "[492/1160]\n",
            "[# Positions]: 3.39M\n",
            "[# Games]: 33.04K\n",
            "[# Loss]: 4.227 | [# Loss MAIA]: 3.621 | [# Loss Side Info]: 0.05 | [# Loss Value]: 0.555\n"
          ]
        },
        {
          "output_type": "stream",
          "name": "stderr",
          "text": [
            "\n",
            "  0%|          | 0/3 [00:00<?, ?it/s]"
          ]
        },
        {
          "output_type": "stream",
          "name": "stdout",
          "text": [
            "{(10, 10): 229}\n"
          ]
        },
        {
          "output_type": "stream",
          "name": "stderr",
          "text": [
            "100%|██████████| 3/3 [00:07<00:00,  2.48s/it]"
          ]
        },
        {
          "output_type": "stream",
          "name": "stdout",
          "text": [
            "[504/1160]\n",
            "[# Positions]: 3.41M\n",
            "[# Games]: 33.24K\n",
            "[# Loss]: 4.212 | [# Loss MAIA]: 3.571 | [# Loss Side Info]: 0.05 | [# Loss Value]: 0.591\n"
          ]
        },
        {
          "output_type": "stream",
          "name": "stderr",
          "text": [
            "\n",
            "  0%|          | 0/4 [00:00<?, ?it/s]"
          ]
        },
        {
          "output_type": "stream",
          "name": "stdout",
          "text": [
            "{(10, 10): 208}\n"
          ]
        },
        {
          "output_type": "stream",
          "name": "stderr",
          "text": [
            "100%|██████████| 4/4 [00:07<00:00,  1.99s/it]"
          ]
        },
        {
          "output_type": "stream",
          "name": "stdout",
          "text": [
            "[516/1160]\n",
            "[# Positions]: 3.44M\n",
            "[# Games]: 33.47K\n",
            "[# Loss]: 4.232 | [# Loss MAIA]: 3.627 | [# Loss Side Info]: 0.05 | [# Loss Value]: 0.554\n"
          ]
        },
        {
          "output_type": "stream",
          "name": "stderr",
          "text": [
            "\n",
            "  0%|          | 0/3 [00:00<?, ?it/s]"
          ]
        },
        {
          "output_type": "stream",
          "name": "stdout",
          "text": [
            "{(10, 10): 150}\n"
          ]
        },
        {
          "output_type": "stream",
          "name": "stderr",
          "text": [
            "100%|██████████| 3/3 [00:07<00:00,  2.48s/it]"
          ]
        },
        {
          "output_type": "stream",
          "name": "stdout",
          "text": [
            "[528/1160]\n",
            "[# Positions]: 3.46M\n",
            "[# Games]: 33.68K\n",
            "[# Loss]: 4.193 | [# Loss MAIA]: 3.612 | [# Loss Side Info]: 0.05 | [# Loss Value]: 0.531\n"
          ]
        },
        {
          "output_type": "stream",
          "name": "stderr",
          "text": [
            "\n",
            "  0%|          | 0/2 [00:00<?, ?it/s]"
          ]
        },
        {
          "output_type": "stream",
          "name": "stdout",
          "text": [
            "{(10, 10): 198}\n"
          ]
        },
        {
          "output_type": "stream",
          "name": "stderr",
          "text": [
            "100%|██████████| 2/2 [00:06<00:00,  3.27s/it]"
          ]
        },
        {
          "output_type": "stream",
          "name": "stdout",
          "text": [
            "[540/1160]\n",
            "[# Positions]: 3.47M\n",
            "[# Games]: 33.83K\n",
            "[# Loss]: 4.244 | [# Loss MAIA]: 3.543 | [# Loss Side Info]: 0.049 | [# Loss Value]: 0.652\n"
          ]
        },
        {
          "output_type": "stream",
          "name": "stderr",
          "text": [
            "\n",
            "  0%|          | 0/3 [00:00<?, ?it/s]"
          ]
        },
        {
          "output_type": "stream",
          "name": "stdout",
          "text": [
            "{(10, 10): 222}\n"
          ]
        },
        {
          "output_type": "stream",
          "name": "stderr",
          "text": [
            "100%|██████████| 3/3 [00:07<00:00,  2.48s/it]"
          ]
        },
        {
          "output_type": "stream",
          "name": "stdout",
          "text": [
            "[552/1160]\n",
            "[# Positions]: 3.49M\n",
            "[# Games]: 34.03K\n",
            "[# Loss]: 4.13 | [# Loss MAIA]: 3.541 | [# Loss Side Info]: 0.049 | [# Loss Value]: 0.54\n"
          ]
        },
        {
          "output_type": "stream",
          "name": "stderr",
          "text": [
            "\n",
            "  0%|          | 0/3 [00:00<?, ?it/s]"
          ]
        },
        {
          "output_type": "stream",
          "name": "stdout",
          "text": [
            "{(10, 10): 193}\n"
          ]
        },
        {
          "output_type": "stream",
          "name": "stderr",
          "text": [
            "100%|██████████| 3/3 [00:07<00:00,  2.49s/it]"
          ]
        },
        {
          "output_type": "stream",
          "name": "stdout",
          "text": [
            "[564/1160]\n",
            "[# Positions]: 3.51M\n",
            "[# Games]: 34.25K\n",
            "[# Loss]: 4.22 | [# Loss MAIA]: 3.582 | [# Loss Side Info]: 0.05 | [# Loss Value]: 0.588\n"
          ]
        },
        {
          "output_type": "stream",
          "name": "stderr",
          "text": [
            "\n",
            "  0%|          | 0/3 [00:00<?, ?it/s]"
          ]
        },
        {
          "output_type": "stream",
          "name": "stdout",
          "text": [
            "{(10, 10): 195}\n"
          ]
        },
        {
          "output_type": "stream",
          "name": "stderr",
          "text": [
            "100%|██████████| 3/3 [00:07<00:00,  2.42s/it]"
          ]
        },
        {
          "output_type": "stream",
          "name": "stdout",
          "text": [
            "[576/1160]\n",
            "[# Positions]: 3.53M\n",
            "[# Games]: 34.44K\n",
            "[# Loss]: 4.32 | [# Loss MAIA]: 3.567 | [# Loss Side Info]: 0.049 | [# Loss Value]: 0.704\n"
          ]
        },
        {
          "output_type": "stream",
          "name": "stderr",
          "text": [
            "\n",
            "  0%|          | 0/3 [00:00<?, ?it/s]"
          ]
        },
        {
          "output_type": "stream",
          "name": "stdout",
          "text": [
            "{(10, 10): 184}\n"
          ]
        },
        {
          "output_type": "stream",
          "name": "stderr",
          "text": [
            "100%|██████████| 3/3 [00:07<00:00,  2.43s/it]"
          ]
        },
        {
          "output_type": "stream",
          "name": "stdout",
          "text": [
            "[588/1160]\n",
            "[# Positions]: 3.55M\n",
            "[# Games]: 34.64K\n",
            "[# Loss]: 4.226 | [# Loss MAIA]: 3.564 | [# Loss Side Info]: 0.049 | [# Loss Value]: 0.613\n"
          ]
        },
        {
          "output_type": "stream",
          "name": "stderr",
          "text": [
            "\n",
            "  0%|          | 0/2 [00:00<?, ?it/s]"
          ]
        },
        {
          "output_type": "stream",
          "name": "stdout",
          "text": [
            "{(10, 10): 177}\n"
          ]
        },
        {
          "output_type": "stream",
          "name": "stderr",
          "text": [
            "100%|██████████| 2/2 [00:06<00:00,  3.49s/it]"
          ]
        },
        {
          "output_type": "stream",
          "name": "stdout",
          "text": [
            "[600/1160]\n",
            "[# Positions]: 3.57M\n",
            "[# Games]: 34.82K\n",
            "[# Loss]: 4.251 | [# Loss MAIA]: 3.568 | [# Loss Side Info]: 0.048 | [# Loss Value]: 0.635\n"
          ]
        },
        {
          "output_type": "stream",
          "name": "stderr",
          "text": [
            "\n",
            "  0%|          | 0/2 [00:00<?, ?it/s]"
          ]
        },
        {
          "output_type": "stream",
          "name": "stdout",
          "text": [
            "{(10, 10): 154}\n"
          ]
        },
        {
          "output_type": "stream",
          "name": "stderr",
          "text": [
            "100%|██████████| 2/2 [00:06<00:00,  3.33s/it]"
          ]
        },
        {
          "output_type": "stream",
          "name": "stdout",
          "text": [
            "[612/1160]\n",
            "[# Positions]: 3.58M\n",
            "[# Games]: 35.00K\n",
            "[# Loss]: 4.171 | [# Loss MAIA]: 3.485 | [# Loss Side Info]: 0.048 | [# Loss Value]: 0.639\n"
          ]
        },
        {
          "output_type": "stream",
          "name": "stderr",
          "text": [
            "\n",
            "  0%|          | 0/2 [00:00<?, ?it/s]"
          ]
        },
        {
          "output_type": "stream",
          "name": "stdout",
          "text": [
            "{(10, 10): 182}\n"
          ]
        },
        {
          "output_type": "stream",
          "name": "stderr",
          "text": [
            "100%|██████████| 2/2 [00:06<00:00,  3.39s/it]"
          ]
        },
        {
          "output_type": "stream",
          "name": "stdout",
          "text": [
            "[624/1160]\n",
            "[# Positions]: 3.60M\n",
            "[# Games]: 35.15K\n",
            "[# Loss]: 4.213 | [# Loss MAIA]: 3.572 | [# Loss Side Info]: 0.049 | [# Loss Value]: 0.592\n"
          ]
        },
        {
          "output_type": "stream",
          "name": "stderr",
          "text": [
            "\n",
            "  0%|          | 0/3 [00:00<?, ?it/s]"
          ]
        },
        {
          "output_type": "stream",
          "name": "stdout",
          "text": [
            "{(10, 10): 230}\n"
          ]
        },
        {
          "output_type": "stream",
          "name": "stderr",
          "text": [
            "100%|██████████| 3/3 [00:07<00:00,  2.35s/it]"
          ]
        },
        {
          "output_type": "stream",
          "name": "stdout",
          "text": [
            "[636/1160]\n",
            "[# Positions]: 3.61M\n",
            "[# Games]: 35.34K\n",
            "[# Loss]: 4.184 | [# Loss MAIA]: 3.577 | [# Loss Side Info]: 0.05 | [# Loss Value]: 0.557\n"
          ]
        },
        {
          "output_type": "stream",
          "name": "stderr",
          "text": [
            "\n",
            "  0%|          | 0/3 [00:00<?, ?it/s]"
          ]
        },
        {
          "output_type": "stream",
          "name": "stdout",
          "text": [
            "{(10, 10): 229}\n"
          ]
        },
        {
          "output_type": "stream",
          "name": "stderr",
          "text": [
            "100%|██████████| 3/3 [00:07<00:00,  2.42s/it]"
          ]
        },
        {
          "output_type": "stream",
          "name": "stdout",
          "text": [
            "[648/1160]\n",
            "[# Positions]: 3.63M\n",
            "[# Games]: 35.56K\n",
            "[# Loss]: 4.211 | [# Loss MAIA]: 3.48 | [# Loss Side Info]: 0.048 | [# Loss Value]: 0.683\n"
          ]
        },
        {
          "output_type": "stream",
          "name": "stderr",
          "text": [
            "\n",
            "  0%|          | 0/3 [00:00<?, ?it/s]"
          ]
        },
        {
          "output_type": "stream",
          "name": "stdout",
          "text": [
            "{(10, 10): 225}\n"
          ]
        },
        {
          "output_type": "stream",
          "name": "stderr",
          "text": [
            "100%|██████████| 3/3 [00:07<00:00,  2.54s/it]"
          ]
        },
        {
          "output_type": "stream",
          "name": "stdout",
          "text": [
            "[660/1160]\n",
            "[# Positions]: 3.66M\n",
            "[# Games]: 35.79K\n",
            "[# Loss]: 4.131 | [# Loss MAIA]: 3.542 | [# Loss Side Info]: 0.049 | [# Loss Value]: 0.54\n"
          ]
        },
        {
          "output_type": "stream",
          "name": "stderr",
          "text": [
            "\n",
            "  0%|          | 0/3 [00:00<?, ?it/s]"
          ]
        },
        {
          "output_type": "stream",
          "name": "stdout",
          "text": [
            "{(10, 10): 168}\n"
          ]
        },
        {
          "output_type": "stream",
          "name": "stderr",
          "text": [
            "100%|██████████| 3/3 [00:07<00:00,  2.47s/it]"
          ]
        },
        {
          "output_type": "stream",
          "name": "stdout",
          "text": [
            "[672/1160]\n",
            "[# Positions]: 3.68M\n",
            "[# Games]: 36.02K\n",
            "[# Loss]: 4.142 | [# Loss MAIA]: 3.486 | [# Loss Side Info]: 0.048 | [# Loss Value]: 0.608\n"
          ]
        },
        {
          "output_type": "stream",
          "name": "stderr",
          "text": [
            "\n",
            "  0%|          | 0/2 [00:00<?, ?it/s]"
          ]
        },
        {
          "output_type": "stream",
          "name": "stdout",
          "text": [
            "{(10, 10): 259}\n"
          ]
        },
        {
          "output_type": "stream",
          "name": "stderr",
          "text": [
            "100%|██████████| 2/2 [00:06<00:00,  3.42s/it]"
          ]
        },
        {
          "output_type": "stream",
          "name": "stdout",
          "text": [
            "[684/1160]\n",
            "[# Positions]: 3.69M\n",
            "[# Games]: 36.19K\n",
            "[# Loss]: 4.277 | [# Loss MAIA]: 3.488 | [# Loss Side Info]: 0.047 | [# Loss Value]: 0.742\n"
          ]
        },
        {
          "output_type": "stream",
          "name": "stderr",
          "text": [
            "\n",
            "  0%|          | 0/3 [00:00<?, ?it/s]"
          ]
        },
        {
          "output_type": "stream",
          "name": "stdout",
          "text": [
            "{(10, 10): 198}\n"
          ]
        },
        {
          "output_type": "stream",
          "name": "stderr",
          "text": [
            "100%|██████████| 3/3 [00:07<00:00,  2.49s/it]"
          ]
        },
        {
          "output_type": "stream",
          "name": "stdout",
          "text": [
            "[696/1160]\n",
            "[# Positions]: 3.72M\n",
            "[# Games]: 36.45K\n",
            "[# Loss]: 4.199 | [# Loss MAIA]: 3.517 | [# Loss Side Info]: 0.047 | [# Loss Value]: 0.634\n"
          ]
        },
        {
          "output_type": "stream",
          "name": "stderr",
          "text": [
            "\n",
            "  0%|          | 0/3 [00:00<?, ?it/s]"
          ]
        },
        {
          "output_type": "stream",
          "name": "stdout",
          "text": [
            "{(10, 10): 134}\n"
          ]
        },
        {
          "output_type": "stream",
          "name": "stderr",
          "text": [
            "100%|██████████| 3/3 [00:07<00:00,  2.37s/it]"
          ]
        },
        {
          "output_type": "stream",
          "name": "stdout",
          "text": [
            "[708/1160]\n",
            "[# Positions]: 3.73M\n",
            "[# Games]: 36.64K\n",
            "[# Loss]: 4.14 | [# Loss MAIA]: 3.464 | [# Loss Side Info]: 0.047 | [# Loss Value]: 0.629\n"
          ]
        },
        {
          "output_type": "stream",
          "name": "stderr",
          "text": [
            "\n",
            "  0%|          | 0/2 [00:00<?, ?it/s]"
          ]
        },
        {
          "output_type": "stream",
          "name": "stdout",
          "text": [
            "{(10, 10): 196}\n"
          ]
        },
        {
          "output_type": "stream",
          "name": "stderr",
          "text": [
            "100%|██████████| 2/2 [00:06<00:00,  3.36s/it]"
          ]
        },
        {
          "output_type": "stream",
          "name": "stdout",
          "text": [
            "[720/1160]\n",
            "[# Positions]: 3.75M\n",
            "[# Games]: 36.78K\n",
            "[# Loss]: 4.124 | [# Loss MAIA]: 3.497 | [# Loss Side Info]: 0.048 | [# Loss Value]: 0.579\n"
          ]
        },
        {
          "output_type": "stream",
          "name": "stderr",
          "text": [
            "\n",
            "  0%|          | 0/3 [00:00<?, ?it/s]"
          ]
        },
        {
          "output_type": "stream",
          "name": "stdout",
          "text": [
            "{(10, 10): 169}\n"
          ]
        },
        {
          "output_type": "stream",
          "name": "stderr",
          "text": [
            "100%|██████████| 3/3 [00:07<00:00,  2.36s/it]"
          ]
        },
        {
          "output_type": "stream",
          "name": "stdout",
          "text": [
            "[732/1160]\n",
            "[# Positions]: 3.76M\n",
            "[# Games]: 36.97K\n",
            "[# Loss]: 4.306 | [# Loss MAIA]: 3.614 | [# Loss Side Info]: 0.049 | [# Loss Value]: 0.643\n"
          ]
        },
        {
          "output_type": "stream",
          "name": "stderr",
          "text": [
            "\n",
            "  0%|          | 0/3 [00:00<?, ?it/s]"
          ]
        },
        {
          "output_type": "stream",
          "name": "stdout",
          "text": [
            "{(10, 10): 199}\n"
          ]
        },
        {
          "output_type": "stream",
          "name": "stderr",
          "text": [
            "100%|██████████| 3/3 [00:07<00:00,  2.39s/it]"
          ]
        },
        {
          "output_type": "stream",
          "name": "stdout",
          "text": [
            "[744/1160]\n",
            "[# Positions]: 3.78M\n",
            "[# Games]: 37.14K\n",
            "[# Loss]: 4.141 | [# Loss MAIA]: 3.493 | [# Loss Side Info]: 0.047 | [# Loss Value]: 0.601\n"
          ]
        },
        {
          "output_type": "stream",
          "name": "stderr",
          "text": [
            "\n",
            "  0%|          | 0/2 [00:00<?, ?it/s]"
          ]
        },
        {
          "output_type": "stream",
          "name": "stdout",
          "text": [
            "{(10, 10): 170}\n"
          ]
        },
        {
          "output_type": "stream",
          "name": "stderr",
          "text": [
            "100%|██████████| 2/2 [00:07<00:00,  3.56s/it]"
          ]
        },
        {
          "output_type": "stream",
          "name": "stdout",
          "text": [
            "[756/1160]\n",
            "[# Positions]: 3.80M\n",
            "[# Games]: 37.34K\n",
            "[# Loss]: 4.254 | [# Loss MAIA]: 3.515 | [# Loss Side Info]: 0.048 | [# Loss Value]: 0.692\n"
          ]
        },
        {
          "output_type": "stream",
          "name": "stderr",
          "text": [
            "\n",
            "  0%|          | 0/2 [00:00<?, ?it/s]"
          ]
        },
        {
          "output_type": "stream",
          "name": "stdout",
          "text": [
            "{(10, 10): 189}\n"
          ]
        },
        {
          "output_type": "stream",
          "name": "stderr",
          "text": [
            "100%|██████████| 2/2 [00:06<00:00,  3.42s/it]"
          ]
        },
        {
          "output_type": "stream",
          "name": "stdout",
          "text": [
            "[768/1160]\n",
            "[# Positions]: 3.81M\n",
            "[# Games]: 37.51K\n",
            "[# Loss]: 4.264 | [# Loss MAIA]: 3.547 | [# Loss Side Info]: 0.049 | [# Loss Value]: 0.668\n"
          ]
        },
        {
          "output_type": "stream",
          "name": "stderr",
          "text": [
            "\n",
            "  0%|          | 0/3 [00:00<?, ?it/s]"
          ]
        },
        {
          "output_type": "stream",
          "name": "stdout",
          "text": [
            "{(10, 10): 175}\n"
          ]
        },
        {
          "output_type": "stream",
          "name": "stderr",
          "text": [
            "100%|██████████| 3/3 [00:07<00:00,  2.37s/it]"
          ]
        },
        {
          "output_type": "stream",
          "name": "stdout",
          "text": [
            "[780/1160]\n",
            "[# Positions]: 3.83M\n",
            "[# Games]: 37.70K\n",
            "[# Loss]: 4.172 | [# Loss MAIA]: 3.468 | [# Loss Side Info]: 0.049 | [# Loss Value]: 0.656\n"
          ]
        },
        {
          "output_type": "stream",
          "name": "stderr",
          "text": [
            "\n",
            "  0%|          | 0/2 [00:00<?, ?it/s]"
          ]
        },
        {
          "output_type": "stream",
          "name": "stdout",
          "text": [
            "{(10, 10): 166}\n"
          ]
        },
        {
          "output_type": "stream",
          "name": "stderr",
          "text": [
            "100%|██████████| 2/2 [00:07<00:00,  3.52s/it]"
          ]
        },
        {
          "output_type": "stream",
          "name": "stdout",
          "text": [
            "[792/1160]\n",
            "[# Positions]: 3.84M\n",
            "[# Games]: 37.88K\n",
            "[# Loss]: 4.231 | [# Loss MAIA]: 3.512 | [# Loss Side Info]: 0.048 | [# Loss Value]: 0.671\n"
          ]
        },
        {
          "output_type": "stream",
          "name": "stderr",
          "text": [
            "\n",
            "  0%|          | 0/2 [00:00<?, ?it/s]"
          ]
        },
        {
          "output_type": "stream",
          "name": "stdout",
          "text": [
            "{(10, 10): 193}\n"
          ]
        },
        {
          "output_type": "stream",
          "name": "stderr",
          "text": [
            "100%|██████████| 2/2 [00:06<00:00,  3.45s/it]"
          ]
        },
        {
          "output_type": "stream",
          "name": "stdout",
          "text": [
            "[804/1160]\n",
            "[# Positions]: 3.86M\n",
            "[# Games]: 38.04K\n",
            "[# Loss]: 4.231 | [# Loss MAIA]: 3.547 | [# Loss Side Info]: 0.048 | [# Loss Value]: 0.636\n"
          ]
        },
        {
          "output_type": "stream",
          "name": "stderr",
          "text": [
            "\n",
            "  0%|          | 0/3 [00:00<?, ?it/s]"
          ]
        },
        {
          "output_type": "stream",
          "name": "stdout",
          "text": [
            "{(10, 10): 151}\n"
          ]
        },
        {
          "output_type": "stream",
          "name": "stderr",
          "text": [
            "100%|██████████| 3/3 [00:06<00:00,  2.33s/it]"
          ]
        },
        {
          "output_type": "stream",
          "name": "stdout",
          "text": [
            "[816/1160]\n",
            "[# Positions]: 3.88M\n",
            "[# Games]: 38.23K\n",
            "[# Loss]: 4.121 | [# Loss MAIA]: 3.428 | [# Loss Side Info]: 0.046 | [# Loss Value]: 0.648\n"
          ]
        },
        {
          "output_type": "stream",
          "name": "stderr",
          "text": [
            "\n",
            "  0%|          | 0/2 [00:00<?, ?it/s]"
          ]
        },
        {
          "output_type": "stream",
          "name": "stdout",
          "text": [
            "{(10, 10): 186}\n"
          ]
        },
        {
          "output_type": "stream",
          "name": "stderr",
          "text": [
            "100%|██████████| 2/2 [00:06<00:00,  3.40s/it]"
          ]
        },
        {
          "output_type": "stream",
          "name": "stdout",
          "text": [
            "[828/1160]\n",
            "[# Positions]: 3.89M\n",
            "[# Games]: 38.39K\n",
            "[# Loss]: 4.161 | [# Loss MAIA]: 3.53 | [# Loss Side Info]: 0.046 | [# Loss Value]: 0.585\n"
          ]
        },
        {
          "output_type": "stream",
          "name": "stderr",
          "text": [
            "\n",
            "  0%|          | 0/3 [00:00<?, ?it/s]"
          ]
        },
        {
          "output_type": "stream",
          "name": "stdout",
          "text": [
            "{(10, 10): 166}\n"
          ]
        },
        {
          "output_type": "stream",
          "name": "stderr",
          "text": [
            "100%|██████████| 3/3 [00:06<00:00,  2.29s/it]"
          ]
        },
        {
          "output_type": "stream",
          "name": "stdout",
          "text": [
            "[840/1160]\n",
            "[# Positions]: 3.91M\n",
            "[# Games]: 38.57K\n",
            "[# Loss]: 4.241 | [# Loss MAIA]: 3.5 | [# Loss Side Info]: 0.047 | [# Loss Value]: 0.694\n"
          ]
        },
        {
          "output_type": "stream",
          "name": "stderr",
          "text": [
            "\n",
            "  0%|          | 0/2 [00:00<?, ?it/s]"
          ]
        },
        {
          "output_type": "stream",
          "name": "stdout",
          "text": [
            "{(10, 10): 123}\n"
          ]
        },
        {
          "output_type": "stream",
          "name": "stderr",
          "text": [
            "100%|██████████| 2/2 [00:06<00:00,  3.39s/it]"
          ]
        },
        {
          "output_type": "stream",
          "name": "stdout",
          "text": [
            "[852/1160]\n",
            "[# Positions]: 3.92M\n",
            "[# Games]: 38.74K\n",
            "[# Loss]: 4.096 | [# Loss MAIA]: 3.441 | [# Loss Side Info]: 0.046 | [# Loss Value]: 0.609\n"
          ]
        },
        {
          "output_type": "stream",
          "name": "stderr",
          "text": [
            "\n",
            "  0%|          | 0/2 [00:00<?, ?it/s]"
          ]
        },
        {
          "output_type": "stream",
          "name": "stdout",
          "text": [
            "{(10, 10): 185}\n"
          ]
        },
        {
          "output_type": "stream",
          "name": "stderr",
          "text": [
            "100%|██████████| 2/2 [00:06<00:00,  3.31s/it]"
          ]
        },
        {
          "output_type": "stream",
          "name": "stdout",
          "text": [
            "[864/1160]\n",
            "[# Positions]: 3.93M\n",
            "[# Games]: 38.86K\n",
            "[# Loss]: 4.189 | [# Loss MAIA]: 3.483 | [# Loss Side Info]: 0.046 | [# Loss Value]: 0.66\n"
          ]
        },
        {
          "output_type": "stream",
          "name": "stderr",
          "text": [
            "\n",
            "  0%|          | 0/3 [00:00<?, ?it/s]"
          ]
        },
        {
          "output_type": "stream",
          "name": "stdout",
          "text": [
            "{(10, 10): 180}\n"
          ]
        },
        {
          "output_type": "stream",
          "name": "stderr",
          "text": [
            "100%|██████████| 3/3 [00:07<00:00,  2.38s/it]"
          ]
        },
        {
          "output_type": "stream",
          "name": "stdout",
          "text": [
            "[876/1160]\n",
            "[# Positions]: 3.95M\n",
            "[# Games]: 39.05K\n",
            "[# Loss]: 4.186 | [# Loss MAIA]: 3.52 | [# Loss Side Info]: 0.047 | [# Loss Value]: 0.619\n"
          ]
        },
        {
          "output_type": "stream",
          "name": "stderr",
          "text": [
            "\n",
            "  0%|          | 0/2 [00:00<?, ?it/s]"
          ]
        },
        {
          "output_type": "stream",
          "name": "stdout",
          "text": [
            "{(10, 10): 158}\n"
          ]
        },
        {
          "output_type": "stream",
          "name": "stderr",
          "text": [
            "100%|██████████| 2/2 [00:06<00:00,  3.39s/it]"
          ]
        },
        {
          "output_type": "stream",
          "name": "stdout",
          "text": [
            "[888/1160]\n",
            "[# Positions]: 3.97M\n",
            "[# Games]: 39.23K\n",
            "[# Loss]: 4.264 | [# Loss MAIA]: 3.515 | [# Loss Side Info]: 0.046 | [# Loss Value]: 0.703\n"
          ]
        },
        {
          "output_type": "stream",
          "name": "stderr",
          "text": [
            "\n",
            "  0%|          | 0/2 [00:00<?, ?it/s]"
          ]
        },
        {
          "output_type": "stream",
          "name": "stdout",
          "text": [
            "{(10, 10): 161}\n"
          ]
        },
        {
          "output_type": "stream",
          "name": "stderr",
          "text": [
            "100%|██████████| 2/2 [00:06<00:00,  3.45s/it]"
          ]
        },
        {
          "output_type": "stream",
          "name": "stdout",
          "text": [
            "[900/1160]\n",
            "[# Positions]: 3.98M\n",
            "[# Games]: 39.38K\n",
            "[# Loss]: 4.118 | [# Loss MAIA]: 3.457 | [# Loss Side Info]: 0.045 | [# Loss Value]: 0.617\n"
          ]
        },
        {
          "output_type": "stream",
          "name": "stderr",
          "text": [
            "\n",
            "  0%|          | 0/2 [00:00<?, ?it/s]"
          ]
        },
        {
          "output_type": "stream",
          "name": "stdout",
          "text": [
            "{(10, 10): 167}\n"
          ]
        },
        {
          "output_type": "stream",
          "name": "stderr",
          "text": [
            "100%|██████████| 2/2 [00:06<00:00,  3.36s/it]"
          ]
        },
        {
          "output_type": "stream",
          "name": "stdout",
          "text": [
            "[912/1160]\n",
            "[# Positions]: 4.00M\n",
            "[# Games]: 39.55K\n",
            "[# Loss]: 4.26 | [# Loss MAIA]: 3.515 | [# Loss Side Info]: 0.045 | [# Loss Value]: 0.699\n"
          ]
        },
        {
          "output_type": "stream",
          "name": "stderr",
          "text": [
            "\n",
            "  0%|          | 0/2 [00:00<?, ?it/s]"
          ]
        },
        {
          "output_type": "stream",
          "name": "stdout",
          "text": [
            "{(10, 10): 226}\n"
          ]
        },
        {
          "output_type": "stream",
          "name": "stderr",
          "text": [
            "100%|██████████| 2/2 [00:06<00:00,  3.49s/it]"
          ]
        },
        {
          "output_type": "stream",
          "name": "stdout",
          "text": [
            "[924/1160]\n",
            "[# Positions]: 4.01M\n",
            "[# Games]: 39.71K\n",
            "[# Loss]: 4.136 | [# Loss MAIA]: 3.419 | [# Loss Side Info]: 0.045 | [# Loss Value]: 0.673\n"
          ]
        },
        {
          "output_type": "stream",
          "name": "stderr",
          "text": [
            "\n",
            "  0%|          | 0/3 [00:00<?, ?it/s]"
          ]
        },
        {
          "output_type": "stream",
          "name": "stdout",
          "text": [
            "{(10, 10): 186}\n"
          ]
        },
        {
          "output_type": "stream",
          "name": "stderr",
          "text": [
            "100%|██████████| 3/3 [00:07<00:00,  2.48s/it]"
          ]
        },
        {
          "output_type": "stream",
          "name": "stdout",
          "text": [
            "[936/1160]\n",
            "[# Positions]: 4.03M\n",
            "[# Games]: 39.94K\n",
            "[# Loss]: 4.163 | [# Loss MAIA]: 3.436 | [# Loss Side Info]: 0.045 | [# Loss Value]: 0.682\n"
          ]
        },
        {
          "output_type": "stream",
          "name": "stderr",
          "text": [
            "\n",
            "  0%|          | 0/3 [00:00<?, ?it/s]"
          ]
        },
        {
          "output_type": "stream",
          "name": "stdout",
          "text": [
            "{(10, 10): 154}\n"
          ]
        },
        {
          "output_type": "stream",
          "name": "stderr",
          "text": [
            "100%|██████████| 3/3 [00:07<00:00,  2.38s/it]"
          ]
        },
        {
          "output_type": "stream",
          "name": "stdout",
          "text": [
            "[948/1160]\n",
            "[# Positions]: 4.05M\n",
            "[# Games]: 40.12K\n",
            "[# Loss]: 4.099 | [# Loss MAIA]: 3.457 | [# Loss Side Info]: 0.046 | [# Loss Value]: 0.597\n"
          ]
        },
        {
          "output_type": "stream",
          "name": "stderr",
          "text": [
            "\n",
            "  0%|          | 0/2 [00:00<?, ?it/s]"
          ]
        },
        {
          "output_type": "stream",
          "name": "stdout",
          "text": [
            "{(10, 10): 118}\n"
          ]
        },
        {
          "output_type": "stream",
          "name": "stderr",
          "text": [
            "100%|██████████| 2/2 [00:06<00:00,  3.26s/it]"
          ]
        },
        {
          "output_type": "stream",
          "name": "stdout",
          "text": [
            "[960/1160]\n",
            "[# Positions]: 4.06M\n",
            "[# Games]: 40.28K\n",
            "[# Loss]: 4.2 | [# Loss MAIA]: 3.458 | [# Loss Side Info]: 0.045 | [# Loss Value]: 0.697\n"
          ]
        },
        {
          "output_type": "stream",
          "name": "stderr",
          "text": [
            "\n",
            "  0%|          | 0/2 [00:00<?, ?it/s]"
          ]
        },
        {
          "output_type": "stream",
          "name": "stdout",
          "text": [
            "{(10, 10): 191}\n"
          ]
        },
        {
          "output_type": "stream",
          "name": "stderr",
          "text": [
            "100%|██████████| 2/2 [00:06<00:00,  3.32s/it]"
          ]
        },
        {
          "output_type": "stream",
          "name": "stdout",
          "text": [
            "[972/1160]\n",
            "[# Positions]: 4.07M\n",
            "[# Games]: 40.40K\n",
            "[# Loss]: 4.191 | [# Loss MAIA]: 3.412 | [# Loss Side Info]: 0.045 | [# Loss Value]: 0.734\n"
          ]
        },
        {
          "output_type": "stream",
          "name": "stderr",
          "text": [
            "\n",
            "  0%|          | 0/3 [00:00<?, ?it/s]"
          ]
        },
        {
          "output_type": "stream",
          "name": "stdout",
          "text": [
            "{(10, 10): 166}\n"
          ]
        },
        {
          "output_type": "stream",
          "name": "stderr",
          "text": [
            "100%|██████████| 3/3 [00:07<00:00,  2.42s/it]"
          ]
        },
        {
          "output_type": "stream",
          "name": "stdout",
          "text": [
            "[984/1160]\n",
            "[# Positions]: 4.09M\n",
            "[# Games]: 40.59K\n",
            "[# Loss]: 4.098 | [# Loss MAIA]: 3.481 | [# Loss Side Info]: 0.046 | [# Loss Value]: 0.571\n"
          ]
        },
        {
          "output_type": "stream",
          "name": "stderr",
          "text": [
            "\n",
            "  0%|          | 0/2 [00:00<?, ?it/s]"
          ]
        },
        {
          "output_type": "stream",
          "name": "stdout",
          "text": [
            "{(10, 10): 177}\n"
          ]
        },
        {
          "output_type": "stream",
          "name": "stderr",
          "text": [
            "100%|██████████| 2/2 [00:07<00:00,  3.50s/it]"
          ]
        },
        {
          "output_type": "stream",
          "name": "stdout",
          "text": [
            "[996/1160]\n",
            "[# Positions]: 4.11M\n",
            "[# Games]: 40.75K\n",
            "[# Loss]: 4.132 | [# Loss MAIA]: 3.494 | [# Loss Side Info]: 0.046 | [# Loss Value]: 0.592\n"
          ]
        },
        {
          "output_type": "stream",
          "name": "stderr",
          "text": [
            "\n",
            "  0%|          | 0/2 [00:00<?, ?it/s]"
          ]
        },
        {
          "output_type": "stream",
          "name": "stdout",
          "text": [
            "{(10, 10): 176}\n"
          ]
        },
        {
          "output_type": "stream",
          "name": "stderr",
          "text": [
            "100%|██████████| 2/2 [00:07<00:00,  3.50s/it]"
          ]
        },
        {
          "output_type": "stream",
          "name": "stdout",
          "text": [
            "[1008/1160]\n",
            "[# Positions]: 4.12M\n",
            "[# Games]: 40.93K\n",
            "[# Loss]: 4.118 | [# Loss MAIA]: 3.4 | [# Loss Side Info]: 0.045 | [# Loss Value]: 0.674\n"
          ]
        },
        {
          "output_type": "stream",
          "name": "stderr",
          "text": [
            "\n",
            "  0%|          | 0/3 [00:00<?, ?it/s]"
          ]
        },
        {
          "output_type": "stream",
          "name": "stdout",
          "text": [
            "{(10, 10): 167}\n"
          ]
        },
        {
          "output_type": "stream",
          "name": "stderr",
          "text": [
            "100%|██████████| 3/3 [00:07<00:00,  2.36s/it]"
          ]
        },
        {
          "output_type": "stream",
          "name": "stdout",
          "text": [
            "[1020/1160]\n",
            "[# Positions]: 4.14M\n",
            "[# Games]: 41.11K\n",
            "[# Loss]: 4.031 | [# Loss MAIA]: 3.457 | [# Loss Side Info]: 0.044 | [# Loss Value]: 0.53\n"
          ]
        },
        {
          "output_type": "stream",
          "name": "stderr",
          "text": [
            "\n",
            "  0%|          | 0/2 [00:00<?, ?it/s]"
          ]
        },
        {
          "output_type": "stream",
          "name": "stdout",
          "text": [
            "{(10, 10): 184}\n"
          ]
        },
        {
          "output_type": "stream",
          "name": "stderr",
          "text": [
            "100%|██████████| 2/2 [00:06<00:00,  3.49s/it]"
          ]
        },
        {
          "output_type": "stream",
          "name": "stdout",
          "text": [
            "[1032/1160]\n",
            "[# Positions]: 4.16M\n",
            "[# Games]: 41.27K\n",
            "[# Loss]: 4.058 | [# Loss MAIA]: 3.397 | [# Loss Side Info]: 0.044 | [# Loss Value]: 0.617\n"
          ]
        },
        {
          "output_type": "stream",
          "name": "stderr",
          "text": [
            "\n",
            "  0%|          | 0/2 [00:00<?, ?it/s]"
          ]
        },
        {
          "output_type": "stream",
          "name": "stdout",
          "text": [
            "{(10, 10): 189}\n"
          ]
        },
        {
          "output_type": "stream",
          "name": "stderr",
          "text": [
            "100%|██████████| 2/2 [00:06<00:00,  3.50s/it]"
          ]
        },
        {
          "output_type": "stream",
          "name": "stdout",
          "text": [
            "[1044/1160]\n",
            "[# Positions]: 4.17M\n",
            "[# Games]: 41.46K\n",
            "[# Loss]: 4.088 | [# Loss MAIA]: 3.408 | [# Loss Side Info]: 0.045 | [# Loss Value]: 0.635\n"
          ]
        },
        {
          "output_type": "stream",
          "name": "stderr",
          "text": [
            "\n",
            "  0%|          | 0/3 [00:00<?, ?it/s]"
          ]
        },
        {
          "output_type": "stream",
          "name": "stdout",
          "text": [
            "{(10, 10): 151}\n"
          ]
        },
        {
          "output_type": "stream",
          "name": "stderr",
          "text": [
            "100%|██████████| 3/3 [00:07<00:00,  2.42s/it]"
          ]
        },
        {
          "output_type": "stream",
          "name": "stdout",
          "text": [
            "[1056/1160]\n",
            "[# Positions]: 4.19M\n",
            "[# Games]: 41.65K\n",
            "[# Loss]: 4.114 | [# Loss MAIA]: 3.438 | [# Loss Side Info]: 0.045 | [# Loss Value]: 0.631\n"
          ]
        },
        {
          "output_type": "stream",
          "name": "stderr",
          "text": [
            "\n",
            "  0%|          | 0/2 [00:00<?, ?it/s]"
          ]
        },
        {
          "output_type": "stream",
          "name": "stdout",
          "text": [
            "{(10, 10): 162}\n"
          ]
        },
        {
          "output_type": "stream",
          "name": "stderr",
          "text": [
            "100%|██████████| 2/2 [00:06<00:00,  3.43s/it]"
          ]
        },
        {
          "output_type": "stream",
          "name": "stdout",
          "text": [
            "[1068/1160]\n",
            "[# Positions]: 4.20M\n",
            "[# Games]: 41.80K\n",
            "[# Loss]: 4.116 | [# Loss MAIA]: 3.378 | [# Loss Side Info]: 0.043 | [# Loss Value]: 0.695\n"
          ]
        },
        {
          "output_type": "stream",
          "name": "stderr",
          "text": [
            "\n",
            "  0%|          | 0/2 [00:00<?, ?it/s]"
          ]
        },
        {
          "output_type": "stream",
          "name": "stdout",
          "text": [
            "{(10, 10): 190}\n"
          ]
        },
        {
          "output_type": "stream",
          "name": "stderr",
          "text": [
            "100%|██████████| 2/2 [00:06<00:00,  3.39s/it]"
          ]
        },
        {
          "output_type": "stream",
          "name": "stdout",
          "text": [
            "[1080/1160]\n",
            "[# Positions]: 4.22M\n",
            "[# Games]: 41.96K\n",
            "[# Loss]: 4.067 | [# Loss MAIA]: 3.398 | [# Loss Side Info]: 0.044 | [# Loss Value]: 0.625\n"
          ]
        },
        {
          "output_type": "stream",
          "name": "stderr",
          "text": [
            "\n",
            "  0%|          | 0/3 [00:00<?, ?it/s]"
          ]
        },
        {
          "output_type": "stream",
          "name": "stdout",
          "text": [
            "{(10, 10): 191}\n"
          ]
        },
        {
          "output_type": "stream",
          "name": "stderr",
          "text": [
            "100%|██████████| 3/3 [00:07<00:00,  2.44s/it]"
          ]
        },
        {
          "output_type": "stream",
          "name": "stdout",
          "text": [
            "[1092/1160]\n",
            "[# Positions]: 4.24M\n",
            "[# Games]: 42.15K\n",
            "[# Loss]: 3.993 | [# Loss MAIA]: 3.42 | [# Loss Side Info]: 0.044 | [# Loss Value]: 0.53\n"
          ]
        },
        {
          "output_type": "stream",
          "name": "stderr",
          "text": [
            "\n",
            "  0%|          | 0/3 [00:00<?, ?it/s]"
          ]
        },
        {
          "output_type": "stream",
          "name": "stdout",
          "text": [
            "{(10, 10): 142}\n"
          ]
        },
        {
          "output_type": "stream",
          "name": "stderr",
          "text": [
            "100%|██████████| 3/3 [00:07<00:00,  2.39s/it]"
          ]
        },
        {
          "output_type": "stream",
          "name": "stdout",
          "text": [
            "[1104/1160]\n",
            "[# Positions]: 4.26M\n",
            "[# Games]: 42.34K\n",
            "[# Loss]: 4.077 | [# Loss MAIA]: 3.413 | [# Loss Side Info]: 0.044 | [# Loss Value]: 0.619\n"
          ]
        },
        {
          "output_type": "stream",
          "name": "stderr",
          "text": [
            "\n",
            "  0%|          | 0/2 [00:00<?, ?it/s]"
          ]
        },
        {
          "output_type": "stream",
          "name": "stdout",
          "text": [
            "{(10, 10): 150}\n"
          ]
        },
        {
          "output_type": "stream",
          "name": "stderr",
          "text": [
            "100%|██████████| 2/2 [00:06<00:00,  3.29s/it]"
          ]
        },
        {
          "output_type": "stream",
          "name": "stdout",
          "text": [
            "[1116/1160]\n",
            "[# Positions]: 4.27M\n",
            "[# Games]: 42.48K\n",
            "[# Loss]: 3.982 | [# Loss MAIA]: 3.338 | [# Loss Side Info]: 0.042 | [# Loss Value]: 0.601\n"
          ]
        },
        {
          "output_type": "stream",
          "name": "stderr",
          "text": [
            "\n",
            "  0%|          | 0/2 [00:00<?, ?it/s]"
          ]
        },
        {
          "output_type": "stream",
          "name": "stdout",
          "text": [
            "{(10, 10): 187}\n"
          ]
        },
        {
          "output_type": "stream",
          "name": "stderr",
          "text": [
            "100%|██████████| 2/2 [00:06<00:00,  3.38s/it]"
          ]
        },
        {
          "output_type": "stream",
          "name": "stdout",
          "text": [
            "[1128/1160]\n",
            "[# Positions]: 4.29M\n",
            "[# Games]: 42.63K\n",
            "[# Loss]: 4.017 | [# Loss MAIA]: 3.415 | [# Loss Side Info]: 0.043 | [# Loss Value]: 0.559\n"
          ]
        },
        {
          "output_type": "stream",
          "name": "stderr",
          "text": [
            "\n",
            "  0%|          | 0/3 [00:00<?, ?it/s]"
          ]
        },
        {
          "output_type": "stream",
          "name": "stdout",
          "text": [
            "{(10, 10): 176}\n"
          ]
        },
        {
          "output_type": "stream",
          "name": "stderr",
          "text": [
            "100%|██████████| 3/3 [00:07<00:00,  2.34s/it]"
          ]
        },
        {
          "output_type": "stream",
          "name": "stdout",
          "text": [
            "[1140/1160]\n",
            "[# Positions]: 4.30M\n",
            "[# Games]: 42.82K\n",
            "[# Loss]: 4.037 | [# Loss MAIA]: 3.389 | [# Loss Side Info]: 0.044 | [# Loss Value]: 0.604\n"
          ]
        },
        {
          "output_type": "stream",
          "name": "stderr",
          "text": [
            "\n",
            "  0%|          | 0/2 [00:00<?, ?it/s]"
          ]
        },
        {
          "output_type": "stream",
          "name": "stdout",
          "text": [
            "{(10, 10): 77}\n"
          ]
        },
        {
          "output_type": "stream",
          "name": "stderr",
          "text": [
            "100%|██████████| 2/2 [00:06<00:00,  3.25s/it]"
          ]
        },
        {
          "output_type": "stream",
          "name": "stdout",
          "text": [
            "[1152/1160]\n",
            "[# Positions]: 4.32M\n",
            "[# Games]: 42.99K\n",
            "[# Loss]: 4.154 | [# Loss MAIA]: 3.427 | [# Loss Side Info]: 0.044 | [# Loss Value]: 0.683\n"
          ]
        },
        {
          "output_type": "stream",
          "name": "stderr",
          "text": [
            "\n",
            "100%|██████████| 1/1 [00:04<00:00,  4.85s/it]"
          ]
        },
        {
          "output_type": "stream",
          "name": "stdout",
          "text": [
            "[1160/1160]\n",
            "[# Positions]: 4.33M\n",
            "[# Games]: 43.07K\n",
            "[# Loss]: 4.061 | [# Loss MAIA]: 3.4 | [# Loss Side Info]: 0.044 | [# Loss Value]: 0.617\n",
            "### (2 / 6) Took 11m 42.54s to train /content/drive/MyDrive/ChessEngine/lichess_db_standard_rated_2025-02.pgn with 1160 chunks.\n"
          ]
        },
        {
          "output_type": "stream",
          "name": "stderr",
          "text": [
            "\n"
          ]
        },
        {
          "output_type": "stream",
          "name": "stdout",
          "text": [
            "Decompressing /content/drive/MyDrive/ChessEngine/lichess_db_standard_rated_2025-03.pgn took 6.88s\n",
            "Cache not found. Creating chunks for /content/drive/MyDrive/ChessEngine/lichess_db_standard_rated_2025-03.pgn\n",
            "Chunking took 3.51s\n",
            "Training /content/drive/MyDrive/ChessEngine/lichess_db_standard_rated_2025-03.pgn with 1026 chunks.\n",
            "{(10, 10): 202}\n"
          ]
        },
        {
          "output_type": "stream",
          "name": "stderr",
          "text": [
            "\r  0%|          | 0/3 [00:00<?, ?it/s]"
          ]
        },
        {
          "output_type": "stream",
          "name": "stdout",
          "text": [
            "{(10, 10): 208}\n"
          ]
        },
        {
          "output_type": "stream",
          "name": "stderr",
          "text": [
            "100%|██████████| 3/3 [00:07<00:00,  2.41s/it]"
          ]
        },
        {
          "output_type": "stream",
          "name": "stdout",
          "text": [
            "[12/1026]\n",
            "[# Positions]: 4.35M\n",
            "[# Games]: 43.27K\n",
            "[# Loss]: 4.049 | [# Loss MAIA]: 3.416 | [# Loss Side Info]: 0.044 | [# Loss Value]: 0.589\n"
          ]
        },
        {
          "output_type": "stream",
          "name": "stderr",
          "text": [
            "\n",
            "  0%|          | 0/3 [00:00<?, ?it/s]"
          ]
        },
        {
          "output_type": "stream",
          "name": "stdout",
          "text": [
            "{(10, 10): 89}\n"
          ]
        },
        {
          "output_type": "stream",
          "name": "stderr",
          "text": [
            "100%|██████████| 3/3 [00:07<00:00,  2.45s/it]"
          ]
        },
        {
          "output_type": "stream",
          "name": "stdout",
          "text": [
            "[24/1026]\n",
            "[# Positions]: 4.36M\n",
            "[# Games]: 43.48K\n",
            "[# Loss]: 4.078 | [# Loss MAIA]: 3.373 | [# Loss Side Info]: 0.043 | [# Loss Value]: 0.661\n"
          ]
        },
        {
          "output_type": "stream",
          "name": "stderr",
          "text": [
            "\n",
            "  0%|          | 0/1 [00:00<?, ?it/s]"
          ]
        },
        {
          "output_type": "stream",
          "name": "stdout",
          "text": [
            "{(10, 10): 181}\n"
          ]
        },
        {
          "output_type": "stream",
          "name": "stderr",
          "text": [
            "100%|██████████| 1/1 [00:05<00:00,  5.97s/it]"
          ]
        },
        {
          "output_type": "stream",
          "name": "stdout",
          "text": [
            "[36/1026]\n",
            "[# Positions]: 4.37M\n",
            "[# Games]: 43.57K\n",
            "[# Loss]: 4.063 | [# Loss MAIA]: 3.426 | [# Loss Side Info]: 0.043 | [# Loss Value]: 0.595\n"
          ]
        },
        {
          "output_type": "stream",
          "name": "stderr",
          "text": [
            "\n",
            "  0%|          | 0/3 [00:00<?, ?it/s]"
          ]
        },
        {
          "output_type": "stream",
          "name": "stdout",
          "text": [
            "{(10, 10): 227}\n"
          ]
        },
        {
          "output_type": "stream",
          "name": "stderr",
          "text": [
            "100%|██████████| 3/3 [00:07<00:00,  2.40s/it]"
          ]
        },
        {
          "output_type": "stream",
          "name": "stdout",
          "text": [
            "[48/1026]\n",
            "[# Positions]: 4.39M\n",
            "[# Games]: 43.75K\n",
            "[# Loss]: 3.954 | [# Loss MAIA]: 3.38 | [# Loss Side Info]: 0.043 | [# Loss Value]: 0.532\n"
          ]
        },
        {
          "output_type": "stream",
          "name": "stderr",
          "text": [
            "\n",
            "  0%|          | 0/3 [00:00<?, ?it/s]"
          ]
        },
        {
          "output_type": "stream",
          "name": "stdout",
          "text": [
            "{(10, 10): 156}\n"
          ]
        },
        {
          "output_type": "stream",
          "name": "stderr",
          "text": [
            "100%|██████████| 3/3 [00:07<00:00,  2.38s/it]"
          ]
        },
        {
          "output_type": "stream",
          "name": "stdout",
          "text": [
            "[60/1026]\n",
            "[# Positions]: 4.41M\n",
            "[# Games]: 43.98K\n",
            "[# Loss]: 4.047 | [# Loss MAIA]: 3.351 | [# Loss Side Info]: 0.043 | [# Loss Value]: 0.653\n"
          ]
        },
        {
          "output_type": "stream",
          "name": "stderr",
          "text": [
            "\n",
            "  0%|          | 0/2 [00:00<?, ?it/s]"
          ]
        },
        {
          "output_type": "stream",
          "name": "stdout",
          "text": [
            "{(10, 10): 194}\n"
          ]
        },
        {
          "output_type": "stream",
          "name": "stderr",
          "text": [
            "100%|██████████| 2/2 [00:06<00:00,  3.45s/it]"
          ]
        },
        {
          "output_type": "stream",
          "name": "stdout",
          "text": [
            "[72/1026]\n",
            "[# Positions]: 4.42M\n",
            "[# Games]: 44.13K\n",
            "[# Loss]: 4.034 | [# Loss MAIA]: 3.418 | [# Loss Side Info]: 0.044 | [# Loss Value]: 0.573\n"
          ]
        },
        {
          "output_type": "stream",
          "name": "stderr",
          "text": [
            "\n",
            "  0%|          | 0/3 [00:00<?, ?it/s]"
          ]
        },
        {
          "output_type": "stream",
          "name": "stdout",
          "text": [
            "{(10, 10): 166}\n"
          ]
        },
        {
          "output_type": "stream",
          "name": "stderr",
          "text": [
            "100%|██████████| 3/3 [00:07<00:00,  2.41s/it]"
          ]
        },
        {
          "output_type": "stream",
          "name": "stdout",
          "text": [
            "[84/1026]\n",
            "[# Positions]: 4.44M\n",
            "[# Games]: 44.33K\n",
            "[# Loss]: 4.012 | [# Loss MAIA]: 3.422 | [# Loss Side Info]: 0.043 | [# Loss Value]: 0.547\n"
          ]
        },
        {
          "output_type": "stream",
          "name": "stderr",
          "text": [
            "\n",
            "  0%|          | 0/2 [00:00<?, ?it/s]"
          ]
        },
        {
          "output_type": "stream",
          "name": "stdout",
          "text": [
            "{(10, 10): 188}\n"
          ]
        },
        {
          "output_type": "stream",
          "name": "stderr",
          "text": [
            "100%|██████████| 2/2 [00:06<00:00,  3.35s/it]"
          ]
        },
        {
          "output_type": "stream",
          "name": "stdout",
          "text": [
            "[96/1026]\n",
            "[# Positions]: 4.46M\n",
            "[# Games]: 44.49K\n",
            "[# Loss]: 4.017 | [# Loss MAIA]: 3.371 | [# Loss Side Info]: 0.043 | [# Loss Value]: 0.603\n"
          ]
        },
        {
          "output_type": "stream",
          "name": "stderr",
          "text": [
            "\n",
            "  0%|          | 0/3 [00:00<?, ?it/s]"
          ]
        },
        {
          "output_type": "stream",
          "name": "stdout",
          "text": [
            "{(10, 10): 191}\n"
          ]
        },
        {
          "output_type": "stream",
          "name": "stderr",
          "text": [
            "100%|██████████| 3/3 [00:07<00:00,  2.41s/it]"
          ]
        },
        {
          "output_type": "stream",
          "name": "stdout",
          "text": [
            "[108/1026]\n",
            "[# Positions]: 4.48M\n",
            "[# Games]: 44.68K\n",
            "[# Loss]: 3.935 | [# Loss MAIA]: 3.284 | [# Loss Side Info]: 0.042 | [# Loss Value]: 0.609\n"
          ]
        },
        {
          "output_type": "stream",
          "name": "stderr",
          "text": [
            "\n",
            "  0%|          | 0/3 [00:00<?, ?it/s]"
          ]
        },
        {
          "output_type": "stream",
          "name": "stdout",
          "text": [
            "{(10, 10): 200}\n"
          ]
        },
        {
          "output_type": "stream",
          "name": "stderr",
          "text": [
            "100%|██████████| 3/3 [00:07<00:00,  2.48s/it]"
          ]
        },
        {
          "output_type": "stream",
          "name": "stdout",
          "text": [
            "[120/1026]\n",
            "[# Positions]: 4.49M\n",
            "[# Games]: 44.87K\n",
            "[# Loss]: 4.096 | [# Loss MAIA]: 3.412 | [# Loss Side Info]: 0.043 | [# Loss Value]: 0.641\n"
          ]
        },
        {
          "output_type": "stream",
          "name": "stderr",
          "text": [
            "\n",
            "  0%|          | 0/3 [00:00<?, ?it/s]"
          ]
        },
        {
          "output_type": "stream",
          "name": "stdout",
          "text": [
            "{(10, 10): 167}\n"
          ]
        },
        {
          "output_type": "stream",
          "name": "stderr",
          "text": [
            "100%|██████████| 3/3 [00:07<00:00,  2.39s/it]"
          ]
        },
        {
          "output_type": "stream",
          "name": "stdout",
          "text": [
            "[132/1026]\n",
            "[# Positions]: 4.51M\n",
            "[# Games]: 45.07K\n",
            "[# Loss]: 4.052 | [# Loss MAIA]: 3.321 | [# Loss Side Info]: 0.042 | [# Loss Value]: 0.69\n"
          ]
        },
        {
          "output_type": "stream",
          "name": "stderr",
          "text": [
            "\n",
            "  0%|          | 0/2 [00:00<?, ?it/s]"
          ]
        },
        {
          "output_type": "stream",
          "name": "stdout",
          "text": [
            "{(10, 10): 207}\n"
          ]
        },
        {
          "output_type": "stream",
          "name": "stderr",
          "text": [
            "100%|██████████| 2/2 [00:06<00:00,  3.42s/it]"
          ]
        },
        {
          "output_type": "stream",
          "name": "stdout",
          "text": [
            "[144/1026]\n",
            "[# Positions]: 4.53M\n",
            "[# Games]: 45.24K\n",
            "[# Loss]: 4.067 | [# Loss MAIA]: 3.406 | [# Loss Side Info]: 0.043 | [# Loss Value]: 0.618\n"
          ]
        },
        {
          "output_type": "stream",
          "name": "stderr",
          "text": [
            "\n",
            "  0%|          | 0/3 [00:00<?, ?it/s]"
          ]
        },
        {
          "output_type": "stream",
          "name": "stdout",
          "text": [
            "{(10, 10): 225}\n"
          ]
        },
        {
          "output_type": "stream",
          "name": "stderr",
          "text": [
            "100%|██████████| 3/3 [00:07<00:00,  2.44s/it]"
          ]
        },
        {
          "output_type": "stream",
          "name": "stdout",
          "text": [
            "[156/1026]\n",
            "[# Positions]: 4.55M\n",
            "[# Games]: 45.45K\n",
            "[# Loss]: 4.039 | [# Loss MAIA]: 3.37 | [# Loss Side Info]: 0.042 | [# Loss Value]: 0.627\n"
          ]
        },
        {
          "output_type": "stream",
          "name": "stderr",
          "text": [
            "\n",
            "  0%|          | 0/3 [00:00<?, ?it/s]"
          ]
        },
        {
          "output_type": "stream",
          "name": "stdout",
          "text": [
            "{(10, 10): 164}\n"
          ]
        },
        {
          "output_type": "stream",
          "name": "stderr",
          "text": [
            "100%|██████████| 3/3 [00:07<00:00,  2.48s/it]"
          ]
        },
        {
          "output_type": "stream",
          "name": "stdout",
          "text": [
            "[168/1026]\n",
            "[# Positions]: 4.57M\n",
            "[# Games]: 45.67K\n",
            "[# Loss]: 4.009 | [# Loss MAIA]: 3.333 | [# Loss Side Info]: 0.043 | [# Loss Value]: 0.633\n"
          ]
        },
        {
          "output_type": "stream",
          "name": "stderr",
          "text": [
            "\n",
            "  0%|          | 0/2 [00:00<?, ?it/s]"
          ]
        },
        {
          "output_type": "stream",
          "name": "stdout",
          "text": [
            "{(10, 10): 161}\n"
          ]
        },
        {
          "output_type": "stream",
          "name": "stderr",
          "text": [
            "100%|██████████| 2/2 [00:06<00:00,  3.44s/it]"
          ]
        },
        {
          "output_type": "stream",
          "name": "stdout",
          "text": [
            "[180/1026]\n",
            "[# Positions]: 4.58M\n",
            "[# Games]: 45.84K\n",
            "[# Loss]: 4.041 | [# Loss MAIA]: 3.394 | [# Loss Side Info]: 0.043 | [# Loss Value]: 0.605\n"
          ]
        },
        {
          "output_type": "stream",
          "name": "stderr",
          "text": [
            "\n",
            "  0%|          | 0/2 [00:00<?, ?it/s]"
          ]
        },
        {
          "output_type": "stream",
          "name": "stdout",
          "text": [
            "{(10, 10): 196}\n"
          ]
        },
        {
          "output_type": "stream",
          "name": "stderr",
          "text": [
            "100%|██████████| 2/2 [00:06<00:00,  3.41s/it]"
          ]
        },
        {
          "output_type": "stream",
          "name": "stdout",
          "text": [
            "[192/1026]\n",
            "[# Positions]: 4.60M\n",
            "[# Games]: 46.00K\n",
            "[# Loss]: 3.975 | [# Loss MAIA]: 3.349 | [# Loss Side Info]: 0.042 | [# Loss Value]: 0.585\n"
          ]
        },
        {
          "output_type": "stream",
          "name": "stderr",
          "text": [
            "\n",
            "  0%|          | 0/3 [00:00<?, ?it/s]"
          ]
        },
        {
          "output_type": "stream",
          "name": "stdout",
          "text": [
            "{(10, 10): 142}\n"
          ]
        },
        {
          "output_type": "stream",
          "name": "stderr",
          "text": [
            "100%|██████████| 3/3 [00:06<00:00,  2.31s/it]"
          ]
        },
        {
          "output_type": "stream",
          "name": "stdout",
          "text": [
            "[204/1026]\n",
            "[# Positions]: 4.61M\n",
            "[# Games]: 46.19K\n",
            "[# Loss]: 3.963 | [# Loss MAIA]: 3.338 | [# Loss Side Info]: 0.041 | [# Loss Value]: 0.584\n"
          ]
        },
        {
          "output_type": "stream",
          "name": "stderr",
          "text": [
            "\n",
            "  0%|          | 0/2 [00:00<?, ?it/s]"
          ]
        },
        {
          "output_type": "stream",
          "name": "stdout",
          "text": [
            "{(10, 10): 142}\n"
          ]
        },
        {
          "output_type": "stream",
          "name": "stderr",
          "text": [
            "100%|██████████| 2/2 [00:06<00:00,  3.27s/it]"
          ]
        },
        {
          "output_type": "stream",
          "name": "stdout",
          "text": [
            "[216/1026]\n",
            "[# Positions]: 4.63M\n",
            "[# Games]: 46.34K\n",
            "[# Loss]: 4.102 | [# Loss MAIA]: 3.33 | [# Loss Side Info]: 0.042 | [# Loss Value]: 0.73\n"
          ]
        },
        {
          "output_type": "stream",
          "name": "stderr",
          "text": [
            "\n",
            "  0%|          | 0/2 [00:00<?, ?it/s]"
          ]
        },
        {
          "output_type": "stream",
          "name": "stdout",
          "text": [
            "{(10, 10): 184}\n"
          ]
        },
        {
          "output_type": "stream",
          "name": "stderr",
          "text": [
            "100%|██████████| 2/2 [00:06<00:00,  3.34s/it]"
          ]
        },
        {
          "output_type": "stream",
          "name": "stdout",
          "text": [
            "[228/1026]\n",
            "[# Positions]: 4.64M\n",
            "[# Games]: 46.48K\n",
            "[# Loss]: 3.904 | [# Loss MAIA]: 3.338 | [# Loss Side Info]: 0.041 | [# Loss Value]: 0.524\n"
          ]
        },
        {
          "output_type": "stream",
          "name": "stderr",
          "text": [
            "\n",
            "  0%|          | 0/2 [00:00<?, ?it/s]"
          ]
        },
        {
          "output_type": "stream",
          "name": "stdout",
          "text": [
            "{(10, 10): 151}\n"
          ]
        },
        {
          "output_type": "stream",
          "name": "stderr",
          "text": [
            "100%|██████████| 2/2 [00:07<00:00,  3.53s/it]"
          ]
        },
        {
          "output_type": "stream",
          "name": "stdout",
          "text": [
            "[240/1026]\n",
            "[# Positions]: 4.66M\n",
            "[# Games]: 46.66K\n",
            "[# Loss]: 4.037 | [# Loss MAIA]: 3.309 | [# Loss Side Info]: 0.041 | [# Loss Value]: 0.687\n"
          ]
        },
        {
          "output_type": "stream",
          "name": "stderr",
          "text": [
            "\n",
            "  0%|          | 0/2 [00:00<?, ?it/s]"
          ]
        },
        {
          "output_type": "stream",
          "name": "stdout",
          "text": [
            "{(10, 10): 234}\n"
          ]
        },
        {
          "output_type": "stream",
          "name": "stderr",
          "text": [
            "100%|██████████| 2/2 [00:07<00:00,  3.53s/it]"
          ]
        },
        {
          "output_type": "stream",
          "name": "stdout",
          "text": [
            "[252/1026]\n",
            "[# Positions]: 4.67M\n",
            "[# Games]: 46.81K\n",
            "[# Loss]: 3.963 | [# Loss MAIA]: 3.319 | [# Loss Side Info]: 0.041 | [# Loss Value]: 0.603\n"
          ]
        },
        {
          "output_type": "stream",
          "name": "stderr",
          "text": [
            "\n",
            "  0%|          | 0/3 [00:00<?, ?it/s]"
          ]
        },
        {
          "output_type": "stream",
          "name": "stdout",
          "text": [
            "{(10, 10): 197}\n"
          ]
        },
        {
          "output_type": "stream",
          "name": "stderr",
          "text": [
            "100%|██████████| 3/3 [00:07<00:00,  2.54s/it]"
          ]
        },
        {
          "output_type": "stream",
          "name": "stdout",
          "text": [
            "[264/1026]\n",
            "[# Positions]: 4.69M\n",
            "[# Games]: 47.05K\n",
            "[# Loss]: 4.051 | [# Loss MAIA]: 3.342 | [# Loss Side Info]: 0.041 | [# Loss Value]: 0.668\n"
          ]
        },
        {
          "output_type": "stream",
          "name": "stderr",
          "text": [
            "\n",
            "  0%|          | 0/3 [00:00<?, ?it/s]"
          ]
        },
        {
          "output_type": "stream",
          "name": "stdout",
          "text": [
            "{(10, 10): 143}\n"
          ]
        },
        {
          "output_type": "stream",
          "name": "stderr",
          "text": [
            "100%|██████████| 3/3 [00:07<00:00,  2.43s/it]"
          ]
        },
        {
          "output_type": "stream",
          "name": "stdout",
          "text": [
            "[276/1026]\n",
            "[# Positions]: 4.71M\n",
            "[# Games]: 47.24K\n",
            "[# Loss]: 4.025 | [# Loss MAIA]: 3.331 | [# Loss Side Info]: 0.041 | [# Loss Value]: 0.653\n"
          ]
        },
        {
          "output_type": "stream",
          "name": "stderr",
          "text": [
            "\n",
            "  0%|          | 0/2 [00:00<?, ?it/s]"
          ]
        },
        {
          "output_type": "stream",
          "name": "stdout",
          "text": [
            "{(10, 10): 164}\n"
          ]
        },
        {
          "output_type": "stream",
          "name": "stderr",
          "text": [
            "100%|██████████| 2/2 [00:06<00:00,  3.40s/it]"
          ]
        },
        {
          "output_type": "stream",
          "name": "stdout",
          "text": [
            "[288/1026]\n",
            "[# Positions]: 4.72M\n",
            "[# Games]: 47.39K\n",
            "[# Loss]: 3.953 | [# Loss MAIA]: 3.284 | [# Loss Side Info]: 0.041 | [# Loss Value]: 0.628\n"
          ]
        },
        {
          "output_type": "stream",
          "name": "stderr",
          "text": [
            "\n",
            "  0%|          | 0/2 [00:00<?, ?it/s]"
          ]
        },
        {
          "output_type": "stream",
          "name": "stdout",
          "text": [
            "{(10, 10): 137}\n"
          ]
        },
        {
          "output_type": "stream",
          "name": "stderr",
          "text": [
            "100%|██████████| 2/2 [00:06<00:00,  3.37s/it]"
          ]
        },
        {
          "output_type": "stream",
          "name": "stdout",
          "text": [
            "[300/1026]\n",
            "[# Positions]: 4.74M\n",
            "[# Games]: 47.55K\n",
            "[# Loss]: 3.979 | [# Loss MAIA]: 3.336 | [# Loss Side Info]: 0.041 | [# Loss Value]: 0.602\n"
          ]
        },
        {
          "output_type": "stream",
          "name": "stderr",
          "text": [
            "\n",
            "  0%|          | 0/2 [00:00<?, ?it/s]"
          ]
        },
        {
          "output_type": "stream",
          "name": "stdout",
          "text": [
            "{(10, 10): 168}\n"
          ]
        },
        {
          "output_type": "stream",
          "name": "stderr",
          "text": [
            "100%|██████████| 2/2 [00:06<00:00,  3.28s/it]"
          ]
        },
        {
          "output_type": "stream",
          "name": "stdout",
          "text": [
            "[312/1026]\n",
            "[# Positions]: 4.75M\n",
            "[# Games]: 47.69K\n",
            "[# Loss]: 3.918 | [# Loss MAIA]: 3.304 | [# Loss Side Info]: 0.041 | [# Loss Value]: 0.574\n"
          ]
        },
        {
          "output_type": "stream",
          "name": "stderr",
          "text": [
            "\n",
            "  0%|          | 0/3 [00:00<?, ?it/s]"
          ]
        },
        {
          "output_type": "stream",
          "name": "stdout",
          "text": [
            "{(10, 10): 171}\n"
          ]
        },
        {
          "output_type": "stream",
          "name": "stderr",
          "text": [
            "100%|██████████| 3/3 [00:07<00:00,  2.46s/it]"
          ]
        },
        {
          "output_type": "stream",
          "name": "stdout",
          "text": [
            "[324/1026]\n",
            "[# Positions]: 4.77M\n",
            "[# Games]: 47.86K\n",
            "[# Loss]: 3.878 | [# Loss MAIA]: 3.289 | [# Loss Side Info]: 0.041 | [# Loss Value]: 0.548\n"
          ]
        },
        {
          "output_type": "stream",
          "name": "stderr",
          "text": [
            "\n",
            "  0%|          | 0/3 [00:00<?, ?it/s]"
          ]
        },
        {
          "output_type": "stream",
          "name": "stdout",
          "text": [
            "{(10, 10): 191}\n"
          ]
        },
        {
          "output_type": "stream",
          "name": "stderr",
          "text": [
            "100%|██████████| 3/3 [00:06<00:00,  2.30s/it]"
          ]
        },
        {
          "output_type": "stream",
          "name": "stdout",
          "text": [
            "[336/1026]\n",
            "[# Positions]: 4.79M\n",
            "[# Games]: 48.03K\n",
            "[# Loss]: 3.868 | [# Loss MAIA]: 3.322 | [# Loss Side Info]: 0.04 | [# Loss Value]: 0.506\n"
          ]
        },
        {
          "output_type": "stream",
          "name": "stderr",
          "text": [
            "\n",
            "  0%|          | 0/2 [00:00<?, ?it/s]"
          ]
        },
        {
          "output_type": "stream",
          "name": "stdout",
          "text": [
            "{(10, 10): 207}\n"
          ]
        },
        {
          "output_type": "stream",
          "name": "stderr",
          "text": [
            "100%|██████████| 2/2 [00:07<00:00,  3.59s/it]"
          ]
        },
        {
          "output_type": "stream",
          "name": "stdout",
          "text": [
            "[348/1026]\n",
            "[# Positions]: 4.80M\n",
            "[# Games]: 48.22K\n",
            "[# Loss]: 3.958 | [# Loss MAIA]: 3.273 | [# Loss Side Info]: 0.039 | [# Loss Value]: 0.646\n"
          ]
        },
        {
          "output_type": "stream",
          "name": "stderr",
          "text": [
            "\n",
            "  0%|          | 0/3 [00:00<?, ?it/s]"
          ]
        },
        {
          "output_type": "stream",
          "name": "stdout",
          "text": [
            "{(10, 10): 191}\n"
          ]
        },
        {
          "output_type": "stream",
          "name": "stderr",
          "text": [
            "100%|██████████| 3/3 [00:07<00:00,  2.35s/it]"
          ]
        },
        {
          "output_type": "stream",
          "name": "stdout",
          "text": [
            "[360/1026]\n",
            "[# Positions]: 4.82M\n",
            "[# Games]: 48.42K\n",
            "[# Loss]: 3.88 | [# Loss MAIA]: 3.224 | [# Loss Side Info]: 0.038 | [# Loss Value]: 0.617\n"
          ]
        },
        {
          "output_type": "stream",
          "name": "stderr",
          "text": [
            "\n",
            "  0%|          | 0/3 [00:00<?, ?it/s]"
          ]
        },
        {
          "output_type": "stream",
          "name": "stdout",
          "text": [
            "{(10, 10): 185}\n"
          ]
        },
        {
          "output_type": "stream",
          "name": "stderr",
          "text": [
            "100%|██████████| 3/3 [00:07<00:00,  2.43s/it]"
          ]
        },
        {
          "output_type": "stream",
          "name": "stdout",
          "text": [
            "[372/1026]\n",
            "[# Positions]: 4.84M\n",
            "[# Games]: 48.62K\n",
            "[# Loss]: 3.913 | [# Loss MAIA]: 3.278 | [# Loss Side Info]: 0.04 | [# Loss Value]: 0.595\n"
          ]
        },
        {
          "output_type": "stream",
          "name": "stderr",
          "text": [
            "\n",
            "  0%|          | 0/2 [00:00<?, ?it/s]"
          ]
        },
        {
          "output_type": "stream",
          "name": "stdout",
          "text": [
            "{(10, 10): 175}\n"
          ]
        },
        {
          "output_type": "stream",
          "name": "stderr",
          "text": [
            "100%|██████████| 2/2 [00:06<00:00,  3.49s/it]"
          ]
        },
        {
          "output_type": "stream",
          "name": "stdout",
          "text": [
            "[384/1026]\n",
            "[# Positions]: 4.86M\n",
            "[# Games]: 48.80K\n",
            "[# Loss]: 3.934 | [# Loss MAIA]: 3.299 | [# Loss Side Info]: 0.041 | [# Loss Value]: 0.594\n"
          ]
        },
        {
          "output_type": "stream",
          "name": "stderr",
          "text": [
            "\n",
            "  0%|          | 0/3 [00:00<?, ?it/s]"
          ]
        },
        {
          "output_type": "stream",
          "name": "stdout",
          "text": [
            "{(10, 10): 206}\n"
          ]
        },
        {
          "output_type": "stream",
          "name": "stderr",
          "text": [
            "100%|██████████| 3/3 [00:07<00:00,  2.55s/it]"
          ]
        },
        {
          "output_type": "stream",
          "name": "stdout",
          "text": [
            "[396/1026]\n",
            "[# Positions]: 4.87M\n",
            "[# Games]: 48.98K\n",
            "[# Loss]: 3.952 | [# Loss MAIA]: 3.315 | [# Loss Side Info]: 0.04 | [# Loss Value]: 0.597\n"
          ]
        },
        {
          "output_type": "stream",
          "name": "stderr",
          "text": [
            "\n",
            "  0%|          | 0/3 [00:00<?, ?it/s]"
          ]
        },
        {
          "output_type": "stream",
          "name": "stdout",
          "text": [
            "{(10, 10): 161}\n"
          ]
        },
        {
          "output_type": "stream",
          "name": "stderr",
          "text": [
            "100%|██████████| 3/3 [00:07<00:00,  2.54s/it]"
          ]
        },
        {
          "output_type": "stream",
          "name": "stdout",
          "text": [
            "[408/1026]\n",
            "[# Positions]: 4.89M\n",
            "[# Games]: 49.18K\n",
            "[# Loss]: 3.97 | [# Loss MAIA]: 3.313 | [# Loss Side Info]: 0.039 | [# Loss Value]: 0.617\n"
          ]
        },
        {
          "output_type": "stream",
          "name": "stderr",
          "text": [
            "\n",
            "  0%|          | 0/2 [00:00<?, ?it/s]"
          ]
        },
        {
          "output_type": "stream",
          "name": "stdout",
          "text": [
            "{(10, 10): 180}\n"
          ]
        },
        {
          "output_type": "stream",
          "name": "stderr",
          "text": [
            "100%|██████████| 2/2 [00:06<00:00,  3.39s/it]"
          ]
        },
        {
          "output_type": "stream",
          "name": "stdout",
          "text": [
            "[420/1026]\n",
            "[# Positions]: 4.91M\n",
            "[# Games]: 49.34K\n",
            "[# Loss]: 3.924 | [# Loss MAIA]: 3.259 | [# Loss Side Info]: 0.039 | [# Loss Value]: 0.626\n"
          ]
        },
        {
          "output_type": "stream",
          "name": "stderr",
          "text": [
            "\n",
            "  0%|          | 0/3 [00:00<?, ?it/s]"
          ]
        },
        {
          "output_type": "stream",
          "name": "stdout",
          "text": [
            "{(10, 10): 176}\n"
          ]
        },
        {
          "output_type": "stream",
          "name": "stderr",
          "text": [
            "100%|██████████| 3/3 [00:07<00:00,  2.47s/it]"
          ]
        },
        {
          "output_type": "stream",
          "name": "stdout",
          "text": [
            "[432/1026]\n",
            "[# Positions]: 4.93M\n",
            "[# Games]: 49.52K\n",
            "[# Loss]: 3.869 | [# Loss MAIA]: 3.3 | [# Loss Side Info]: 0.04 | [# Loss Value]: 0.529\n"
          ]
        },
        {
          "output_type": "stream",
          "name": "stderr",
          "text": [
            "\n",
            "  0%|          | 0/3 [00:00<?, ?it/s]"
          ]
        },
        {
          "output_type": "stream",
          "name": "stdout",
          "text": [
            "{(10, 10): 185}\n"
          ]
        },
        {
          "output_type": "stream",
          "name": "stderr",
          "text": [
            "100%|██████████| 3/3 [00:07<00:00,  2.41s/it]"
          ]
        },
        {
          "output_type": "stream",
          "name": "stdout",
          "text": [
            "[444/1026]\n",
            "[# Positions]: 4.94M\n",
            "[# Games]: 49.70K\n",
            "[# Loss]: 3.85 | [# Loss MAIA]: 3.264 | [# Loss Side Info]: 0.039 | [# Loss Value]: 0.546\n"
          ]
        },
        {
          "output_type": "stream",
          "name": "stderr",
          "text": [
            "\n",
            "  0%|          | 0/3 [00:00<?, ?it/s]"
          ]
        },
        {
          "output_type": "stream",
          "name": "stdout",
          "text": [
            "{(10, 10): 180}\n"
          ]
        },
        {
          "output_type": "stream",
          "name": "stderr",
          "text": [
            "100%|██████████| 3/3 [00:07<00:00,  2.41s/it]"
          ]
        },
        {
          "output_type": "stream",
          "name": "stdout",
          "text": [
            "[456/1026]\n",
            "[# Positions]: 4.96M\n",
            "[# Games]: 49.88K\n",
            "[# Loss]: 3.862 | [# Loss MAIA]: 3.205 | [# Loss Side Info]: 0.039 | [# Loss Value]: 0.618\n"
          ]
        },
        {
          "output_type": "stream",
          "name": "stderr",
          "text": [
            "\n",
            "  0%|          | 0/3 [00:00<?, ?it/s]"
          ]
        },
        {
          "output_type": "stream",
          "name": "stdout",
          "text": [
            "{(10, 10): 165}\n"
          ]
        },
        {
          "output_type": "stream",
          "name": "stderr",
          "text": [
            "100%|██████████| 3/3 [00:07<00:00,  2.50s/it]"
          ]
        },
        {
          "output_type": "stream",
          "name": "stdout",
          "text": [
            "[468/1026]\n",
            "[# Positions]: 4.98M\n",
            "[# Games]: 50.06K\n",
            "[# Loss]: 3.924 | [# Loss MAIA]: 3.279 | [# Loss Side Info]: 0.039 | [# Loss Value]: 0.606\n"
          ]
        },
        {
          "output_type": "stream",
          "name": "stderr",
          "text": [
            "\n",
            "  0%|          | 0/2 [00:00<?, ?it/s]"
          ]
        },
        {
          "output_type": "stream",
          "name": "stdout",
          "text": [
            "{(10, 10): 170}\n"
          ]
        },
        {
          "output_type": "stream",
          "name": "stderr",
          "text": [
            "100%|██████████| 2/2 [00:07<00:00,  3.53s/it]"
          ]
        },
        {
          "output_type": "stream",
          "name": "stdout",
          "text": [
            "[480/1026]\n",
            "[# Positions]: 4.99M\n",
            "[# Games]: 50.23K\n",
            "[# Loss]: 3.865 | [# Loss MAIA]: 3.239 | [# Loss Side Info]: 0.038 | [# Loss Value]: 0.588\n"
          ]
        },
        {
          "output_type": "stream",
          "name": "stderr",
          "text": [
            "\n",
            "  0%|          | 0/2 [00:00<?, ?it/s]"
          ]
        },
        {
          "output_type": "stream",
          "name": "stdout",
          "text": [
            "{(10, 10): 208}\n"
          ]
        },
        {
          "output_type": "stream",
          "name": "stderr",
          "text": [
            "100%|██████████| 2/2 [00:07<00:00,  3.58s/it]"
          ]
        },
        {
          "output_type": "stream",
          "name": "stdout",
          "text": [
            "[492/1026]\n",
            "[# Positions]: 5.01M\n",
            "[# Games]: 50.40K\n",
            "[# Loss]: 4.033 | [# Loss MAIA]: 3.297 | [# Loss Side Info]: 0.04 | [# Loss Value]: 0.696\n"
          ]
        },
        {
          "output_type": "stream",
          "name": "stderr",
          "text": [
            "\n",
            "  0%|          | 0/3 [00:00<?, ?it/s]"
          ]
        },
        {
          "output_type": "stream",
          "name": "stdout",
          "text": [
            "{(10, 10): 164}\n"
          ]
        },
        {
          "output_type": "stream",
          "name": "stderr",
          "text": [
            "100%|██████████| 3/3 [00:07<00:00,  2.43s/it]"
          ]
        },
        {
          "output_type": "stream",
          "name": "stdout",
          "text": [
            "[504/1026]\n",
            "[# Positions]: 5.03M\n",
            "[# Games]: 50.61K\n",
            "[# Loss]: 3.869 | [# Loss MAIA]: 3.313 | [# Loss Side Info]: 0.04 | [# Loss Value]: 0.516\n"
          ]
        },
        {
          "output_type": "stream",
          "name": "stderr",
          "text": [
            "\n",
            "  0%|          | 0/2 [00:00<?, ?it/s]"
          ]
        },
        {
          "output_type": "stream",
          "name": "stdout",
          "text": [
            "{(10, 10): 125}\n"
          ]
        },
        {
          "output_type": "stream",
          "name": "stderr",
          "text": [
            "100%|██████████| 2/2 [00:06<00:00,  3.44s/it]"
          ]
        },
        {
          "output_type": "stream",
          "name": "stdout",
          "text": [
            "[516/1026]\n",
            "[# Positions]: 5.05M\n",
            "[# Games]: 50.77K\n",
            "[# Loss]: 3.946 | [# Loss MAIA]: 3.271 | [# Loss Side Info]: 0.039 | [# Loss Value]: 0.635\n"
          ]
        },
        {
          "output_type": "stream",
          "name": "stderr",
          "text": [
            "\n",
            "  0%|          | 0/2 [00:00<?, ?it/s]"
          ]
        },
        {
          "output_type": "stream",
          "name": "stdout",
          "text": [
            "{(10, 10): 182}\n"
          ]
        },
        {
          "output_type": "stream",
          "name": "stderr",
          "text": [
            "100%|██████████| 2/2 [00:06<00:00,  3.30s/it]"
          ]
        },
        {
          "output_type": "stream",
          "name": "stdout",
          "text": [
            "[528/1026]\n",
            "[# Positions]: 5.06M\n",
            "[# Games]: 50.90K\n",
            "[# Loss]: 3.917 | [# Loss MAIA]: 3.306 | [# Loss Side Info]: 0.039 | [# Loss Value]: 0.572\n"
          ]
        },
        {
          "output_type": "stream",
          "name": "stderr",
          "text": [
            "\n",
            "  0%|          | 0/3 [00:00<?, ?it/s]"
          ]
        },
        {
          "output_type": "stream",
          "name": "stdout",
          "text": [
            "{(10, 10): 158}\n"
          ]
        },
        {
          "output_type": "stream",
          "name": "stderr",
          "text": [
            "100%|██████████| 3/3 [00:07<00:00,  2.53s/it]"
          ]
        },
        {
          "output_type": "stream",
          "name": "stdout",
          "text": [
            "[540/1026]\n",
            "[# Positions]: 5.08M\n",
            "[# Games]: 51.08K\n",
            "[# Loss]: 3.916 | [# Loss MAIA]: 3.316 | [# Loss Side Info]: 0.04 | [# Loss Value]: 0.561\n"
          ]
        },
        {
          "output_type": "stream",
          "name": "stderr",
          "text": [
            "\n",
            "  0%|          | 0/2 [00:00<?, ?it/s]"
          ]
        },
        {
          "output_type": "stream",
          "name": "stdout",
          "text": [
            "{(10, 10): 117}\n"
          ]
        },
        {
          "output_type": "stream",
          "name": "stderr",
          "text": [
            "100%|██████████| 2/2 [00:07<00:00,  3.52s/it]"
          ]
        },
        {
          "output_type": "stream",
          "name": "stdout",
          "text": [
            "[552/1026]\n",
            "[# Positions]: 5.09M\n",
            "[# Games]: 51.24K\n",
            "[# Loss]: 3.86 | [# Loss MAIA]: 3.26 | [# Loss Side Info]: 0.039 | [# Loss Value]: 0.561\n"
          ]
        },
        {
          "output_type": "stream",
          "name": "stderr",
          "text": [
            "\n",
            "  0%|          | 0/2 [00:00<?, ?it/s]"
          ]
        },
        {
          "output_type": "stream",
          "name": "stdout",
          "text": [
            "{(10, 10): 147}\n"
          ]
        },
        {
          "output_type": "stream",
          "name": "stderr",
          "text": [
            "100%|██████████| 2/2 [00:06<00:00,  3.37s/it]"
          ]
        },
        {
          "output_type": "stream",
          "name": "stdout",
          "text": [
            "[564/1026]\n",
            "[# Positions]: 5.10M\n",
            "[# Games]: 51.35K\n",
            "[# Loss]: 3.92 | [# Loss MAIA]: 3.286 | [# Loss Side Info]: 0.038 | [# Loss Value]: 0.596\n"
          ]
        },
        {
          "output_type": "stream",
          "name": "stderr",
          "text": [
            "\n",
            "  0%|          | 0/2 [00:00<?, ?it/s]"
          ]
        },
        {
          "output_type": "stream",
          "name": "stdout",
          "text": [
            "{(10, 10): 109}\n"
          ]
        },
        {
          "output_type": "stream",
          "name": "stderr",
          "text": [
            "100%|██████████| 2/2 [00:06<00:00,  3.49s/it]"
          ]
        },
        {
          "output_type": "stream",
          "name": "stdout",
          "text": [
            "[576/1026]\n",
            "[# Positions]: 5.12M\n",
            "[# Games]: 51.50K\n",
            "[# Loss]: 3.888 | [# Loss MAIA]: 3.242 | [# Loss Side Info]: 0.038 | [# Loss Value]: 0.608\n"
          ]
        },
        {
          "output_type": "stream",
          "name": "stderr",
          "text": [
            "\n",
            "  0%|          | 0/2 [00:00<?, ?it/s]"
          ]
        },
        {
          "output_type": "stream",
          "name": "stdout",
          "text": [
            "{(10, 10): 135}\n"
          ]
        },
        {
          "output_type": "stream",
          "name": "stderr",
          "text": [
            "100%|██████████| 2/2 [00:06<00:00,  3.12s/it]"
          ]
        },
        {
          "output_type": "stream",
          "name": "stdout",
          "text": [
            "[588/1026]\n",
            "[# Positions]: 5.13M\n",
            "[# Games]: 51.61K\n",
            "[# Loss]: 3.88 | [# Loss MAIA]: 3.202 | [# Loss Side Info]: 0.037 | [# Loss Value]: 0.641\n"
          ]
        },
        {
          "output_type": "stream",
          "name": "stderr",
          "text": [
            "\n",
            "  0%|          | 0/2 [00:00<?, ?it/s]"
          ]
        },
        {
          "output_type": "stream",
          "name": "stdout",
          "text": [
            "{(10, 10): 167}\n"
          ]
        },
        {
          "output_type": "stream",
          "name": "stderr",
          "text": [
            "100%|██████████| 2/2 [00:06<00:00,  3.24s/it]"
          ]
        },
        {
          "output_type": "stream",
          "name": "stdout",
          "text": [
            "[600/1026]\n",
            "[# Positions]: 5.14M\n",
            "[# Games]: 51.74K\n",
            "[# Loss]: 3.964 | [# Loss MAIA]: 3.283 | [# Loss Side Info]: 0.039 | [# Loss Value]: 0.642\n"
          ]
        },
        {
          "output_type": "stream",
          "name": "stderr",
          "text": [
            "\n",
            "  0%|          | 0/3 [00:00<?, ?it/s]"
          ]
        },
        {
          "output_type": "stream",
          "name": "stdout",
          "text": [
            "{(10, 10): 159}\n"
          ]
        },
        {
          "output_type": "stream",
          "name": "stderr",
          "text": [
            "100%|██████████| 3/3 [00:07<00:00,  2.51s/it]"
          ]
        },
        {
          "output_type": "stream",
          "name": "stdout",
          "text": [
            "[612/1026]\n",
            "[# Positions]: 5.16M\n",
            "[# Games]: 51.91K\n",
            "[# Loss]: 3.843 | [# Loss MAIA]: 3.267 | [# Loss Side Info]: 0.039 | [# Loss Value]: 0.537\n"
          ]
        },
        {
          "output_type": "stream",
          "name": "stderr",
          "text": [
            "\n",
            "  0%|          | 0/2 [00:00<?, ?it/s]"
          ]
        },
        {
          "output_type": "stream",
          "name": "stdout",
          "text": [
            "{(10, 10): 168}\n"
          ]
        },
        {
          "output_type": "stream",
          "name": "stderr",
          "text": [
            "100%|██████████| 2/2 [00:06<00:00,  3.47s/it]"
          ]
        },
        {
          "output_type": "stream",
          "name": "stdout",
          "text": [
            "[624/1026]\n",
            "[# Positions]: 5.17M\n",
            "[# Games]: 52.07K\n",
            "[# Loss]: 3.938 | [# Loss MAIA]: 3.291 | [# Loss Side Info]: 0.04 | [# Loss Value]: 0.606\n"
          ]
        },
        {
          "output_type": "stream",
          "name": "stderr",
          "text": [
            "\n",
            "  0%|          | 0/2 [00:00<?, ?it/s]"
          ]
        },
        {
          "output_type": "stream",
          "name": "stdout",
          "text": [
            "{(10, 10): 162}\n"
          ]
        },
        {
          "output_type": "stream",
          "name": "stderr",
          "text": [
            "100%|██████████| 2/2 [00:07<00:00,  3.60s/it]"
          ]
        },
        {
          "output_type": "stream",
          "name": "stdout",
          "text": [
            "[636/1026]\n",
            "[# Positions]: 5.19M\n",
            "[# Games]: 52.24K\n",
            "[# Loss]: 3.898 | [# Loss MAIA]: 3.221 | [# Loss Side Info]: 0.039 | [# Loss Value]: 0.638\n"
          ]
        },
        {
          "output_type": "stream",
          "name": "stderr",
          "text": [
            "\n",
            "  0%|          | 0/3 [00:00<?, ?it/s]"
          ]
        },
        {
          "output_type": "stream",
          "name": "stdout",
          "text": [
            "{(10, 10): 166}\n"
          ]
        },
        {
          "output_type": "stream",
          "name": "stderr",
          "text": [
            "100%|██████████| 3/3 [00:07<00:00,  2.44s/it]"
          ]
        },
        {
          "output_type": "stream",
          "name": "stdout",
          "text": [
            "[648/1026]\n",
            "[# Positions]: 5.20M\n",
            "[# Games]: 52.40K\n",
            "[# Loss]: 3.839 | [# Loss MAIA]: 3.274 | [# Loss Side Info]: 0.039 | [# Loss Value]: 0.525\n"
          ]
        },
        {
          "output_type": "stream",
          "name": "stderr",
          "text": [
            "\n",
            "  0%|          | 0/2 [00:00<?, ?it/s]"
          ]
        },
        {
          "output_type": "stream",
          "name": "stdout",
          "text": [
            "{(10, 10): 153}\n"
          ]
        },
        {
          "output_type": "stream",
          "name": "stderr",
          "text": [
            "100%|██████████| 2/2 [00:07<00:00,  3.52s/it]"
          ]
        },
        {
          "output_type": "stream",
          "name": "stdout",
          "text": [
            "[660/1026]\n",
            "[# Positions]: 5.22M\n",
            "[# Games]: 52.57K\n",
            "[# Loss]: 3.871 | [# Loss MAIA]: 3.26 | [# Loss Side Info]: 0.038 | [# Loss Value]: 0.573\n"
          ]
        },
        {
          "output_type": "stream",
          "name": "stderr",
          "text": [
            "\n",
            "  0%|          | 0/2 [00:00<?, ?it/s]"
          ]
        },
        {
          "output_type": "stream",
          "name": "stdout",
          "text": [
            "{(10, 10): 145}\n"
          ]
        },
        {
          "output_type": "stream",
          "name": "stderr",
          "text": [
            "100%|██████████| 2/2 [00:06<00:00,  3.49s/it]"
          ]
        },
        {
          "output_type": "stream",
          "name": "stdout",
          "text": [
            "[672/1026]\n",
            "[# Positions]: 5.23M\n",
            "[# Games]: 52.72K\n",
            "[# Loss]: 3.849 | [# Loss MAIA]: 3.247 | [# Loss Side Info]: 0.039 | [# Loss Value]: 0.564\n"
          ]
        },
        {
          "output_type": "stream",
          "name": "stderr",
          "text": [
            "\n",
            "  0%|          | 0/2 [00:00<?, ?it/s]"
          ]
        },
        {
          "output_type": "stream",
          "name": "stdout",
          "text": [
            "{(10, 10): 160}\n"
          ]
        },
        {
          "output_type": "stream",
          "name": "stderr",
          "text": [
            "100%|██████████| 2/2 [00:06<00:00,  3.48s/it]"
          ]
        },
        {
          "output_type": "stream",
          "name": "stdout",
          "text": [
            "[684/1026]\n",
            "[# Positions]: 5.25M\n",
            "[# Games]: 52.86K\n",
            "[# Loss]: 3.866 | [# Loss MAIA]: 3.276 | [# Loss Side Info]: 0.038 | [# Loss Value]: 0.551\n"
          ]
        },
        {
          "output_type": "stream",
          "name": "stderr",
          "text": [
            "\n",
            "  0%|          | 0/2 [00:00<?, ?it/s]"
          ]
        },
        {
          "output_type": "stream",
          "name": "stdout",
          "text": [
            "{(10, 10): 136}\n"
          ]
        },
        {
          "output_type": "stream",
          "name": "stderr",
          "text": [
            "100%|██████████| 2/2 [00:07<00:00,  3.64s/it]"
          ]
        },
        {
          "output_type": "stream",
          "name": "stdout",
          "text": [
            "[696/1026]\n",
            "[# Positions]: 5.26M\n",
            "[# Games]: 53.02K\n",
            "[# Loss]: 3.946 | [# Loss MAIA]: 3.264 | [# Loss Side Info]: 0.038 | [# Loss Value]: 0.645\n"
          ]
        },
        {
          "output_type": "stream",
          "name": "stderr",
          "text": [
            "\n",
            "  0%|          | 0/2 [00:00<?, ?it/s]"
          ]
        },
        {
          "output_type": "stream",
          "name": "stdout",
          "text": [
            "{(10, 10): 40}\n"
          ]
        },
        {
          "output_type": "stream",
          "name": "stderr",
          "text": [
            "100%|██████████| 2/2 [00:06<00:00,  3.35s/it]"
          ]
        },
        {
          "output_type": "stream",
          "name": "stdout",
          "text": [
            "[708/1026]\n",
            "[# Positions]: 5.28M\n",
            "[# Games]: 53.16K\n",
            "[# Loss]: 3.929 | [# Loss MAIA]: 3.201 | [# Loss Side Info]: 0.037 | [# Loss Value]: 0.691\n"
          ]
        },
        {
          "output_type": "stream",
          "name": "stderr",
          "text": [
            "\n",
            "  0%|          | 0/1 [00:00<?, ?it/s]"
          ]
        },
        {
          "output_type": "stream",
          "name": "stdout",
          "text": [
            "{(10, 10): 162}\n"
          ]
        },
        {
          "output_type": "stream",
          "name": "stderr",
          "text": [
            "100%|██████████| 1/1 [00:03<00:00,  3.73s/it]"
          ]
        },
        {
          "output_type": "stream",
          "name": "stdout",
          "text": [
            "[720/1026]\n",
            "[# Positions]: 5.28M\n",
            "[# Games]: 53.20K\n",
            "[# Loss]: 3.935 | [# Loss MAIA]: 3.224 | [# Loss Side Info]: 0.037 | [# Loss Value]: 0.674\n"
          ]
        },
        {
          "output_type": "stream",
          "name": "stderr",
          "text": [
            "\n",
            "  0%|          | 0/2 [00:00<?, ?it/s]"
          ]
        },
        {
          "output_type": "stream",
          "name": "stdout",
          "text": [
            "{(10, 10): 203}\n"
          ]
        },
        {
          "output_type": "stream",
          "name": "stderr",
          "text": [
            "100%|██████████| 2/2 [00:07<00:00,  3.58s/it]"
          ]
        },
        {
          "output_type": "stream",
          "name": "stdout",
          "text": [
            "[732/1026]\n",
            "[# Positions]: 5.30M\n",
            "[# Games]: 53.36K\n",
            "[# Loss]: 3.855 | [# Loss MAIA]: 3.244 | [# Loss Side Info]: 0.038 | [# Loss Value]: 0.573\n"
          ]
        },
        {
          "output_type": "stream",
          "name": "stderr",
          "text": [
            "\n",
            "  0%|          | 0/3 [00:00<?, ?it/s]"
          ]
        },
        {
          "output_type": "stream",
          "name": "stdout",
          "text": [
            "{(10, 10): 194}\n"
          ]
        },
        {
          "output_type": "stream",
          "name": "stderr",
          "text": [
            "100%|██████████| 3/3 [00:07<00:00,  2.46s/it]"
          ]
        },
        {
          "output_type": "stream",
          "name": "stdout",
          "text": [
            "[744/1026]\n",
            "[# Positions]: 5.31M\n",
            "[# Games]: 53.56K\n",
            "[# Loss]: 3.809 | [# Loss MAIA]: 3.156 | [# Loss Side Info]: 0.037 | [# Loss Value]: 0.617\n"
          ]
        },
        {
          "output_type": "stream",
          "name": "stderr",
          "text": [
            "\n",
            "  0%|          | 0/3 [00:00<?, ?it/s]"
          ]
        },
        {
          "output_type": "stream",
          "name": "stdout",
          "text": [
            "{(10, 10): 140}\n"
          ]
        },
        {
          "output_type": "stream",
          "name": "stderr",
          "text": [
            "100%|██████████| 3/3 [00:07<00:00,  2.44s/it]"
          ]
        },
        {
          "output_type": "stream",
          "name": "stdout",
          "text": [
            "[756/1026]\n",
            "[# Positions]: 5.33M\n",
            "[# Games]: 53.76K\n",
            "[# Loss]: 3.842 | [# Loss MAIA]: 3.202 | [# Loss Side Info]: 0.038 | [# Loss Value]: 0.603\n"
          ]
        },
        {
          "output_type": "stream",
          "name": "stderr",
          "text": [
            "\n",
            "  0%|          | 0/2 [00:00<?, ?it/s]"
          ]
        },
        {
          "output_type": "stream",
          "name": "stdout",
          "text": [
            "{(10, 10): 131}\n"
          ]
        },
        {
          "output_type": "stream",
          "name": "stderr",
          "text": [
            "100%|██████████| 2/2 [00:06<00:00,  3.45s/it]"
          ]
        },
        {
          "output_type": "stream",
          "name": "stdout",
          "text": [
            "[768/1026]\n",
            "[# Positions]: 5.35M\n",
            "[# Games]: 53.90K\n",
            "[# Loss]: 3.925 | [# Loss MAIA]: 3.279 | [# Loss Side Info]: 0.038 | [# Loss Value]: 0.608\n"
          ]
        },
        {
          "output_type": "stream",
          "name": "stderr",
          "text": [
            "\n",
            "  0%|          | 0/2 [00:00<?, ?it/s]"
          ]
        },
        {
          "output_type": "stream",
          "name": "stdout",
          "text": [
            "{(10, 10): 117}\n"
          ]
        },
        {
          "output_type": "stream",
          "name": "stderr",
          "text": [
            "100%|██████████| 2/2 [00:06<00:00,  3.34s/it]"
          ]
        },
        {
          "output_type": "stream",
          "name": "stdout",
          "text": [
            "[780/1026]\n",
            "[# Positions]: 5.36M\n",
            "[# Games]: 54.03K\n",
            "[# Loss]: 3.793 | [# Loss MAIA]: 3.198 | [# Loss Side Info]: 0.037 | [# Loss Value]: 0.558\n"
          ]
        },
        {
          "output_type": "stream",
          "name": "stderr",
          "text": [
            "\n",
            "  0%|          | 0/2 [00:00<?, ?it/s]"
          ]
        },
        {
          "output_type": "stream",
          "name": "stdout",
          "text": [
            "{(10, 10): 125}\n"
          ]
        },
        {
          "output_type": "stream",
          "name": "stderr",
          "text": [
            "100%|██████████| 2/2 [00:06<00:00,  3.32s/it]"
          ]
        },
        {
          "output_type": "stream",
          "name": "stdout",
          "text": [
            "[792/1026]\n",
            "[# Positions]: 5.37M\n",
            "[# Games]: 54.15K\n",
            "[# Loss]: 3.798 | [# Loss MAIA]: 3.218 | [# Loss Side Info]: 0.037 | [# Loss Value]: 0.543\n"
          ]
        },
        {
          "output_type": "stream",
          "name": "stderr",
          "text": [
            "\n",
            "  0%|          | 0/2 [00:00<?, ?it/s]"
          ]
        },
        {
          "output_type": "stream",
          "name": "stdout",
          "text": [
            "{(10, 10): 140}\n"
          ]
        },
        {
          "output_type": "stream",
          "name": "stderr",
          "text": [
            "100%|██████████| 2/2 [00:06<00:00,  3.37s/it]"
          ]
        },
        {
          "output_type": "stream",
          "name": "stdout",
          "text": [
            "[804/1026]\n",
            "[# Positions]: 5.38M\n",
            "[# Games]: 54.27K\n",
            "[# Loss]: 3.873 | [# Loss MAIA]: 3.224 | [# Loss Side Info]: 0.038 | [# Loss Value]: 0.611\n"
          ]
        },
        {
          "output_type": "stream",
          "name": "stderr",
          "text": [
            "\n",
            "  0%|          | 0/2 [00:00<?, ?it/s]"
          ]
        },
        {
          "output_type": "stream",
          "name": "stdout",
          "text": [
            "{(10, 10): 121}\n"
          ]
        },
        {
          "output_type": "stream",
          "name": "stderr",
          "text": [
            "100%|██████████| 2/2 [00:06<00:00,  3.41s/it]"
          ]
        },
        {
          "output_type": "stream",
          "name": "stdout",
          "text": [
            "[816/1026]\n",
            "[# Positions]: 5.40M\n",
            "[# Games]: 54.41K\n",
            "[# Loss]: 3.86 | [# Loss MAIA]: 3.24 | [# Loss Side Info]: 0.037 | [# Loss Value]: 0.582\n"
          ]
        },
        {
          "output_type": "stream",
          "name": "stderr",
          "text": [
            "\n",
            "  0%|          | 0/2 [00:00<?, ?it/s]"
          ]
        },
        {
          "output_type": "stream",
          "name": "stdout",
          "text": [
            "{(10, 10): 165}\n"
          ]
        },
        {
          "output_type": "stream",
          "name": "stderr",
          "text": [
            "100%|██████████| 2/2 [00:06<00:00,  3.45s/it]"
          ]
        },
        {
          "output_type": "stream",
          "name": "stdout",
          "text": [
            "[828/1026]\n",
            "[# Positions]: 5.41M\n",
            "[# Games]: 54.53K\n",
            "[# Loss]: 3.886 | [# Loss MAIA]: 3.222 | [# Loss Side Info]: 0.037 | [# Loss Value]: 0.627\n"
          ]
        },
        {
          "output_type": "stream",
          "name": "stderr",
          "text": [
            "\n",
            "  0%|          | 0/2 [00:00<?, ?it/s]"
          ]
        },
        {
          "output_type": "stream",
          "name": "stdout",
          "text": [
            "{(10, 10): 170}\n"
          ]
        },
        {
          "output_type": "stream",
          "name": "stderr",
          "text": [
            "100%|██████████| 2/2 [00:07<00:00,  3.64s/it]"
          ]
        },
        {
          "output_type": "stream",
          "name": "stdout",
          "text": [
            "[840/1026]\n",
            "[# Positions]: 5.42M\n",
            "[# Games]: 54.70K\n",
            "[# Loss]: 3.924 | [# Loss MAIA]: 3.243 | [# Loss Side Info]: 0.038 | [# Loss Value]: 0.643\n"
          ]
        },
        {
          "output_type": "stream",
          "name": "stderr",
          "text": [
            "\n",
            "  0%|          | 0/3 [00:00<?, ?it/s]"
          ]
        },
        {
          "output_type": "stream",
          "name": "stdout",
          "text": [
            "{(10, 10): 199}\n"
          ]
        },
        {
          "output_type": "stream",
          "name": "stderr",
          "text": [
            "100%|██████████| 3/3 [00:07<00:00,  2.52s/it]"
          ]
        },
        {
          "output_type": "stream",
          "name": "stdout",
          "text": [
            "[852/1026]\n",
            "[# Positions]: 5.44M\n",
            "[# Games]: 54.87K\n",
            "[# Loss]: 3.851 | [# Loss MAIA]: 3.258 | [# Loss Side Info]: 0.038 | [# Loss Value]: 0.555\n"
          ]
        },
        {
          "output_type": "stream",
          "name": "stderr",
          "text": [
            "\n",
            "  0%|          | 0/3 [00:00<?, ?it/s]"
          ]
        },
        {
          "output_type": "stream",
          "name": "stdout",
          "text": [
            "{(10, 10): 190}\n"
          ]
        },
        {
          "output_type": "stream",
          "name": "stderr",
          "text": [
            "100%|██████████| 3/3 [00:07<00:00,  2.57s/it]"
          ]
        },
        {
          "output_type": "stream",
          "name": "stdout",
          "text": [
            "[864/1026]\n",
            "[# Positions]: 5.46M\n",
            "[# Games]: 55.07K\n",
            "[# Loss]: 3.795 | [# Loss MAIA]: 3.198 | [# Loss Side Info]: 0.037 | [# Loss Value]: 0.56\n"
          ]
        },
        {
          "output_type": "stream",
          "name": "stderr",
          "text": [
            "\n",
            "  0%|          | 0/3 [00:00<?, ?it/s]"
          ]
        },
        {
          "output_type": "stream",
          "name": "stdout",
          "text": [
            "{(10, 10): 183}\n"
          ]
        },
        {
          "output_type": "stream",
          "name": "stderr",
          "text": [
            "100%|██████████| 3/3 [00:07<00:00,  2.51s/it]"
          ]
        },
        {
          "output_type": "stream",
          "name": "stdout",
          "text": [
            "[876/1026]\n",
            "[# Positions]: 5.48M\n",
            "[# Games]: 55.26K\n",
            "[# Loss]: 3.926 | [# Loss MAIA]: 3.258 | [# Loss Side Info]: 0.037 | [# Loss Value]: 0.631\n"
          ]
        },
        {
          "output_type": "stream",
          "name": "stderr",
          "text": [
            "\n",
            "  0%|          | 0/3 [00:00<?, ?it/s]"
          ]
        },
        {
          "output_type": "stream",
          "name": "stdout",
          "text": [
            "{(10, 10): 205}\n"
          ]
        },
        {
          "output_type": "stream",
          "name": "stderr",
          "text": [
            "100%|██████████| 3/3 [00:07<00:00,  2.45s/it]"
          ]
        },
        {
          "output_type": "stream",
          "name": "stdout",
          "text": [
            "[888/1026]\n",
            "[# Positions]: 5.50M\n",
            "[# Games]: 55.44K\n",
            "[# Loss]: 3.749 | [# Loss MAIA]: 3.168 | [# Loss Side Info]: 0.037 | [# Loss Value]: 0.544\n"
          ]
        },
        {
          "output_type": "stream",
          "name": "stderr",
          "text": [
            "\n",
            "  0%|          | 0/3 [00:00<?, ?it/s]"
          ]
        },
        {
          "output_type": "stream",
          "name": "stdout",
          "text": [
            "{(10, 10): 206}\n"
          ]
        },
        {
          "output_type": "stream",
          "name": "stderr",
          "text": [
            "100%|██████████| 3/3 [00:07<00:00,  2.61s/it]"
          ]
        },
        {
          "output_type": "stream",
          "name": "stdout",
          "text": [
            "[900/1026]\n",
            "[# Positions]: 5.51M\n",
            "[# Games]: 55.65K\n",
            "[# Loss]: 3.802 | [# Loss MAIA]: 3.185 | [# Loss Side Info]: 0.037 | [# Loss Value]: 0.58\n"
          ]
        },
        {
          "output_type": "stream",
          "name": "stderr",
          "text": [
            "\n",
            "  0%|          | 0/3 [00:00<?, ?it/s]"
          ]
        },
        {
          "output_type": "stream",
          "name": "stdout",
          "text": [
            "{(10, 10): 182}\n"
          ]
        },
        {
          "output_type": "stream",
          "name": "stderr",
          "text": [
            "100%|██████████| 3/3 [00:07<00:00,  2.57s/it]"
          ]
        },
        {
          "output_type": "stream",
          "name": "stdout",
          "text": [
            "[912/1026]\n",
            "[# Positions]: 5.54M\n",
            "[# Games]: 55.85K\n",
            "[# Loss]: 3.799 | [# Loss MAIA]: 3.204 | [# Loss Side Info]: 0.037 | [# Loss Value]: 0.558\n"
          ]
        },
        {
          "output_type": "stream",
          "name": "stderr",
          "text": [
            "\n",
            "  0%|          | 0/3 [00:00<?, ?it/s]"
          ]
        },
        {
          "output_type": "stream",
          "name": "stdout",
          "text": [
            "{(10, 10): 211}\n"
          ]
        },
        {
          "output_type": "stream",
          "name": "stderr",
          "text": [
            "100%|██████████| 3/3 [00:07<00:00,  2.57s/it]"
          ]
        },
        {
          "output_type": "stream",
          "name": "stdout",
          "text": [
            "[924/1026]\n",
            "[# Positions]: 5.55M\n",
            "[# Games]: 56.03K\n",
            "[# Loss]: 3.871 | [# Loss MAIA]: 3.254 | [# Loss Side Info]: 0.038 | [# Loss Value]: 0.578\n"
          ]
        },
        {
          "output_type": "stream",
          "name": "stderr",
          "text": [
            "\n",
            "  0%|          | 0/3 [00:00<?, ?it/s]"
          ]
        },
        {
          "output_type": "stream",
          "name": "stdout",
          "text": [
            "{(10, 10): 197}\n"
          ]
        },
        {
          "output_type": "stream",
          "name": "stderr",
          "text": [
            "100%|██████████| 3/3 [00:07<00:00,  2.55s/it]"
          ]
        },
        {
          "output_type": "stream",
          "name": "stdout",
          "text": [
            "[936/1026]\n",
            "[# Positions]: 5.57M\n",
            "[# Games]: 56.24K\n",
            "[# Loss]: 3.79 | [# Loss MAIA]: 3.157 | [# Loss Side Info]: 0.036 | [# Loss Value]: 0.597\n"
          ]
        },
        {
          "output_type": "stream",
          "name": "stderr",
          "text": [
            "\n",
            "  0%|          | 0/3 [00:00<?, ?it/s]"
          ]
        },
        {
          "output_type": "stream",
          "name": "stdout",
          "text": [
            "{(10, 10): 262}\n"
          ]
        },
        {
          "output_type": "stream",
          "name": "stderr",
          "text": [
            "100%|██████████| 3/3 [00:07<00:00,  2.59s/it]"
          ]
        },
        {
          "output_type": "stream",
          "name": "stdout",
          "text": [
            "[948/1026]\n",
            "[# Positions]: 5.59M\n",
            "[# Games]: 56.44K\n",
            "[# Loss]: 3.825 | [# Loss MAIA]: 3.229 | [# Loss Side Info]: 0.037 | [# Loss Value]: 0.56\n"
          ]
        },
        {
          "output_type": "stream",
          "name": "stderr",
          "text": [
            "\n",
            "  0%|          | 0/4 [00:00<?, ?it/s]"
          ]
        },
        {
          "output_type": "stream",
          "name": "stdout",
          "text": [
            "{(10, 10): 242}\n"
          ]
        },
        {
          "output_type": "stream",
          "name": "stderr",
          "text": [
            "100%|██████████| 4/4 [00:08<00:00,  2.16s/it]"
          ]
        },
        {
          "output_type": "stream",
          "name": "stdout",
          "text": [
            "[960/1026]\n",
            "[# Positions]: 5.62M\n",
            "[# Games]: 56.70K\n",
            "[# Loss]: 3.773 | [# Loss MAIA]: 3.239 | [# Loss Side Info]: 0.037 | [# Loss Value]: 0.497\n"
          ]
        },
        {
          "output_type": "stream",
          "name": "stderr",
          "text": [
            "\n",
            "  0%|          | 0/3 [00:00<?, ?it/s]"
          ]
        },
        {
          "output_type": "stream",
          "name": "stdout",
          "text": [
            "{(10, 10): 200}\n"
          ]
        },
        {
          "output_type": "stream",
          "name": "stderr",
          "text": [
            "100%|██████████| 3/3 [00:07<00:00,  2.63s/it]"
          ]
        },
        {
          "output_type": "stream",
          "name": "stdout",
          "text": [
            "[972/1026]\n",
            "[# Positions]: 5.65M\n",
            "[# Games]: 56.95K\n",
            "[# Loss]: 3.787 | [# Loss MAIA]: 3.221 | [# Loss Side Info]: 0.037 | [# Loss Value]: 0.53\n"
          ]
        },
        {
          "output_type": "stream",
          "name": "stderr",
          "text": [
            "\n",
            "  0%|          | 0/3 [00:00<?, ?it/s]"
          ]
        },
        {
          "output_type": "stream",
          "name": "stdout",
          "text": [
            "{(10, 10): 263}\n"
          ]
        },
        {
          "output_type": "stream",
          "name": "stderr",
          "text": [
            "100%|██████████| 3/3 [00:07<00:00,  2.55s/it]"
          ]
        },
        {
          "output_type": "stream",
          "name": "stdout",
          "text": [
            "[984/1026]\n",
            "[# Positions]: 5.67M\n",
            "[# Games]: 57.15K\n",
            "[# Loss]: 3.778 | [# Loss MAIA]: 3.184 | [# Loss Side Info]: 0.036 | [# Loss Value]: 0.557\n"
          ]
        },
        {
          "output_type": "stream",
          "name": "stderr",
          "text": [
            "\n",
            "  0%|          | 0/4 [00:00<?, ?it/s]"
          ]
        },
        {
          "output_type": "stream",
          "name": "stdout",
          "text": [
            "{(10, 10): 199}\n"
          ]
        },
        {
          "output_type": "stream",
          "name": "stderr",
          "text": [
            "100%|██████████| 4/4 [00:08<00:00,  2.15s/it]"
          ]
        },
        {
          "output_type": "stream",
          "name": "stdout",
          "text": [
            "[996/1026]\n",
            "[# Positions]: 5.69M\n",
            "[# Games]: 57.41K\n",
            "[# Loss]: 3.71 | [# Loss MAIA]: 3.196 | [# Loss Side Info]: 0.036 | [# Loss Value]: 0.478\n"
          ]
        },
        {
          "output_type": "stream",
          "name": "stderr",
          "text": [
            "\n",
            "  0%|          | 0/3 [00:00<?, ?it/s]"
          ]
        },
        {
          "output_type": "stream",
          "name": "stdout",
          "text": [
            "{(10, 10): 186}\n"
          ]
        },
        {
          "output_type": "stream",
          "name": "stderr",
          "text": [
            "100%|██████████| 3/3 [00:07<00:00,  2.49s/it]"
          ]
        },
        {
          "output_type": "stream",
          "name": "stdout",
          "text": [
            "[1008/1026]\n",
            "[# Positions]: 5.71M\n",
            "[# Games]: 57.61K\n",
            "[# Loss]: 3.704 | [# Loss MAIA]: 3.138 | [# Loss Side Info]: 0.035 | [# Loss Value]: 0.531\n"
          ]
        },
        {
          "output_type": "stream",
          "name": "stderr",
          "text": [
            "\n",
            "  0%|          | 0/3 [00:00<?, ?it/s]"
          ]
        },
        {
          "output_type": "stream",
          "name": "stdout",
          "text": [
            "{(10, 10): 94}\n"
          ]
        },
        {
          "output_type": "stream",
          "name": "stderr",
          "text": [
            "100%|██████████| 3/3 [00:06<00:00,  2.28s/it]"
          ]
        },
        {
          "output_type": "stream",
          "name": "stdout",
          "text": [
            "[1020/1026]\n",
            "[# Positions]: 5.73M\n",
            "[# Games]: 57.79K\n",
            "[# Loss]: 3.747 | [# Loss MAIA]: 3.19 | [# Loss Side Info]: 0.035 | [# Loss Value]: 0.522\n"
          ]
        },
        {
          "output_type": "stream",
          "name": "stderr",
          "text": [
            "\n",
            "100%|██████████| 2/2 [00:05<00:00,  2.90s/it]"
          ]
        },
        {
          "output_type": "stream",
          "name": "stdout",
          "text": [
            "[1026/1026]\n",
            "[# Positions]: 5.74M\n",
            "[# Games]: 57.89K\n",
            "[# Loss]: 3.725 | [# Loss MAIA]: 3.164 | [# Loss Side Info]: 0.036 | [# Loss Value]: 0.525\n",
            "### (3 / 6) Took 10m 29.21s to train /content/drive/MyDrive/ChessEngine/lichess_db_standard_rated_2025-03.pgn with 1026 chunks.\n"
          ]
        },
        {
          "output_type": "stream",
          "name": "stderr",
          "text": [
            "\n"
          ]
        },
        {
          "output_type": "stream",
          "name": "stdout",
          "text": [
            "Decompressing /content/drive/MyDrive/ChessEngine/lichess_db_standard_rated_2025-04.pgn took 5.69s\n",
            "Cache not found. Creating chunks for /content/drive/MyDrive/ChessEngine/lichess_db_standard_rated_2025-04.pgn\n",
            "Chunking took 3.78s\n",
            "Training /content/drive/MyDrive/ChessEngine/lichess_db_standard_rated_2025-04.pgn with 1187 chunks.\n",
            "{(10, 10): 182}\n"
          ]
        },
        {
          "output_type": "stream",
          "name": "stderr",
          "text": [
            "\r  0%|          | 0/3 [00:00<?, ?it/s]"
          ]
        },
        {
          "output_type": "stream",
          "name": "stdout",
          "text": [
            "{(10, 10): 200}\n"
          ]
        },
        {
          "output_type": "stream",
          "name": "stderr",
          "text": [
            "100%|██████████| 3/3 [00:07<00:00,  2.51s/it]"
          ]
        },
        {
          "output_type": "stream",
          "name": "stdout",
          "text": [
            "[12/1187]\n",
            "[# Positions]: 5.76M\n",
            "[# Games]: 58.07K\n",
            "[# Loss]: 3.788 | [# Loss MAIA]: 3.205 | [# Loss Side Info]: 0.036 | [# Loss Value]: 0.547\n"
          ]
        },
        {
          "output_type": "stream",
          "name": "stderr",
          "text": [
            "\n",
            "  0%|          | 0/3 [00:00<?, ?it/s]"
          ]
        },
        {
          "output_type": "stream",
          "name": "stdout",
          "text": [
            "{(10, 10): 115}\n"
          ]
        },
        {
          "output_type": "stream",
          "name": "stderr",
          "text": [
            "100%|██████████| 3/3 [00:07<00:00,  2.47s/it]"
          ]
        },
        {
          "output_type": "stream",
          "name": "stdout",
          "text": [
            "[24/1187]\n",
            "[# Positions]: 5.78M\n",
            "[# Games]: 58.27K\n",
            "[# Loss]: 3.723 | [# Loss MAIA]: 3.181 | [# Loss Side Info]: 0.036 | [# Loss Value]: 0.506\n"
          ]
        },
        {
          "output_type": "stream",
          "name": "stderr",
          "text": [
            "\n",
            "  0%|          | 0/2 [00:00<?, ?it/s]"
          ]
        },
        {
          "output_type": "stream",
          "name": "stdout",
          "text": [
            "{(10, 10): 238}\n"
          ]
        },
        {
          "output_type": "stream",
          "name": "stderr",
          "text": [
            "100%|██████████| 2/2 [00:06<00:00,  3.39s/it]"
          ]
        },
        {
          "output_type": "stream",
          "name": "stdout",
          "text": [
            "[36/1187]\n",
            "[# Positions]: 5.79M\n",
            "[# Games]: 58.38K\n",
            "[# Loss]: 3.759 | [# Loss MAIA]: 3.208 | [# Loss Side Info]: 0.036 | [# Loss Value]: 0.514\n"
          ]
        },
        {
          "output_type": "stream",
          "name": "stderr",
          "text": [
            "\n",
            "  0%|          | 0/4 [00:00<?, ?it/s]"
          ]
        },
        {
          "output_type": "stream",
          "name": "stdout",
          "text": [
            "{(10, 10): 233}\n"
          ]
        },
        {
          "output_type": "stream",
          "name": "stderr",
          "text": [
            "100%|██████████| 4/4 [00:08<00:00,  2.06s/it]"
          ]
        },
        {
          "output_type": "stream",
          "name": "stdout",
          "text": [
            "[48/1187]\n",
            "[# Positions]: 5.82M\n",
            "[# Games]: 58.62K\n",
            "[# Loss]: 3.754 | [# Loss MAIA]: 3.22 | [# Loss Side Info]: 0.036 | [# Loss Value]: 0.498\n"
          ]
        },
        {
          "output_type": "stream",
          "name": "stderr",
          "text": [
            "\n",
            "  0%|          | 0/4 [00:00<?, ?it/s]"
          ]
        },
        {
          "output_type": "stream",
          "name": "stdout",
          "text": [
            "{(10, 10): 169}\n"
          ]
        },
        {
          "output_type": "stream",
          "name": "stderr",
          "text": [
            "100%|██████████| 4/4 [00:07<00:00,  1.95s/it]"
          ]
        },
        {
          "output_type": "stream",
          "name": "stdout",
          "text": [
            "[60/1187]\n",
            "[# Positions]: 5.84M\n",
            "[# Games]: 58.85K\n",
            "[# Loss]: 3.844 | [# Loss MAIA]: 3.246 | [# Loss Side Info]: 0.036 | [# Loss Value]: 0.562\n"
          ]
        },
        {
          "output_type": "stream",
          "name": "stderr",
          "text": [
            "\n",
            "  0%|          | 0/3 [00:00<?, ?it/s]"
          ]
        },
        {
          "output_type": "stream",
          "name": "stdout",
          "text": [
            "{(10, 10): 281}\n"
          ]
        },
        {
          "output_type": "stream",
          "name": "stderr",
          "text": [
            "100%|██████████| 3/3 [00:07<00:00,  2.52s/it]"
          ]
        },
        {
          "output_type": "stream",
          "name": "stdout",
          "text": [
            "[72/1187]\n",
            "[# Positions]: 5.86M\n",
            "[# Games]: 59.02K\n",
            "[# Loss]: 3.742 | [# Loss MAIA]: 3.225 | [# Loss Side Info]: 0.035 | [# Loss Value]: 0.481\n"
          ]
        },
        {
          "output_type": "stream",
          "name": "stderr",
          "text": [
            "\n",
            "  0%|          | 0/4 [00:00<?, ?it/s]"
          ]
        },
        {
          "output_type": "stream",
          "name": "stdout",
          "text": [
            "{(10, 10): 225}\n"
          ]
        },
        {
          "output_type": "stream",
          "name": "stderr",
          "text": [
            "100%|██████████| 4/4 [00:08<00:00,  2.20s/it]"
          ]
        },
        {
          "output_type": "stream",
          "name": "stdout",
          "text": [
            "[84/1187]\n",
            "[# Positions]: 5.89M\n",
            "[# Games]: 59.30K\n",
            "[# Loss]: 3.723 | [# Loss MAIA]: 3.233 | [# Loss Side Info]: 0.036 | [# Loss Value]: 0.454\n"
          ]
        },
        {
          "output_type": "stream",
          "name": "stderr",
          "text": [
            "\n",
            "  0%|          | 0/3 [00:00<?, ?it/s]"
          ]
        },
        {
          "output_type": "stream",
          "name": "stdout",
          "text": [
            "{(10, 10): 227}\n"
          ]
        },
        {
          "output_type": "stream",
          "name": "stderr",
          "text": [
            "100%|██████████| 3/3 [00:07<00:00,  2.61s/it]"
          ]
        },
        {
          "output_type": "stream",
          "name": "stdout",
          "text": [
            "[96/1187]\n",
            "[# Positions]: 5.91M\n",
            "[# Games]: 59.53K\n",
            "[# Loss]: 3.776 | [# Loss MAIA]: 3.218 | [# Loss Side Info]: 0.036 | [# Loss Value]: 0.523\n"
          ]
        },
        {
          "output_type": "stream",
          "name": "stderr",
          "text": [
            "\n",
            "  0%|          | 0/3 [00:00<?, ?it/s]"
          ]
        },
        {
          "output_type": "stream",
          "name": "stdout",
          "text": [
            "{(10, 10): 275}\n"
          ]
        },
        {
          "output_type": "stream",
          "name": "stderr",
          "text": [
            "100%|██████████| 3/3 [00:08<00:00,  2.73s/it]"
          ]
        },
        {
          "output_type": "stream",
          "name": "stdout",
          "text": [
            "[108/1187]\n",
            "[# Positions]: 5.94M\n",
            "[# Games]: 59.76K\n",
            "[# Loss]: 3.828 | [# Loss MAIA]: 3.267 | [# Loss Side Info]: 0.037 | [# Loss Value]: 0.524\n"
          ]
        },
        {
          "output_type": "stream",
          "name": "stderr",
          "text": [
            "\n",
            "  0%|          | 0/4 [00:00<?, ?it/s]"
          ]
        },
        {
          "output_type": "stream",
          "name": "stdout",
          "text": [
            "{(10, 10): 221}\n"
          ]
        },
        {
          "output_type": "stream",
          "name": "stderr",
          "text": [
            "100%|██████████| 4/4 [00:08<00:00,  2.08s/it]"
          ]
        },
        {
          "output_type": "stream",
          "name": "stdout",
          "text": [
            "[120/1187]\n",
            "[# Positions]: 5.97M\n",
            "[# Games]: 60.03K\n",
            "[# Loss]: 3.763 | [# Loss MAIA]: 3.212 | [# Loss Side Info]: 0.035 | [# Loss Value]: 0.515\n"
          ]
        },
        {
          "output_type": "stream",
          "name": "stderr",
          "text": [
            "\n",
            "  0%|          | 0/3 [00:00<?, ?it/s]"
          ]
        },
        {
          "output_type": "stream",
          "name": "stdout",
          "text": [
            "{(10, 10): 176}\n"
          ]
        },
        {
          "output_type": "stream",
          "name": "stderr",
          "text": [
            "100%|██████████| 3/3 [00:07<00:00,  2.57s/it]"
          ]
        },
        {
          "output_type": "stream",
          "name": "stdout",
          "text": [
            "[132/1187]\n",
            "[# Positions]: 5.99M\n",
            "[# Games]: 60.25K\n",
            "[# Loss]: 3.834 | [# Loss MAIA]: 3.213 | [# Loss Side Info]: 0.035 | [# Loss Value]: 0.586\n"
          ]
        },
        {
          "output_type": "stream",
          "name": "stderr",
          "text": [
            "\n",
            "  0%|          | 0/3 [00:00<?, ?it/s]"
          ]
        },
        {
          "output_type": "stream",
          "name": "stdout",
          "text": [
            "{(10, 10): 209}\n"
          ]
        },
        {
          "output_type": "stream",
          "name": "stderr",
          "text": [
            "100%|██████████| 3/3 [00:07<00:00,  2.52s/it]"
          ]
        },
        {
          "output_type": "stream",
          "name": "stdout",
          "text": [
            "[144/1187]\n",
            "[# Positions]: 6.01M\n",
            "[# Games]: 60.43K\n",
            "[# Loss]: 3.827 | [# Loss MAIA]: 3.213 | [# Loss Side Info]: 0.035 | [# Loss Value]: 0.579\n"
          ]
        },
        {
          "output_type": "stream",
          "name": "stderr",
          "text": [
            "\n",
            "  0%|          | 0/3 [00:00<?, ?it/s]"
          ]
        },
        {
          "output_type": "stream",
          "name": "stdout",
          "text": [
            "{(10, 10): 157}\n"
          ]
        },
        {
          "output_type": "stream",
          "name": "stderr",
          "text": [
            "100%|██████████| 3/3 [00:07<00:00,  2.54s/it]"
          ]
        },
        {
          "output_type": "stream",
          "name": "stdout",
          "text": [
            "[156/1187]\n",
            "[# Positions]: 6.03M\n",
            "[# Games]: 60.64K\n",
            "[# Loss]: 3.784 | [# Loss MAIA]: 3.186 | [# Loss Side Info]: 0.035 | [# Loss Value]: 0.563\n"
          ]
        },
        {
          "output_type": "stream",
          "name": "stderr",
          "text": [
            "\n",
            "  0%|          | 0/2 [00:00<?, ?it/s]"
          ]
        },
        {
          "output_type": "stream",
          "name": "stdout",
          "text": [
            "{(10, 10): 172}\n"
          ]
        },
        {
          "output_type": "stream",
          "name": "stderr",
          "text": [
            "100%|██████████| 2/2 [00:07<00:00,  3.64s/it]"
          ]
        },
        {
          "output_type": "stream",
          "name": "stdout",
          "text": [
            "[168/1187]\n",
            "[# Positions]: 6.04M\n",
            "[# Games]: 60.80K\n",
            "[# Loss]: 3.746 | [# Loss MAIA]: 3.146 | [# Loss Side Info]: 0.034 | [# Loss Value]: 0.566\n"
          ]
        },
        {
          "output_type": "stream",
          "name": "stderr",
          "text": [
            "\n",
            "  0%|          | 0/2 [00:00<?, ?it/s]"
          ]
        },
        {
          "output_type": "stream",
          "name": "stdout",
          "text": [
            "{(10, 10): 182}\n"
          ]
        },
        {
          "output_type": "stream",
          "name": "stderr",
          "text": [
            "100%|██████████| 2/2 [00:07<00:00,  3.60s/it]"
          ]
        },
        {
          "output_type": "stream",
          "name": "stdout",
          "text": [
            "[180/1187]\n",
            "[# Positions]: 6.06M\n",
            "[# Games]: 60.97K\n",
            "[# Loss]: 3.789 | [# Loss MAIA]: 3.161 | [# Loss Side Info]: 0.035 | [# Loss Value]: 0.593\n"
          ]
        },
        {
          "output_type": "stream",
          "name": "stderr",
          "text": [
            "\n",
            "  0%|          | 0/3 [00:00<?, ?it/s]"
          ]
        },
        {
          "output_type": "stream",
          "name": "stdout",
          "text": [
            "{(10, 10): 203}\n"
          ]
        },
        {
          "output_type": "stream",
          "name": "stderr",
          "text": [
            "100%|██████████| 3/3 [00:07<00:00,  2.48s/it]"
          ]
        },
        {
          "output_type": "stream",
          "name": "stdout",
          "text": [
            "[192/1187]\n",
            "[# Positions]: 6.08M\n",
            "[# Games]: 61.15K\n",
            "[# Loss]: 3.706 | [# Loss MAIA]: 3.149 | [# Loss Side Info]: 0.034 | [# Loss Value]: 0.523\n"
          ]
        },
        {
          "output_type": "stream",
          "name": "stderr",
          "text": [
            "\n",
            "  0%|          | 0/3 [00:00<?, ?it/s]"
          ]
        },
        {
          "output_type": "stream",
          "name": "stdout",
          "text": [
            "{(10, 10): 169}\n"
          ]
        },
        {
          "output_type": "stream",
          "name": "stderr",
          "text": [
            "100%|██████████| 3/3 [00:07<00:00,  2.56s/it]"
          ]
        },
        {
          "output_type": "stream",
          "name": "stdout",
          "text": [
            "[204/1187]\n",
            "[# Positions]: 6.10M\n",
            "[# Games]: 61.35K\n",
            "[# Loss]: 3.719 | [# Loss MAIA]: 3.137 | [# Loss Side Info]: 0.034 | [# Loss Value]: 0.548\n"
          ]
        },
        {
          "output_type": "stream",
          "name": "stderr",
          "text": [
            "\n",
            "  0%|          | 0/2 [00:00<?, ?it/s]"
          ]
        },
        {
          "output_type": "stream",
          "name": "stdout",
          "text": [
            "{(10, 10): 146}\n"
          ]
        },
        {
          "output_type": "stream",
          "name": "stderr",
          "text": [
            "100%|██████████| 2/2 [00:07<00:00,  3.63s/it]"
          ]
        },
        {
          "output_type": "stream",
          "name": "stdout",
          "text": [
            "[216/1187]\n",
            "[# Positions]: 6.11M\n",
            "[# Games]: 61.52K\n",
            "[# Loss]: 3.767 | [# Loss MAIA]: 3.137 | [# Loss Side Info]: 0.034 | [# Loss Value]: 0.595\n"
          ]
        },
        {
          "output_type": "stream",
          "name": "stderr",
          "text": [
            "\n",
            "  0%|          | 0/2 [00:00<?, ?it/s]"
          ]
        },
        {
          "output_type": "stream",
          "name": "stdout",
          "text": [
            "{(10, 10): 214}\n"
          ]
        },
        {
          "output_type": "stream",
          "name": "stderr",
          "text": [
            "100%|██████████| 2/2 [00:07<00:00,  3.51s/it]"
          ]
        },
        {
          "output_type": "stream",
          "name": "stdout",
          "text": [
            "[228/1187]\n",
            "[# Positions]: 6.13M\n",
            "[# Games]: 61.67K\n",
            "[# Loss]: 3.789 | [# Loss MAIA]: 3.193 | [# Loss Side Info]: 0.035 | [# Loss Value]: 0.56\n"
          ]
        },
        {
          "output_type": "stream",
          "name": "stderr",
          "text": [
            "\n",
            "  0%|          | 0/3 [00:00<?, ?it/s]"
          ]
        },
        {
          "output_type": "stream",
          "name": "stdout",
          "text": [
            "{(10, 10): 177}\n"
          ]
        },
        {
          "output_type": "stream",
          "name": "stderr",
          "text": [
            "100%|██████████| 3/3 [00:07<00:00,  2.59s/it]"
          ]
        },
        {
          "output_type": "stream",
          "name": "stdout",
          "text": [
            "[240/1187]\n",
            "[# Positions]: 6.15M\n",
            "[# Games]: 61.88K\n",
            "[# Loss]: 3.81 | [# Loss MAIA]: 3.162 | [# Loss Side Info]: 0.035 | [# Loss Value]: 0.614\n"
          ]
        },
        {
          "output_type": "stream",
          "name": "stderr",
          "text": [
            "\n",
            "  0%|          | 0/2 [00:00<?, ?it/s]"
          ]
        },
        {
          "output_type": "stream",
          "name": "stdout",
          "text": [
            "{(10, 10): 140}\n"
          ]
        },
        {
          "output_type": "stream",
          "name": "stderr",
          "text": [
            "100%|██████████| 2/2 [00:07<00:00,  3.60s/it]"
          ]
        },
        {
          "output_type": "stream",
          "name": "stdout",
          "text": [
            "[252/1187]\n",
            "[# Positions]: 6.16M\n",
            "[# Games]: 62.06K\n",
            "[# Loss]: 3.787 | [# Loss MAIA]: 3.188 | [# Loss Side Info]: 0.035 | [# Loss Value]: 0.564\n"
          ]
        },
        {
          "output_type": "stream",
          "name": "stderr",
          "text": [
            "\n",
            "  0%|          | 0/2 [00:00<?, ?it/s]"
          ]
        },
        {
          "output_type": "stream",
          "name": "stdout",
          "text": [
            "{(10, 10): 215}\n"
          ]
        },
        {
          "output_type": "stream",
          "name": "stderr",
          "text": [
            "100%|██████████| 2/2 [00:06<00:00,  3.50s/it]"
          ]
        },
        {
          "output_type": "stream",
          "name": "stdout",
          "text": [
            "[264/1187]\n",
            "[# Positions]: 6.18M\n",
            "[# Games]: 62.20K\n",
            "[# Loss]: 3.731 | [# Loss MAIA]: 3.145 | [# Loss Side Info]: 0.034 | [# Loss Value]: 0.552\n"
          ]
        },
        {
          "output_type": "stream",
          "name": "stderr",
          "text": [
            "\n",
            "  0%|          | 0/3 [00:00<?, ?it/s]"
          ]
        },
        {
          "output_type": "stream",
          "name": "stdout",
          "text": [
            "{(10, 10): 218}\n"
          ]
        },
        {
          "output_type": "stream",
          "name": "stderr",
          "text": [
            "100%|██████████| 3/3 [00:07<00:00,  2.56s/it]"
          ]
        },
        {
          "output_type": "stream",
          "name": "stdout",
          "text": [
            "[276/1187]\n",
            "[# Positions]: 6.20M\n",
            "[# Games]: 62.41K\n",
            "[# Loss]: 3.753 | [# Loss MAIA]: 3.164 | [# Loss Side Info]: 0.034 | [# Loss Value]: 0.554\n"
          ]
        },
        {
          "output_type": "stream",
          "name": "stderr",
          "text": [
            "\n",
            "  0%|          | 0/3 [00:00<?, ?it/s]"
          ]
        },
        {
          "output_type": "stream",
          "name": "stdout",
          "text": [
            "{(10, 10): 169}\n"
          ]
        },
        {
          "output_type": "stream",
          "name": "stderr",
          "text": [
            "100%|██████████| 3/3 [00:07<00:00,  2.49s/it]"
          ]
        },
        {
          "output_type": "stream",
          "name": "stdout",
          "text": [
            "[288/1187]\n",
            "[# Positions]: 6.22M\n",
            "[# Games]: 62.63K\n",
            "[# Loss]: 3.762 | [# Loss MAIA]: 3.111 | [# Loss Side Info]: 0.034 | [# Loss Value]: 0.617\n"
          ]
        },
        {
          "output_type": "stream",
          "name": "stderr",
          "text": [
            "\n",
            "  0%|          | 0/3 [00:00<?, ?it/s]"
          ]
        },
        {
          "output_type": "stream",
          "name": "stdout",
          "text": [
            "{(10, 10): 244}\n"
          ]
        },
        {
          "output_type": "stream",
          "name": "stderr",
          "text": [
            "100%|██████████| 3/3 [00:07<00:00,  2.47s/it]"
          ]
        },
        {
          "output_type": "stream",
          "name": "stdout",
          "text": [
            "[300/1187]\n",
            "[# Positions]: 6.24M\n",
            "[# Games]: 62.80K\n",
            "[# Loss]: 3.766 | [# Loss MAIA]: 3.117 | [# Loss Side Info]: 0.034 | [# Loss Value]: 0.615\n"
          ]
        },
        {
          "output_type": "stream",
          "name": "stderr",
          "text": [
            "\n",
            "  0%|          | 0/3 [00:00<?, ?it/s]"
          ]
        },
        {
          "output_type": "stream",
          "name": "stdout",
          "text": [
            "{(10, 10): 189}\n"
          ]
        },
        {
          "output_type": "stream",
          "name": "stderr",
          "text": [
            "100%|██████████| 3/3 [00:08<00:00,  2.67s/it]"
          ]
        },
        {
          "output_type": "stream",
          "name": "stdout",
          "text": [
            "[312/1187]\n",
            "[# Positions]: 6.26M\n",
            "[# Games]: 63.04K\n",
            "[# Loss]: 3.729 | [# Loss MAIA]: 3.132 | [# Loss Side Info]: 0.034 | [# Loss Value]: 0.563\n"
          ]
        },
        {
          "output_type": "stream",
          "name": "stderr",
          "text": [
            "\n",
            "  0%|          | 0/3 [00:00<?, ?it/s]"
          ]
        },
        {
          "output_type": "stream",
          "name": "stdout",
          "text": [
            "{(10, 10): 120}\n"
          ]
        },
        {
          "output_type": "stream",
          "name": "stderr",
          "text": [
            "100%|██████████| 3/3 [00:07<00:00,  2.52s/it]"
          ]
        },
        {
          "output_type": "stream",
          "name": "stdout",
          "text": [
            "[324/1187]\n",
            "[# Positions]: 6.28M\n",
            "[# Games]: 63.23K\n",
            "[# Loss]: 3.838 | [# Loss MAIA]: 3.174 | [# Loss Side Info]: 0.035 | [# Loss Value]: 0.63\n"
          ]
        },
        {
          "output_type": "stream",
          "name": "stderr",
          "text": [
            "\n",
            "  0%|          | 0/2 [00:00<?, ?it/s]"
          ]
        },
        {
          "output_type": "stream",
          "name": "stdout",
          "text": [
            "{(10, 10): 215}\n"
          ]
        },
        {
          "output_type": "stream",
          "name": "stderr",
          "text": [
            "100%|██████████| 2/2 [00:06<00:00,  3.45s/it]"
          ]
        },
        {
          "output_type": "stream",
          "name": "stdout",
          "text": [
            "[336/1187]\n",
            "[# Positions]: 6.29M\n",
            "[# Games]: 63.35K\n",
            "[# Loss]: 3.735 | [# Loss MAIA]: 3.13 | [# Loss Side Info]: 0.033 | [# Loss Value]: 0.571\n"
          ]
        },
        {
          "output_type": "stream",
          "name": "stderr",
          "text": [
            "\n",
            "  0%|          | 0/3 [00:00<?, ?it/s]"
          ]
        },
        {
          "output_type": "stream",
          "name": "stdout",
          "text": [
            "{(10, 10): 208}\n"
          ]
        },
        {
          "output_type": "stream",
          "name": "stderr",
          "text": [
            "100%|██████████| 3/3 [00:07<00:00,  2.55s/it]"
          ]
        },
        {
          "output_type": "stream",
          "name": "stdout",
          "text": [
            "[348/1187]\n",
            "[# Positions]: 6.32M\n",
            "[# Games]: 63.57K\n",
            "[# Loss]: 3.786 | [# Loss MAIA]: 3.167 | [# Loss Side Info]: 0.034 | [# Loss Value]: 0.585\n"
          ]
        },
        {
          "output_type": "stream",
          "name": "stderr",
          "text": [
            "\n",
            "  0%|          | 0/3 [00:00<?, ?it/s]"
          ]
        },
        {
          "output_type": "stream",
          "name": "stdout",
          "text": [
            "{(10, 10): 168}\n"
          ]
        },
        {
          "output_type": "stream",
          "name": "stderr",
          "text": [
            "100%|██████████| 3/3 [00:07<00:00,  2.50s/it]"
          ]
        },
        {
          "output_type": "stream",
          "name": "stdout",
          "text": [
            "[360/1187]\n",
            "[# Positions]: 6.34M\n",
            "[# Games]: 63.78K\n",
            "[# Loss]: 3.777 | [# Loss MAIA]: 3.127 | [# Loss Side Info]: 0.034 | [# Loss Value]: 0.617\n"
          ]
        },
        {
          "output_type": "stream",
          "name": "stderr",
          "text": [
            "\n",
            "  0%|          | 0/2 [00:00<?, ?it/s]"
          ]
        },
        {
          "output_type": "stream",
          "name": "stdout",
          "text": [
            "{(10, 10): 262}\n"
          ]
        },
        {
          "output_type": "stream",
          "name": "stderr",
          "text": [
            "100%|██████████| 2/2 [00:07<00:00,  3.53s/it]"
          ]
        },
        {
          "output_type": "stream",
          "name": "stdout",
          "text": [
            "[372/1187]\n",
            "[# Positions]: 6.35M\n",
            "[# Games]: 63.94K\n",
            "[# Loss]: 3.767 | [# Loss MAIA]: 3.115 | [# Loss Side Info]: 0.034 | [# Loss Value]: 0.619\n"
          ]
        },
        {
          "output_type": "stream",
          "name": "stderr",
          "text": [
            "\n",
            "  0%|          | 0/4 [00:00<?, ?it/s]"
          ]
        },
        {
          "output_type": "stream",
          "name": "stdout",
          "text": [
            "{(10, 10): 190}\n"
          ]
        },
        {
          "output_type": "stream",
          "name": "stderr",
          "text": [
            "100%|██████████| 4/4 [00:08<00:00,  2.08s/it]"
          ]
        },
        {
          "output_type": "stream",
          "name": "stdout",
          "text": [
            "[384/1187]\n",
            "[# Positions]: 6.38M\n",
            "[# Games]: 64.21K\n",
            "[# Loss]: 3.692 | [# Loss MAIA]: 3.167 | [# Loss Side Info]: 0.035 | [# Loss Value]: 0.491\n"
          ]
        },
        {
          "output_type": "stream",
          "name": "stderr",
          "text": [
            "\n",
            "  0%|          | 0/3 [00:00<?, ?it/s]"
          ]
        },
        {
          "output_type": "stream",
          "name": "stdout",
          "text": [
            "{(10, 10): 189}\n"
          ]
        },
        {
          "output_type": "stream",
          "name": "stderr",
          "text": [
            "100%|██████████| 3/3 [00:07<00:00,  2.45s/it]"
          ]
        },
        {
          "output_type": "stream",
          "name": "stdout",
          "text": [
            "[396/1187]\n",
            "[# Positions]: 6.40M\n",
            "[# Games]: 64.40K\n",
            "[# Loss]: 3.73 | [# Loss MAIA]: 3.137 | [# Loss Side Info]: 0.034 | [# Loss Value]: 0.56\n"
          ]
        },
        {
          "output_type": "stream",
          "name": "stderr",
          "text": [
            "\n",
            "  0%|          | 0/3 [00:00<?, ?it/s]"
          ]
        },
        {
          "output_type": "stream",
          "name": "stdout",
          "text": [
            "{(10, 10): 206}\n"
          ]
        },
        {
          "output_type": "stream",
          "name": "stderr",
          "text": [
            "100%|██████████| 3/3 [00:07<00:00,  2.38s/it]"
          ]
        },
        {
          "output_type": "stream",
          "name": "stdout",
          "text": [
            "[408/1187]\n",
            "[# Positions]: 6.41M\n",
            "[# Games]: 64.58K\n",
            "[# Loss]: 3.733 | [# Loss MAIA]: 3.056 | [# Loss Side Info]: 0.033 | [# Loss Value]: 0.644\n"
          ]
        },
        {
          "output_type": "stream",
          "name": "stderr",
          "text": [
            "\n",
            "  0%|          | 0/3 [00:00<?, ?it/s]"
          ]
        },
        {
          "output_type": "stream",
          "name": "stdout",
          "text": [
            "{(10, 10): 205}\n"
          ]
        },
        {
          "output_type": "stream",
          "name": "stderr",
          "text": [
            "100%|██████████| 3/3 [00:07<00:00,  2.54s/it]"
          ]
        },
        {
          "output_type": "stream",
          "name": "stdout",
          "text": [
            "[420/1187]\n",
            "[# Positions]: 6.44M\n",
            "[# Games]: 64.79K\n",
            "[# Loss]: 3.677 | [# Loss MAIA]: 3.148 | [# Loss Side Info]: 0.033 | [# Loss Value]: 0.496\n"
          ]
        },
        {
          "output_type": "stream",
          "name": "stderr",
          "text": [
            "\n",
            "  0%|          | 0/3 [00:00<?, ?it/s]"
          ]
        },
        {
          "output_type": "stream",
          "name": "stdout",
          "text": [
            "{(10, 10): 185}\n"
          ]
        },
        {
          "output_type": "stream",
          "name": "stderr",
          "text": [
            "100%|██████████| 3/3 [00:07<00:00,  2.54s/it]"
          ]
        },
        {
          "output_type": "stream",
          "name": "stdout",
          "text": [
            "[432/1187]\n",
            "[# Positions]: 6.46M\n",
            "[# Games]: 65.00K\n",
            "[# Loss]: 3.717 | [# Loss MAIA]: 3.095 | [# Loss Side Info]: 0.034 | [# Loss Value]: 0.589\n"
          ]
        },
        {
          "output_type": "stream",
          "name": "stderr",
          "text": [
            "\n",
            "  0%|          | 0/3 [00:00<?, ?it/s]"
          ]
        },
        {
          "output_type": "stream",
          "name": "stdout",
          "text": [
            "{(10, 10): 226}\n"
          ]
        },
        {
          "output_type": "stream",
          "name": "stderr",
          "text": [
            "100%|██████████| 3/3 [00:07<00:00,  2.57s/it]"
          ]
        },
        {
          "output_type": "stream",
          "name": "stdout",
          "text": [
            "[444/1187]\n",
            "[# Positions]: 6.47M\n",
            "[# Games]: 65.18K\n",
            "[# Loss]: 3.709 | [# Loss MAIA]: 3.134 | [# Loss Side Info]: 0.034 | [# Loss Value]: 0.541\n"
          ]
        },
        {
          "output_type": "stream",
          "name": "stderr",
          "text": [
            "\n",
            "  0%|          | 0/3 [00:00<?, ?it/s]"
          ]
        },
        {
          "output_type": "stream",
          "name": "stdout",
          "text": [
            "{(10, 10): 243}\n"
          ]
        },
        {
          "output_type": "stream",
          "name": "stderr",
          "text": [
            "100%|██████████| 3/3 [00:07<00:00,  2.56s/it]"
          ]
        },
        {
          "output_type": "stream",
          "name": "stdout",
          "text": [
            "[456/1187]\n",
            "[# Positions]: 6.50M\n",
            "[# Games]: 65.41K\n",
            "[# Loss]: 3.631 | [# Loss MAIA]: 3.082 | [# Loss Side Info]: 0.032 | [# Loss Value]: 0.517\n"
          ]
        },
        {
          "output_type": "stream",
          "name": "stderr",
          "text": [
            "\n",
            "  0%|          | 0/3 [00:00<?, ?it/s]"
          ]
        },
        {
          "output_type": "stream",
          "name": "stdout",
          "text": [
            "{(10, 10): 162}\n"
          ]
        },
        {
          "output_type": "stream",
          "name": "stderr",
          "text": [
            "100%|██████████| 3/3 [00:07<00:00,  2.53s/it]"
          ]
        },
        {
          "output_type": "stream",
          "name": "stdout",
          "text": [
            "[468/1187]\n",
            "[# Positions]: 6.52M\n",
            "[# Games]: 65.65K\n",
            "[# Loss]: 3.681 | [# Loss MAIA]: 3.145 | [# Loss Side Info]: 0.033 | [# Loss Value]: 0.503\n"
          ]
        },
        {
          "output_type": "stream",
          "name": "stderr",
          "text": [
            "\n",
            "  0%|          | 0/2 [00:00<?, ?it/s]"
          ]
        },
        {
          "output_type": "stream",
          "name": "stdout",
          "text": [
            "{(10, 10): 237}\n"
          ]
        },
        {
          "output_type": "stream",
          "name": "stderr",
          "text": [
            "100%|██████████| 2/2 [00:07<00:00,  3.57s/it]"
          ]
        },
        {
          "output_type": "stream",
          "name": "stdout",
          "text": [
            "[480/1187]\n",
            "[# Positions]: 6.54M\n",
            "[# Games]: 65.81K\n",
            "[# Loss]: 3.691 | [# Loss MAIA]: 3.134 | [# Loss Side Info]: 0.033 | [# Loss Value]: 0.524\n"
          ]
        },
        {
          "output_type": "stream",
          "name": "stderr",
          "text": [
            "\n",
            "  0%|          | 0/4 [00:00<?, ?it/s]"
          ]
        },
        {
          "output_type": "stream",
          "name": "stdout",
          "text": [
            "{(10, 10): 360}\n"
          ]
        },
        {
          "output_type": "stream",
          "name": "stderr",
          "text": [
            "100%|██████████| 4/4 [00:08<00:00,  2.17s/it]"
          ]
        },
        {
          "output_type": "stream",
          "name": "stdout",
          "text": [
            "[492/1187]\n",
            "[# Positions]: 6.56M\n",
            "[# Games]: 66.05K\n",
            "[# Loss]: 3.537 | [# Loss MAIA]: 3.106 | [# Loss Side Info]: 0.033 | [# Loss Value]: 0.397\n"
          ]
        },
        {
          "output_type": "stream",
          "name": "stderr",
          "text": [
            "\n",
            "  0%|          | 0/6 [00:00<?, ?it/s]"
          ]
        },
        {
          "output_type": "stream",
          "name": "stdout",
          "text": [
            "{(10, 10): 279}\n"
          ]
        },
        {
          "output_type": "stream",
          "name": "stderr",
          "text": [
            "100%|██████████| 6/6 [00:10<00:00,  1.71s/it]"
          ]
        },
        {
          "output_type": "stream",
          "name": "stdout",
          "text": [
            "[504/1187]\n",
            "[# Positions]: 6.61M\n",
            "[# Games]: 66.41K\n",
            "[# Loss]: 3.604 | [# Loss MAIA]: 3.126 | [# Loss Side Info]: 0.033 | [# Loss Value]: 0.446\n"
          ]
        },
        {
          "output_type": "stream",
          "name": "stderr",
          "text": [
            "\n",
            "  0%|          | 0/4 [00:00<?, ?it/s]"
          ]
        },
        {
          "output_type": "stream",
          "name": "stdout",
          "text": [
            "{(10, 10): 301}\n"
          ]
        },
        {
          "output_type": "stream",
          "name": "stderr",
          "text": [
            "100%|██████████| 4/4 [00:08<00:00,  2.20s/it]"
          ]
        },
        {
          "output_type": "stream",
          "name": "stdout",
          "text": [
            "[516/1187]\n",
            "[# Positions]: 6.64M\n",
            "[# Games]: 66.69K\n",
            "[# Loss]: 3.584 | [# Loss MAIA]: 3.089 | [# Loss Side Info]: 0.032 | [# Loss Value]: 0.462\n"
          ]
        },
        {
          "output_type": "stream",
          "name": "stderr",
          "text": [
            "\n",
            "  0%|          | 0/5 [00:00<?, ?it/s]"
          ]
        },
        {
          "output_type": "stream",
          "name": "stdout",
          "text": [
            "{(10, 10): 308}\n"
          ]
        },
        {
          "output_type": "stream",
          "name": "stderr",
          "text": [
            "100%|██████████| 5/5 [00:09<00:00,  1.84s/it]"
          ]
        },
        {
          "output_type": "stream",
          "name": "stdout",
          "text": [
            "[528/1187]\n",
            "[# Positions]: 6.67M\n",
            "[# Games]: 66.99K\n",
            "[# Loss]: 3.615 | [# Loss MAIA]: 3.122 | [# Loss Side Info]: 0.033 | [# Loss Value]: 0.46\n"
          ]
        },
        {
          "output_type": "stream",
          "name": "stderr",
          "text": [
            "\n",
            "  0%|          | 0/5 [00:00<?, ?it/s]"
          ]
        },
        {
          "output_type": "stream",
          "name": "stdout",
          "text": [
            "{(10, 10): 252}\n"
          ]
        },
        {
          "output_type": "stream",
          "name": "stderr",
          "text": [
            "100%|██████████| 5/5 [00:09<00:00,  1.84s/it]"
          ]
        },
        {
          "output_type": "stream",
          "name": "stdout",
          "text": [
            "[540/1187]\n",
            "[# Positions]: 6.71M\n",
            "[# Games]: 67.30K\n",
            "[# Loss]: 3.548 | [# Loss MAIA]: 3.101 | [# Loss Side Info]: 0.032 | [# Loss Value]: 0.415\n"
          ]
        },
        {
          "output_type": "stream",
          "name": "stderr",
          "text": [
            "\n",
            "  0%|          | 0/4 [00:00<?, ?it/s]"
          ]
        },
        {
          "output_type": "stream",
          "name": "stdout",
          "text": [
            "{(10, 10): 263}\n"
          ]
        },
        {
          "output_type": "stream",
          "name": "stderr",
          "text": [
            "100%|██████████| 4/4 [00:08<00:00,  2.07s/it]"
          ]
        },
        {
          "output_type": "stream",
          "name": "stdout",
          "text": [
            "[552/1187]\n",
            "[# Positions]: 6.73M\n",
            "[# Games]: 67.55K\n",
            "[# Loss]: 3.656 | [# Loss MAIA]: 3.099 | [# Loss Side Info]: 0.032 | [# Loss Value]: 0.524\n"
          ]
        },
        {
          "output_type": "stream",
          "name": "stderr",
          "text": [
            "\n",
            "  0%|          | 0/4 [00:00<?, ?it/s]"
          ]
        },
        {
          "output_type": "stream",
          "name": "stdout",
          "text": [
            "{(10, 10): 365}\n"
          ]
        },
        {
          "output_type": "stream",
          "name": "stderr",
          "text": [
            "100%|██████████| 4/4 [00:08<00:00,  2.20s/it]"
          ]
        },
        {
          "output_type": "stream",
          "name": "stdout",
          "text": [
            "[564/1187]\n",
            "[# Positions]: 6.76M\n",
            "[# Games]: 67.81K\n",
            "[# Loss]: 3.515 | [# Loss MAIA]: 3.059 | [# Loss Side Info]: 0.032 | [# Loss Value]: 0.424\n"
          ]
        },
        {
          "output_type": "stream",
          "name": "stderr",
          "text": [
            "\n",
            "  0%|          | 0/6 [00:00<?, ?it/s]"
          ]
        },
        {
          "output_type": "stream",
          "name": "stdout",
          "text": [
            "{(10, 10): 217}\n"
          ]
        },
        {
          "output_type": "stream",
          "name": "stderr",
          "text": [
            "100%|██████████| 6/6 [00:09<00:00,  1.65s/it]"
          ]
        },
        {
          "output_type": "stream",
          "name": "stdout",
          "text": [
            "[576/1187]\n",
            "[# Positions]: 6.80M\n",
            "[# Games]: 68.18K\n",
            "[# Loss]: 3.552 | [# Loss MAIA]: 3.069 | [# Loss Side Info]: 0.032 | [# Loss Value]: 0.452\n"
          ]
        },
        {
          "output_type": "stream",
          "name": "stderr",
          "text": [
            "\n",
            "  0%|          | 0/3 [00:00<?, ?it/s]"
          ]
        },
        {
          "output_type": "stream",
          "name": "stdout",
          "text": [
            "{(10, 10): 196}\n"
          ]
        },
        {
          "output_type": "stream",
          "name": "stderr",
          "text": [
            "100%|██████████| 3/3 [00:07<00:00,  2.59s/it]"
          ]
        },
        {
          "output_type": "stream",
          "name": "stdout",
          "text": [
            "[588/1187]\n",
            "[# Positions]: 6.82M\n",
            "[# Games]: 68.39K\n",
            "[# Loss]: 3.627 | [# Loss MAIA]: 3.082 | [# Loss Side Info]: 0.032 | [# Loss Value]: 0.513\n"
          ]
        },
        {
          "output_type": "stream",
          "name": "stderr",
          "text": [
            "\n",
            "  0%|          | 0/3 [00:00<?, ?it/s]"
          ]
        },
        {
          "output_type": "stream",
          "name": "stdout",
          "text": [
            "{(10, 10): 243}\n"
          ]
        },
        {
          "output_type": "stream",
          "name": "stderr",
          "text": [
            "100%|██████████| 3/3 [00:07<00:00,  2.64s/it]"
          ]
        },
        {
          "output_type": "stream",
          "name": "stdout",
          "text": [
            "[600/1187]\n",
            "[# Positions]: 6.84M\n",
            "[# Games]: 68.59K\n",
            "[# Loss]: 3.647 | [# Loss MAIA]: 3.082 | [# Loss Side Info]: 0.032 | [# Loss Value]: 0.534\n"
          ]
        },
        {
          "output_type": "stream",
          "name": "stderr",
          "text": [
            "\n",
            "  0%|          | 0/4 [00:00<?, ?it/s]"
          ]
        },
        {
          "output_type": "stream",
          "name": "stdout",
          "text": [
            "{(10, 10): 170}\n"
          ]
        },
        {
          "output_type": "stream",
          "name": "stderr",
          "text": [
            "100%|██████████| 4/4 [00:08<00:00,  2.08s/it]"
          ]
        },
        {
          "output_type": "stream",
          "name": "stdout",
          "text": [
            "[612/1187]\n",
            "[# Positions]: 6.87M\n",
            "[# Games]: 68.83K\n",
            "[# Loss]: 3.565 | [# Loss MAIA]: 3.079 | [# Loss Side Info]: 0.032 | [# Loss Value]: 0.453\n"
          ]
        },
        {
          "output_type": "stream",
          "name": "stderr",
          "text": [
            "\n",
            "  0%|          | 0/3 [00:00<?, ?it/s]"
          ]
        },
        {
          "output_type": "stream",
          "name": "stdout",
          "text": [
            "{(10, 10): 183}\n"
          ]
        },
        {
          "output_type": "stream",
          "name": "stderr",
          "text": [
            "100%|██████████| 3/3 [00:07<00:00,  2.40s/it]"
          ]
        },
        {
          "output_type": "stream",
          "name": "stdout",
          "text": [
            "[624/1187]\n",
            "[# Positions]: 6.89M\n",
            "[# Games]: 69.00K\n",
            "[# Loss]: 3.742 | [# Loss MAIA]: 3.128 | [# Loss Side Info]: 0.032 | [# Loss Value]: 0.583\n"
          ]
        },
        {
          "output_type": "stream",
          "name": "stderr",
          "text": [
            "\n",
            "  0%|          | 0/3 [00:00<?, ?it/s]"
          ]
        },
        {
          "output_type": "stream",
          "name": "stdout",
          "text": [
            "{(10, 10): 237}\n"
          ]
        },
        {
          "output_type": "stream",
          "name": "stderr",
          "text": [
            "100%|██████████| 3/3 [00:07<00:00,  2.57s/it]"
          ]
        },
        {
          "output_type": "stream",
          "name": "stdout",
          "text": [
            "[636/1187]\n",
            "[# Positions]: 6.91M\n",
            "[# Games]: 69.19K\n",
            "[# Loss]: 3.695 | [# Loss MAIA]: 3.061 | [# Loss Side Info]: 0.031 | [# Loss Value]: 0.602\n"
          ]
        },
        {
          "output_type": "stream",
          "name": "stderr",
          "text": [
            "\n",
            "  0%|          | 0/4 [00:00<?, ?it/s]"
          ]
        },
        {
          "output_type": "stream",
          "name": "stdout",
          "text": [
            "{(10, 10): 154}\n"
          ]
        },
        {
          "output_type": "stream",
          "name": "stderr",
          "text": [
            "100%|██████████| 4/4 [00:07<00:00,  1.95s/it]"
          ]
        },
        {
          "output_type": "stream",
          "name": "stdout",
          "text": [
            "[648/1187]\n",
            "[# Positions]: 6.93M\n",
            "[# Games]: 69.42K\n",
            "[# Loss]: 3.693 | [# Loss MAIA]: 3.144 | [# Loss Side Info]: 0.032 | [# Loss Value]: 0.517\n"
          ]
        },
        {
          "output_type": "stream",
          "name": "stderr",
          "text": [
            "\n",
            "  0%|          | 0/2 [00:00<?, ?it/s]"
          ]
        },
        {
          "output_type": "stream",
          "name": "stdout",
          "text": [
            "{(10, 10): 162}\n"
          ]
        },
        {
          "output_type": "stream",
          "name": "stderr",
          "text": [
            "100%|██████████| 2/2 [00:06<00:00,  3.49s/it]"
          ]
        },
        {
          "output_type": "stream",
          "name": "stdout",
          "text": [
            "[660/1187]\n",
            "[# Positions]: 6.95M\n",
            "[# Games]: 69.58K\n",
            "[# Loss]: 3.708 | [# Loss MAIA]: 3.088 | [# Loss Side Info]: 0.031 | [# Loss Value]: 0.589\n"
          ]
        },
        {
          "output_type": "stream",
          "name": "stderr",
          "text": [
            "\n",
            "  0%|          | 0/3 [00:00<?, ?it/s]"
          ]
        },
        {
          "output_type": "stream",
          "name": "stdout",
          "text": [
            "{(10, 10): 243}\n"
          ]
        },
        {
          "output_type": "stream",
          "name": "stderr",
          "text": [
            "100%|██████████| 3/3 [00:07<00:00,  2.40s/it]"
          ]
        },
        {
          "output_type": "stream",
          "name": "stdout",
          "text": [
            "[672/1187]\n",
            "[# Positions]: 6.96M\n",
            "[# Games]: 69.74K\n",
            "[# Loss]: 3.753 | [# Loss MAIA]: 3.166 | [# Loss Side Info]: 0.033 | [# Loss Value]: 0.555\n"
          ]
        },
        {
          "output_type": "stream",
          "name": "stderr",
          "text": [
            "\n",
            "  0%|          | 0/4 [00:00<?, ?it/s]"
          ]
        },
        {
          "output_type": "stream",
          "name": "stdout",
          "text": [
            "{(10, 10): 200}\n"
          ]
        },
        {
          "output_type": "stream",
          "name": "stderr",
          "text": [
            "100%|██████████| 4/4 [00:08<00:00,  2.01s/it]"
          ]
        },
        {
          "output_type": "stream",
          "name": "stdout",
          "text": [
            "[684/1187]\n",
            "[# Positions]: 6.99M\n",
            "[# Games]: 69.98K\n",
            "[# Loss]: 3.748 | [# Loss MAIA]: 3.16 | [# Loss Side Info]: 0.033 | [# Loss Value]: 0.554\n"
          ]
        },
        {
          "output_type": "stream",
          "name": "stderr",
          "text": [
            "\n",
            "  0%|          | 0/3 [00:00<?, ?it/s]"
          ]
        },
        {
          "output_type": "stream",
          "name": "stdout",
          "text": [
            "{(10, 10): 162}\n"
          ]
        },
        {
          "output_type": "stream",
          "name": "stderr",
          "text": [
            "100%|██████████| 3/3 [00:07<00:00,  2.52s/it]"
          ]
        },
        {
          "output_type": "stream",
          "name": "stdout",
          "text": [
            "[696/1187]\n",
            "[# Positions]: 7.01M\n",
            "[# Games]: 70.18K\n",
            "[# Loss]: 3.755 | [# Loss MAIA]: 3.127 | [# Loss Side Info]: 0.032 | [# Loss Value]: 0.596\n"
          ]
        },
        {
          "output_type": "stream",
          "name": "stderr",
          "text": [
            "\n",
            "  0%|          | 0/2 [00:00<?, ?it/s]"
          ]
        },
        {
          "output_type": "stream",
          "name": "stdout",
          "text": [
            "{(10, 10): 230}\n"
          ]
        },
        {
          "output_type": "stream",
          "name": "stderr",
          "text": [
            "100%|██████████| 2/2 [00:06<00:00,  3.49s/it]"
          ]
        },
        {
          "output_type": "stream",
          "name": "stdout",
          "text": [
            "[708/1187]\n",
            "[# Positions]: 7.02M\n",
            "[# Games]: 70.34K\n",
            "[# Loss]: 3.808 | [# Loss MAIA]: 3.139 | [# Loss Side Info]: 0.032 | [# Loss Value]: 0.636\n"
          ]
        },
        {
          "output_type": "stream",
          "name": "stderr",
          "text": [
            "\n",
            "  0%|          | 0/4 [00:00<?, ?it/s]"
          ]
        },
        {
          "output_type": "stream",
          "name": "stdout",
          "text": [
            "{(10, 10): 265}\n"
          ]
        },
        {
          "output_type": "stream",
          "name": "stderr",
          "text": [
            "100%|██████████| 4/4 [00:08<00:00,  2.07s/it]"
          ]
        },
        {
          "output_type": "stream",
          "name": "stdout",
          "text": [
            "[720/1187]\n",
            "[# Positions]: 7.05M\n",
            "[# Games]: 70.57K\n",
            "[# Loss]: 3.637 | [# Loss MAIA]: 3.126 | [# Loss Side Info]: 0.032 | [# Loss Value]: 0.479\n"
          ]
        },
        {
          "output_type": "stream",
          "name": "stderr",
          "text": [
            "\n",
            "  0%|          | 0/4 [00:00<?, ?it/s]"
          ]
        },
        {
          "output_type": "stream",
          "name": "stdout",
          "text": [
            "{(10, 10): 209}\n"
          ]
        },
        {
          "output_type": "stream",
          "name": "stderr",
          "text": [
            "100%|██████████| 4/4 [00:08<00:00,  2.12s/it]"
          ]
        },
        {
          "output_type": "stream",
          "name": "stdout",
          "text": [
            "[732/1187]\n",
            "[# Positions]: 7.08M\n",
            "[# Games]: 70.84K\n",
            "[# Loss]: 3.576 | [# Loss MAIA]: 3.09 | [# Loss Side Info]: 0.031 | [# Loss Value]: 0.455\n"
          ]
        },
        {
          "output_type": "stream",
          "name": "stderr",
          "text": [
            "\n",
            "  0%|          | 0/3 [00:00<?, ?it/s]"
          ]
        },
        {
          "output_type": "stream",
          "name": "stdout",
          "text": [
            "{(10, 10): 91}\n"
          ]
        },
        {
          "output_type": "stream",
          "name": "stderr",
          "text": [
            "100%|██████████| 3/3 [00:07<00:00,  2.59s/it]"
          ]
        },
        {
          "output_type": "stream",
          "name": "stdout",
          "text": [
            "[744/1187]\n",
            "[# Positions]: 7.10M\n",
            "[# Games]: 71.05K\n",
            "[# Loss]: 3.651 | [# Loss MAIA]: 3.112 | [# Loss Side Info]: 0.031 | [# Loss Value]: 0.508\n"
          ]
        },
        {
          "output_type": "stream",
          "name": "stderr",
          "text": [
            "\n",
            "  0%|          | 0/2 [00:00<?, ?it/s]"
          ]
        },
        {
          "output_type": "stream",
          "name": "stdout",
          "text": [
            "{(10, 10): 260}\n"
          ]
        },
        {
          "output_type": "stream",
          "name": "stderr",
          "text": [
            "100%|██████████| 2/2 [00:06<00:00,  3.31s/it]"
          ]
        },
        {
          "output_type": "stream",
          "name": "stdout",
          "text": [
            "[756/1187]\n",
            "[# Positions]: 7.11M\n",
            "[# Games]: 71.14K\n",
            "[# Loss]: 3.672 | [# Loss MAIA]: 3.143 | [# Loss Side Info]: 0.032 | [# Loss Value]: 0.497\n"
          ]
        },
        {
          "output_type": "stream",
          "name": "stderr",
          "text": [
            "\n",
            "  0%|          | 0/4 [00:00<?, ?it/s]"
          ]
        },
        {
          "output_type": "stream",
          "name": "stdout",
          "text": [
            "{(10, 10): 281}\n"
          ]
        },
        {
          "output_type": "stream",
          "name": "stderr",
          "text": [
            "100%|██████████| 4/4 [00:08<00:00,  2.03s/it]"
          ]
        },
        {
          "output_type": "stream",
          "name": "stdout",
          "text": [
            "[768/1187]\n",
            "[# Positions]: 7.13M\n",
            "[# Games]: 71.40K\n",
            "[# Loss]: 3.634 | [# Loss MAIA]: 3.078 | [# Loss Side Info]: 0.031 | [# Loss Value]: 0.524\n"
          ]
        },
        {
          "output_type": "stream",
          "name": "stderr",
          "text": [
            "\n",
            "  0%|          | 0/4 [00:00<?, ?it/s]"
          ]
        },
        {
          "output_type": "stream",
          "name": "stdout",
          "text": [
            "{(10, 10): 196}\n"
          ]
        },
        {
          "output_type": "stream",
          "name": "stderr",
          "text": [
            "100%|██████████| 4/4 [00:08<00:00,  2.10s/it]"
          ]
        },
        {
          "output_type": "stream",
          "name": "stdout",
          "text": [
            "[780/1187]\n",
            "[# Positions]: 7.16M\n",
            "[# Games]: 71.68K\n",
            "[# Loss]: 3.619 | [# Loss MAIA]: 3.037 | [# Loss Side Info]: 0.031 | [# Loss Value]: 0.551\n"
          ]
        },
        {
          "output_type": "stream",
          "name": "stderr",
          "text": [
            "\n",
            "  0%|          | 0/3 [00:00<?, ?it/s]"
          ]
        },
        {
          "output_type": "stream",
          "name": "stdout",
          "text": [
            "{(10, 10): 283}\n"
          ]
        },
        {
          "output_type": "stream",
          "name": "stderr",
          "text": [
            "100%|██████████| 3/3 [00:07<00:00,  2.64s/it]"
          ]
        },
        {
          "output_type": "stream",
          "name": "stdout",
          "text": [
            "[792/1187]\n",
            "[# Positions]: 7.18M\n",
            "[# Games]: 71.88K\n",
            "[# Loss]: 3.6 | [# Loss MAIA]: 3.064 | [# Loss Side Info]: 0.031 | [# Loss Value]: 0.505\n"
          ]
        },
        {
          "output_type": "stream",
          "name": "stderr",
          "text": [
            "\n",
            "  0%|          | 0/4 [00:00<?, ?it/s]"
          ]
        },
        {
          "output_type": "stream",
          "name": "stdout",
          "text": [
            "{(10, 10): 197}\n"
          ]
        },
        {
          "output_type": "stream",
          "name": "stderr",
          "text": [
            "100%|██████████| 4/4 [00:08<00:00,  2.15s/it]"
          ]
        },
        {
          "output_type": "stream",
          "name": "stdout",
          "text": [
            "[804/1187]\n",
            "[# Positions]: 7.21M\n",
            "[# Games]: 72.16K\n",
            "[# Loss]: 3.559 | [# Loss MAIA]: 3.072 | [# Loss Side Info]: 0.031 | [# Loss Value]: 0.456\n"
          ]
        },
        {
          "output_type": "stream",
          "name": "stderr",
          "text": [
            "\n",
            "  0%|          | 0/3 [00:00<?, ?it/s]"
          ]
        },
        {
          "output_type": "stream",
          "name": "stdout",
          "text": [
            "{(10, 10): 213}\n"
          ]
        },
        {
          "output_type": "stream",
          "name": "stderr",
          "text": [
            "100%|██████████| 3/3 [00:07<00:00,  2.55s/it]"
          ]
        },
        {
          "output_type": "stream",
          "name": "stdout",
          "text": [
            "[816/1187]\n",
            "[# Positions]: 7.24M\n",
            "[# Games]: 72.36K\n",
            "[# Loss]: 3.648 | [# Loss MAIA]: 3.101 | [# Loss Side Info]: 0.031 | [# Loss Value]: 0.515\n"
          ]
        },
        {
          "output_type": "stream",
          "name": "stderr",
          "text": [
            "\n",
            "  0%|          | 0/3 [00:00<?, ?it/s]"
          ]
        },
        {
          "output_type": "stream",
          "name": "stdout",
          "text": [
            "{(10, 10): 282}\n"
          ]
        },
        {
          "output_type": "stream",
          "name": "stderr",
          "text": [
            "100%|██████████| 3/3 [00:07<00:00,  2.62s/it]"
          ]
        },
        {
          "output_type": "stream",
          "name": "stdout",
          "text": [
            "[828/1187]\n",
            "[# Positions]: 7.26M\n",
            "[# Games]: 72.57K\n",
            "[# Loss]: 3.586 | [# Loss MAIA]: 3.057 | [# Loss Side Info]: 0.03 | [# Loss Value]: 0.498\n"
          ]
        },
        {
          "output_type": "stream",
          "name": "stderr",
          "text": [
            "\n",
            "  0%|          | 0/4 [00:00<?, ?it/s]"
          ]
        },
        {
          "output_type": "stream",
          "name": "stdout",
          "text": [
            "{(10, 10): 208}\n"
          ]
        },
        {
          "output_type": "stream",
          "name": "stderr",
          "text": [
            "100%|██████████| 4/4 [00:09<00:00,  2.26s/it]"
          ]
        },
        {
          "output_type": "stream",
          "name": "stdout",
          "text": [
            "[840/1187]\n",
            "[# Positions]: 7.29M\n",
            "[# Games]: 72.85K\n",
            "[# Loss]: 3.514 | [# Loss MAIA]: 3.045 | [# Loss Side Info]: 0.031 | [# Loss Value]: 0.438\n"
          ]
        },
        {
          "output_type": "stream",
          "name": "stderr",
          "text": [
            "\n",
            "  0%|          | 0/3 [00:00<?, ?it/s]"
          ]
        },
        {
          "output_type": "stream",
          "name": "stdout",
          "text": [
            "{(10, 10): 179}\n"
          ]
        },
        {
          "output_type": "stream",
          "name": "stderr",
          "text": [
            "100%|██████████| 3/3 [00:08<00:00,  2.67s/it]"
          ]
        },
        {
          "output_type": "stream",
          "name": "stdout",
          "text": [
            "[852/1187]\n",
            "[# Positions]: 7.31M\n",
            "[# Games]: 73.06K\n",
            "[# Loss]: 3.631 | [# Loss MAIA]: 3.078 | [# Loss Side Info]: 0.031 | [# Loss Value]: 0.522\n"
          ]
        },
        {
          "output_type": "stream",
          "name": "stderr",
          "text": [
            "\n",
            "  0%|          | 0/3 [00:00<?, ?it/s]"
          ]
        },
        {
          "output_type": "stream",
          "name": "stdout",
          "text": [
            "{(10, 10): 341}\n"
          ]
        },
        {
          "output_type": "stream",
          "name": "stderr",
          "text": [
            "100%|██████████| 3/3 [00:07<00:00,  2.62s/it]"
          ]
        },
        {
          "output_type": "stream",
          "name": "stdout",
          "text": [
            "[864/1187]\n",
            "[# Positions]: 7.33M\n",
            "[# Games]: 73.24K\n",
            "[# Loss]: 3.549 | [# Loss MAIA]: 3.065 | [# Loss Side Info]: 0.031 | [# Loss Value]: 0.454\n"
          ]
        },
        {
          "output_type": "stream",
          "name": "stderr",
          "text": [
            "\n",
            "  0%|          | 0/5 [00:00<?, ?it/s]"
          ]
        },
        {
          "output_type": "stream",
          "name": "stdout",
          "text": [
            "{(10, 10): 284}\n"
          ]
        },
        {
          "output_type": "stream",
          "name": "stderr",
          "text": [
            "100%|██████████| 5/5 [00:09<00:00,  1.95s/it]"
          ]
        },
        {
          "output_type": "stream",
          "name": "stdout",
          "text": [
            "[876/1187]\n",
            "[# Positions]: 7.37M\n",
            "[# Games]: 73.58K\n",
            "[# Loss]: 3.546 | [# Loss MAIA]: 3.054 | [# Loss Side Info]: 0.031 | [# Loss Value]: 0.461\n"
          ]
        },
        {
          "output_type": "stream",
          "name": "stderr",
          "text": [
            "\n",
            "  0%|          | 0/4 [00:00<?, ?it/s]"
          ]
        },
        {
          "output_type": "stream",
          "name": "stdout",
          "text": [
            "{(10, 10): 253}\n"
          ]
        },
        {
          "output_type": "stream",
          "name": "stderr",
          "text": [
            "100%|██████████| 4/4 [00:08<00:00,  2.22s/it]"
          ]
        },
        {
          "output_type": "stream",
          "name": "stdout",
          "text": [
            "[888/1187]\n",
            "[# Positions]: 7.40M\n",
            "[# Games]: 73.86K\n",
            "[# Loss]: 3.562 | [# Loss MAIA]: 3.04 | [# Loss Side Info]: 0.031 | [# Loss Value]: 0.492\n"
          ]
        },
        {
          "output_type": "stream",
          "name": "stderr",
          "text": [
            "\n",
            "  0%|          | 0/4 [00:00<?, ?it/s]"
          ]
        },
        {
          "output_type": "stream",
          "name": "stdout",
          "text": [
            "{(10, 10): 314}\n"
          ]
        },
        {
          "output_type": "stream",
          "name": "stderr",
          "text": [
            "100%|██████████| 4/4 [00:08<00:00,  2.10s/it]"
          ]
        },
        {
          "output_type": "stream",
          "name": "stdout",
          "text": [
            "[900/1187]\n",
            "[# Positions]: 7.43M\n",
            "[# Games]: 74.12K\n",
            "[# Loss]: 3.556 | [# Loss MAIA]: 3.024 | [# Loss Side Info]: 0.03 | [# Loss Value]: 0.501\n"
          ]
        },
        {
          "output_type": "stream",
          "name": "stderr",
          "text": [
            "\n",
            "  0%|          | 0/5 [00:00<?, ?it/s]"
          ]
        },
        {
          "output_type": "stream",
          "name": "stdout",
          "text": [
            "{(10, 10): 238}\n"
          ]
        },
        {
          "output_type": "stream",
          "name": "stderr",
          "text": [
            "100%|██████████| 5/5 [00:09<00:00,  1.83s/it]"
          ]
        },
        {
          "output_type": "stream",
          "name": "stdout",
          "text": [
            "[912/1187]\n",
            "[# Positions]: 7.47M\n",
            "[# Games]: 74.43K\n",
            "[# Loss]: 3.54 | [# Loss MAIA]: 3.057 | [# Loss Side Info]: 0.031 | [# Loss Value]: 0.452\n"
          ]
        },
        {
          "output_type": "stream",
          "name": "stderr",
          "text": [
            "\n",
            "  0%|          | 0/4 [00:00<?, ?it/s]"
          ]
        },
        {
          "output_type": "stream",
          "name": "stdout",
          "text": [
            "{(10, 10): 215}\n"
          ]
        },
        {
          "output_type": "stream",
          "name": "stderr",
          "text": [
            "100%|██████████| 4/4 [00:08<00:00,  2.03s/it]"
          ]
        },
        {
          "output_type": "stream",
          "name": "stdout",
          "text": [
            "[924/1187]\n",
            "[# Positions]: 7.49M\n",
            "[# Games]: 74.67K\n",
            "[# Loss]: 3.577 | [# Loss MAIA]: 3.042 | [# Loss Side Info]: 0.031 | [# Loss Value]: 0.505\n"
          ]
        },
        {
          "output_type": "stream",
          "name": "stderr",
          "text": [
            "\n",
            "  0%|          | 0/3 [00:00<?, ?it/s]"
          ]
        },
        {
          "output_type": "stream",
          "name": "stdout",
          "text": [
            "{(10, 10): 226}\n"
          ]
        },
        {
          "output_type": "stream",
          "name": "stderr",
          "text": [
            "100%|██████████| 3/3 [00:08<00:00,  2.69s/it]"
          ]
        },
        {
          "output_type": "stream",
          "name": "stdout",
          "text": [
            "[936/1187]\n",
            "[# Positions]: 7.51M\n",
            "[# Games]: 74.88K\n",
            "[# Loss]: 3.511 | [# Loss MAIA]: 2.996 | [# Loss Side Info]: 0.029 | [# Loss Value]: 0.485\n"
          ]
        },
        {
          "output_type": "stream",
          "name": "stderr",
          "text": [
            "\n",
            "  0%|          | 0/4 [00:00<?, ?it/s]"
          ]
        },
        {
          "output_type": "stream",
          "name": "stdout",
          "text": [
            "{(10, 10): 240}\n"
          ]
        },
        {
          "output_type": "stream",
          "name": "stderr",
          "text": [
            "100%|██████████| 4/4 [00:08<00:00,  2.09s/it]"
          ]
        },
        {
          "output_type": "stream",
          "name": "stdout",
          "text": [
            "[948/1187]\n",
            "[# Positions]: 7.54M\n",
            "[# Games]: 75.11K\n",
            "[# Loss]: 3.481 | [# Loss MAIA]: 3.004 | [# Loss Side Info]: 0.03 | [# Loss Value]: 0.446\n"
          ]
        },
        {
          "output_type": "stream",
          "name": "stderr",
          "text": [
            "\n",
            "  0%|          | 0/4 [00:00<?, ?it/s]"
          ]
        },
        {
          "output_type": "stream",
          "name": "stdout",
          "text": [
            "{(10, 10): 244}\n"
          ]
        },
        {
          "output_type": "stream",
          "name": "stderr",
          "text": [
            "100%|██████████| 4/4 [00:08<00:00,  2.09s/it]"
          ]
        },
        {
          "output_type": "stream",
          "name": "stdout",
          "text": [
            "[960/1187]\n",
            "[# Positions]: 7.57M\n",
            "[# Games]: 75.35K\n",
            "[# Loss]: 3.528 | [# Loss MAIA]: 3.016 | [# Loss Side Info]: 0.03 | [# Loss Value]: 0.481\n"
          ]
        },
        {
          "output_type": "stream",
          "name": "stderr",
          "text": [
            "\n",
            "  0%|          | 0/4 [00:00<?, ?it/s]"
          ]
        },
        {
          "output_type": "stream",
          "name": "stdout",
          "text": [
            "{(10, 10): 234}\n"
          ]
        },
        {
          "output_type": "stream",
          "name": "stderr",
          "text": [
            "100%|██████████| 4/4 [00:08<00:00,  2.04s/it]"
          ]
        },
        {
          "output_type": "stream",
          "name": "stdout",
          "text": [
            "[972/1187]\n",
            "[# Positions]: 7.59M\n",
            "[# Games]: 75.59K\n",
            "[# Loss]: 3.544 | [# Loss MAIA]: 3.02 | [# Loss Side Info]: 0.03 | [# Loss Value]: 0.494\n"
          ]
        },
        {
          "output_type": "stream",
          "name": "stderr",
          "text": [
            "\n",
            "  0%|          | 0/4 [00:00<?, ?it/s]"
          ]
        },
        {
          "output_type": "stream",
          "name": "stdout",
          "text": [
            "{(10, 10): 324}\n"
          ]
        },
        {
          "output_type": "stream",
          "name": "stderr",
          "text": [
            "100%|██████████| 4/4 [00:08<00:00,  2.14s/it]"
          ]
        },
        {
          "output_type": "stream",
          "name": "stdout",
          "text": [
            "[984/1187]\n",
            "[# Positions]: 7.62M\n",
            "[# Games]: 75.83K\n",
            "[# Loss]: 3.497 | [# Loss MAIA]: 3.009 | [# Loss Side Info]: 0.03 | [# Loss Value]: 0.458\n"
          ]
        },
        {
          "output_type": "stream",
          "name": "stderr",
          "text": [
            "\n",
            "  0%|          | 0/5 [00:00<?, ?it/s]"
          ]
        },
        {
          "output_type": "stream",
          "name": "stdout",
          "text": [
            "{(10, 10): 190}\n"
          ]
        },
        {
          "output_type": "stream",
          "name": "stderr",
          "text": [
            "100%|██████████| 5/5 [00:09<00:00,  1.92s/it]"
          ]
        },
        {
          "output_type": "stream",
          "name": "stdout",
          "text": [
            "[996/1187]\n",
            "[# Positions]: 7.66M\n",
            "[# Games]: 76.15K\n",
            "[# Loss]: 3.553 | [# Loss MAIA]: 3.023 | [# Loss Side Info]: 0.03 | [# Loss Value]: 0.501\n"
          ]
        },
        {
          "output_type": "stream",
          "name": "stderr",
          "text": [
            "\n",
            "  0%|          | 0/3 [00:00<?, ?it/s]"
          ]
        },
        {
          "output_type": "stream",
          "name": "stdout",
          "text": [
            "{(10, 10): 167}\n"
          ]
        },
        {
          "output_type": "stream",
          "name": "stderr",
          "text": [
            "100%|██████████| 3/3 [00:07<00:00,  2.57s/it]"
          ]
        },
        {
          "output_type": "stream",
          "name": "stdout",
          "text": [
            "[1008/1187]\n",
            "[# Positions]: 7.68M\n",
            "[# Games]: 76.34K\n",
            "[# Loss]: 3.463 | [# Loss MAIA]: 2.983 | [# Loss Side Info]: 0.029 | [# Loss Value]: 0.451\n"
          ]
        },
        {
          "output_type": "stream",
          "name": "stderr",
          "text": [
            "\n",
            "  0%|          | 0/3 [00:00<?, ?it/s]"
          ]
        },
        {
          "output_type": "stream",
          "name": "stdout",
          "text": [
            "{(10, 10): 321}\n"
          ]
        },
        {
          "output_type": "stream",
          "name": "stderr",
          "text": [
            "100%|██████████| 3/3 [00:07<00:00,  2.59s/it]"
          ]
        },
        {
          "output_type": "stream",
          "name": "stdout",
          "text": [
            "[1020/1187]\n",
            "[# Positions]: 7.70M\n",
            "[# Games]: 76.51K\n",
            "[# Loss]: 3.528 | [# Loss MAIA]: 2.994 | [# Loss Side Info]: 0.03 | [# Loss Value]: 0.504\n"
          ]
        },
        {
          "output_type": "stream",
          "name": "stderr",
          "text": [
            "\n",
            "  0%|          | 0/5 [00:00<?, ?it/s]"
          ]
        },
        {
          "output_type": "stream",
          "name": "stdout",
          "text": [
            "{(10, 10): 200}\n"
          ]
        },
        {
          "output_type": "stream",
          "name": "stderr",
          "text": [
            "100%|██████████| 5/5 [00:09<00:00,  1.92s/it]"
          ]
        },
        {
          "output_type": "stream",
          "name": "stdout",
          "text": [
            "[1032/1187]\n",
            "[# Positions]: 7.73M\n",
            "[# Games]: 76.83K\n",
            "[# Loss]: 3.521 | [# Loss MAIA]: 3.015 | [# Loss Side Info]: 0.029 | [# Loss Value]: 0.477\n"
          ]
        },
        {
          "output_type": "stream",
          "name": "stderr",
          "text": [
            "\n",
            "  0%|          | 0/3 [00:00<?, ?it/s]"
          ]
        },
        {
          "output_type": "stream",
          "name": "stdout",
          "text": [
            "{(10, 10): 202}\n"
          ]
        },
        {
          "output_type": "stream",
          "name": "stderr",
          "text": [
            "100%|██████████| 3/3 [00:07<00:00,  2.59s/it]"
          ]
        },
        {
          "output_type": "stream",
          "name": "stdout",
          "text": [
            "[1044/1187]\n",
            "[# Positions]: 7.76M\n",
            "[# Games]: 77.03K\n",
            "[# Loss]: 3.52 | [# Loss MAIA]: 3.022 | [# Loss Side Info]: 0.03 | [# Loss Value]: 0.469\n"
          ]
        },
        {
          "output_type": "stream",
          "name": "stderr",
          "text": [
            "\n",
            "  0%|          | 0/3 [00:00<?, ?it/s]"
          ]
        },
        {
          "output_type": "stream",
          "name": "stdout",
          "text": [
            "{(10, 10): 200}\n"
          ]
        },
        {
          "output_type": "stream",
          "name": "stderr",
          "text": [
            "100%|██████████| 3/3 [00:07<00:00,  2.60s/it]"
          ]
        },
        {
          "output_type": "stream",
          "name": "stdout",
          "text": [
            "[1056/1187]\n",
            "[# Positions]: 7.78M\n",
            "[# Games]: 77.23K\n",
            "[# Loss]: 3.594 | [# Loss MAIA]: 2.98 | [# Loss Side Info]: 0.029 | [# Loss Value]: 0.585\n"
          ]
        },
        {
          "output_type": "stream",
          "name": "stderr",
          "text": [
            "\n",
            "  0%|          | 0/3 [00:00<?, ?it/s]"
          ]
        },
        {
          "output_type": "stream",
          "name": "stdout",
          "text": [
            "{(10, 10): 218}\n"
          ]
        },
        {
          "output_type": "stream",
          "name": "stderr",
          "text": [
            "100%|██████████| 3/3 [00:07<00:00,  2.66s/it]"
          ]
        },
        {
          "output_type": "stream",
          "name": "stdout",
          "text": [
            "[1068/1187]\n",
            "[# Positions]: 7.80M\n",
            "[# Games]: 77.43K\n",
            "[# Loss]: 3.595 | [# Loss MAIA]: 3.006 | [# Loss Side Info]: 0.03 | [# Loss Value]: 0.56\n"
          ]
        },
        {
          "output_type": "stream",
          "name": "stderr",
          "text": [
            "\n",
            "  0%|          | 0/3 [00:00<?, ?it/s]"
          ]
        },
        {
          "output_type": "stream",
          "name": "stdout",
          "text": [
            "{(10, 10): 131}\n"
          ]
        },
        {
          "output_type": "stream",
          "name": "stderr",
          "text": [
            "100%|██████████| 3/3 [00:07<00:00,  2.58s/it]"
          ]
        },
        {
          "output_type": "stream",
          "name": "stdout",
          "text": [
            "[1080/1187]\n",
            "[# Positions]: 7.82M\n",
            "[# Games]: 77.65K\n",
            "[# Loss]: 3.603 | [# Loss MAIA]: 3.024 | [# Loss Side Info]: 0.029 | [# Loss Value]: 0.55\n"
          ]
        },
        {
          "output_type": "stream",
          "name": "stderr",
          "text": [
            "\n",
            "  0%|          | 0/2 [00:00<?, ?it/s]"
          ]
        },
        {
          "output_type": "stream",
          "name": "stdout",
          "text": [
            "{(10, 10): 117}\n"
          ]
        },
        {
          "output_type": "stream",
          "name": "stderr",
          "text": [
            "100%|██████████| 2/2 [00:06<00:00,  3.40s/it]"
          ]
        },
        {
          "output_type": "stream",
          "name": "stdout",
          "text": [
            "[1092/1187]\n",
            "[# Positions]: 7.83M\n",
            "[# Games]: 77.78K\n",
            "[# Loss]: 3.648 | [# Loss MAIA]: 2.995 | [# Loss Side Info]: 0.029 | [# Loss Value]: 0.623\n"
          ]
        },
        {
          "output_type": "stream",
          "name": "stderr",
          "text": [
            "\n",
            "  0%|          | 0/2 [00:00<?, ?it/s]"
          ]
        },
        {
          "output_type": "stream",
          "name": "stdout",
          "text": [
            "{(10, 10): 237}\n"
          ]
        },
        {
          "output_type": "stream",
          "name": "stderr",
          "text": [
            "100%|██████████| 2/2 [00:06<00:00,  3.50s/it]"
          ]
        },
        {
          "output_type": "stream",
          "name": "stdout",
          "text": [
            "[1104/1187]\n",
            "[# Positions]: 7.85M\n",
            "[# Games]: 77.90K\n",
            "[# Loss]: 3.536 | [# Loss MAIA]: 2.994 | [# Loss Side Info]: 0.029 | [# Loss Value]: 0.512\n"
          ]
        },
        {
          "output_type": "stream",
          "name": "stderr",
          "text": [
            "\n",
            "  0%|          | 0/4 [00:00<?, ?it/s]"
          ]
        },
        {
          "output_type": "stream",
          "name": "stdout",
          "text": [
            "{(10, 10): 204}\n"
          ]
        },
        {
          "output_type": "stream",
          "name": "stderr",
          "text": [
            "100%|██████████| 4/4 [00:08<00:00,  2.03s/it]"
          ]
        },
        {
          "output_type": "stream",
          "name": "stdout",
          "text": [
            "[1116/1187]\n",
            "[# Positions]: 7.87M\n",
            "[# Games]: 78.13K\n",
            "[# Loss]: 3.626 | [# Loss MAIA]: 3.051 | [# Loss Side Info]: 0.03 | [# Loss Value]: 0.545\n"
          ]
        },
        {
          "output_type": "stream",
          "name": "stderr",
          "text": [
            "\n",
            "  0%|          | 0/3 [00:00<?, ?it/s]"
          ]
        },
        {
          "output_type": "stream",
          "name": "stdout",
          "text": [
            "{(10, 10): 137}\n"
          ]
        },
        {
          "output_type": "stream",
          "name": "stderr",
          "text": [
            "100%|██████████| 3/3 [00:07<00:00,  2.43s/it]"
          ]
        },
        {
          "output_type": "stream",
          "name": "stdout",
          "text": [
            "[1128/1187]\n",
            "[# Positions]: 7.89M\n",
            "[# Games]: 78.34K\n",
            "[# Loss]: 3.57 | [# Loss MAIA]: 2.999 | [# Loss Side Info]: 0.03 | [# Loss Value]: 0.541\n"
          ]
        },
        {
          "output_type": "stream",
          "name": "stderr",
          "text": [
            "\n",
            "  0%|          | 0/2 [00:00<?, ?it/s]"
          ]
        },
        {
          "output_type": "stream",
          "name": "stdout",
          "text": [
            "{(10, 10): 212}\n"
          ]
        },
        {
          "output_type": "stream",
          "name": "stderr",
          "text": [
            "100%|██████████| 2/2 [00:06<00:00,  3.41s/it]"
          ]
        },
        {
          "output_type": "stream",
          "name": "stdout",
          "text": [
            "[1140/1187]\n",
            "[# Positions]: 7.91M\n",
            "[# Games]: 78.47K\n",
            "[# Loss]: 3.566 | [# Loss MAIA]: 3.006 | [# Loss Side Info]: 0.03 | [# Loss Value]: 0.529\n"
          ]
        },
        {
          "output_type": "stream",
          "name": "stderr",
          "text": [
            "\n",
            "  0%|          | 0/3 [00:00<?, ?it/s]"
          ]
        },
        {
          "output_type": "stream",
          "name": "stdout",
          "text": [
            "{(10, 10): 249}\n"
          ]
        },
        {
          "output_type": "stream",
          "name": "stderr",
          "text": [
            "100%|██████████| 3/3 [00:08<00:00,  2.69s/it]"
          ]
        },
        {
          "output_type": "stream",
          "name": "stdout",
          "text": [
            "[1152/1187]\n",
            "[# Positions]: 7.93M\n",
            "[# Games]: 78.69K\n",
            "[# Loss]: 3.602 | [# Loss MAIA]: 3.037 | [# Loss Side Info]: 0.03 | [# Loss Value]: 0.535\n"
          ]
        },
        {
          "output_type": "stream",
          "name": "stderr",
          "text": [
            "\n",
            "  0%|          | 0/4 [00:00<?, ?it/s]"
          ]
        },
        {
          "output_type": "stream",
          "name": "stdout",
          "text": [
            "{(10, 10): 202}\n"
          ]
        },
        {
          "output_type": "stream",
          "name": "stderr",
          "text": [
            "100%|██████████| 4/4 [00:08<00:00,  2.03s/it]"
          ]
        },
        {
          "output_type": "stream",
          "name": "stdout",
          "text": [
            "[1164/1187]\n",
            "[# Positions]: 7.95M\n",
            "[# Games]: 78.94K\n",
            "[# Loss]: 3.57 | [# Loss MAIA]: 3.019 | [# Loss Side Info]: 0.029 | [# Loss Value]: 0.522\n"
          ]
        },
        {
          "output_type": "stream",
          "name": "stderr",
          "text": [
            "\n",
            "  0%|          | 0/3 [00:00<?, ?it/s]"
          ]
        },
        {
          "output_type": "stream",
          "name": "stdout",
          "text": [
            "{(10, 10): 200}\n"
          ]
        },
        {
          "output_type": "stream",
          "name": "stderr",
          "text": [
            "100%|██████████| 3/3 [00:07<00:00,  2.44s/it]"
          ]
        },
        {
          "output_type": "stream",
          "name": "stdout",
          "text": [
            "[1176/1187]\n",
            "[# Positions]: 7.97M\n",
            "[# Games]: 79.14K\n",
            "[# Loss]: 3.533 | [# Loss MAIA]: 2.981 | [# Loss Side Info]: 0.029 | [# Loss Value]: 0.522\n"
          ]
        },
        {
          "output_type": "stream",
          "name": "stderr",
          "text": [
            "\n",
            "100%|██████████| 3/3 [00:06<00:00,  2.19s/it]"
          ]
        },
        {
          "output_type": "stream",
          "name": "stdout",
          "text": [
            "[1187/1187]\n",
            "[# Positions]: 7.99M\n",
            "[# Games]: 79.34K\n",
            "[# Loss]: 3.618 | [# Loss MAIA]: 2.986 | [# Loss Side Info]: 0.028 | [# Loss Value]: 0.604\n",
            "### (4 / 6) Took 13m 19.98s to train /content/drive/MyDrive/ChessEngine/lichess_db_standard_rated_2025-04.pgn with 1187 chunks.\n"
          ]
        },
        {
          "output_type": "stream",
          "name": "stderr",
          "text": [
            "\n"
          ]
        },
        {
          "output_type": "stream",
          "name": "stdout",
          "text": [
            "Decompressing /content/drive/MyDrive/ChessEngine/lichess_db_standard_rated_2025-05.pgn took 6.69s\n",
            "Cache not found. Creating chunks for /content/drive/MyDrive/ChessEngine/lichess_db_standard_rated_2025-05.pgn\n",
            "Chunking took 3.70s\n",
            "Training /content/drive/MyDrive/ChessEngine/lichess_db_standard_rated_2025-05.pgn with 1117 chunks.\n",
            "{(10, 10): 259}\n"
          ]
        },
        {
          "output_type": "stream",
          "name": "stderr",
          "text": [
            "\r  0%|          | 0/4 [00:00<?, ?it/s]"
          ]
        },
        {
          "output_type": "stream",
          "name": "stdout",
          "text": [
            "{(10, 10): 195}\n"
          ]
        },
        {
          "output_type": "stream",
          "name": "stderr",
          "text": [
            "100%|██████████| 4/4 [00:08<00:00,  2.07s/it]"
          ]
        },
        {
          "output_type": "stream",
          "name": "stdout",
          "text": [
            "[12/1117]\n",
            "[# Positions]: 8.02M\n",
            "[# Games]: 79.60K\n",
            "[# Loss]: 3.58 | [# Loss MAIA]: 3.021 | [# Loss Side Info]: 0.029 | [# Loss Value]: 0.531\n"
          ]
        },
        {
          "output_type": "stream",
          "name": "stderr",
          "text": [
            "\n",
            "  0%|          | 0/3 [00:00<?, ?it/s]"
          ]
        },
        {
          "output_type": "stream",
          "name": "stdout",
          "text": [
            "{(10, 10): 209}\n"
          ]
        },
        {
          "output_type": "stream",
          "name": "stderr",
          "text": [
            "100%|██████████| 3/3 [00:07<00:00,  2.61s/it]"
          ]
        },
        {
          "output_type": "stream",
          "name": "stdout",
          "text": [
            "[24/1117]\n",
            "[# Positions]: 8.04M\n",
            "[# Games]: 79.79K\n",
            "[# Loss]: 3.509 | [# Loss MAIA]: 2.942 | [# Loss Side Info]: 0.028 | [# Loss Value]: 0.539\n"
          ]
        },
        {
          "output_type": "stream",
          "name": "stderr",
          "text": [
            "\n",
            "  0%|          | 0/3 [00:00<?, ?it/s]"
          ]
        },
        {
          "output_type": "stream",
          "name": "stdout",
          "text": [
            "{(10, 10): 237}\n"
          ]
        },
        {
          "output_type": "stream",
          "name": "stderr",
          "text": [
            "100%|██████████| 3/3 [00:07<00:00,  2.59s/it]"
          ]
        },
        {
          "output_type": "stream",
          "name": "stdout",
          "text": [
            "[36/1117]\n",
            "[# Positions]: 8.06M\n",
            "[# Games]: 80.00K\n",
            "[# Loss]: 3.508 | [# Loss MAIA]: 2.972 | [# Loss Side Info]: 0.028 | [# Loss Value]: 0.508\n"
          ]
        },
        {
          "output_type": "stream",
          "name": "stderr",
          "text": [
            "\n",
            "  0%|          | 0/3 [00:00<?, ?it/s]"
          ]
        },
        {
          "output_type": "stream",
          "name": "stdout",
          "text": [
            "{(10, 10): 210}\n"
          ]
        },
        {
          "output_type": "stream",
          "name": "stderr",
          "text": [
            "100%|██████████| 3/3 [00:07<00:00,  2.59s/it]"
          ]
        },
        {
          "output_type": "stream",
          "name": "stdout",
          "text": [
            "[48/1117]\n",
            "[# Positions]: 8.09M\n",
            "[# Games]: 80.24K\n",
            "[# Loss]: 3.562 | [# Loss MAIA]: 3.029 | [# Loss Side Info]: 0.029 | [# Loss Value]: 0.504\n"
          ]
        },
        {
          "output_type": "stream",
          "name": "stderr",
          "text": [
            "\n",
            "  0%|          | 0/3 [00:00<?, ?it/s]"
          ]
        },
        {
          "output_type": "stream",
          "name": "stdout",
          "text": [
            "{(10, 10): 181}\n"
          ]
        },
        {
          "output_type": "stream",
          "name": "stderr",
          "text": [
            "100%|██████████| 3/3 [00:07<00:00,  2.57s/it]"
          ]
        },
        {
          "output_type": "stream",
          "name": "stdout",
          "text": [
            "[60/1117]\n",
            "[# Positions]: 8.11M\n",
            "[# Games]: 80.45K\n",
            "[# Loss]: 3.655 | [# Loss MAIA]: 2.995 | [# Loss Side Info]: 0.029 | [# Loss Value]: 0.631\n"
          ]
        },
        {
          "output_type": "stream",
          "name": "stderr",
          "text": [
            "\n",
            "  0%|          | 0/3 [00:00<?, ?it/s]"
          ]
        },
        {
          "output_type": "stream",
          "name": "stdout",
          "text": [
            "{(10, 10): 267}\n"
          ]
        },
        {
          "output_type": "stream",
          "name": "stderr",
          "text": [
            "100%|██████████| 3/3 [00:07<00:00,  2.52s/it]"
          ]
        },
        {
          "output_type": "stream",
          "name": "stdout",
          "text": [
            "[72/1117]\n",
            "[# Positions]: 8.12M\n",
            "[# Games]: 80.63K\n",
            "[# Loss]: 3.501 | [# Loss MAIA]: 2.915 | [# Loss Side Info]: 0.028 | [# Loss Value]: 0.558\n"
          ]
        },
        {
          "output_type": "stream",
          "name": "stderr",
          "text": [
            "\n",
            "  0%|          | 0/4 [00:00<?, ?it/s]"
          ]
        },
        {
          "output_type": "stream",
          "name": "stdout",
          "text": [
            "{(10, 10): 235}\n"
          ]
        },
        {
          "output_type": "stream",
          "name": "stderr",
          "text": [
            "100%|██████████| 4/4 [00:08<00:00,  2.13s/it]"
          ]
        },
        {
          "output_type": "stream",
          "name": "stdout",
          "text": [
            "[84/1117]\n",
            "[# Positions]: 8.15M\n",
            "[# Games]: 80.90K\n",
            "[# Loss]: 3.565 | [# Loss MAIA]: 2.993 | [# Loss Side Info]: 0.029 | [# Loss Value]: 0.544\n"
          ]
        },
        {
          "output_type": "stream",
          "name": "stderr",
          "text": [
            "\n",
            "  0%|          | 0/3 [00:00<?, ?it/s]"
          ]
        },
        {
          "output_type": "stream",
          "name": "stdout",
          "text": [
            "{(10, 10): 148}\n"
          ]
        },
        {
          "output_type": "stream",
          "name": "stderr",
          "text": [
            "100%|██████████| 3/3 [00:07<00:00,  2.65s/it]"
          ]
        },
        {
          "output_type": "stream",
          "name": "stdout",
          "text": [
            "[96/1117]\n",
            "[# Positions]: 8.18M\n",
            "[# Games]: 81.13K\n",
            "[# Loss]: 3.619 | [# Loss MAIA]: 3.002 | [# Loss Side Info]: 0.029 | [# Loss Value]: 0.588\n"
          ]
        },
        {
          "output_type": "stream",
          "name": "stderr",
          "text": [
            "\n",
            "  0%|          | 0/2 [00:00<?, ?it/s]"
          ]
        },
        {
          "output_type": "stream",
          "name": "stdout",
          "text": [
            "{(10, 10): 228}\n"
          ]
        },
        {
          "output_type": "stream",
          "name": "stderr",
          "text": [
            "100%|██████████| 2/2 [00:07<00:00,  3.69s/it]"
          ]
        },
        {
          "output_type": "stream",
          "name": "stdout",
          "text": [
            "[108/1117]\n",
            "[# Positions]: 8.19M\n",
            "[# Games]: 81.28K\n",
            "[# Loss]: 3.592 | [# Loss MAIA]: 3.02 | [# Loss Side Info]: 0.029 | [# Loss Value]: 0.544\n"
          ]
        },
        {
          "output_type": "stream",
          "name": "stderr",
          "text": [
            "\n",
            "  0%|          | 0/3 [00:00<?, ?it/s]"
          ]
        },
        {
          "output_type": "stream",
          "name": "stdout",
          "text": [
            "{(10, 10): 225}\n"
          ]
        },
        {
          "output_type": "stream",
          "name": "stderr",
          "text": [
            "100%|██████████| 3/3 [00:07<00:00,  2.64s/it]"
          ]
        },
        {
          "output_type": "stream",
          "name": "stdout",
          "text": [
            "[120/1117]\n",
            "[# Positions]: 8.22M\n",
            "[# Games]: 81.51K\n",
            "[# Loss]: 3.581 | [# Loss MAIA]: 3.012 | [# Loss Side Info]: 0.028 | [# Loss Value]: 0.54\n"
          ]
        },
        {
          "output_type": "stream",
          "name": "stderr",
          "text": [
            "\n",
            "  0%|          | 0/3 [00:00<?, ?it/s]"
          ]
        },
        {
          "output_type": "stream",
          "name": "stdout",
          "text": [
            "{(10, 10): 192}\n"
          ]
        },
        {
          "output_type": "stream",
          "name": "stderr",
          "text": [
            "100%|██████████| 3/3 [00:07<00:00,  2.64s/it]"
          ]
        },
        {
          "output_type": "stream",
          "name": "stdout",
          "text": [
            "[132/1117]\n",
            "[# Positions]: 8.24M\n",
            "[# Games]: 81.73K\n",
            "[# Loss]: 3.61 | [# Loss MAIA]: 3.008 | [# Loss Side Info]: 0.029 | [# Loss Value]: 0.573\n"
          ]
        },
        {
          "output_type": "stream",
          "name": "stderr",
          "text": [
            "\n",
            "  0%|          | 0/3 [00:00<?, ?it/s]"
          ]
        },
        {
          "output_type": "stream",
          "name": "stdout",
          "text": [
            "{(10, 10): 213}\n"
          ]
        },
        {
          "output_type": "stream",
          "name": "stderr",
          "text": [
            "100%|██████████| 3/3 [00:07<00:00,  2.61s/it]"
          ]
        },
        {
          "output_type": "stream",
          "name": "stdout",
          "text": [
            "[144/1117]\n",
            "[# Positions]: 8.26M\n",
            "[# Games]: 81.92K\n",
            "[# Loss]: 3.544 | [# Loss MAIA]: 2.927 | [# Loss Side Info]: 0.028 | [# Loss Value]: 0.589\n"
          ]
        },
        {
          "output_type": "stream",
          "name": "stderr",
          "text": [
            "\n",
            "  0%|          | 0/4 [00:00<?, ?it/s]"
          ]
        },
        {
          "output_type": "stream",
          "name": "stdout",
          "text": [
            "{(10, 10): 205}\n"
          ]
        },
        {
          "output_type": "stream",
          "name": "stderr",
          "text": [
            "100%|██████████| 4/4 [00:07<00:00,  1.98s/it]"
          ]
        },
        {
          "output_type": "stream",
          "name": "stdout",
          "text": [
            "[156/1117]\n",
            "[# Positions]: 8.28M\n",
            "[# Games]: 82.14K\n",
            "[# Loss]: 3.561 | [# Loss MAIA]: 3.017 | [# Loss Side Info]: 0.028 | [# Loss Value]: 0.515\n"
          ]
        },
        {
          "output_type": "stream",
          "name": "stderr",
          "text": [
            "\n",
            "  0%|          | 0/3 [00:00<?, ?it/s]"
          ]
        },
        {
          "output_type": "stream",
          "name": "stdout",
          "text": [
            "{(10, 10): 172}\n"
          ]
        },
        {
          "output_type": "stream",
          "name": "stderr",
          "text": [
            "100%|██████████| 3/3 [00:07<00:00,  2.56s/it]"
          ]
        },
        {
          "output_type": "stream",
          "name": "stdout",
          "text": [
            "[168/1117]\n",
            "[# Positions]: 8.30M\n",
            "[# Games]: 82.34K\n",
            "[# Loss]: 3.567 | [# Loss MAIA]: 3.009 | [# Loss Side Info]: 0.029 | [# Loss Value]: 0.529\n"
          ]
        },
        {
          "output_type": "stream",
          "name": "stderr",
          "text": [
            "\n",
            "  0%|          | 0/3 [00:00<?, ?it/s]"
          ]
        },
        {
          "output_type": "stream",
          "name": "stdout",
          "text": [
            "{(10, 10): 229}\n"
          ]
        },
        {
          "output_type": "stream",
          "name": "stderr",
          "text": [
            "100%|██████████| 3/3 [00:07<00:00,  2.58s/it]"
          ]
        },
        {
          "output_type": "stream",
          "name": "stdout",
          "text": [
            "[180/1117]\n",
            "[# Positions]: 8.32M\n",
            "[# Games]: 82.51K\n",
            "[# Loss]: 3.501 | [# Loss MAIA]: 2.95 | [# Loss Side Info]: 0.028 | [# Loss Value]: 0.523\n"
          ]
        },
        {
          "output_type": "stream",
          "name": "stderr",
          "text": [
            "\n",
            "  0%|          | 0/4 [00:00<?, ?it/s]"
          ]
        },
        {
          "output_type": "stream",
          "name": "stdout",
          "text": [
            "{(10, 10): 240}\n"
          ]
        },
        {
          "output_type": "stream",
          "name": "stderr",
          "text": [
            "100%|██████████| 4/4 [00:08<00:00,  2.06s/it]"
          ]
        },
        {
          "output_type": "stream",
          "name": "stdout",
          "text": [
            "[192/1117]\n",
            "[# Positions]: 8.35M\n",
            "[# Games]: 82.74K\n",
            "[# Loss]: 3.548 | [# Loss MAIA]: 2.991 | [# Loss Side Info]: 0.028 | [# Loss Value]: 0.529\n"
          ]
        },
        {
          "output_type": "stream",
          "name": "stderr",
          "text": [
            "\n",
            "  0%|          | 0/4 [00:00<?, ?it/s]"
          ]
        },
        {
          "output_type": "stream",
          "name": "stdout",
          "text": [
            "{(10, 10): 155}\n"
          ]
        },
        {
          "output_type": "stream",
          "name": "stderr",
          "text": [
            "100%|██████████| 4/4 [00:08<00:00,  2.07s/it]"
          ]
        },
        {
          "output_type": "stream",
          "name": "stdout",
          "text": [
            "[204/1117]\n",
            "[# Positions]: 8.37M\n",
            "[# Games]: 82.98K\n",
            "[# Loss]: 3.554 | [# Loss MAIA]: 2.987 | [# Loss Side Info]: 0.028 | [# Loss Value]: 0.538\n"
          ]
        },
        {
          "output_type": "stream",
          "name": "stderr",
          "text": [
            "\n",
            "  0%|          | 0/2 [00:00<?, ?it/s]"
          ]
        },
        {
          "output_type": "stream",
          "name": "stdout",
          "text": [
            "{(10, 10): 201}\n"
          ]
        },
        {
          "output_type": "stream",
          "name": "stderr",
          "text": [
            "100%|██████████| 2/2 [00:07<00:00,  3.62s/it]"
          ]
        },
        {
          "output_type": "stream",
          "name": "stdout",
          "text": [
            "[216/1117]\n",
            "[# Positions]: 8.39M\n",
            "[# Games]: 83.14K\n",
            "[# Loss]: 3.529 | [# Loss MAIA]: 2.993 | [# Loss Side Info]: 0.028 | [# Loss Value]: 0.508\n"
          ]
        },
        {
          "output_type": "stream",
          "name": "stderr",
          "text": [
            "\n",
            "  0%|          | 0/3 [00:00<?, ?it/s]"
          ]
        },
        {
          "output_type": "stream",
          "name": "stdout",
          "text": [
            "{(10, 10): 251}\n"
          ]
        },
        {
          "output_type": "stream",
          "name": "stderr",
          "text": [
            "100%|██████████| 3/3 [00:08<00:00,  2.71s/it]"
          ]
        },
        {
          "output_type": "stream",
          "name": "stdout",
          "text": [
            "[228/1117]\n",
            "[# Positions]: 8.41M\n",
            "[# Games]: 83.34K\n",
            "[# Loss]: 3.542 | [# Loss MAIA]: 2.988 | [# Loss Side Info]: 0.028 | [# Loss Value]: 0.526\n"
          ]
        },
        {
          "output_type": "stream",
          "name": "stderr",
          "text": [
            "\n",
            "  0%|          | 0/4 [00:00<?, ?it/s]"
          ]
        },
        {
          "output_type": "stream",
          "name": "stdout",
          "text": [
            "{(10, 10): 188}\n"
          ]
        },
        {
          "output_type": "stream",
          "name": "stderr",
          "text": [
            "100%|██████████| 4/4 [00:08<00:00,  2.19s/it]"
          ]
        },
        {
          "output_type": "stream",
          "name": "stdout",
          "text": [
            "[240/1117]\n",
            "[# Positions]: 8.44M\n",
            "[# Games]: 83.59K\n",
            "[# Loss]: 3.55 | [# Loss MAIA]: 3.016 | [# Loss Side Info]: 0.029 | [# Loss Value]: 0.506\n"
          ]
        },
        {
          "output_type": "stream",
          "name": "stderr",
          "text": [
            "\n",
            "  0%|          | 0/3 [00:00<?, ?it/s]"
          ]
        },
        {
          "output_type": "stream",
          "name": "stdout",
          "text": [
            "{(10, 10): 235}\n"
          ]
        },
        {
          "output_type": "stream",
          "name": "stderr",
          "text": [
            "100%|██████████| 3/3 [00:07<00:00,  2.62s/it]"
          ]
        },
        {
          "output_type": "stream",
          "name": "stdout",
          "text": [
            "[252/1117]\n",
            "[# Positions]: 8.46M\n",
            "[# Games]: 83.78K\n",
            "[# Loss]: 3.541 | [# Loss MAIA]: 2.944 | [# Loss Side Info]: 0.028 | [# Loss Value]: 0.568\n"
          ]
        },
        {
          "output_type": "stream",
          "name": "stderr",
          "text": [
            "\n",
            "  0%|          | 0/4 [00:00<?, ?it/s]"
          ]
        },
        {
          "output_type": "stream",
          "name": "stdout",
          "text": [
            "{(10, 10): 269}\n"
          ]
        },
        {
          "output_type": "stream",
          "name": "stderr",
          "text": [
            "100%|██████████| 4/4 [00:08<00:00,  2.08s/it]"
          ]
        },
        {
          "output_type": "stream",
          "name": "stdout",
          "text": [
            "[264/1117]\n",
            "[# Positions]: 8.48M\n",
            "[# Games]: 84.01K\n",
            "[# Loss]: 3.534 | [# Loss MAIA]: 2.975 | [# Loss Side Info]: 0.028 | [# Loss Value]: 0.532\n"
          ]
        },
        {
          "output_type": "stream",
          "name": "stderr",
          "text": [
            "\n",
            "  0%|          | 0/4 [00:00<?, ?it/s]"
          ]
        },
        {
          "output_type": "stream",
          "name": "stdout",
          "text": [
            "{(10, 10): 190}\n"
          ]
        },
        {
          "output_type": "stream",
          "name": "stderr",
          "text": [
            "100%|██████████| 4/4 [00:08<00:00,  2.16s/it]"
          ]
        },
        {
          "output_type": "stream",
          "name": "stdout",
          "text": [
            "[276/1117]\n",
            "[# Positions]: 8.51M\n",
            "[# Games]: 84.28K\n",
            "[# Loss]: 3.566 | [# Loss MAIA]: 3.001 | [# Loss Side Info]: 0.028 | [# Loss Value]: 0.538\n"
          ]
        },
        {
          "output_type": "stream",
          "name": "stderr",
          "text": [
            "\n",
            "  0%|          | 0/3 [00:00<?, ?it/s]"
          ]
        },
        {
          "output_type": "stream",
          "name": "stdout",
          "text": [
            "{(10, 10): 214}\n"
          ]
        },
        {
          "output_type": "stream",
          "name": "stderr",
          "text": [
            "100%|██████████| 3/3 [00:07<00:00,  2.61s/it]"
          ]
        },
        {
          "output_type": "stream",
          "name": "stdout",
          "text": [
            "[288/1117]\n",
            "[# Positions]: 8.53M\n",
            "[# Games]: 84.47K\n",
            "[# Loss]: 3.593 | [# Loss MAIA]: 2.988 | [# Loss Side Info]: 0.028 | [# Loss Value]: 0.577\n"
          ]
        },
        {
          "output_type": "stream",
          "name": "stderr",
          "text": [
            "\n",
            "  0%|          | 0/3 [00:00<?, ?it/s]"
          ]
        },
        {
          "output_type": "stream",
          "name": "stdout",
          "text": [
            "{(10, 10): 306}\n"
          ]
        },
        {
          "output_type": "stream",
          "name": "stderr",
          "text": [
            "100%|██████████| 3/3 [00:08<00:00,  2.71s/it]"
          ]
        },
        {
          "output_type": "stream",
          "name": "stdout",
          "text": [
            "[300/1117]\n",
            "[# Positions]: 8.55M\n",
            "[# Games]: 84.69K\n",
            "[# Loss]: 3.53 | [# Loss MAIA]: 2.947 | [# Loss Side Info]: 0.028 | [# Loss Value]: 0.555\n"
          ]
        },
        {
          "output_type": "stream",
          "name": "stderr",
          "text": [
            "\n",
            "  0%|          | 0/5 [00:00<?, ?it/s]"
          ]
        },
        {
          "output_type": "stream",
          "name": "stdout",
          "text": [
            "{(10, 10): 226}\n"
          ]
        },
        {
          "output_type": "stream",
          "name": "stderr",
          "text": [
            "100%|██████████| 5/5 [00:09<00:00,  1.83s/it]"
          ]
        },
        {
          "output_type": "stream",
          "name": "stdout",
          "text": [
            "[312/1117]\n",
            "[# Positions]: 8.59M\n",
            "[# Games]: 84.99K\n",
            "[# Loss]: 3.54 | [# Loss MAIA]: 2.981 | [# Loss Side Info]: 0.028 | [# Loss Value]: 0.531\n"
          ]
        },
        {
          "output_type": "stream",
          "name": "stderr",
          "text": [
            "\n",
            "  0%|          | 0/3 [00:00<?, ?it/s]"
          ]
        },
        {
          "output_type": "stream",
          "name": "stdout",
          "text": [
            "{(10, 10): 195}\n"
          ]
        },
        {
          "output_type": "stream",
          "name": "stderr",
          "text": [
            "100%|██████████| 3/3 [00:07<00:00,  2.66s/it]"
          ]
        },
        {
          "output_type": "stream",
          "name": "stdout",
          "text": [
            "[324/1117]\n",
            "[# Positions]: 8.61M\n",
            "[# Games]: 85.22K\n",
            "[# Loss]: 3.495 | [# Loss MAIA]: 2.95 | [# Loss Side Info]: 0.027 | [# Loss Value]: 0.518\n"
          ]
        },
        {
          "output_type": "stream",
          "name": "stderr",
          "text": [
            "\n",
            "  0%|          | 0/3 [00:00<?, ?it/s]"
          ]
        },
        {
          "output_type": "stream",
          "name": "stdout",
          "text": [
            "{(10, 10): 293}\n"
          ]
        },
        {
          "output_type": "stream",
          "name": "stderr",
          "text": [
            "100%|██████████| 3/3 [00:08<00:00,  2.70s/it]"
          ]
        },
        {
          "output_type": "stream",
          "name": "stdout",
          "text": [
            "[336/1117]\n",
            "[# Positions]: 8.63M\n",
            "[# Games]: 85.41K\n",
            "[# Loss]: 3.465 | [# Loss MAIA]: 2.936 | [# Loss Side Info]: 0.027 | [# Loss Value]: 0.503\n"
          ]
        },
        {
          "output_type": "stream",
          "name": "stderr",
          "text": [
            "\n",
            "  0%|          | 0/4 [00:00<?, ?it/s]"
          ]
        },
        {
          "output_type": "stream",
          "name": "stdout",
          "text": [
            "{(10, 10): 240}\n"
          ]
        },
        {
          "output_type": "stream",
          "name": "stderr",
          "text": [
            "100%|██████████| 4/4 [00:08<00:00,  2.18s/it]"
          ]
        },
        {
          "output_type": "stream",
          "name": "stdout",
          "text": [
            "[348/1117]\n",
            "[# Positions]: 8.66M\n",
            "[# Games]: 85.71K\n",
            "[# Loss]: 3.461 | [# Loss MAIA]: 2.927 | [# Loss Side Info]: 0.027 | [# Loss Value]: 0.507\n"
          ]
        },
        {
          "output_type": "stream",
          "name": "stderr",
          "text": [
            "\n",
            "  0%|          | 0/3 [00:00<?, ?it/s]"
          ]
        },
        {
          "output_type": "stream",
          "name": "stdout",
          "text": [
            "{(10, 10): 215}\n"
          ]
        },
        {
          "output_type": "stream",
          "name": "stderr",
          "text": [
            "100%|██████████| 3/3 [00:08<00:00,  2.73s/it]"
          ]
        },
        {
          "output_type": "stream",
          "name": "stdout",
          "text": [
            "[360/1117]\n",
            "[# Positions]: 8.68M\n",
            "[# Games]: 85.95K\n",
            "[# Loss]: 3.519 | [# Loss MAIA]: 2.931 | [# Loss Side Info]: 0.027 | [# Loss Value]: 0.561\n"
          ]
        },
        {
          "output_type": "stream",
          "name": "stderr",
          "text": [
            "\n",
            "  0%|          | 0/3 [00:00<?, ?it/s]"
          ]
        },
        {
          "output_type": "stream",
          "name": "stdout",
          "text": [
            "{(10, 10): 287}\n"
          ]
        },
        {
          "output_type": "stream",
          "name": "stderr",
          "text": [
            "100%|██████████| 3/3 [00:08<00:00,  2.69s/it]"
          ]
        },
        {
          "output_type": "stream",
          "name": "stdout",
          "text": [
            "[372/1117]\n",
            "[# Positions]: 8.70M\n",
            "[# Games]: 86.16K\n",
            "[# Loss]: 3.543 | [# Loss MAIA]: 2.938 | [# Loss Side Info]: 0.027 | [# Loss Value]: 0.577\n"
          ]
        },
        {
          "output_type": "stream",
          "name": "stderr",
          "text": [
            "\n",
            "  0%|          | 0/4 [00:00<?, ?it/s]"
          ]
        },
        {
          "output_type": "stream",
          "name": "stdout",
          "text": [
            "{(10, 10): 219}\n"
          ]
        },
        {
          "output_type": "stream",
          "name": "stderr",
          "text": [
            "100%|██████████| 4/4 [00:08<00:00,  2.17s/it]"
          ]
        },
        {
          "output_type": "stream",
          "name": "stdout",
          "text": [
            "[384/1117]\n",
            "[# Positions]: 8.73M\n",
            "[# Games]: 86.45K\n",
            "[# Loss]: 3.581 | [# Loss MAIA]: 2.983 | [# Loss Side Info]: 0.028 | [# Loss Value]: 0.57\n"
          ]
        },
        {
          "output_type": "stream",
          "name": "stderr",
          "text": [
            "\n",
            "  0%|          | 0/3 [00:00<?, ?it/s]"
          ]
        },
        {
          "output_type": "stream",
          "name": "stdout",
          "text": [
            "{(10, 10): 211}\n"
          ]
        },
        {
          "output_type": "stream",
          "name": "stderr",
          "text": [
            "100%|██████████| 3/3 [00:07<00:00,  2.63s/it]"
          ]
        },
        {
          "output_type": "stream",
          "name": "stdout",
          "text": [
            "[396/1117]\n",
            "[# Positions]: 8.75M\n",
            "[# Games]: 86.67K\n",
            "[# Loss]: 3.569 | [# Loss MAIA]: 2.927 | [# Loss Side Info]: 0.027 | [# Loss Value]: 0.614\n"
          ]
        },
        {
          "output_type": "stream",
          "name": "stderr",
          "text": [
            "\n",
            "  0%|          | 0/3 [00:00<?, ?it/s]"
          ]
        },
        {
          "output_type": "stream",
          "name": "stdout",
          "text": [
            "{(10, 10): 270}\n"
          ]
        },
        {
          "output_type": "stream",
          "name": "stderr",
          "text": [
            "100%|██████████| 3/3 [00:08<00:00,  2.75s/it]"
          ]
        },
        {
          "output_type": "stream",
          "name": "stdout",
          "text": [
            "[408/1117]\n",
            "[# Positions]: 8.77M\n",
            "[# Games]: 86.88K\n",
            "[# Loss]: 3.562 | [# Loss MAIA]: 2.963 | [# Loss Side Info]: 0.027 | [# Loss Value]: 0.572\n"
          ]
        },
        {
          "output_type": "stream",
          "name": "stderr",
          "text": [
            "\n",
            "  0%|          | 0/4 [00:00<?, ?it/s]"
          ]
        },
        {
          "output_type": "stream",
          "name": "stdout",
          "text": [
            "{(10, 10): 165}\n"
          ]
        },
        {
          "output_type": "stream",
          "name": "stderr",
          "text": [
            "100%|██████████| 4/4 [00:08<00:00,  2.14s/it]"
          ]
        },
        {
          "output_type": "stream",
          "name": "stdout",
          "text": [
            "[420/1117]\n",
            "[# Positions]: 8.80M\n",
            "[# Games]: 87.15K\n",
            "[# Loss]: 3.465 | [# Loss MAIA]: 2.956 | [# Loss Side Info]: 0.028 | [# Loss Value]: 0.481\n"
          ]
        },
        {
          "output_type": "stream",
          "name": "stderr",
          "text": [
            "\n",
            "  0%|          | 0/2 [00:00<?, ?it/s]"
          ]
        },
        {
          "output_type": "stream",
          "name": "stdout",
          "text": [
            "{(10, 10): 191}\n"
          ]
        },
        {
          "output_type": "stream",
          "name": "stderr",
          "text": [
            "100%|██████████| 2/2 [00:07<00:00,  3.66s/it]"
          ]
        },
        {
          "output_type": "stream",
          "name": "stdout",
          "text": [
            "[432/1117]\n",
            "[# Positions]: 8.82M\n",
            "[# Games]: 87.31K\n",
            "[# Loss]: 3.469 | [# Loss MAIA]: 2.899 | [# Loss Side Info]: 0.027 | [# Loss Value]: 0.542\n"
          ]
        },
        {
          "output_type": "stream",
          "name": "stderr",
          "text": [
            "\n",
            "  0%|          | 0/3 [00:00<?, ?it/s]"
          ]
        },
        {
          "output_type": "stream",
          "name": "stdout",
          "text": [
            "{(10, 10): 229}\n"
          ]
        },
        {
          "output_type": "stream",
          "name": "stderr",
          "text": [
            "100%|██████████| 3/3 [00:08<00:00,  2.68s/it]"
          ]
        },
        {
          "output_type": "stream",
          "name": "stdout",
          "text": [
            "[444/1117]\n",
            "[# Positions]: 8.84M\n",
            "[# Games]: 87.50K\n",
            "[# Loss]: 3.499 | [# Loss MAIA]: 2.925 | [# Loss Side Info]: 0.027 | [# Loss Value]: 0.547\n"
          ]
        },
        {
          "output_type": "stream",
          "name": "stderr",
          "text": [
            "\n",
            "  0%|          | 0/3 [00:00<?, ?it/s]"
          ]
        },
        {
          "output_type": "stream",
          "name": "stdout",
          "text": [
            "{(10, 10): 209}\n"
          ]
        },
        {
          "output_type": "stream",
          "name": "stderr",
          "text": [
            "100%|██████████| 3/3 [00:08<00:00,  2.75s/it]"
          ]
        },
        {
          "output_type": "stream",
          "name": "stdout",
          "text": [
            "[456/1117]\n",
            "[# Positions]: 8.86M\n",
            "[# Games]: 87.73K\n",
            "[# Loss]: 3.516 | [# Loss MAIA]: 2.964 | [# Loss Side Info]: 0.028 | [# Loss Value]: 0.525\n"
          ]
        },
        {
          "output_type": "stream",
          "name": "stderr",
          "text": [
            "\n",
            "  0%|          | 0/3 [00:00<?, ?it/s]"
          ]
        },
        {
          "output_type": "stream",
          "name": "stdout",
          "text": [
            "{(10, 10): 175}\n"
          ]
        },
        {
          "output_type": "stream",
          "name": "stderr",
          "text": [
            "100%|██████████| 3/3 [00:07<00:00,  2.58s/it]"
          ]
        },
        {
          "output_type": "stream",
          "name": "stdout",
          "text": [
            "[468/1117]\n",
            "[# Positions]: 8.88M\n",
            "[# Games]: 87.94K\n",
            "[# Loss]: 3.5 | [# Loss MAIA]: 2.941 | [# Loss Side Info]: 0.027 | [# Loss Value]: 0.531\n"
          ]
        },
        {
          "output_type": "stream",
          "name": "stderr",
          "text": [
            "\n",
            "  0%|          | 0/3 [00:00<?, ?it/s]"
          ]
        },
        {
          "output_type": "stream",
          "name": "stdout",
          "text": [
            "{(10, 10): 247}\n"
          ]
        },
        {
          "output_type": "stream",
          "name": "stderr",
          "text": [
            "100%|██████████| 3/3 [00:07<00:00,  2.54s/it]"
          ]
        },
        {
          "output_type": "stream",
          "name": "stdout",
          "text": [
            "[480/1117]\n",
            "[# Positions]: 8.90M\n",
            "[# Games]: 88.12K\n",
            "[# Loss]: 3.622 | [# Loss MAIA]: 2.931 | [# Loss Side Info]: 0.027 | [# Loss Value]: 0.664\n"
          ]
        },
        {
          "output_type": "stream",
          "name": "stderr",
          "text": [
            "\n",
            "  0%|          | 0/4 [00:00<?, ?it/s]"
          ]
        },
        {
          "output_type": "stream",
          "name": "stdout",
          "text": [
            "{(10, 10): 198}\n"
          ]
        },
        {
          "output_type": "stream",
          "name": "stderr",
          "text": [
            "100%|██████████| 4/4 [00:08<00:00,  2.07s/it]"
          ]
        },
        {
          "output_type": "stream",
          "name": "stdout",
          "text": [
            "[492/1117]\n",
            "[# Positions]: 8.93M\n",
            "[# Games]: 88.36K\n",
            "[# Loss]: 3.479 | [# Loss MAIA]: 2.962 | [# Loss Side Info]: 0.027 | [# Loss Value]: 0.49\n"
          ]
        },
        {
          "output_type": "stream",
          "name": "stderr",
          "text": [
            "\n",
            "  0%|          | 0/3 [00:00<?, ?it/s]"
          ]
        },
        {
          "output_type": "stream",
          "name": "stdout",
          "text": [
            "{(10, 10): 227}\n"
          ]
        },
        {
          "output_type": "stream",
          "name": "stderr",
          "text": [
            "100%|██████████| 3/3 [00:07<00:00,  2.60s/it]"
          ]
        },
        {
          "output_type": "stream",
          "name": "stdout",
          "text": [
            "[504/1117]\n",
            "[# Positions]: 8.94M\n",
            "[# Games]: 88.56K\n",
            "[# Loss]: 3.471 | [# Loss MAIA]: 2.897 | [# Loss Side Info]: 0.026 | [# Loss Value]: 0.548\n"
          ]
        },
        {
          "output_type": "stream",
          "name": "stderr",
          "text": [
            "\n",
            "  0%|          | 0/3 [00:00<?, ?it/s]"
          ]
        },
        {
          "output_type": "stream",
          "name": "stdout",
          "text": [
            "{(10, 10): 244}\n"
          ]
        },
        {
          "output_type": "stream",
          "name": "stderr",
          "text": [
            "100%|██████████| 3/3 [00:08<00:00,  2.70s/it]"
          ]
        },
        {
          "output_type": "stream",
          "name": "stdout",
          "text": [
            "[516/1117]\n",
            "[# Positions]: 8.97M\n",
            "[# Games]: 88.79K\n",
            "[# Loss]: 3.572 | [# Loss MAIA]: 2.906 | [# Loss Side Info]: 0.027 | [# Loss Value]: 0.639\n"
          ]
        },
        {
          "output_type": "stream",
          "name": "stderr",
          "text": [
            "\n",
            "  0%|          | 0/4 [00:00<?, ?it/s]"
          ]
        },
        {
          "output_type": "stream",
          "name": "stdout",
          "text": [
            "{(10, 10): 191}\n"
          ]
        },
        {
          "output_type": "stream",
          "name": "stderr",
          "text": [
            "100%|██████████| 4/4 [00:08<00:00,  2.11s/it]"
          ]
        },
        {
          "output_type": "stream",
          "name": "stdout",
          "text": [
            "[528/1117]\n",
            "[# Positions]: 8.99M\n",
            "[# Games]: 89.03K\n",
            "[# Loss]: 3.436 | [# Loss MAIA]: 2.916 | [# Loss Side Info]: 0.027 | [# Loss Value]: 0.493\n"
          ]
        },
        {
          "output_type": "stream",
          "name": "stderr",
          "text": [
            "\n",
            "  0%|          | 0/3 [00:00<?, ?it/s]"
          ]
        },
        {
          "output_type": "stream",
          "name": "stdout",
          "text": [
            "{(10, 10): 186}\n"
          ]
        },
        {
          "output_type": "stream",
          "name": "stderr",
          "text": [
            "100%|██████████| 3/3 [00:07<00:00,  2.66s/it]"
          ]
        },
        {
          "output_type": "stream",
          "name": "stdout",
          "text": [
            "[540/1117]\n",
            "[# Positions]: 9.01M\n",
            "[# Games]: 89.22K\n",
            "[# Loss]: 3.45 | [# Loss MAIA]: 2.9 | [# Loss Side Info]: 0.026 | [# Loss Value]: 0.524\n"
          ]
        },
        {
          "output_type": "stream",
          "name": "stderr",
          "text": [
            "\n",
            "  0%|          | 0/3 [00:00<?, ?it/s]"
          ]
        },
        {
          "output_type": "stream",
          "name": "stdout",
          "text": [
            "{(10, 10): 232}\n"
          ]
        },
        {
          "output_type": "stream",
          "name": "stderr",
          "text": [
            "100%|██████████| 3/3 [00:07<00:00,  2.59s/it]"
          ]
        },
        {
          "output_type": "stream",
          "name": "stdout",
          "text": [
            "[552/1117]\n",
            "[# Positions]: 9.03M\n",
            "[# Games]: 89.41K\n",
            "[# Loss]: 3.437 | [# Loss MAIA]: 2.924 | [# Loss Side Info]: 0.027 | [# Loss Value]: 0.487\n"
          ]
        },
        {
          "output_type": "stream",
          "name": "stderr",
          "text": [
            "\n",
            "  0%|          | 0/4 [00:00<?, ?it/s]"
          ]
        },
        {
          "output_type": "stream",
          "name": "stdout",
          "text": [
            "{(10, 10): 202}\n"
          ]
        },
        {
          "output_type": "stream",
          "name": "stderr",
          "text": [
            "100%|██████████| 4/4 [00:07<00:00,  2.00s/it]"
          ]
        },
        {
          "output_type": "stream",
          "name": "stdout",
          "text": [
            "[564/1117]\n",
            "[# Positions]: 9.06M\n",
            "[# Games]: 89.64K\n",
            "[# Loss]: 3.456 | [# Loss MAIA]: 2.953 | [# Loss Side Info]: 0.027 | [# Loss Value]: 0.476\n"
          ]
        },
        {
          "output_type": "stream",
          "name": "stderr",
          "text": [
            "\n",
            "  0%|          | 0/3 [00:00<?, ?it/s]"
          ]
        },
        {
          "output_type": "stream",
          "name": "stdout",
          "text": [
            "{(10, 10): 171}\n"
          ]
        },
        {
          "output_type": "stream",
          "name": "stderr",
          "text": [
            "100%|██████████| 3/3 [00:07<00:00,  2.65s/it]"
          ]
        },
        {
          "output_type": "stream",
          "name": "stdout",
          "text": [
            "[576/1117]\n",
            "[# Positions]: 9.08M\n",
            "[# Games]: 89.84K\n",
            "[# Loss]: 3.447 | [# Loss MAIA]: 2.914 | [# Loss Side Info]: 0.027 | [# Loss Value]: 0.507\n"
          ]
        },
        {
          "output_type": "stream",
          "name": "stderr",
          "text": [
            "\n",
            "  0%|          | 0/3 [00:00<?, ?it/s]"
          ]
        },
        {
          "output_type": "stream",
          "name": "stdout",
          "text": [
            "{(10, 10): 237}\n"
          ]
        },
        {
          "output_type": "stream",
          "name": "stderr",
          "text": [
            "100%|██████████| 3/3 [00:07<00:00,  2.58s/it]"
          ]
        },
        {
          "output_type": "stream",
          "name": "stdout",
          "text": [
            "[588/1117]\n",
            "[# Positions]: 9.10M\n",
            "[# Games]: 90.02K\n",
            "[# Loss]: 3.53 | [# Loss MAIA]: 2.963 | [# Loss Side Info]: 0.027 | [# Loss Value]: 0.54\n"
          ]
        },
        {
          "output_type": "stream",
          "name": "stderr",
          "text": [
            "\n",
            "  0%|          | 0/3 [00:00<?, ?it/s]"
          ]
        },
        {
          "output_type": "stream",
          "name": "stdout",
          "text": [
            "{(10, 10): 206}\n"
          ]
        },
        {
          "output_type": "stream",
          "name": "stderr",
          "text": [
            "100%|██████████| 3/3 [00:08<00:00,  2.81s/it]"
          ]
        },
        {
          "output_type": "stream",
          "name": "stdout",
          "text": [
            "[600/1117]\n",
            "[# Positions]: 9.12M\n",
            "[# Games]: 90.25K\n",
            "[# Loss]: 3.483 | [# Loss MAIA]: 2.914 | [# Loss Side Info]: 0.026 | [# Loss Value]: 0.542\n"
          ]
        },
        {
          "output_type": "stream",
          "name": "stderr",
          "text": [
            "\n",
            "  0%|          | 0/3 [00:00<?, ?it/s]"
          ]
        },
        {
          "output_type": "stream",
          "name": "stdout",
          "text": [
            "{(10, 10): 203}\n"
          ]
        },
        {
          "output_type": "stream",
          "name": "stderr",
          "text": [
            "100%|██████████| 3/3 [00:07<00:00,  2.62s/it]"
          ]
        },
        {
          "output_type": "stream",
          "name": "stdout",
          "text": [
            "[612/1117]\n",
            "[# Positions]: 9.14M\n",
            "[# Games]: 90.46K\n",
            "[# Loss]: 3.491 | [# Loss MAIA]: 2.906 | [# Loss Side Info]: 0.026 | [# Loss Value]: 0.558\n"
          ]
        },
        {
          "output_type": "stream",
          "name": "stderr",
          "text": [
            "\n",
            "  0%|          | 0/3 [00:00<?, ?it/s]"
          ]
        },
        {
          "output_type": "stream",
          "name": "stdout",
          "text": [
            "{(10, 10): 240}\n"
          ]
        },
        {
          "output_type": "stream",
          "name": "stderr",
          "text": [
            "100%|██████████| 3/3 [00:07<00:00,  2.66s/it]"
          ]
        },
        {
          "output_type": "stream",
          "name": "stdout",
          "text": [
            "[624/1117]\n",
            "[# Positions]: 9.16M\n",
            "[# Games]: 90.66K\n",
            "[# Loss]: 3.417 | [# Loss MAIA]: 2.891 | [# Loss Side Info]: 0.027 | [# Loss Value]: 0.499\n"
          ]
        },
        {
          "output_type": "stream",
          "name": "stderr",
          "text": [
            "\n",
            "  0%|          | 0/4 [00:00<?, ?it/s]"
          ]
        },
        {
          "output_type": "stream",
          "name": "stdout",
          "text": [
            "{(10, 10): 180}\n"
          ]
        },
        {
          "output_type": "stream",
          "name": "stderr",
          "text": [
            "100%|██████████| 4/4 [00:08<00:00,  2.12s/it]"
          ]
        },
        {
          "output_type": "stream",
          "name": "stdout",
          "text": [
            "[636/1117]\n",
            "[# Positions]: 9.19M\n",
            "[# Games]: 90.90K\n",
            "[# Loss]: 3.332 | [# Loss MAIA]: 2.845 | [# Loss Side Info]: 0.026 | [# Loss Value]: 0.462\n"
          ]
        },
        {
          "output_type": "stream",
          "name": "stderr",
          "text": [
            "\n",
            "  0%|          | 0/3 [00:00<?, ?it/s]"
          ]
        },
        {
          "output_type": "stream",
          "name": "stdout",
          "text": [
            "{(10, 10): 175}\n"
          ]
        },
        {
          "output_type": "stream",
          "name": "stderr",
          "text": [
            "100%|██████████| 3/3 [00:07<00:00,  2.56s/it]"
          ]
        },
        {
          "output_type": "stream",
          "name": "stdout",
          "text": [
            "[648/1117]\n",
            "[# Positions]: 9.21M\n",
            "[# Games]: 91.08K\n",
            "[# Loss]: 3.453 | [# Loss MAIA]: 2.892 | [# Loss Side Info]: 0.026 | [# Loss Value]: 0.535\n"
          ]
        },
        {
          "output_type": "stream",
          "name": "stderr",
          "text": [
            "\n",
            "  0%|          | 0/3 [00:00<?, ?it/s]"
          ]
        },
        {
          "output_type": "stream",
          "name": "stdout",
          "text": [
            "{(10, 10): 276}\n"
          ]
        },
        {
          "output_type": "stream",
          "name": "stderr",
          "text": [
            "100%|██████████| 3/3 [00:08<00:00,  2.68s/it]"
          ]
        },
        {
          "output_type": "stream",
          "name": "stdout",
          "text": [
            "[660/1117]\n",
            "[# Positions]: 9.23M\n",
            "[# Games]: 91.26K\n",
            "[# Loss]: 3.488 | [# Loss MAIA]: 2.927 | [# Loss Side Info]: 0.026 | [# Loss Value]: 0.534\n"
          ]
        },
        {
          "output_type": "stream",
          "name": "stderr",
          "text": [
            "\n",
            "  0%|          | 0/4 [00:00<?, ?it/s]"
          ]
        },
        {
          "output_type": "stream",
          "name": "stdout",
          "text": [
            "{(10, 10): 190}\n"
          ]
        },
        {
          "output_type": "stream",
          "name": "stderr",
          "text": [
            "100%|██████████| 4/4 [00:08<00:00,  2.21s/it]"
          ]
        },
        {
          "output_type": "stream",
          "name": "stdout",
          "text": [
            "[672/1117]\n",
            "[# Positions]: 9.26M\n",
            "[# Games]: 91.53K\n",
            "[# Loss]: 3.491 | [# Loss MAIA]: 2.948 | [# Loss Side Info]: 0.027 | [# Loss Value]: 0.516\n"
          ]
        },
        {
          "output_type": "stream",
          "name": "stderr",
          "text": [
            "\n",
            "  0%|          | 0/3 [00:00<?, ?it/s]"
          ]
        },
        {
          "output_type": "stream",
          "name": "stdout",
          "text": [
            "{(10, 10): 232}\n"
          ]
        },
        {
          "output_type": "stream",
          "name": "stderr",
          "text": [
            "100%|██████████| 3/3 [00:07<00:00,  2.59s/it]"
          ]
        },
        {
          "output_type": "stream",
          "name": "stdout",
          "text": [
            "[684/1117]\n",
            "[# Positions]: 9.27M\n",
            "[# Games]: 91.72K\n",
            "[# Loss]: 3.373 | [# Loss MAIA]: 2.864 | [# Loss Side Info]: 0.026 | [# Loss Value]: 0.483\n"
          ]
        },
        {
          "output_type": "stream",
          "name": "stderr",
          "text": [
            "\n",
            "  0%|          | 0/4 [00:00<?, ?it/s]"
          ]
        },
        {
          "output_type": "stream",
          "name": "stdout",
          "text": [
            "{(10, 10): 267}\n"
          ]
        },
        {
          "output_type": "stream",
          "name": "stderr",
          "text": [
            "100%|██████████| 4/4 [00:08<00:00,  2.05s/it]"
          ]
        },
        {
          "output_type": "stream",
          "name": "stdout",
          "text": [
            "[696/1117]\n",
            "[# Positions]: 9.30M\n",
            "[# Games]: 91.95K\n",
            "[# Loss]: 3.374 | [# Loss MAIA]: 2.886 | [# Loss Side Info]: 0.026 | [# Loss Value]: 0.462\n"
          ]
        },
        {
          "output_type": "stream",
          "name": "stderr",
          "text": [
            "\n",
            "  0%|          | 0/4 [00:00<?, ?it/s]"
          ]
        },
        {
          "output_type": "stream",
          "name": "stdout",
          "text": [
            "{(10, 10): 220}\n"
          ]
        },
        {
          "output_type": "stream",
          "name": "stderr",
          "text": [
            "100%|██████████| 4/4 [00:08<00:00,  2.15s/it]"
          ]
        },
        {
          "output_type": "stream",
          "name": "stdout",
          "text": [
            "[708/1117]\n",
            "[# Positions]: 9.33M\n",
            "[# Games]: 92.22K\n",
            "[# Loss]: 3.459 | [# Loss MAIA]: 2.895 | [# Loss Side Info]: 0.026 | [# Loss Value]: 0.539\n"
          ]
        },
        {
          "output_type": "stream",
          "name": "stderr",
          "text": [
            "\n",
            "  0%|          | 0/3 [00:00<?, ?it/s]"
          ]
        },
        {
          "output_type": "stream",
          "name": "stdout",
          "text": [
            "{(10, 10): 113}\n"
          ]
        },
        {
          "output_type": "stream",
          "name": "stderr",
          "text": [
            "100%|██████████| 3/3 [00:07<00:00,  2.56s/it]"
          ]
        },
        {
          "output_type": "stream",
          "name": "stdout",
          "text": [
            "[720/1117]\n",
            "[# Positions]: 9.34M\n",
            "[# Games]: 92.44K\n",
            "[# Loss]: 3.439 | [# Loss MAIA]: 2.843 | [# Loss Side Info]: 0.026 | [# Loss Value]: 0.571\n"
          ]
        },
        {
          "output_type": "stream",
          "name": "stderr",
          "text": [
            "\n",
            "  0%|          | 0/2 [00:00<?, ?it/s]"
          ]
        },
        {
          "output_type": "stream",
          "name": "stdout",
          "text": [
            "{(10, 10): 238}\n"
          ]
        },
        {
          "output_type": "stream",
          "name": "stderr",
          "text": [
            "100%|██████████| 2/2 [00:07<00:00,  3.57s/it]"
          ]
        },
        {
          "output_type": "stream",
          "name": "stdout",
          "text": [
            "[732/1117]\n",
            "[# Positions]: 9.36M\n",
            "[# Games]: 92.55K\n",
            "[# Loss]: 3.373 | [# Loss MAIA]: 2.909 | [# Loss Side Info]: 0.026 | [# Loss Value]: 0.438\n"
          ]
        },
        {
          "output_type": "stream",
          "name": "stderr",
          "text": [
            "\n",
            "  0%|          | 0/4 [00:00<?, ?it/s]"
          ]
        },
        {
          "output_type": "stream",
          "name": "stdout",
          "text": [
            "{(10, 10): 187}\n"
          ]
        },
        {
          "output_type": "stream",
          "name": "stderr",
          "text": [
            "100%|██████████| 4/4 [00:08<00:00,  2.13s/it]"
          ]
        },
        {
          "output_type": "stream",
          "name": "stdout",
          "text": [
            "[744/1117]\n",
            "[# Positions]: 9.39M\n",
            "[# Games]: 92.79K\n",
            "[# Loss]: 3.418 | [# Loss MAIA]: 2.928 | [# Loss Side Info]: 0.026 | [# Loss Value]: 0.464\n"
          ]
        },
        {
          "output_type": "stream",
          "name": "stderr",
          "text": [
            "\n",
            "  0%|          | 0/3 [00:00<?, ?it/s]"
          ]
        },
        {
          "output_type": "stream",
          "name": "stdout",
          "text": [
            "{(10, 10): 198}\n"
          ]
        },
        {
          "output_type": "stream",
          "name": "stderr",
          "text": [
            "100%|██████████| 3/3 [00:07<00:00,  2.58s/it]"
          ]
        },
        {
          "output_type": "stream",
          "name": "stdout",
          "text": [
            "[756/1117]\n",
            "[# Positions]: 9.40M\n",
            "[# Games]: 92.98K\n",
            "[# Loss]: 3.412 | [# Loss MAIA]: 2.889 | [# Loss Side Info]: 0.025 | [# Loss Value]: 0.498\n"
          ]
        },
        {
          "output_type": "stream",
          "name": "stderr",
          "text": [
            "\n",
            "  0%|          | 0/3 [00:00<?, ?it/s]"
          ]
        },
        {
          "output_type": "stream",
          "name": "stdout",
          "text": [
            "{(10, 10): 269}\n"
          ]
        },
        {
          "output_type": "stream",
          "name": "stderr",
          "text": [
            "100%|██████████| 3/3 [00:07<00:00,  2.65s/it]"
          ]
        },
        {
          "output_type": "stream",
          "name": "stdout",
          "text": [
            "[768/1117]\n",
            "[# Positions]: 9.42M\n",
            "[# Games]: 93.18K\n",
            "[# Loss]: 3.442 | [# Loss MAIA]: 2.889 | [# Loss Side Info]: 0.026 | [# Loss Value]: 0.527\n"
          ]
        },
        {
          "output_type": "stream",
          "name": "stderr",
          "text": [
            "\n",
            "  0%|          | 0/4 [00:00<?, ?it/s]"
          ]
        },
        {
          "output_type": "stream",
          "name": "stdout",
          "text": [
            "{(10, 10): 257}\n"
          ]
        },
        {
          "output_type": "stream",
          "name": "stderr",
          "text": [
            "100%|██████████| 4/4 [00:08<00:00,  2.16s/it]"
          ]
        },
        {
          "output_type": "stream",
          "name": "stdout",
          "text": [
            "[780/1117]\n",
            "[# Positions]: 9.45M\n",
            "[# Games]: 93.45K\n",
            "[# Loss]: 3.434 | [# Loss MAIA]: 2.928 | [# Loss Side Info]: 0.027 | [# Loss Value]: 0.479\n"
          ]
        },
        {
          "output_type": "stream",
          "name": "stderr",
          "text": [
            "\n",
            "  0%|          | 0/4 [00:00<?, ?it/s]"
          ]
        },
        {
          "output_type": "stream",
          "name": "stdout",
          "text": [
            "{(10, 10): 200}\n"
          ]
        },
        {
          "output_type": "stream",
          "name": "stderr",
          "text": [
            "100%|██████████| 4/4 [00:08<00:00,  2.19s/it]"
          ]
        },
        {
          "output_type": "stream",
          "name": "stdout",
          "text": [
            "[792/1117]\n",
            "[# Positions]: 9.48M\n",
            "[# Games]: 93.70K\n",
            "[# Loss]: 3.493 | [# Loss MAIA]: 2.892 | [# Loss Side Info]: 0.026 | [# Loss Value]: 0.575\n"
          ]
        },
        {
          "output_type": "stream",
          "name": "stderr",
          "text": [
            "\n",
            "  0%|          | 0/3 [00:00<?, ?it/s]"
          ]
        },
        {
          "output_type": "stream",
          "name": "stdout",
          "text": [
            "{(10, 10): 303}\n"
          ]
        },
        {
          "output_type": "stream",
          "name": "stderr",
          "text": [
            "100%|██████████| 3/3 [00:08<00:00,  2.74s/it]"
          ]
        },
        {
          "output_type": "stream",
          "name": "stdout",
          "text": [
            "[804/1117]\n",
            "[# Positions]: 9.50M\n",
            "[# Games]: 93.90K\n",
            "[# Loss]: 3.52 | [# Loss MAIA]: 2.91 | [# Loss Side Info]: 0.026 | [# Loss Value]: 0.584\n"
          ]
        },
        {
          "output_type": "stream",
          "name": "stderr",
          "text": [
            "\n",
            "  0%|          | 0/4 [00:00<?, ?it/s]"
          ]
        },
        {
          "output_type": "stream",
          "name": "stdout",
          "text": [
            "{(10, 10): 213}\n"
          ]
        },
        {
          "output_type": "stream",
          "name": "stderr",
          "text": [
            "100%|██████████| 4/4 [00:09<00:00,  2.28s/it]"
          ]
        },
        {
          "output_type": "stream",
          "name": "stdout",
          "text": [
            "[816/1117]\n",
            "[# Positions]: 9.53M\n",
            "[# Games]: 94.21K\n",
            "[# Loss]: 3.5 | [# Loss MAIA]: 2.925 | [# Loss Side Info]: 0.026 | [# Loss Value]: 0.549\n"
          ]
        },
        {
          "output_type": "stream",
          "name": "stderr",
          "text": [
            "\n",
            "  0%|          | 0/3 [00:00<?, ?it/s]"
          ]
        },
        {
          "output_type": "stream",
          "name": "stdout",
          "text": [
            "{(10, 10): 215}\n"
          ]
        },
        {
          "output_type": "stream",
          "name": "stderr",
          "text": [
            "100%|██████████| 3/3 [00:08<00:00,  2.72s/it]"
          ]
        },
        {
          "output_type": "stream",
          "name": "stdout",
          "text": [
            "[828/1117]\n",
            "[# Positions]: 9.55M\n",
            "[# Games]: 94.42K\n",
            "[# Loss]: 3.456 | [# Loss MAIA]: 2.868 | [# Loss Side Info]: 0.026 | [# Loss Value]: 0.563\n"
          ]
        },
        {
          "output_type": "stream",
          "name": "stderr",
          "text": [
            "\n",
            "  0%|          | 0/3 [00:00<?, ?it/s]"
          ]
        },
        {
          "output_type": "stream",
          "name": "stdout",
          "text": [
            "{(10, 10): 235}\n"
          ]
        },
        {
          "output_type": "stream",
          "name": "stderr",
          "text": [
            "100%|██████████| 3/3 [00:07<00:00,  2.63s/it]"
          ]
        },
        {
          "output_type": "stream",
          "name": "stdout",
          "text": [
            "[840/1117]\n",
            "[# Positions]: 9.57M\n",
            "[# Games]: 94.63K\n",
            "[# Loss]: 3.56 | [# Loss MAIA]: 2.963 | [# Loss Side Info]: 0.026 | [# Loss Value]: 0.57\n"
          ]
        },
        {
          "output_type": "stream",
          "name": "stderr",
          "text": [
            "\n",
            "  0%|          | 0/3 [00:00<?, ?it/s]"
          ]
        },
        {
          "output_type": "stream",
          "name": "stdout",
          "text": [
            "{(10, 10): 208}\n"
          ]
        },
        {
          "output_type": "stream",
          "name": "stderr",
          "text": [
            "100%|██████████| 3/3 [00:07<00:00,  2.65s/it]"
          ]
        },
        {
          "output_type": "stream",
          "name": "stdout",
          "text": [
            "[852/1117]\n",
            "[# Positions]: 9.60M\n",
            "[# Games]: 94.87K\n",
            "[# Loss]: 3.507 | [# Loss MAIA]: 2.907 | [# Loss Side Info]: 0.026 | [# Loss Value]: 0.574\n"
          ]
        },
        {
          "output_type": "stream",
          "name": "stderr",
          "text": [
            "\n",
            "  0%|          | 0/3 [00:00<?, ?it/s]"
          ]
        },
        {
          "output_type": "stream",
          "name": "stdout",
          "text": [
            "{(10, 10): 223}\n"
          ]
        },
        {
          "output_type": "stream",
          "name": "stderr",
          "text": [
            "100%|██████████| 3/3 [00:08<00:00,  2.71s/it]"
          ]
        },
        {
          "output_type": "stream",
          "name": "stdout",
          "text": [
            "[864/1117]\n",
            "[# Positions]: 9.62M\n",
            "[# Games]: 95.08K\n",
            "[# Loss]: 3.452 | [# Loss MAIA]: 2.867 | [# Loss Side Info]: 0.025 | [# Loss Value]: 0.56\n"
          ]
        },
        {
          "output_type": "stream",
          "name": "stderr",
          "text": [
            "\n",
            "  0%|          | 0/3 [00:00<?, ?it/s]"
          ]
        },
        {
          "output_type": "stream",
          "name": "stdout",
          "text": [
            "{(10, 10): 159}\n"
          ]
        },
        {
          "output_type": "stream",
          "name": "stderr",
          "text": [
            "100%|██████████| 3/3 [00:08<00:00,  2.67s/it]"
          ]
        },
        {
          "output_type": "stream",
          "name": "stdout",
          "text": [
            "[876/1117]\n",
            "[# Positions]: 9.64M\n",
            "[# Games]: 95.30K\n",
            "[# Loss]: 3.504 | [# Loss MAIA]: 2.909 | [# Loss Side Info]: 0.026 | [# Loss Value]: 0.569\n"
          ]
        },
        {
          "output_type": "stream",
          "name": "stderr",
          "text": [
            "\n",
            "  0%|          | 0/2 [00:00<?, ?it/s]"
          ]
        },
        {
          "output_type": "stream",
          "name": "stdout",
          "text": [
            "{(10, 10): 254}\n"
          ]
        },
        {
          "output_type": "stream",
          "name": "stderr",
          "text": [
            "100%|██████████| 2/2 [00:07<00:00,  3.74s/it]"
          ]
        },
        {
          "output_type": "stream",
          "name": "stdout",
          "text": [
            "[888/1117]\n",
            "[# Positions]: 9.66M\n",
            "[# Games]: 95.46K\n",
            "[# Loss]: 3.498 | [# Loss MAIA]: 2.904 | [# Loss Side Info]: 0.026 | [# Loss Value]: 0.568\n"
          ]
        },
        {
          "output_type": "stream",
          "name": "stderr",
          "text": [
            "\n",
            "  0%|          | 0/4 [00:00<?, ?it/s]"
          ]
        },
        {
          "output_type": "stream",
          "name": "stdout",
          "text": [
            "{(10, 10): 198}\n"
          ]
        },
        {
          "output_type": "stream",
          "name": "stderr",
          "text": [
            "100%|██████████| 4/4 [00:08<00:00,  2.12s/it]"
          ]
        },
        {
          "output_type": "stream",
          "name": "stdout",
          "text": [
            "[900/1117]\n",
            "[# Positions]: 9.68M\n",
            "[# Games]: 95.71K\n",
            "[# Loss]: 3.389 | [# Loss MAIA]: 2.9 | [# Loss Side Info]: 0.025 | [# Loss Value]: 0.464\n"
          ]
        },
        {
          "output_type": "stream",
          "name": "stderr",
          "text": [
            "\n",
            "  0%|          | 0/3 [00:00<?, ?it/s]"
          ]
        },
        {
          "output_type": "stream",
          "name": "stdout",
          "text": [
            "{(10, 10): 205}\n"
          ]
        },
        {
          "output_type": "stream",
          "name": "stderr",
          "text": [
            "100%|██████████| 3/3 [00:07<00:00,  2.62s/it]"
          ]
        },
        {
          "output_type": "stream",
          "name": "stdout",
          "text": [
            "[912/1117]\n",
            "[# Positions]: 9.70M\n",
            "[# Games]: 95.91K\n",
            "[# Loss]: 3.428 | [# Loss MAIA]: 2.908 | [# Loss Side Info]: 0.026 | [# Loss Value]: 0.494\n"
          ]
        },
        {
          "output_type": "stream",
          "name": "stderr",
          "text": [
            "\n",
            "  0%|          | 0/3 [00:00<?, ?it/s]"
          ]
        },
        {
          "output_type": "stream",
          "name": "stdout",
          "text": [
            "{(10, 10): 231}\n"
          ]
        },
        {
          "output_type": "stream",
          "name": "stderr",
          "text": [
            "100%|██████████| 3/3 [00:08<00:00,  2.77s/it]"
          ]
        },
        {
          "output_type": "stream",
          "name": "stdout",
          "text": [
            "[924/1117]\n",
            "[# Positions]: 9.73M\n",
            "[# Games]: 96.12K\n",
            "[# Loss]: 3.471 | [# Loss MAIA]: 2.938 | [# Loss Side Info]: 0.026 | [# Loss Value]: 0.507\n"
          ]
        },
        {
          "output_type": "stream",
          "name": "stderr",
          "text": [
            "\n",
            "  0%|          | 0/4 [00:00<?, ?it/s]"
          ]
        },
        {
          "output_type": "stream",
          "name": "stdout",
          "text": [
            "{(10, 10): 180}\n"
          ]
        },
        {
          "output_type": "stream",
          "name": "stderr",
          "text": [
            "100%|██████████| 4/4 [00:08<00:00,  2.13s/it]"
          ]
        },
        {
          "output_type": "stream",
          "name": "stdout",
          "text": [
            "[936/1117]\n",
            "[# Positions]: 9.75M\n",
            "[# Games]: 96.35K\n",
            "[# Loss]: 3.366 | [# Loss MAIA]: 2.892 | [# Loss Side Info]: 0.025 | [# Loss Value]: 0.449\n"
          ]
        },
        {
          "output_type": "stream",
          "name": "stderr",
          "text": [
            "\n",
            "  0%|          | 0/3 [00:00<?, ?it/s]"
          ]
        },
        {
          "output_type": "stream",
          "name": "stdout",
          "text": [
            "{(10, 10): 201}\n"
          ]
        },
        {
          "output_type": "stream",
          "name": "stderr",
          "text": [
            "100%|██████████| 3/3 [00:07<00:00,  2.59s/it]"
          ]
        },
        {
          "output_type": "stream",
          "name": "stdout",
          "text": [
            "[948/1117]\n",
            "[# Positions]: 9.77M\n",
            "[# Games]: 96.53K\n",
            "[# Loss]: 3.42 | [# Loss MAIA]: 2.899 | [# Loss Side Info]: 0.025 | [# Loss Value]: 0.496\n"
          ]
        },
        {
          "output_type": "stream",
          "name": "stderr",
          "text": [
            "\n",
            "  0%|          | 0/3 [00:00<?, ?it/s]"
          ]
        },
        {
          "output_type": "stream",
          "name": "stdout",
          "text": [
            "{(10, 10): 186}\n"
          ]
        },
        {
          "output_type": "stream",
          "name": "stderr",
          "text": [
            "100%|██████████| 3/3 [00:08<00:00,  2.70s/it]"
          ]
        },
        {
          "output_type": "stream",
          "name": "stdout",
          "text": [
            "[960/1117]\n",
            "[# Positions]: 9.79M\n",
            "[# Games]: 96.73K\n",
            "[# Loss]: 3.446 | [# Loss MAIA]: 2.914 | [# Loss Side Info]: 0.026 | [# Loss Value]: 0.507\n"
          ]
        },
        {
          "output_type": "stream",
          "name": "stderr",
          "text": [
            "\n",
            "  0%|          | 0/3 [00:00<?, ?it/s]"
          ]
        },
        {
          "output_type": "stream",
          "name": "stdout",
          "text": [
            "{(10, 10): 300}\n"
          ]
        },
        {
          "output_type": "stream",
          "name": "stderr",
          "text": [
            "100%|██████████| 3/3 [00:07<00:00,  2.65s/it]"
          ]
        },
        {
          "output_type": "stream",
          "name": "stdout",
          "text": [
            "[972/1117]\n",
            "[# Positions]: 9.81M\n",
            "[# Games]: 96.91K\n",
            "[# Loss]: 3.391 | [# Loss MAIA]: 2.92 | [# Loss Side Info]: 0.026 | [# Loss Value]: 0.445\n"
          ]
        },
        {
          "output_type": "stream",
          "name": "stderr",
          "text": [
            "\n",
            "  0%|          | 0/5 [00:00<?, ?it/s]"
          ]
        },
        {
          "output_type": "stream",
          "name": "stdout",
          "text": [
            "{(10, 10): 248}\n"
          ]
        },
        {
          "output_type": "stream",
          "name": "stderr",
          "text": [
            "100%|██████████| 5/5 [00:09<00:00,  1.88s/it]"
          ]
        },
        {
          "output_type": "stream",
          "name": "stdout",
          "text": [
            "[984/1117]\n",
            "[# Positions]: 9.85M\n",
            "[# Games]: 97.21K\n",
            "[# Loss]: 3.335 | [# Loss MAIA]: 2.88 | [# Loss Side Info]: 0.025 | [# Loss Value]: 0.431\n"
          ]
        },
        {
          "output_type": "stream",
          "name": "stderr",
          "text": [
            "\n",
            "  0%|          | 0/3 [00:00<?, ?it/s]"
          ]
        },
        {
          "output_type": "stream",
          "name": "stdout",
          "text": [
            "{(10, 10): 260}\n"
          ]
        },
        {
          "output_type": "stream",
          "name": "stderr",
          "text": [
            "100%|██████████| 3/3 [00:08<00:00,  2.72s/it]"
          ]
        },
        {
          "output_type": "stream",
          "name": "stdout",
          "text": [
            "[996/1117]\n",
            "[# Positions]: 9.87M\n",
            "[# Games]: 97.46K\n",
            "[# Loss]: 3.367 | [# Loss MAIA]: 2.875 | [# Loss Side Info]: 0.025 | [# Loss Value]: 0.468\n"
          ]
        },
        {
          "output_type": "stream",
          "name": "stderr",
          "text": [
            "\n",
            "  0%|          | 0/4 [00:00<?, ?it/s]"
          ]
        },
        {
          "output_type": "stream",
          "name": "stdout",
          "text": [
            "{(10, 10): 364}\n"
          ]
        },
        {
          "output_type": "stream",
          "name": "stderr",
          "text": [
            "100%|██████████| 4/4 [00:08<00:00,  2.21s/it]"
          ]
        },
        {
          "output_type": "stream",
          "name": "stdout",
          "text": [
            "[1008/1117]\n",
            "[# Positions]: 9.90M\n",
            "[# Games]: 97.72K\n",
            "[# Loss]: 3.482 | [# Loss MAIA]: 2.931 | [# Loss Side Info]: 0.026 | [# Loss Value]: 0.526\n"
          ]
        },
        {
          "output_type": "stream",
          "name": "stderr",
          "text": [
            "\n",
            "  0%|          | 0/6 [00:00<?, ?it/s]"
          ]
        },
        {
          "output_type": "stream",
          "name": "stdout",
          "text": [
            "{(10, 10): 260}\n"
          ]
        },
        {
          "output_type": "stream",
          "name": "stderr",
          "text": [
            "100%|██████████| 6/6 [00:10<00:00,  1.68s/it]"
          ]
        },
        {
          "output_type": "stream",
          "name": "stdout",
          "text": [
            "[1020/1117]\n",
            "[# Positions]: 9.94M\n",
            "[# Games]: 98.09K\n",
            "[# Loss]: 3.378 | [# Loss MAIA]: 2.872 | [# Loss Side Info]: 0.025 | [# Loss Value]: 0.481\n"
          ]
        },
        {
          "output_type": "stream",
          "name": "stderr",
          "text": [
            "\n",
            "  0%|          | 0/4 [00:00<?, ?it/s]"
          ]
        },
        {
          "output_type": "stream",
          "name": "stdout",
          "text": [
            "{(10, 10): 313}\n"
          ]
        },
        {
          "output_type": "stream",
          "name": "stderr",
          "text": [
            "100%|██████████| 4/4 [00:09<00:00,  2.30s/it]"
          ]
        },
        {
          "output_type": "stream",
          "name": "stdout",
          "text": [
            "[1032/1117]\n",
            "[# Positions]: 9.97M\n",
            "[# Games]: 98.35K\n",
            "[# Loss]: 3.396 | [# Loss MAIA]: 2.877 | [# Loss Side Info]: 0.025 | [# Loss Value]: 0.494\n"
          ]
        },
        {
          "output_type": "stream",
          "name": "stderr",
          "text": [
            "\n",
            "  0%|          | 0/5 [00:00<?, ?it/s]"
          ]
        },
        {
          "output_type": "stream",
          "name": "stdout",
          "text": [
            "{(10, 10): 323}\n"
          ]
        },
        {
          "output_type": "stream",
          "name": "stderr",
          "text": [
            "100%|██████████| 5/5 [00:08<00:00,  1.76s/it]"
          ]
        },
        {
          "output_type": "stream",
          "name": "stdout",
          "text": [
            "[1044/1117]\n",
            "[# Positions]: 10.00M\n",
            "[# Games]: 98.66K\n",
            "[# Loss]: 3.487 | [# Loss MAIA]: 2.942 | [# Loss Side Info]: 0.026 | [# Loss Value]: 0.519\n"
          ]
        },
        {
          "output_type": "stream",
          "name": "stderr",
          "text": [
            "\n",
            "  0%|          | 0/5 [00:00<?, ?it/s]"
          ]
        },
        {
          "output_type": "stream",
          "name": "stdout",
          "text": [
            "{(10, 10): 218}\n"
          ]
        },
        {
          "output_type": "stream",
          "name": "stderr",
          "text": [
            "100%|██████████| 5/5 [00:08<00:00,  1.79s/it]"
          ]
        },
        {
          "output_type": "stream",
          "name": "stdout",
          "text": [
            "[1056/1117]\n",
            "[# Positions]: 10.04M\n",
            "[# Games]: 98.98K\n",
            "[# Loss]: 3.492 | [# Loss MAIA]: 2.914 | [# Loss Side Info]: 0.026 | [# Loss Value]: 0.552\n"
          ]
        },
        {
          "output_type": "stream",
          "name": "stderr",
          "text": [
            "\n",
            "  0%|          | 0/3 [00:00<?, ?it/s]"
          ]
        },
        {
          "output_type": "stream",
          "name": "stdout",
          "text": [
            "{(10, 10): 308}\n"
          ]
        },
        {
          "output_type": "stream",
          "name": "stderr",
          "text": [
            "100%|██████████| 3/3 [00:08<00:00,  2.68s/it]"
          ]
        },
        {
          "output_type": "stream",
          "name": "stdout",
          "text": [
            "[1068/1117]\n",
            "[# Positions]: 10.06M\n",
            "[# Games]: 99.20K\n",
            "[# Loss]: 3.489 | [# Loss MAIA]: 2.924 | [# Loss Side Info]: 0.026 | [# Loss Value]: 0.54\n"
          ]
        },
        {
          "output_type": "stream",
          "name": "stderr",
          "text": [
            "\n",
            "  0%|          | 0/4 [00:00<?, ?it/s]"
          ]
        },
        {
          "output_type": "stream",
          "name": "stdout",
          "text": [
            "{(10, 10): 311}\n"
          ]
        },
        {
          "output_type": "stream",
          "name": "stderr",
          "text": [
            "100%|██████████| 4/4 [00:08<00:00,  2.19s/it]"
          ]
        },
        {
          "output_type": "stream",
          "name": "stdout",
          "text": [
            "[1080/1117]\n",
            "[# Positions]: 10.09M\n",
            "[# Games]: 99.51K\n",
            "[# Loss]: 3.427 | [# Loss MAIA]: 2.889 | [# Loss Side Info]: 0.025 | [# Loss Value]: 0.513\n"
          ]
        },
        {
          "output_type": "stream",
          "name": "stderr",
          "text": [
            "\n",
            "  0%|          | 0/5 [00:00<?, ?it/s]"
          ]
        },
        {
          "output_type": "stream",
          "name": "stdout",
          "text": [
            "{(10, 10): 247}\n"
          ]
        },
        {
          "output_type": "stream",
          "name": "stderr",
          "text": [
            "100%|██████████| 5/5 [00:08<00:00,  1.72s/it]"
          ]
        },
        {
          "output_type": "stream",
          "name": "stdout",
          "text": [
            "[1092/1117]\n",
            "[# Positions]: 10.13M\n",
            "[# Games]: 99.82K\n",
            "[# Loss]: 3.301 | [# Loss MAIA]: 2.852 | [# Loss Side Info]: 0.025 | [# Loss Value]: 0.425\n"
          ]
        },
        {
          "output_type": "stream",
          "name": "stderr",
          "text": [
            "\n",
            "  0%|          | 0/4 [00:00<?, ?it/s]"
          ]
        },
        {
          "output_type": "stream",
          "name": "stdout",
          "text": [
            "{(10, 10): 226}\n"
          ]
        },
        {
          "output_type": "stream",
          "name": "stderr",
          "text": [
            "100%|██████████| 4/4 [00:08<00:00,  2.08s/it]"
          ]
        },
        {
          "output_type": "stream",
          "name": "stdout",
          "text": [
            "[1104/1117]\n",
            "[# Positions]: 10.15M\n"
          ]
        },
        {
          "output_type": "stream",
          "name": "stderr",
          "text": [
            "\n"
          ]
        },
        {
          "output_type": "stream",
          "name": "stdout",
          "text": [
            "[# Games]: 100.07K\n",
            "[# Loss]: 3.443 | [# Loss MAIA]: 2.883 | [# Loss Side Info]: 0.025 | [# Loss Value]: 0.535\n"
          ]
        },
        {
          "output_type": "stream",
          "name": "stderr",
          "text": [
            "\r  0%|          | 0/3 [00:00<?, ?it/s]"
          ]
        },
        {
          "output_type": "stream",
          "name": "stdout",
          "text": [
            "{(10, 10): 8}\n"
          ]
        },
        {
          "output_type": "stream",
          "name": "stderr",
          "text": [
            "100%|██████████| 3/3 [00:06<00:00,  2.24s/it]"
          ]
        },
        {
          "output_type": "stream",
          "name": "stdout",
          "text": [
            "[1116/1117]\n",
            "[# Positions]: 10.18M\n",
            "[# Games]: 100.29K\n",
            "[# Loss]: 3.487 | [# Loss MAIA]: 2.885 | [# Loss Side Info]: 0.025 | [# Loss Value]: 0.576\n"
          ]
        },
        {
          "output_type": "stream",
          "name": "stderr",
          "text": [
            "\n",
            "100%|██████████| 1/1 [00:00<00:00,  1.10it/s]"
          ]
        },
        {
          "output_type": "stream",
          "name": "stdout",
          "text": [
            "[1117/1117]\n",
            "[# Positions]: 10.18M\n",
            "[# Games]: 100.30K\n",
            "[# Loss]: 3.612 | [# Loss MAIA]: 3.05 | [# Loss Side Info]: 0.026 | [# Loss Value]: 0.536\n",
            "### (5 / 6) Took 12m 58.59s to train /content/drive/MyDrive/ChessEngine/lichess_db_standard_rated_2025-05.pgn with 1117 chunks.\n"
          ]
        },
        {
          "output_type": "stream",
          "name": "stderr",
          "text": [
            "\n"
          ]
        },
        {
          "output_type": "stream",
          "name": "stdout",
          "text": [
            "Decompressing /content/drive/MyDrive/ChessEngine/lichess_db_standard_rated_2025-06.pgn took 2.26s\n",
            "Cache not found. Creating chunks for /content/drive/MyDrive/ChessEngine/lichess_db_standard_rated_2025-06.pgn\n",
            "Chunking took 0.12s\n",
            "Training /content/drive/MyDrive/ChessEngine/lichess_db_standard_rated_2025-06.pgn with 35 chunks.\n",
            "{}\n"
          ]
        },
        {
          "output_type": "error",
          "ename": "ValueError",
          "evalue": "num_samples should be a positive integer value, but got num_samples=0",
          "traceback": [
            "\u001b[0;31m---------------------------------------------------------------------------\u001b[0m",
            "\u001b[0;31mValueError\u001b[0m                                Traceback (most recent call last)",
            "\u001b[0;32m/tmp/ipython-input-3152603070.py\u001b[0m in \u001b[0;36m<cell line: 0>\u001b[0;34m()\u001b[0m\n\u001b[1;32m      1\u001b[0m \u001b[0mcfg\u001b[0m \u001b[0;34m=\u001b[0m \u001b[0mparse_args\u001b[0m\u001b[0;34m(\u001b[0m\u001b[0mcfg_file_path\u001b[0m\u001b[0;34m=\u001b[0m\u001b[0;34m\"/content/drive/MyDrive/ChessEngine/config.yaml\"\u001b[0m\u001b[0;34m)\u001b[0m\u001b[0;34m\u001b[0m\u001b[0;34m\u001b[0m\u001b[0m\n\u001b[0;32m----> 2\u001b[0;31m \u001b[0mrun\u001b[0m\u001b[0;34m(\u001b[0m\u001b[0mcfg\u001b[0m\u001b[0;34m)\u001b[0m\u001b[0;34m\u001b[0m\u001b[0;34m\u001b[0m\u001b[0m\n\u001b[0m",
            "\u001b[0;32m/tmp/ipython-input-4011024763.py\u001b[0m in \u001b[0;36mrun\u001b[0;34m(cfg)\u001b[0m\n\u001b[1;32m     83\u001b[0m                         \u001b[0moffset\u001b[0m \u001b[0;34m+=\u001b[0m \u001b[0;36m1\u001b[0m\u001b[0;34m\u001b[0m\u001b[0;34m\u001b[0m\u001b[0m\n\u001b[1;32m     84\u001b[0m                     \u001b[0mdata\u001b[0m\u001b[0;34m,\u001b[0m \u001b[0mgame_count\u001b[0m\u001b[0;34m,\u001b[0m \u001b[0mchunk_count\u001b[0m \u001b[0;34m=\u001b[0m \u001b[0mqueue\u001b[0m\u001b[0;34m.\u001b[0m\u001b[0mget\u001b[0m\u001b[0;34m(\u001b[0m\u001b[0;34m)\u001b[0m\u001b[0;34m\u001b[0m\u001b[0;34m\u001b[0m\u001b[0m\n\u001b[0;32m---> 85\u001b[0;31m                     \u001b[0mloss\u001b[0m\u001b[0;34m,\u001b[0m \u001b[0mloss_maia\u001b[0m\u001b[0;34m,\u001b[0m \u001b[0mloss_side_info\u001b[0m\u001b[0;34m,\u001b[0m \u001b[0mloss_value\u001b[0m \u001b[0;34m=\u001b[0m \u001b[0mtrain_chunks\u001b[0m\u001b[0;34m(\u001b[0m\u001b[0mcfg\u001b[0m\u001b[0;34m,\u001b[0m \u001b[0mdata\u001b[0m\u001b[0;34m,\u001b[0m \u001b[0mmodel\u001b[0m\u001b[0;34m,\u001b[0m \u001b[0moptimizer\u001b[0m\u001b[0;34m,\u001b[0m \u001b[0mall_moves_dict\u001b[0m\u001b[0;34m,\u001b[0m \u001b[0mcriterion_maia\u001b[0m\u001b[0;34m,\u001b[0m \u001b[0mcriterion_side_info\u001b[0m\u001b[0;34m,\u001b[0m \u001b[0mcriterion_value\u001b[0m\u001b[0;34m)\u001b[0m\u001b[0;34m\u001b[0m\u001b[0;34m\u001b[0m\u001b[0m\n\u001b[0m\u001b[1;32m     86\u001b[0m                     \u001b[0mnum_chunk\u001b[0m \u001b[0;34m+=\u001b[0m \u001b[0mchunk_count\u001b[0m\u001b[0;34m\u001b[0m\u001b[0;34m\u001b[0m\u001b[0m\n\u001b[1;32m     87\u001b[0m                     \u001b[0maccumulated_samples\u001b[0m \u001b[0;34m+=\u001b[0m \u001b[0mlen\u001b[0m\u001b[0;34m(\u001b[0m\u001b[0mdata\u001b[0m\u001b[0;34m)\u001b[0m\u001b[0;34m\u001b[0m\u001b[0;34m\u001b[0m\u001b[0m\n",
            "\u001b[0;32m/tmp/ipython-input-1308945890.py\u001b[0m in \u001b[0;36mtrain_chunks\u001b[0;34m(cfg, data, model, optimizer, all_moves_dict, criterion_maia, criterion_side_info, criterion_value)\u001b[0m\n\u001b[1;32m    493\u001b[0m \u001b[0;34m\u001b[0m\u001b[0m\n\u001b[1;32m    494\u001b[0m     \u001b[0mdataset_train\u001b[0m \u001b[0;34m=\u001b[0m \u001b[0mMAIA2Dataset\u001b[0m\u001b[0;34m(\u001b[0m\u001b[0mdata\u001b[0m\u001b[0;34m,\u001b[0m \u001b[0mall_moves_dict\u001b[0m\u001b[0;34m,\u001b[0m \u001b[0mcfg\u001b[0m\u001b[0;34m)\u001b[0m\u001b[0;34m\u001b[0m\u001b[0;34m\u001b[0m\u001b[0m\n\u001b[0;32m--> 495\u001b[0;31m     dataloader_train = torch.utils.data.DataLoader(dataset_train, \n\u001b[0m\u001b[1;32m    496\u001b[0m                                                     \u001b[0mbatch_size\u001b[0m\u001b[0;34m=\u001b[0m\u001b[0mcfg\u001b[0m\u001b[0;34m.\u001b[0m\u001b[0mbatch_size\u001b[0m\u001b[0;34m,\u001b[0m\u001b[0;34m\u001b[0m\u001b[0;34m\u001b[0m\u001b[0m\n\u001b[1;32m    497\u001b[0m                                                     \u001b[0mshuffle\u001b[0m\u001b[0;34m=\u001b[0m\u001b[0;32mTrue\u001b[0m\u001b[0;34m,\u001b[0m\u001b[0;34m\u001b[0m\u001b[0;34m\u001b[0m\u001b[0m\n",
            "\u001b[0;32m/usr/local/lib/python3.12/dist-packages/torch/utils/data/dataloader.py\u001b[0m in \u001b[0;36m__init__\u001b[0;34m(self, dataset, batch_size, shuffle, sampler, batch_sampler, num_workers, collate_fn, pin_memory, drop_last, timeout, worker_init_fn, multiprocessing_context, generator, prefetch_factor, persistent_workers, pin_memory_device, in_order)\u001b[0m\n\u001b[1;32m    386\u001b[0m             \u001b[0;32melse\u001b[0m\u001b[0;34m:\u001b[0m  \u001b[0;31m# map-style\u001b[0m\u001b[0;34m\u001b[0m\u001b[0;34m\u001b[0m\u001b[0m\n\u001b[1;32m    387\u001b[0m                 \u001b[0;32mif\u001b[0m \u001b[0mshuffle\u001b[0m\u001b[0;34m:\u001b[0m\u001b[0;34m\u001b[0m\u001b[0;34m\u001b[0m\u001b[0m\n\u001b[0;32m--> 388\u001b[0;31m                     \u001b[0msampler\u001b[0m \u001b[0;34m=\u001b[0m \u001b[0mRandomSampler\u001b[0m\u001b[0;34m(\u001b[0m\u001b[0mdataset\u001b[0m\u001b[0;34m,\u001b[0m \u001b[0mgenerator\u001b[0m\u001b[0;34m=\u001b[0m\u001b[0mgenerator\u001b[0m\u001b[0;34m)\u001b[0m  \u001b[0;31m# type: ignore[arg-type]\u001b[0m\u001b[0;34m\u001b[0m\u001b[0;34m\u001b[0m\u001b[0m\n\u001b[0m\u001b[1;32m    389\u001b[0m                 \u001b[0;32melse\u001b[0m\u001b[0;34m:\u001b[0m\u001b[0;34m\u001b[0m\u001b[0;34m\u001b[0m\u001b[0m\n\u001b[1;32m    390\u001b[0m                     \u001b[0msampler\u001b[0m \u001b[0;34m=\u001b[0m \u001b[0mSequentialSampler\u001b[0m\u001b[0;34m(\u001b[0m\u001b[0mdataset\u001b[0m\u001b[0;34m)\u001b[0m  \u001b[0;31m# type: ignore[arg-type]\u001b[0m\u001b[0;34m\u001b[0m\u001b[0;34m\u001b[0m\u001b[0m\n",
            "\u001b[0;32m/usr/local/lib/python3.12/dist-packages/torch/utils/data/sampler.py\u001b[0m in \u001b[0;36m__init__\u001b[0;34m(self, data_source, replacement, num_samples, generator)\u001b[0m\n\u001b[1;32m    154\u001b[0m \u001b[0;34m\u001b[0m\u001b[0m\n\u001b[1;32m    155\u001b[0m         \u001b[0;32mif\u001b[0m \u001b[0;32mnot\u001b[0m \u001b[0misinstance\u001b[0m\u001b[0;34m(\u001b[0m\u001b[0mself\u001b[0m\u001b[0;34m.\u001b[0m\u001b[0mnum_samples\u001b[0m\u001b[0;34m,\u001b[0m \u001b[0mint\u001b[0m\u001b[0;34m)\u001b[0m \u001b[0;32mor\u001b[0m \u001b[0mself\u001b[0m\u001b[0;34m.\u001b[0m\u001b[0mnum_samples\u001b[0m \u001b[0;34m<=\u001b[0m \u001b[0;36m0\u001b[0m\u001b[0;34m:\u001b[0m\u001b[0;34m\u001b[0m\u001b[0;34m\u001b[0m\u001b[0m\n\u001b[0;32m--> 156\u001b[0;31m             raise ValueError(\n\u001b[0m\u001b[1;32m    157\u001b[0m                 \u001b[0;34mf\"num_samples should be a positive integer value, but got num_samples={self.num_samples}\"\u001b[0m\u001b[0;34m\u001b[0m\u001b[0;34m\u001b[0m\u001b[0m\n\u001b[1;32m    158\u001b[0m             )\n",
            "\u001b[0;31mValueError\u001b[0m: num_samples should be a positive integer value, but got num_samples=0"
          ]
        }
      ]
    }
  ]
}